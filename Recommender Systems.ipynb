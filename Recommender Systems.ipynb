{
 "cells": [
  {
   "cell_type": "markdown",
   "metadata": {},
   "source": [
    "# Collaborative Filtering Recommender System"
   ]
  },
  {
   "cell_type": "markdown",
   "metadata": {},
   "source": [
    "## Import Libraries"
   ]
  },
  {
   "cell_type": "code",
   "execution_count": 342,
   "metadata": {},
   "outputs": [],
   "source": [
    "import numpy as np\n",
    "import pandas as pd\n",
    "import matplotlib.pyplot as plt\n",
    "import seaborn as sns\n",
    "%matplotlib inline\n",
    "\n",
    "from IPython.display import Image"
   ]
  },
  {
   "cell_type": "code",
   "execution_count": 273,
   "metadata": {},
   "outputs": [
    {
     "data": {
      "text/plain": [
       "(100000, 4)"
      ]
     },
     "execution_count": 273,
     "metadata": {},
     "output_type": "execute_result"
    }
   ],
   "source": [
    "columns = ['user_id', 'item_id', 'rating', 'timestamp']\n",
    "df = pd.read_csv('u.data', sep='\\t', names=columns)\n",
    "df.shape"
   ]
  },
  {
   "cell_type": "markdown",
   "metadata": {},
   "source": [
    "### Read train and test data"
   ]
  },
  {
   "cell_type": "code",
   "execution_count": 274,
   "metadata": {},
   "outputs": [
    {
     "data": {
      "text/plain": [
       "((90570, 4), (9430, 4))"
      ]
     },
     "execution_count": 274,
     "metadata": {},
     "output_type": "execute_result"
    }
   ],
   "source": [
    "r_cols = ['user_id', 'item_id', 'rating', 'timestamp']\n",
    "train = pd.read_csv('ml-100k/ua.base', sep='\\t', names=r_cols, encoding='latin-1')\n",
    "test = pd.read_csv('ml-100k/ua.test', sep='\\t', names=r_cols, encoding='latin-1')\n",
    "train.shape, test.shape"
   ]
  },
  {
   "cell_type": "code",
   "execution_count": 275,
   "metadata": {},
   "outputs": [
    {
     "data": {
      "text/html": [
       "<div>\n",
       "<style scoped>\n",
       "    .dataframe tbody tr th:only-of-type {\n",
       "        vertical-align: middle;\n",
       "    }\n",
       "\n",
       "    .dataframe tbody tr th {\n",
       "        vertical-align: top;\n",
       "    }\n",
       "\n",
       "    .dataframe thead th {\n",
       "        text-align: right;\n",
       "    }\n",
       "</style>\n",
       "<table border=\"1\" class=\"dataframe\">\n",
       "  <thead>\n",
       "    <tr style=\"text-align: right;\">\n",
       "      <th></th>\n",
       "      <th>user_id</th>\n",
       "      <th>item_id</th>\n",
       "      <th>rating</th>\n",
       "      <th>timestamp</th>\n",
       "    </tr>\n",
       "  </thead>\n",
       "  <tbody>\n",
       "    <tr>\n",
       "      <td>0</td>\n",
       "      <td>196</td>\n",
       "      <td>242</td>\n",
       "      <td>3</td>\n",
       "      <td>881250949</td>\n",
       "    </tr>\n",
       "    <tr>\n",
       "      <td>1</td>\n",
       "      <td>186</td>\n",
       "      <td>302</td>\n",
       "      <td>3</td>\n",
       "      <td>891717742</td>\n",
       "    </tr>\n",
       "  </tbody>\n",
       "</table>\n",
       "</div>"
      ],
      "text/plain": [
       "   user_id  item_id  rating  timestamp\n",
       "0      196      242       3  881250949\n",
       "1      186      302       3  891717742"
      ]
     },
     "execution_count": 275,
     "metadata": {},
     "output_type": "execute_result"
    }
   ],
   "source": [
    "df.head(n=2)"
   ]
  },
  {
   "cell_type": "code",
   "execution_count": 276,
   "metadata": {},
   "outputs": [
    {
     "data": {
      "text/html": [
       "<div>\n",
       "<style scoped>\n",
       "    .dataframe tbody tr th:only-of-type {\n",
       "        vertical-align: middle;\n",
       "    }\n",
       "\n",
       "    .dataframe tbody tr th {\n",
       "        vertical-align: top;\n",
       "    }\n",
       "\n",
       "    .dataframe thead th {\n",
       "        text-align: right;\n",
       "    }\n",
       "</style>\n",
       "<table border=\"1\" class=\"dataframe\">\n",
       "  <thead>\n",
       "    <tr style=\"text-align: right;\">\n",
       "      <th></th>\n",
       "      <th>item_id</th>\n",
       "      <th>title</th>\n",
       "    </tr>\n",
       "  </thead>\n",
       "  <tbody>\n",
       "    <tr>\n",
       "      <td>0</td>\n",
       "      <td>1</td>\n",
       "      <td>Toy Story (1995)</td>\n",
       "    </tr>\n",
       "    <tr>\n",
       "      <td>1</td>\n",
       "      <td>2</td>\n",
       "      <td>GoldenEye (1995)</td>\n",
       "    </tr>\n",
       "  </tbody>\n",
       "</table>\n",
       "</div>"
      ],
      "text/plain": [
       "   item_id             title\n",
       "0        1  Toy Story (1995)\n",
       "1        2  GoldenEye (1995)"
      ]
     },
     "execution_count": 276,
     "metadata": {},
     "output_type": "execute_result"
    }
   ],
   "source": [
    "movie_titles = pd.read_csv(\"Movie_Id_Titles\")\n",
    "movie_titles.head(n=2)"
   ]
  },
  {
   "cell_type": "code",
   "execution_count": 277,
   "metadata": {},
   "outputs": [
    {
     "data": {
      "text/html": [
       "<div>\n",
       "<style scoped>\n",
       "    .dataframe tbody tr th:only-of-type {\n",
       "        vertical-align: middle;\n",
       "    }\n",
       "\n",
       "    .dataframe tbody tr th {\n",
       "        vertical-align: top;\n",
       "    }\n",
       "\n",
       "    .dataframe thead th {\n",
       "        text-align: right;\n",
       "    }\n",
       "</style>\n",
       "<table border=\"1\" class=\"dataframe\">\n",
       "  <thead>\n",
       "    <tr style=\"text-align: right;\">\n",
       "      <th></th>\n",
       "      <th>user_id</th>\n",
       "      <th>item_id</th>\n",
       "      <th>rating</th>\n",
       "      <th>timestamp</th>\n",
       "      <th>title</th>\n",
       "    </tr>\n",
       "  </thead>\n",
       "  <tbody>\n",
       "    <tr>\n",
       "      <td>0</td>\n",
       "      <td>1</td>\n",
       "      <td>1</td>\n",
       "      <td>5</td>\n",
       "      <td>874965758</td>\n",
       "      <td>Toy Story (1995)</td>\n",
       "    </tr>\n",
       "    <tr>\n",
       "      <td>1</td>\n",
       "      <td>2</td>\n",
       "      <td>1</td>\n",
       "      <td>4</td>\n",
       "      <td>888550871</td>\n",
       "      <td>Toy Story (1995)</td>\n",
       "    </tr>\n",
       "    <tr>\n",
       "      <td>2</td>\n",
       "      <td>6</td>\n",
       "      <td>1</td>\n",
       "      <td>4</td>\n",
       "      <td>883599478</td>\n",
       "      <td>Toy Story (1995)</td>\n",
       "    </tr>\n",
       "    <tr>\n",
       "      <td>3</td>\n",
       "      <td>10</td>\n",
       "      <td>1</td>\n",
       "      <td>4</td>\n",
       "      <td>877888877</td>\n",
       "      <td>Toy Story (1995)</td>\n",
       "    </tr>\n",
       "    <tr>\n",
       "      <td>4</td>\n",
       "      <td>13</td>\n",
       "      <td>1</td>\n",
       "      <td>3</td>\n",
       "      <td>882140487</td>\n",
       "      <td>Toy Story (1995)</td>\n",
       "    </tr>\n",
       "  </tbody>\n",
       "</table>\n",
       "</div>"
      ],
      "text/plain": [
       "   user_id  item_id  rating  timestamp             title\n",
       "0        1        1       5  874965758  Toy Story (1995)\n",
       "1        2        1       4  888550871  Toy Story (1995)\n",
       "2        6        1       4  883599478  Toy Story (1995)\n",
       "3       10        1       4  877888877  Toy Story (1995)\n",
       "4       13        1       3  882140487  Toy Story (1995)"
      ]
     },
     "execution_count": 277,
     "metadata": {},
     "output_type": "execute_result"
    }
   ],
   "source": [
    "# Merge 2 dataet together\n",
    "df = pd.merge(df,movie_titles,on='item_id')\n",
    "train = pd.merge(train,movie_titles,on='item_id')\n",
    "test = pd.merge(test,movie_titles,on='item_id')\n",
    "train.head()"
   ]
  },
  {
   "cell_type": "markdown",
   "metadata": {},
   "source": [
    "# Exploratory Data Analysis (EDA)"
   ]
  },
  {
   "cell_type": "code",
   "execution_count": 278,
   "metadata": {},
   "outputs": [
    {
     "data": {
      "text/html": [
       "<div>\n",
       "<style scoped>\n",
       "    .dataframe tbody tr th:only-of-type {\n",
       "        vertical-align: middle;\n",
       "    }\n",
       "\n",
       "    .dataframe tbody tr th {\n",
       "        vertical-align: top;\n",
       "    }\n",
       "\n",
       "    .dataframe thead th {\n",
       "        text-align: right;\n",
       "    }\n",
       "</style>\n",
       "<table border=\"1\" class=\"dataframe\">\n",
       "  <thead>\n",
       "    <tr style=\"text-align: right;\">\n",
       "      <th></th>\n",
       "      <th>user_id</th>\n",
       "      <th>item_id</th>\n",
       "      <th>rating</th>\n",
       "      <th>timestamp</th>\n",
       "      <th>title</th>\n",
       "    </tr>\n",
       "  </thead>\n",
       "  <tbody>\n",
       "    <tr>\n",
       "      <td>0</td>\n",
       "      <td>196</td>\n",
       "      <td>242</td>\n",
       "      <td>3</td>\n",
       "      <td>881250949</td>\n",
       "      <td>Kolya (1996)</td>\n",
       "    </tr>\n",
       "    <tr>\n",
       "      <td>1</td>\n",
       "      <td>63</td>\n",
       "      <td>242</td>\n",
       "      <td>3</td>\n",
       "      <td>875747190</td>\n",
       "      <td>Kolya (1996)</td>\n",
       "    </tr>\n",
       "    <tr>\n",
       "      <td>2</td>\n",
       "      <td>226</td>\n",
       "      <td>242</td>\n",
       "      <td>5</td>\n",
       "      <td>883888671</td>\n",
       "      <td>Kolya (1996)</td>\n",
       "    </tr>\n",
       "    <tr>\n",
       "      <td>3</td>\n",
       "      <td>154</td>\n",
       "      <td>242</td>\n",
       "      <td>3</td>\n",
       "      <td>879138235</td>\n",
       "      <td>Kolya (1996)</td>\n",
       "    </tr>\n",
       "    <tr>\n",
       "      <td>4</td>\n",
       "      <td>306</td>\n",
       "      <td>242</td>\n",
       "      <td>5</td>\n",
       "      <td>876503793</td>\n",
       "      <td>Kolya (1996)</td>\n",
       "    </tr>\n",
       "  </tbody>\n",
       "</table>\n",
       "</div>"
      ],
      "text/plain": [
       "   user_id  item_id  rating  timestamp         title\n",
       "0      196      242       3  881250949  Kolya (1996)\n",
       "1       63      242       3  875747190  Kolya (1996)\n",
       "2      226      242       5  883888671  Kolya (1996)\n",
       "3      154      242       3  879138235  Kolya (1996)\n",
       "4      306      242       5  876503793  Kolya (1996)"
      ]
     },
     "execution_count": 278,
     "metadata": {},
     "output_type": "execute_result"
    }
   ],
   "source": [
    "df.head()"
   ]
  },
  {
   "cell_type": "code",
   "execution_count": 280,
   "metadata": {},
   "outputs": [
    {
     "data": {
      "text/html": [
       "<div>\n",
       "<style scoped>\n",
       "    .dataframe tbody tr th:only-of-type {\n",
       "        vertical-align: middle;\n",
       "    }\n",
       "\n",
       "    .dataframe tbody tr th {\n",
       "        vertical-align: top;\n",
       "    }\n",
       "\n",
       "    .dataframe thead th {\n",
       "        text-align: right;\n",
       "    }\n",
       "</style>\n",
       "<table border=\"1\" class=\"dataframe\">\n",
       "  <thead>\n",
       "    <tr style=\"text-align: right;\">\n",
       "      <th></th>\n",
       "      <th>rating</th>\n",
       "    </tr>\n",
       "    <tr>\n",
       "      <th>title</th>\n",
       "      <th></th>\n",
       "    </tr>\n",
       "  </thead>\n",
       "  <tbody>\n",
       "    <tr>\n",
       "      <td>'Til There Was You (1997)</td>\n",
       "      <td>2.333333</td>\n",
       "    </tr>\n",
       "    <tr>\n",
       "      <td>1-900 (1994)</td>\n",
       "      <td>2.600000</td>\n",
       "    </tr>\n",
       "    <tr>\n",
       "      <td>101 Dalmatians (1996)</td>\n",
       "      <td>2.908257</td>\n",
       "    </tr>\n",
       "    <tr>\n",
       "      <td>12 Angry Men (1957)</td>\n",
       "      <td>4.344000</td>\n",
       "    </tr>\n",
       "    <tr>\n",
       "      <td>187 (1997)</td>\n",
       "      <td>3.024390</td>\n",
       "    </tr>\n",
       "  </tbody>\n",
       "</table>\n",
       "</div>"
      ],
      "text/plain": [
       "                             rating\n",
       "title                              \n",
       "'Til There Was You (1997)  2.333333\n",
       "1-900 (1994)               2.600000\n",
       "101 Dalmatians (1996)      2.908257\n",
       "12 Angry Men (1957)        4.344000\n",
       "187 (1997)                 3.024390"
      ]
     },
     "execution_count": 280,
     "metadata": {},
     "output_type": "execute_result"
    }
   ],
   "source": [
    "ratings = pd.DataFrame(df.groupby('title')['rating'].mean())\n",
    "ratings.head()"
   ]
  },
  {
   "cell_type": "code",
   "execution_count": 281,
   "metadata": {},
   "outputs": [
    {
     "data": {
      "text/html": [
       "<div>\n",
       "<style scoped>\n",
       "    .dataframe tbody tr th:only-of-type {\n",
       "        vertical-align: middle;\n",
       "    }\n",
       "\n",
       "    .dataframe tbody tr th {\n",
       "        vertical-align: top;\n",
       "    }\n",
       "\n",
       "    .dataframe thead th {\n",
       "        text-align: right;\n",
       "    }\n",
       "</style>\n",
       "<table border=\"1\" class=\"dataframe\">\n",
       "  <thead>\n",
       "    <tr style=\"text-align: right;\">\n",
       "      <th></th>\n",
       "      <th>rating</th>\n",
       "      <th>number_ratings</th>\n",
       "    </tr>\n",
       "    <tr>\n",
       "      <th>title</th>\n",
       "      <th></th>\n",
       "      <th></th>\n",
       "    </tr>\n",
       "  </thead>\n",
       "  <tbody>\n",
       "    <tr>\n",
       "      <td>'Til There Was You (1997)</td>\n",
       "      <td>2.333333</td>\n",
       "      <td>9</td>\n",
       "    </tr>\n",
       "    <tr>\n",
       "      <td>1-900 (1994)</td>\n",
       "      <td>2.600000</td>\n",
       "      <td>5</td>\n",
       "    </tr>\n",
       "    <tr>\n",
       "      <td>101 Dalmatians (1996)</td>\n",
       "      <td>2.908257</td>\n",
       "      <td>109</td>\n",
       "    </tr>\n",
       "    <tr>\n",
       "      <td>12 Angry Men (1957)</td>\n",
       "      <td>4.344000</td>\n",
       "      <td>125</td>\n",
       "    </tr>\n",
       "    <tr>\n",
       "      <td>187 (1997)</td>\n",
       "      <td>3.024390</td>\n",
       "      <td>41</td>\n",
       "    </tr>\n",
       "  </tbody>\n",
       "</table>\n",
       "</div>"
      ],
      "text/plain": [
       "                             rating  number_ratings\n",
       "title                                              \n",
       "'Til There Was You (1997)  2.333333               9\n",
       "1-900 (1994)               2.600000               5\n",
       "101 Dalmatians (1996)      2.908257             109\n",
       "12 Angry Men (1957)        4.344000             125\n",
       "187 (1997)                 3.024390              41"
      ]
     },
     "execution_count": 281,
     "metadata": {},
     "output_type": "execute_result"
    }
   ],
   "source": [
    "ratings['number_ratings'] = pd.DataFrame(df.groupby('title')['rating'].count())\n",
    "ratings.head()"
   ]
  },
  {
   "cell_type": "code",
   "execution_count": 282,
   "metadata": {},
   "outputs": [
    {
     "data": {
      "text/plain": [
       "<matplotlib.axes._subplots.AxesSubplot at 0x15437d5d0>"
      ]
     },
     "execution_count": 282,
     "metadata": {},
     "output_type": "execute_result"
    },
    {
     "data": {
      "image/png": "[encoded data removed]",
      "text/plain": [
       "<Figure size 576x216 with 1 Axes>"
      ]
     },
     "metadata": {
      "needs_background": "light"
     },
     "output_type": "display_data"
    }
   ],
   "source": [
    "#We can see from the below figure that most of the movies have few number of ratings.\n",
    "plt.figure(figsize=(8,3))\n",
    "ratings['number_ratings'].hist(bins=70)"
   ]
  },
  {
   "cell_type": "code",
   "execution_count": 283,
   "metadata": {},
   "outputs": [
    {
     "data": {
      "text/plain": [
       "<matplotlib.axes._subplots.AxesSubplot at 0x15627aad0>"
      ]
     },
     "execution_count": 283,
     "metadata": {},
     "output_type": "execute_result"
    },
    {
     "data": {
      "image/png": "[encoded data removed]",
      "text/plain": [
       "<Figure size 576x216 with 1 Axes>"
      ]
     },
     "metadata": {
      "needs_background": "light"
     },
     "output_type": "display_data"
    }
   ],
   "source": [
    "# This histogram shows the distribution of rating \n",
    "plt.figure(figsize=(8,3))\n",
    "ratings['rating'].hist(bins=70)"
   ]
  },
  {
   "cell_type": "code",
   "execution_count": 284,
   "metadata": {},
   "outputs": [
    {
     "data": {
      "image/png": "[encoded data removed]",
      "text/plain": [
       "<Figure size 432x432 with 3 Axes>"
      ]
     },
     "metadata": {
      "needs_background": "light"
     },
     "output_type": "display_data"
    }
   ],
   "source": [
    "# More rating highest number of rating\n",
    "sns.jointplot(x='rating',y='number_ratings',data=ratings,alpha=0.5)\n",
    "plt.show()"
   ]
  },
  {
   "cell_type": "markdown",
   "metadata": {},
   "source": [
    "# Find Similar Movies"
   ]
  },
  {
   "cell_type": "code",
   "execution_count": 285,
   "metadata": {},
   "outputs": [],
   "source": [
    "movie_matrix = df.pivot_table(index='user_id',columns='title',values='rating')"
   ]
  },
  {
   "cell_type": "code",
   "execution_count": 286,
   "metadata": {
    "scrolled": true
   },
   "outputs": [
    {
     "data": {
      "text/html": [
       "<div>\n",
       "<style scoped>\n",
       "    .dataframe tbody tr th:only-of-type {\n",
       "        vertical-align: middle;\n",
       "    }\n",
       "\n",
       "    .dataframe tbody tr th {\n",
       "        vertical-align: top;\n",
       "    }\n",
       "\n",
       "    .dataframe thead th {\n",
       "        text-align: right;\n",
       "    }\n",
       "</style>\n",
       "<table border=\"1\" class=\"dataframe\">\n",
       "  <thead>\n",
       "    <tr style=\"text-align: right;\">\n",
       "      <th>title</th>\n",
       "      <th>'Til There Was You (1997)</th>\n",
       "      <th>1-900 (1994)</th>\n",
       "      <th>101 Dalmatians (1996)</th>\n",
       "      <th>12 Angry Men (1957)</th>\n",
       "      <th>187 (1997)</th>\n",
       "      <th>2 Days in the Valley (1996)</th>\n",
       "      <th>20,000 Leagues Under the Sea (1954)</th>\n",
       "      <th>2001: A Space Odyssey (1968)</th>\n",
       "      <th>3 Ninjas: High Noon At Mega Mountain (1998)</th>\n",
       "      <th>39 Steps, The (1935)</th>\n",
       "      <th>...</th>\n",
       "      <th>Yankee Zulu (1994)</th>\n",
       "      <th>Year of the Horse (1997)</th>\n",
       "      <th>You So Crazy (1994)</th>\n",
       "      <th>Young Frankenstein (1974)</th>\n",
       "      <th>Young Guns (1988)</th>\n",
       "      <th>Young Guns II (1990)</th>\n",
       "      <th>Young Poisoner's Handbook, The (1995)</th>\n",
       "      <th>Zeus and Roxanne (1997)</th>\n",
       "      <th>unknown</th>\n",
       "      <th>Á köldum klaka (Cold Fever) (1994)</th>\n",
       "    </tr>\n",
       "    <tr>\n",
       "      <th>user_id</th>\n",
       "      <th></th>\n",
       "      <th></th>\n",
       "      <th></th>\n",
       "      <th></th>\n",
       "      <th></th>\n",
       "      <th></th>\n",
       "      <th></th>\n",
       "      <th></th>\n",
       "      <th></th>\n",
       "      <th></th>\n",
       "      <th></th>\n",
       "      <th></th>\n",
       "      <th></th>\n",
       "      <th></th>\n",
       "      <th></th>\n",
       "      <th></th>\n",
       "      <th></th>\n",
       "      <th></th>\n",
       "      <th></th>\n",
       "      <th></th>\n",
       "      <th></th>\n",
       "    </tr>\n",
       "  </thead>\n",
       "  <tbody>\n",
       "    <tr>\n",
       "      <td>1</td>\n",
       "      <td>NaN</td>\n",
       "      <td>NaN</td>\n",
       "      <td>2.0</td>\n",
       "      <td>5.0</td>\n",
       "      <td>NaN</td>\n",
       "      <td>NaN</td>\n",
       "      <td>3.0</td>\n",
       "      <td>4.0</td>\n",
       "      <td>NaN</td>\n",
       "      <td>NaN</td>\n",
       "      <td>...</td>\n",
       "      <td>NaN</td>\n",
       "      <td>NaN</td>\n",
       "      <td>NaN</td>\n",
       "      <td>5.0</td>\n",
       "      <td>3.0</td>\n",
       "      <td>NaN</td>\n",
       "      <td>NaN</td>\n",
       "      <td>NaN</td>\n",
       "      <td>4.0</td>\n",
       "      <td>NaN</td>\n",
       "    </tr>\n",
       "    <tr>\n",
       "      <td>2</td>\n",
       "      <td>NaN</td>\n",
       "      <td>NaN</td>\n",
       "      <td>NaN</td>\n",
       "      <td>NaN</td>\n",
       "      <td>NaN</td>\n",
       "      <td>NaN</td>\n",
       "      <td>NaN</td>\n",
       "      <td>NaN</td>\n",
       "      <td>1.0</td>\n",
       "      <td>NaN</td>\n",
       "      <td>...</td>\n",
       "      <td>NaN</td>\n",
       "      <td>NaN</td>\n",
       "      <td>NaN</td>\n",
       "      <td>NaN</td>\n",
       "      <td>NaN</td>\n",
       "      <td>NaN</td>\n",
       "      <td>NaN</td>\n",
       "      <td>NaN</td>\n",
       "      <td>NaN</td>\n",
       "      <td>NaN</td>\n",
       "    </tr>\n",
       "    <tr>\n",
       "      <td>3</td>\n",
       "      <td>NaN</td>\n",
       "      <td>NaN</td>\n",
       "      <td>NaN</td>\n",
       "      <td>NaN</td>\n",
       "      <td>2.0</td>\n",
       "      <td>NaN</td>\n",
       "      <td>NaN</td>\n",
       "      <td>NaN</td>\n",
       "      <td>NaN</td>\n",
       "      <td>NaN</td>\n",
       "      <td>...</td>\n",
       "      <td>NaN</td>\n",
       "      <td>NaN</td>\n",
       "      <td>NaN</td>\n",
       "      <td>NaN</td>\n",
       "      <td>NaN</td>\n",
       "      <td>NaN</td>\n",
       "      <td>NaN</td>\n",
       "      <td>NaN</td>\n",
       "      <td>NaN</td>\n",
       "      <td>NaN</td>\n",
       "    </tr>\n",
       "    <tr>\n",
       "      <td>4</td>\n",
       "      <td>NaN</td>\n",
       "      <td>NaN</td>\n",
       "      <td>NaN</td>\n",
       "      <td>NaN</td>\n",
       "      <td>NaN</td>\n",
       "      <td>NaN</td>\n",
       "      <td>NaN</td>\n",
       "      <td>NaN</td>\n",
       "      <td>NaN</td>\n",
       "      <td>NaN</td>\n",
       "      <td>...</td>\n",
       "      <td>NaN</td>\n",
       "      <td>NaN</td>\n",
       "      <td>NaN</td>\n",
       "      <td>NaN</td>\n",
       "      <td>NaN</td>\n",
       "      <td>NaN</td>\n",
       "      <td>NaN</td>\n",
       "      <td>NaN</td>\n",
       "      <td>NaN</td>\n",
       "      <td>NaN</td>\n",
       "    </tr>\n",
       "    <tr>\n",
       "      <td>5</td>\n",
       "      <td>NaN</td>\n",
       "      <td>NaN</td>\n",
       "      <td>2.0</td>\n",
       "      <td>NaN</td>\n",
       "      <td>NaN</td>\n",
       "      <td>NaN</td>\n",
       "      <td>NaN</td>\n",
       "      <td>4.0</td>\n",
       "      <td>NaN</td>\n",
       "      <td>NaN</td>\n",
       "      <td>...</td>\n",
       "      <td>NaN</td>\n",
       "      <td>NaN</td>\n",
       "      <td>NaN</td>\n",
       "      <td>4.0</td>\n",
       "      <td>NaN</td>\n",
       "      <td>NaN</td>\n",
       "      <td>NaN</td>\n",
       "      <td>NaN</td>\n",
       "      <td>4.0</td>\n",
       "      <td>NaN</td>\n",
       "    </tr>\n",
       "  </tbody>\n",
       "</table>\n",
       "<p>5 rows × 1664 columns</p>\n",
       "</div>"
      ],
      "text/plain": [
       "title    'Til There Was You (1997)  1-900 (1994)  101 Dalmatians (1996)  \\\n",
       "user_id                                                                   \n",
       "1                              NaN           NaN                    2.0   \n",
       "2                              NaN           NaN                    NaN   \n",
       "3                              NaN           NaN                    NaN   \n",
       "4                              NaN           NaN                    NaN   \n",
       "5                              NaN           NaN                    2.0   \n",
       "\n",
       "title    12 Angry Men (1957)  187 (1997)  2 Days in the Valley (1996)  \\\n",
       "user_id                                                                 \n",
       "1                        5.0         NaN                          NaN   \n",
       "2                        NaN         NaN                          NaN   \n",
       "3                        NaN         2.0                          NaN   \n",
       "4                        NaN         NaN                          NaN   \n",
       "5                        NaN         NaN                          NaN   \n",
       "\n",
       "title    20,000 Leagues Under the Sea (1954)  2001: A Space Odyssey (1968)  \\\n",
       "user_id                                                                      \n",
       "1                                        3.0                           4.0   \n",
       "2                                        NaN                           NaN   \n",
       "3                                        NaN                           NaN   \n",
       "4                                        NaN                           NaN   \n",
       "5                                        NaN                           4.0   \n",
       "\n",
       "title    3 Ninjas: High Noon At Mega Mountain (1998)  39 Steps, The (1935)  \\\n",
       "user_id                                                                      \n",
       "1                                                NaN                   NaN   \n",
       "2                                                1.0                   NaN   \n",
       "3                                                NaN                   NaN   \n",
       "4                                                NaN                   NaN   \n",
       "5                                                NaN                   NaN   \n",
       "\n",
       "title    ...  Yankee Zulu (1994)  Year of the Horse (1997)  \\\n",
       "user_id  ...                                                 \n",
       "1        ...                 NaN                       NaN   \n",
       "2        ...                 NaN                       NaN   \n",
       "3        ...                 NaN                       NaN   \n",
       "4        ...                 NaN                       NaN   \n",
       "5        ...                 NaN                       NaN   \n",
       "\n",
       "title    You So Crazy (1994)  Young Frankenstein (1974)  Young Guns (1988)  \\\n",
       "user_id                                                                      \n",
       "1                        NaN                        5.0                3.0   \n",
       "2                        NaN                        NaN                NaN   \n",
       "3                        NaN                        NaN                NaN   \n",
       "4                        NaN                        NaN                NaN   \n",
       "5                        NaN                        4.0                NaN   \n",
       "\n",
       "title    Young Guns II (1990)  Young Poisoner's Handbook, The (1995)  \\\n",
       "user_id                                                                \n",
       "1                         NaN                                    NaN   \n",
       "2                         NaN                                    NaN   \n",
       "3                         NaN                                    NaN   \n",
       "4                         NaN                                    NaN   \n",
       "5                         NaN                                    NaN   \n",
       "\n",
       "title    Zeus and Roxanne (1997)  unknown  Á köldum klaka (Cold Fever) (1994)  \n",
       "user_id                                                                        \n",
       "1                            NaN      4.0                                 NaN  \n",
       "2                            NaN      NaN                                 NaN  \n",
       "3                            NaN      NaN                                 NaN  \n",
       "4                            NaN      NaN                                 NaN  \n",
       "5                            NaN      4.0                                 NaN  \n",
       "\n",
       "[5 rows x 1664 columns]"
      ]
     },
     "execution_count": 286,
     "metadata": {},
     "output_type": "execute_result"
    }
   ],
   "source": [
    "movie_matrix.head()"
   ]
  },
  {
   "cell_type": "code",
   "execution_count": 287,
   "metadata": {},
   "outputs": [],
   "source": [
    "def find_similar_movies(movie_name):\n",
    "    #Select user ratings for two movies \n",
    "    movie_user_ratings = movie_matrix[movie_name]\n",
    "\n",
    "    # Find correlations between series with corrwith (instead of corr)\n",
    "    similar_to_movie = movie_matrix.corrwith(movie_user_ratings)\n",
    "\n",
    "    # Removing NaN values and using a DataFrame instead of a series \n",
    "    corr_movies = pd.DataFrame(similar_to_movie,columns=['Correlation'])\n",
    "    corr_movies.dropna(inplace=True)\n",
    "\n",
    "    corr_movies = corr_movies.join(ratings['number_ratings'])\n",
    "\n",
    "    result = corr_movies[corr_movies['number_ratings']>100].sort_values('Correlation',ascending=False).head()\n",
    "    return result"
   ]
  },
  {
   "cell_type": "code",
   "execution_count": 288,
   "metadata": {},
   "outputs": [
    {
     "data": {
      "text/html": [
       "<div>\n",
       "<style scoped>\n",
       "    .dataframe tbody tr th:only-of-type {\n",
       "        vertical-align: middle;\n",
       "    }\n",
       "\n",
       "    .dataframe tbody tr th {\n",
       "        vertical-align: top;\n",
       "    }\n",
       "\n",
       "    .dataframe thead th {\n",
       "        text-align: right;\n",
       "    }\n",
       "</style>\n",
       "<table border=\"1\" class=\"dataframe\">\n",
       "  <thead>\n",
       "    <tr style=\"text-align: right;\">\n",
       "      <th></th>\n",
       "      <th>Correlation</th>\n",
       "      <th>number_ratings</th>\n",
       "    </tr>\n",
       "    <tr>\n",
       "      <th>title</th>\n",
       "      <th></th>\n",
       "      <th></th>\n",
       "    </tr>\n",
       "  </thead>\n",
       "  <tbody>\n",
       "    <tr>\n",
       "      <td>Die Hard (1988)</td>\n",
       "      <td>1.000000</td>\n",
       "      <td>243</td>\n",
       "    </tr>\n",
       "    <tr>\n",
       "      <td>Die Hard: With a Vengeance (1995)</td>\n",
       "      <td>0.577216</td>\n",
       "      <td>151</td>\n",
       "    </tr>\n",
       "    <tr>\n",
       "      <td>Die Hard 2 (1990)</td>\n",
       "      <td>0.510473</td>\n",
       "      <td>166</td>\n",
       "    </tr>\n",
       "    <tr>\n",
       "      <td>Absolute Power (1997)</td>\n",
       "      <td>0.477706</td>\n",
       "      <td>127</td>\n",
       "    </tr>\n",
       "    <tr>\n",
       "      <td>Nikita (La Femme Nikita) (1990)</td>\n",
       "      <td>0.444070</td>\n",
       "      <td>127</td>\n",
       "    </tr>\n",
       "  </tbody>\n",
       "</table>\n",
       "</div>"
      ],
      "text/plain": [
       "                                   Correlation  number_ratings\n",
       "title                                                         \n",
       "Die Hard (1988)                       1.000000             243\n",
       "Die Hard: With a Vengeance (1995)     0.577216             151\n",
       "Die Hard 2 (1990)                     0.510473             166\n",
       "Absolute Power (1997)                 0.477706             127\n",
       "Nikita (La Femme Nikita) (1990)       0.444070             127"
      ]
     },
     "execution_count": 288,
     "metadata": {},
     "output_type": "execute_result"
    }
   ],
   "source": [
    "find_similar_movies('Die Hard (1988)')"
   ]
  },
  {
   "cell_type": "markdown",
   "metadata": {},
   "source": [
    "# Recommendation Engine - collaborative filtering model from scratch"
   ]
  },
  {
   "cell_type": "code",
   "execution_count": 291,
   "metadata": {},
   "outputs": [
    {
     "data": {
      "text/plain": [
       "(943, 1682)"
      ]
     },
     "execution_count": 291,
     "metadata": {},
     "output_type": "execute_result"
    }
   ],
   "source": [
    "n_users = df.user_id.unique().shape[0]\n",
    "n_items = df.item_id.unique().shape[0]\n",
    "n_users,n_items"
   ]
  },
  {
   "cell_type": "code",
   "execution_count": 329,
   "metadata": {},
   "outputs": [],
   "source": [
    "# create a user-item matrix which can be used to calculate the similarity between users and items\n",
    "\n",
    "data_matrix = np.zeros((n_users, n_items))\n",
    "for line in df.itertuples():\n",
    "    data_matrix[line[1]-1, line[2]-1] = line[3]\n",
    "    \n",
    "train_data_matrix = np.zeros((n_users, n_items))\n",
    "# unpack the Pandas object\n",
    "for line in train.itertuples():\n",
    "    # adjust to count rows and cols from 0 and fill in the matrix\n",
    "    train_data_matrix[line[1]-1, line[2]-1] = line[3]\n",
    "\n",
    "test_data_matrix = np.zeros((n_users, n_items))\n",
    "for line in test.itertuples():\n",
    "    test_data_matrix[line[1]-1, line[2]-1] = line[3]"
   ]
  },
  {
   "cell_type": "code",
   "execution_count": 331,
   "metadata": {},
   "outputs": [
    {
     "data": {
      "text/plain": [
       "((943, 943), (1682, 1682))"
      ]
     },
     "execution_count": 331,
     "metadata": {},
     "output_type": "execute_result"
    }
   ],
   "source": [
    "# calculating the similarity by using the pairwise_distance from sklearn to calculate the cosine similarity\n",
    "from sklearn.metrics.pairwise import pairwise_distances \n",
    "\n",
    "# user-user similarity\n",
    "user_similarity = pairwise_distances(train_data_matrix, metric='cosine')\n",
    "\n",
    "# item-item similarity\n",
    "item_similarity = pairwise_distances(train_data_matrix.T, metric='cosine')\n",
    "\n",
    "user_similarity.shape , item_similarity.shape"
   ]
  },
  {
   "attachments": {},
   "cell_type": "markdown",
   "metadata": {},
   "source": [
    "we can make a prediction by applying the following formula for user-based CF.\n",
    "\n",
    "\n",
    "1) We can look at the similarity between users k and a as weights that are\n",
    "\n",
    "2)  multiplied by the ratings of a similar user a (corrected for the average rating of that user)\n",
    "\n",
    "3) We need to normalize it so that the ratings stay between 1 and 5\n",
    "\n",
    "4) As a final step, sum the average ratings for the user that you are trying to predict."
   ]
  },
  {
   "cell_type": "code",
   "execution_count": 344,
   "metadata": {},
   "outputs": [
    {
     "data": {
      "image/gif": "[encoded data removed]",
      "text/plain": [
       "<IPython.core.display.Image object>"
      ]
     },
     "execution_count": 344,
     "metadata": {
      "image/gif": {
       "height": 200,
       "width": 300
      }
     },
     "output_type": "execute_result"
    }
   ],
   "source": [
    "Image('user-based.gif',width=300, height=200)"
   ]
  },
  {
   "cell_type": "code",
   "execution_count": 347,
   "metadata": {},
   "outputs": [
    {
     "data": {
      "image/gif": "[encoded data removed]",
      "text/plain": [
       "<IPython.core.display.Image object>"
      ]
     },
     "execution_count": 347,
     "metadata": {
      "image/gif": {
       "height": 200,
       "width": 200
      }
     },
     "output_type": "execute_result"
    }
   ],
   "source": [
    "# Also, we can make a prediction by applying the following formula for item-based CF.\n",
    "\n",
    "Image('item-based.gif',width=200, height=200)"
   ]
  },
  {
   "cell_type": "code",
   "execution_count": 332,
   "metadata": {},
   "outputs": [],
   "source": [
    "#make predictions based on these similarities\n",
    "\n",
    "def predict(ratings, similarity, type='user'):\n",
    "    if type == 'user':\n",
    "        mean_user_rating = ratings.mean(axis=1)\n",
    "        #We use np.newaxis so that mean_user_rating has same format as ratings\n",
    "        ratings_diff = (ratings - mean_user_rating[:, np.newaxis])\n",
    "        pred = mean_user_rating[:, np.newaxis] + similarity.dot(ratings_diff) / np.array([np.abs(similarity).sum(axis=1)]).T\n",
    "    elif type == 'item':\n",
    "        pred = ratings.dot(similarity) / np.array([np.abs(similarity).sum(axis=1)])\n",
    "    return pred"
   ]
  },
  {
   "cell_type": "code",
   "execution_count": 351,
   "metadata": {},
   "outputs": [
    {
     "data": {
      "text/plain": [
       "((943, 1682), (943, 1682))"
      ]
     },
     "execution_count": 351,
     "metadata": {},
     "output_type": "execute_result"
    }
   ],
   "source": [
    "user_prediction = predict(data_matrix, user_similarity, type='user')\n",
    "item_prediction = predict(data_matrix, item_similarity, type='item')\n",
    "\n",
    "user_prediction.shape,item_prediction.shape"
   ]
  },
  {
   "cell_type": "code",
   "execution_count": 353,
   "metadata": {},
   "outputs": [
    {
     "data": {
      "text/plain": [
       "array([[ 2.072339,  0.735088,  0.629765,  1.013569, ...,  0.394872,  0.393581,  0.393082,  0.392822],\n",
       "       [ 1.758147,  0.378722,  0.195412,  0.720133, ..., -0.08516 , -0.086014, -0.084507, -0.084231],\n",
       "       [ 1.773194,  0.322098,  0.156795,  0.670121, ..., -0.132964, -0.133651, -0.131865, -0.131658],\n",
       "       [ 1.725627,  0.289116,  0.128227,  0.637593, ..., -0.160439, -0.161254, -0.159748, -0.159537],\n",
       "       ...,\n",
       "       [ 1.805997,  0.414643,  0.283264,  0.709854, ...,  0.015873,  0.014819,  0.015306,  0.015556],\n",
       "       [ 1.625039,  0.27392 ,  0.109782,  0.617497, ..., -0.166133, -0.167195, -0.166142, -0.166206],\n",
       "       [ 1.80936 ,  0.403271,  0.273252,  0.725122, ..., -0.00767 , -0.008679, -0.007986, -0.007606],\n",
       "       [ 1.84806 ,  0.482515,  0.385743,  0.786026, ...,  0.147419,  0.146119,  0.145647,  0.145794]])"
      ]
     },
     "execution_count": 353,
     "metadata": {},
     "output_type": "execute_result"
    }
   ],
   "source": [
    "user_prediction"
   ]
  },
  {
   "cell_type": "markdown",
   "metadata": {},
   "source": [
    "## Evaluation"
   ]
  },
  {
   "cell_type": "code",
   "execution_count": 337,
   "metadata": {},
   "outputs": [
    {
     "name": "stdout",
     "output_type": "stream",
     "text": [
      "User-based CF RMSE: 3.105678174637224\n",
      "Item-based CF RMSE: 3.588904192097963\n"
     ]
    }
   ],
   "source": [
    "from sklearn.metrics import mean_squared_error\n",
    "from math import sqrt\n",
    "\n",
    "def rmse(prediction, ground_truth):\n",
    "    prediction = prediction[ground_truth.nonzero()].flatten()\n",
    "    ground_truth = ground_truth[ground_truth.nonzero()].flatten()\n",
    "    return sqrt(mean_squared_error(prediction, ground_truth))\n",
    "\n",
    "print('User-based CF RMSE: ' + str(rmse(user_prediction, test_data_matrix)))\n",
    "print('Item-based CF RMSE: ' + str(rmse(item_prediction, test_data_matrix)))"
   ]
  },
  {
   "cell_type": "markdown",
   "metadata": {},
   "source": [
    "## Model-based collaborative filtering"
   ]
  },
  {
   "cell_type": "markdown",
   "metadata": {},
   "source": [
    "$$X = USV^{T}$$\n",
    "\n"
   ]
  },
  {
   "cell_type": "code",
   "execution_count": 339,
   "metadata": {},
   "outputs": [
    {
     "name": "stdout",
     "output_type": "stream",
     "text": [
      "The sparsity level of MovieLens100K is 93.7%\n",
      "User-based CF MSE: 2.8258075694458307\n"
     ]
    }
   ],
   "source": [
    "sparsity = round(1.0-len(df)/float(n_users*n_items), 3)\n",
    "print('The sparsity level of MovieLens100K is ' + str(sparsity*100) + '%')\n",
    "\n",
    "\n",
    "import scipy.sparse as sp\n",
    "from scipy.sparse.linalg import svds\n",
    "\n",
    "#get SVD components from train matrix. Choose k.\n",
    "u, s, vt = svds(train_data_matrix, k=20)\n",
    "s_diag_matrix=np.diag(s)\n",
    "X_pred = np.dot(np.dot(u, s_diag_matrix), vt)\n",
    "print('User-based CF MSE: ' + str(rmse(X_pred, test_data_matrix)))"
   ]
  },
  {
   "cell_type": "markdown",
   "metadata": {},
   "source": [
    "# Fast AI"
   ]
  },
  {
   "cell_type": "code",
   "execution_count": 341,
   "metadata": {},
   "outputs": [],
   "source": [
    "# import collaborative filtering package\n",
    "from fastai.collab import *"
   ]
  },
  {
   "cell_type": "code",
   "execution_count": 416,
   "metadata": {},
   "outputs": [],
   "source": [
    "# Turn the title columns in category codes(to replace them with their codes for an Embedding layer)\n",
    "# size of our validation set = 0.1\n",
    "# we can add rating_name and user_name too.\n",
    "\n",
    "data = CollabDataBunch.from_df(df, seed=42, valid_pct=0.1, item_name='title')"
   ]
  },
  {
   "cell_type": "code",
   "execution_count": 417,
   "metadata": {},
   "outputs": [
    {
     "data": {
      "text/html": [
       "<table border=\"1\" class=\"dataframe\">\n",
       "  <thead>\n",
       "    <tr style=\"text-align: right;\">\n",
       "      <th>user_id</th>\n",
       "      <th>title</th>\n",
       "      <th>target</th>\n",
       "    </tr>\n",
       "  </thead>\n",
       "  <tbody>\n",
       "    <tr>\n",
       "      <td>73</td>\n",
       "      <td>One Flew Over the Cuckoo's Nest (1975)</td>\n",
       "      <td>5.0</td>\n",
       "    </tr>\n",
       "    <tr>\n",
       "      <td>267</td>\n",
       "      <td>Blue Chips (1994)</td>\n",
       "      <td>3.0</td>\n",
       "    </tr>\n",
       "    <tr>\n",
       "      <td>618</td>\n",
       "      <td>Madness of King George, The (1994)</td>\n",
       "      <td>3.0</td>\n",
       "    </tr>\n",
       "    <tr>\n",
       "      <td>62</td>\n",
       "      <td>Starship Troopers (1997)</td>\n",
       "      <td>1.0</td>\n",
       "    </tr>\n",
       "    <tr>\n",
       "      <td>634</td>\n",
       "      <td>Grumpier Old Men (1995)</td>\n",
       "      <td>3.0</td>\n",
       "    </tr>\n",
       "  </tbody>\n",
       "</table>"
      ],
      "text/plain": [
       "<IPython.core.display.HTML object>"
      ]
     },
     "metadata": {},
     "output_type": "display_data"
    }
   ],
   "source": [
    "#show a random batch of our data\n",
    "data.show_batch()"
   ]
  },
  {
   "cell_type": "code",
   "execution_count": 419,
   "metadata": {},
   "outputs": [
    {
     "data": {
      "text/plain": [
       "(1, 5)"
      ]
     },
     "execution_count": 419,
     "metadata": {},
     "output_type": "execute_result"
    }
   ],
   "source": [
    "#getting the max and min values of our ratings\n",
    "df.rating.min(), df.rating.max()"
   ]
  },
  {
   "cell_type": "markdown",
   "metadata": {},
   "source": [
    "## EmbeddingDotBias"
   ]
  },
  {
   "cell_type": "code",
   "execution_count": 420,
   "metadata": {},
   "outputs": [],
   "source": [
    "# creat Learner object (our model)\n",
    "# n_factors represents the size of the embedding vectors\n",
    "\n",
    "#EmbeddingDotBias\n",
    "learn = collab_learner(data, n_factors=40, y_range=(1,5), wd=1e-1)\n",
    "\n",
    "\n",
    "#EmbeddingNN Model\n",
    "#learn = collab_learner(data, n_factors=40, y_range=(1,5), use_nn=True, layers=[256, 128])"
   ]
  },
  {
   "cell_type": "code",
   "execution_count": 421,
   "metadata": {},
   "outputs": [
    {
     "name": "stdout",
     "output_type": "stream",
     "text": [
      "EmbeddingDotBias(\n",
      "  (u_weight): Embedding(944, 40)\n",
      "  (i_weight): Embedding(1654, 40)\n",
      "  (u_bias): Embedding(944, 1)\n",
      "  (i_bias): Embedding(1654, 1)\n",
      ")\n"
     ]
    }
   ],
   "source": [
    "print(learn.model)"
   ]
  },
  {
   "cell_type": "code",
   "execution_count": 422,
   "metadata": {},
   "outputs": [
    {
     "data": {
      "text/html": [
       "\n",
       "    <div>\n",
       "        <style>\n",
       "            /* Turns off some styling */\n",
       "            progress {\n",
       "                /* gets rid of default border in Firefox and Opera. */\n",
       "                border: none;\n",
       "                /* Needs to be in here for Safari polyfill so background images work as expected. */\n",
       "                background-size: auto;\n",
       "            }\n",
       "            .progress-bar-interrupted, .progress-bar-interrupted::-webkit-progress-bar {\n",
       "                background: #F44336;\n",
       "            }\n",
       "        </style>\n",
       "      <progress value='0' class='' max='1' style='width:300px; height:20px; vertical-align: middle;'></progress>\n",
       "      0.00% [0/1 00:00<00:00]\n",
       "    </div>\n",
       "    \n",
       "<table border=\"1\" class=\"dataframe\">\n",
       "  <thead>\n",
       "    <tr style=\"text-align: left;\">\n",
       "      <th>epoch</th>\n",
       "      <th>train_loss</th>\n",
       "      <th>valid_loss</th>\n",
       "      <th>time</th>\n",
       "    </tr>\n",
       "  </thead>\n",
       "  <tbody>\n",
       "  </tbody>\n",
       "</table><p>\n",
       "\n",
       "    <div>\n",
       "        <style>\n",
       "            /* Turns off some styling */\n",
       "            progress {\n",
       "                /* gets rid of default border in Firefox and Opera. */\n",
       "                border: none;\n",
       "                /* Needs to be in here for Safari polyfill so background images work as expected. */\n",
       "                background-size: auto;\n",
       "            }\n",
       "            .progress-bar-interrupted, .progress-bar-interrupted::-webkit-progress-bar {\n",
       "                background: #F44336;\n",
       "            }\n",
       "        </style>\n",
       "      <progress value='96' class='' max='1406' style='width:300px; height:20px; vertical-align: middle;'></progress>\n",
       "      6.83% [96/1406 00:00<00:13 2.1001]\n",
       "    </div>\n",
       "    "
      ],
      "text/plain": [
       "<IPython.core.display.HTML object>"
      ]
     },
     "metadata": {},
     "output_type": "display_data"
    },
    {
     "name": "stdout",
     "output_type": "stream",
     "text": [
      "LR Finder is complete, type {learner_name}.recorder.plot() to see the graph.\n"
     ]
    },
    {
     "data": {
      "image/png": "[encoded data removed]",
      "text/plain": [
       "<Figure size 432x288 with 1 Axes>"
      ]
     },
     "metadata": {
      "needs_background": "light"
     },
     "output_type": "display_data"
    }
   ],
   "source": [
    "# find the perfect learning rates we can use the lr_find \n",
    "learn.lr_find()\n",
    "# plot learning rate graph\n",
    "learn.recorder.plot()"
   ]
  },
  {
   "cell_type": "code",
   "execution_count": 423,
   "metadata": {},
   "outputs": [
    {
     "data": {
      "text/html": [
       "<table border=\"1\" class=\"dataframe\">\n",
       "  <thead>\n",
       "    <tr style=\"text-align: left;\">\n",
       "      <th>epoch</th>\n",
       "      <th>train_loss</th>\n",
       "      <th>valid_loss</th>\n",
       "      <th>time</th>\n",
       "    </tr>\n",
       "  </thead>\n",
       "  <tbody>\n",
       "    <tr>\n",
       "      <td>0</td>\n",
       "      <td>0.922255</td>\n",
       "      <td>0.935026</td>\n",
       "      <td>00:12</td>\n",
       "    </tr>\n",
       "    <tr>\n",
       "      <td>1</td>\n",
       "      <td>0.860289</td>\n",
       "      <td>0.878412</td>\n",
       "      <td>00:12</td>\n",
       "    </tr>\n",
       "    <tr>\n",
       "      <td>2</td>\n",
       "      <td>0.734556</td>\n",
       "      <td>0.831982</td>\n",
       "      <td>00:12</td>\n",
       "    </tr>\n",
       "    <tr>\n",
       "      <td>3</td>\n",
       "      <td>0.588457</td>\n",
       "      <td>0.823436</td>\n",
       "      <td>00:12</td>\n",
       "    </tr>\n",
       "  </tbody>\n",
       "</table>"
      ],
      "text/plain": [
       "<IPython.core.display.HTML object>"
      ]
     },
     "metadata": {},
     "output_type": "display_data"
    }
   ],
   "source": [
    "# Train our model using the fit_one_cycle method\n",
    "learn.fit_one_cycle(4, 1e-02)"
   ]
  },
  {
   "cell_type": "code",
   "execution_count": 424,
   "metadata": {},
   "outputs": [
    {
     "data": {
      "image/png": "[encoded data removed]",
      "text/plain": [
       "<Figure size 432x288 with 1 Axes>"
      ]
     },
     "metadata": {
      "needs_background": "light"
     },
     "output_type": "display_data"
    }
   ],
   "source": [
    "learn.recorder.plot_losses()"
   ]
  },
  {
   "cell_type": "code",
   "execution_count": 425,
   "metadata": {},
   "outputs": [],
   "source": [
    "learn.save('movie-dot-1')"
   ]
  },
  {
   "cell_type": "code",
   "execution_count": 426,
   "metadata": {},
   "outputs": [
    {
     "data": {
      "text/plain": [
       "user_id                            16\n",
       "item_id                           302\n",
       "rating                              5\n",
       "timestamp                   877716993\n",
       "title        L.A. Confidential (1997)\n",
       "Name: 250, dtype: object"
      ]
     },
     "execution_count": 426,
     "metadata": {},
     "output_type": "execute_result"
    }
   ],
   "source": [
    "df.iloc[250]"
   ]
  },
  {
   "cell_type": "code",
   "execution_count": 427,
   "metadata": {},
   "outputs": [
    {
     "data": {
      "text/plain": [
       "(FloatItem 4.5850377, tensor(4.5850), tensor(4.5850))"
      ]
     },
     "execution_count": 427,
     "metadata": {},
     "output_type": "execute_result"
    }
   ],
   "source": [
    "learn.predict(df.iloc[250])"
   ]
  },
  {
   "cell_type": "code",
   "execution_count": 428,
   "metadata": {},
   "outputs": [
    {
     "data": {
      "text/html": [],
      "text/plain": [
       "<IPython.core.display.HTML object>"
      ]
     },
     "metadata": {},
     "output_type": "display_data"
    },
    {
     "data": {
      "text/plain": [
       "[tensor([3.5232, 3.1683, 4.0037,  ..., 3.8524, 2.8280, 4.1228]),\n",
       " tensor([3., 5., 4.,  ..., 4., 3., 4.])]"
      ]
     },
     "execution_count": 428,
     "metadata": {},
     "output_type": "execute_result"
    }
   ],
   "source": [
    "learn.get_preds(ds_type=DatasetType.Valid)"
   ]
  },
  {
   "cell_type": "code",
   "execution_count": 429,
   "metadata": {},
   "outputs": [],
   "source": [
    "# gives us movie title and movie_id\n",
    "Mapping_file= dict(zip(df.title.tolist(),df.item_id.tolist()))"
   ]
  },
  {
   "cell_type": "code",
   "execution_count": 430,
   "metadata": {},
   "outputs": [],
   "source": [
    "def pred_user_rating(ui):\n",
    "    if ui in df.user_id.unique():\n",
    "        ui_list = df[df.user_id == ui].item_id.tolist()\n",
    "        d = {k: v for k,v in Mapping_file.items() if not v in ui_list}\n",
    "        \n",
    "        predictedL = []\n",
    "        for i, j in d.items():     \n",
    "            predicted = learn.predict(df.iloc[ui])\n",
    "            predictedL.append((i, predicted[0])) \n",
    "        pdf = pd.DataFrame(predictedL, columns = ['movies', 'ratings'])\n",
    "        pdf.set_index('movies', inplace=True)    \n",
    "        return pdf.head(10)        \n",
    "    else:\n",
    "        print(\"User Id does not exist in the list!\")\n",
    "        return None"
   ]
  },
  {
   "cell_type": "code",
   "execution_count": 431,
   "metadata": {},
   "outputs": [
    {
     "data": {
      "text/plain": [
       "user_id               724\n",
       "item_id               242\n",
       "rating                  1\n",
       "timestamp       883758268\n",
       "title        Kolya (1996)\n",
       "Name: 100, dtype: object"
      ]
     },
     "execution_count": 431,
     "metadata": {},
     "output_type": "execute_result"
    }
   ],
   "source": [
    "df.iloc[100]"
   ]
  },
  {
   "cell_type": "code",
   "execution_count": 432,
   "metadata": {},
   "outputs": [
    {
     "data": {
      "text/plain": [
       "FloatItem 3.8242984"
      ]
     },
     "execution_count": 432,
     "metadata": {},
     "output_type": "execute_result"
    }
   ],
   "source": [
    "predicted = learn.predict(test.iloc[100])\n",
    "predicted[0]"
   ]
  },
  {
   "cell_type": "code",
   "execution_count": 433,
   "metadata": {},
   "outputs": [
    {
     "data": {
      "text/html": [
       "<div>\n",
       "<style scoped>\n",
       "    .dataframe tbody tr th:only-of-type {\n",
       "        vertical-align: middle;\n",
       "    }\n",
       "\n",
       "    .dataframe tbody tr th {\n",
       "        vertical-align: top;\n",
       "    }\n",
       "\n",
       "    .dataframe thead th {\n",
       "        text-align: right;\n",
       "    }\n",
       "</style>\n",
       "<table border=\"1\" class=\"dataframe\">\n",
       "  <thead>\n",
       "    <tr style=\"text-align: right;\">\n",
       "      <th></th>\n",
       "      <th>ratings</th>\n",
       "    </tr>\n",
       "    <tr>\n",
       "      <th>movies</th>\n",
       "      <th></th>\n",
       "    </tr>\n",
       "  </thead>\n",
       "  <tbody>\n",
       "    <tr>\n",
       "      <td>Kolya (1996)</td>\n",
       "      <td>1.7879121</td>\n",
       "    </tr>\n",
       "    <tr>\n",
       "      <td>Heavyweights (1994)</td>\n",
       "      <td>1.7879121</td>\n",
       "    </tr>\n",
       "    <tr>\n",
       "      <td>Legends of the Fall (1994)</td>\n",
       "      <td>1.7879121</td>\n",
       "    </tr>\n",
       "    <tr>\n",
       "      <td>Dr. Strangelove or: How I Learned to Stop Worrying and Love the Bomb (1963)</td>\n",
       "      <td>1.7879121</td>\n",
       "    </tr>\n",
       "    <tr>\n",
       "      <td>Hunt for Red October, The (1990)</td>\n",
       "      <td>1.7879121</td>\n",
       "    </tr>\n",
       "    <tr>\n",
       "      <td>Jungle Book, The (1994)</td>\n",
       "      <td>1.7879121</td>\n",
       "    </tr>\n",
       "    <tr>\n",
       "      <td>Grease (1978)</td>\n",
       "      <td>1.7879121</td>\n",
       "    </tr>\n",
       "    <tr>\n",
       "      <td>Remains of the Day, The (1993)</td>\n",
       "      <td>1.7879121</td>\n",
       "    </tr>\n",
       "    <tr>\n",
       "      <td>Men in Black (1997)</td>\n",
       "      <td>1.7879121</td>\n",
       "    </tr>\n",
       "    <tr>\n",
       "      <td>Romy and Michele's High School Reunion (1997)</td>\n",
       "      <td>1.7879121</td>\n",
       "    </tr>\n",
       "  </tbody>\n",
       "</table>\n",
       "</div>"
      ],
      "text/plain": [
       "                                                      ratings\n",
       "movies                                                       \n",
       "Kolya (1996)                                        1.7879121\n",
       "Heavyweights (1994)                                 1.7879121\n",
       "Legends of the Fall (1994)                          1.7879121\n",
       "Dr. Strangelove or: How I Learned to Stop Worry...  1.7879121\n",
       "Hunt for Red October, The (1990)                    1.7879121\n",
       "Jungle Book, The (1994)                             1.7879121\n",
       "Grease (1978)                                       1.7879121\n",
       "Remains of the Day, The (1993)                      1.7879121\n",
       "Men in Black (1997)                                 1.7879121\n",
       "Romy and Michele's High School Reunion (1997)       1.7879121"
      ]
     },
     "execution_count": 433,
     "metadata": {},
     "output_type": "execute_result"
    }
   ],
   "source": [
    "user_id = 100\n",
    "pred = pred_user_rating(user_id)\n",
    "pred"
   ]
  },
  {
   "cell_type": "code",
   "execution_count": 434,
   "metadata": {},
   "outputs": [
    {
     "data": {
      "text/html": [
       "<div>\n",
       "<style scoped>\n",
       "    .dataframe tbody tr th:only-of-type {\n",
       "        vertical-align: middle;\n",
       "    }\n",
       "\n",
       "    .dataframe tbody tr th {\n",
       "        vertical-align: top;\n",
       "    }\n",
       "\n",
       "    .dataframe thead th {\n",
       "        text-align: right;\n",
       "    }\n",
       "</style>\n",
       "<table border=\"1\" class=\"dataframe\">\n",
       "  <thead>\n",
       "    <tr style=\"text-align: right;\">\n",
       "      <th></th>\n",
       "      <th>user_id</th>\n",
       "      <th>item_id</th>\n",
       "      <th>rating</th>\n",
       "      <th>timestamp</th>\n",
       "      <th>title</th>\n",
       "    </tr>\n",
       "  </thead>\n",
       "  <tbody>\n",
       "    <tr>\n",
       "      <td>133</td>\n",
       "      <td>100</td>\n",
       "      <td>302</td>\n",
       "      <td>4</td>\n",
       "      <td>891374528</td>\n",
       "      <td>L.A. Confidential (1997)</td>\n",
       "    </tr>\n",
       "    <tr>\n",
       "      <td>619</td>\n",
       "      <td>100</td>\n",
       "      <td>346</td>\n",
       "      <td>3</td>\n",
       "      <td>891375630</td>\n",
       "      <td>Jackie Brown (1997)</td>\n",
       "    </tr>\n",
       "    <tr>\n",
       "      <td>9854</td>\n",
       "      <td>100</td>\n",
       "      <td>288</td>\n",
       "      <td>2</td>\n",
       "      <td>891374603</td>\n",
       "      <td>Scream (1996)</td>\n",
       "    </tr>\n",
       "    <tr>\n",
       "      <td>11579</td>\n",
       "      <td>100</td>\n",
       "      <td>690</td>\n",
       "      <td>4</td>\n",
       "      <td>891375629</td>\n",
       "      <td>Seven Years in Tibet (1997)</td>\n",
       "    </tr>\n",
       "    <tr>\n",
       "      <td>15329</td>\n",
       "      <td>100</td>\n",
       "      <td>294</td>\n",
       "      <td>4</td>\n",
       "      <td>891375313</td>\n",
       "      <td>Liar Liar (1997)</td>\n",
       "    </tr>\n",
       "    <tr>\n",
       "      <td>16016</td>\n",
       "      <td>100</td>\n",
       "      <td>328</td>\n",
       "      <td>4</td>\n",
       "      <td>891375212</td>\n",
       "      <td>Conspiracy Theory (1997)</td>\n",
       "    </tr>\n",
       "    <tr>\n",
       "      <td>19300</td>\n",
       "      <td>100</td>\n",
       "      <td>750</td>\n",
       "      <td>4</td>\n",
       "      <td>891375016</td>\n",
       "      <td>Amistad (1997)</td>\n",
       "    </tr>\n",
       "    <tr>\n",
       "      <td>20941</td>\n",
       "      <td>100</td>\n",
       "      <td>272</td>\n",
       "      <td>4</td>\n",
       "      <td>891375629</td>\n",
       "      <td>Good Will Hunting (1997)</td>\n",
       "    </tr>\n",
       "    <tr>\n",
       "      <td>22111</td>\n",
       "      <td>100</td>\n",
       "      <td>268</td>\n",
       "      <td>3</td>\n",
       "      <td>891374982</td>\n",
       "      <td>Chasing Amy (1997)</td>\n",
       "    </tr>\n",
       "    <tr>\n",
       "      <td>23175</td>\n",
       "      <td>100</td>\n",
       "      <td>323</td>\n",
       "      <td>3</td>\n",
       "      <td>891375359</td>\n",
       "      <td>Dante's Peak (1997)</td>\n",
       "    </tr>\n",
       "    <tr>\n",
       "      <td>25313</td>\n",
       "      <td>100</td>\n",
       "      <td>258</td>\n",
       "      <td>4</td>\n",
       "      <td>891374675</td>\n",
       "      <td>Contact (1997)</td>\n",
       "    </tr>\n",
       "    <tr>\n",
       "      <td>29165</td>\n",
       "      <td>100</td>\n",
       "      <td>347</td>\n",
       "      <td>4</td>\n",
       "      <td>891375212</td>\n",
       "      <td>Wag the Dog (1997)</td>\n",
       "    </tr>\n",
       "    <tr>\n",
       "      <td>33056</td>\n",
       "      <td>100</td>\n",
       "      <td>344</td>\n",
       "      <td>4</td>\n",
       "      <td>891374868</td>\n",
       "      <td>Apostle, The (1997)</td>\n",
       "    </tr>\n",
       "    <tr>\n",
       "      <td>37977</td>\n",
       "      <td>100</td>\n",
       "      <td>321</td>\n",
       "      <td>1</td>\n",
       "      <td>891375112</td>\n",
       "      <td>Mother (1996)</td>\n",
       "    </tr>\n",
       "    <tr>\n",
       "      <td>39589</td>\n",
       "      <td>100</td>\n",
       "      <td>751</td>\n",
       "      <td>4</td>\n",
       "      <td>891374868</td>\n",
       "      <td>Tomorrow Never Dies (1997)</td>\n",
       "    </tr>\n",
       "    <tr>\n",
       "      <td>40072</td>\n",
       "      <td>100</td>\n",
       "      <td>879</td>\n",
       "      <td>4</td>\n",
       "      <td>891374946</td>\n",
       "      <td>Peacemaker, The (1997)</td>\n",
       "    </tr>\n",
       "    <tr>\n",
       "      <td>40368</td>\n",
       "      <td>100</td>\n",
       "      <td>271</td>\n",
       "      <td>3</td>\n",
       "      <td>891375260</td>\n",
       "      <td>Starship Troopers (1997)</td>\n",
       "    </tr>\n",
       "    <tr>\n",
       "      <td>40787</td>\n",
       "      <td>100</td>\n",
       "      <td>678</td>\n",
       "      <td>3</td>\n",
       "      <td>891375428</td>\n",
       "      <td>Volcano (1997)</td>\n",
       "    </tr>\n",
       "    <tr>\n",
       "      <td>41592</td>\n",
       "      <td>100</td>\n",
       "      <td>333</td>\n",
       "      <td>3</td>\n",
       "      <td>891374528</td>\n",
       "      <td>Game, The (1997)</td>\n",
       "    </tr>\n",
       "    <tr>\n",
       "      <td>42529</td>\n",
       "      <td>100</td>\n",
       "      <td>286</td>\n",
       "      <td>3</td>\n",
       "      <td>891375629</td>\n",
       "      <td>English Patient, The (1996)</td>\n",
       "    </tr>\n",
       "    <tr>\n",
       "      <td>47235</td>\n",
       "      <td>100</td>\n",
       "      <td>315</td>\n",
       "      <td>5</td>\n",
       "      <td>891375557</td>\n",
       "      <td>Apt Pupil (1998)</td>\n",
       "    </tr>\n",
       "    <tr>\n",
       "      <td>48071</td>\n",
       "      <td>100</td>\n",
       "      <td>892</td>\n",
       "      <td>2</td>\n",
       "      <td>891375484</td>\n",
       "      <td>Flubber (1997)</td>\n",
       "    </tr>\n",
       "    <tr>\n",
       "      <td>51571</td>\n",
       "      <td>100</td>\n",
       "      <td>289</td>\n",
       "      <td>3</td>\n",
       "      <td>891375359</td>\n",
       "      <td>Evita (1996)</td>\n",
       "    </tr>\n",
       "    <tr>\n",
       "      <td>55293</td>\n",
       "      <td>100</td>\n",
       "      <td>900</td>\n",
       "      <td>4</td>\n",
       "      <td>891374832</td>\n",
       "      <td>Kundun (1997)</td>\n",
       "    </tr>\n",
       "    <tr>\n",
       "      <td>55367</td>\n",
       "      <td>100</td>\n",
       "      <td>905</td>\n",
       "      <td>3</td>\n",
       "      <td>891375630</td>\n",
       "      <td>Great Expectations (1998)</td>\n",
       "    </tr>\n",
       "    <tr>\n",
       "      <td>57736</td>\n",
       "      <td>100</td>\n",
       "      <td>292</td>\n",
       "      <td>2</td>\n",
       "      <td>891375146</td>\n",
       "      <td>Rosewood (1997)</td>\n",
       "    </tr>\n",
       "    <tr>\n",
       "      <td>63968</td>\n",
       "      <td>100</td>\n",
       "      <td>269</td>\n",
       "      <td>4</td>\n",
       "      <td>891374641</td>\n",
       "      <td>Full Monty, The (1997)</td>\n",
       "    </tr>\n",
       "    <tr>\n",
       "      <td>66147</td>\n",
       "      <td>100</td>\n",
       "      <td>310</td>\n",
       "      <td>3</td>\n",
       "      <td>891375522</td>\n",
       "      <td>Rainmaker, The (1997)</td>\n",
       "    </tr>\n",
       "    <tr>\n",
       "      <td>69750</td>\n",
       "      <td>100</td>\n",
       "      <td>354</td>\n",
       "      <td>2</td>\n",
       "      <td>891375260</td>\n",
       "      <td>Wedding Singer, The (1998)</td>\n",
       "    </tr>\n",
       "    <tr>\n",
       "      <td>73468</td>\n",
       "      <td>100</td>\n",
       "      <td>355</td>\n",
       "      <td>4</td>\n",
       "      <td>891375313</td>\n",
       "      <td>Sphere (1998)</td>\n",
       "    </tr>\n",
       "    <tr>\n",
       "      <td>74972</td>\n",
       "      <td>100</td>\n",
       "      <td>316</td>\n",
       "      <td>5</td>\n",
       "      <td>891375313</td>\n",
       "      <td>As Good As It Gets (1997)</td>\n",
       "    </tr>\n",
       "    <tr>\n",
       "      <td>75443</td>\n",
       "      <td>100</td>\n",
       "      <td>908</td>\n",
       "      <td>1</td>\n",
       "      <td>891375068</td>\n",
       "      <td>Half Baked (1998)</td>\n",
       "    </tr>\n",
       "    <tr>\n",
       "      <td>76290</td>\n",
       "      <td>100</td>\n",
       "      <td>300</td>\n",
       "      <td>4</td>\n",
       "      <td>891375112</td>\n",
       "      <td>Air Force One (1997)</td>\n",
       "    </tr>\n",
       "    <tr>\n",
       "      <td>77534</td>\n",
       "      <td>100</td>\n",
       "      <td>898</td>\n",
       "      <td>4</td>\n",
       "      <td>891375454</td>\n",
       "      <td>Postman, The (1997)</td>\n",
       "    </tr>\n",
       "    <tr>\n",
       "      <td>79729</td>\n",
       "      <td>100</td>\n",
       "      <td>886</td>\n",
       "      <td>3</td>\n",
       "      <td>891375522</td>\n",
       "      <td>Life Less Ordinary, A (1997)</td>\n",
       "    </tr>\n",
       "    <tr>\n",
       "      <td>80568</td>\n",
       "      <td>100</td>\n",
       "      <td>313</td>\n",
       "      <td>5</td>\n",
       "      <td>891374706</td>\n",
       "      <td>Titanic (1997)</td>\n",
       "    </tr>\n",
       "    <tr>\n",
       "      <td>81777</td>\n",
       "      <td>100</td>\n",
       "      <td>874</td>\n",
       "      <td>1</td>\n",
       "      <td>891374868</td>\n",
       "      <td>Career Girls (1997)</td>\n",
       "    </tr>\n",
       "    <tr>\n",
       "      <td>82454</td>\n",
       "      <td>100</td>\n",
       "      <td>340</td>\n",
       "      <td>3</td>\n",
       "      <td>891374707</td>\n",
       "      <td>Boogie Nights (1997)</td>\n",
       "    </tr>\n",
       "    <tr>\n",
       "      <td>85260</td>\n",
       "      <td>100</td>\n",
       "      <td>990</td>\n",
       "      <td>3</td>\n",
       "      <td>891375428</td>\n",
       "      <td>Anna Karenina (1997)</td>\n",
       "    </tr>\n",
       "    <tr>\n",
       "      <td>86259</td>\n",
       "      <td>100</td>\n",
       "      <td>752</td>\n",
       "      <td>4</td>\n",
       "      <td>891375146</td>\n",
       "      <td>Replacement Killers, The (1998)</td>\n",
       "    </tr>\n",
       "    <tr>\n",
       "      <td>86597</td>\n",
       "      <td>100</td>\n",
       "      <td>880</td>\n",
       "      <td>1</td>\n",
       "      <td>891375260</td>\n",
       "      <td>Soul Food (1997)</td>\n",
       "    </tr>\n",
       "    <tr>\n",
       "      <td>87093</td>\n",
       "      <td>100</td>\n",
       "      <td>326</td>\n",
       "      <td>3</td>\n",
       "      <td>891375630</td>\n",
       "      <td>G.I. Jane (1997)</td>\n",
       "    </tr>\n",
       "    <tr>\n",
       "      <td>88422</td>\n",
       "      <td>100</td>\n",
       "      <td>895</td>\n",
       "      <td>2</td>\n",
       "      <td>891375212</td>\n",
       "      <td>Scream 2 (1997)</td>\n",
       "    </tr>\n",
       "    <tr>\n",
       "      <td>88928</td>\n",
       "      <td>100</td>\n",
       "      <td>689</td>\n",
       "      <td>3</td>\n",
       "      <td>891375212</td>\n",
       "      <td>Jackal, The (1997)</td>\n",
       "    </tr>\n",
       "    <tr>\n",
       "      <td>90227</td>\n",
       "      <td>100</td>\n",
       "      <td>266</td>\n",
       "      <td>2</td>\n",
       "      <td>891375484</td>\n",
       "      <td>Kull the Conqueror (1997)</td>\n",
       "    </tr>\n",
       "    <tr>\n",
       "      <td>91030</td>\n",
       "      <td>100</td>\n",
       "      <td>887</td>\n",
       "      <td>2</td>\n",
       "      <td>891374868</td>\n",
       "      <td>Eve's Bayou (1997)</td>\n",
       "    </tr>\n",
       "    <tr>\n",
       "      <td>91204</td>\n",
       "      <td>100</td>\n",
       "      <td>348</td>\n",
       "      <td>3</td>\n",
       "      <td>891375630</td>\n",
       "      <td>Desperate Measures (1998)</td>\n",
       "    </tr>\n",
       "    <tr>\n",
       "      <td>91281</td>\n",
       "      <td>100</td>\n",
       "      <td>270</td>\n",
       "      <td>3</td>\n",
       "      <td>891375016</td>\n",
       "      <td>Gattaca (1997)</td>\n",
       "    </tr>\n",
       "    <tr>\n",
       "      <td>92445</td>\n",
       "      <td>100</td>\n",
       "      <td>691</td>\n",
       "      <td>4</td>\n",
       "      <td>891375260</td>\n",
       "      <td>Dark City (1998)</td>\n",
       "    </tr>\n",
       "    <tr>\n",
       "      <td>95853</td>\n",
       "      <td>100</td>\n",
       "      <td>342</td>\n",
       "      <td>3</td>\n",
       "      <td>891375454</td>\n",
       "      <td>Man Who Knew Too Little, The (1997)</td>\n",
       "    </tr>\n",
       "    <tr>\n",
       "      <td>96622</td>\n",
       "      <td>100</td>\n",
       "      <td>349</td>\n",
       "      <td>3</td>\n",
       "      <td>891375629</td>\n",
       "      <td>Hard Rain (1998)</td>\n",
       "    </tr>\n",
       "    <tr>\n",
       "      <td>97626</td>\n",
       "      <td>100</td>\n",
       "      <td>881</td>\n",
       "      <td>1</td>\n",
       "      <td>891375186</td>\n",
       "      <td>Money Talks (1997)</td>\n",
       "    </tr>\n",
       "    <tr>\n",
       "      <td>98082</td>\n",
       "      <td>100</td>\n",
       "      <td>885</td>\n",
       "      <td>2</td>\n",
       "      <td>891375359</td>\n",
       "      <td>Phantoms (1998)</td>\n",
       "    </tr>\n",
       "    <tr>\n",
       "      <td>98217</td>\n",
       "      <td>100</td>\n",
       "      <td>1236</td>\n",
       "      <td>3</td>\n",
       "      <td>891375630</td>\n",
       "      <td>Other Voices, Other Rooms (1997)</td>\n",
       "    </tr>\n",
       "    <tr>\n",
       "      <td>99074</td>\n",
       "      <td>100</td>\n",
       "      <td>1237</td>\n",
       "      <td>3</td>\n",
       "      <td>891375630</td>\n",
       "      <td>Twisted (1996)</td>\n",
       "    </tr>\n",
       "    <tr>\n",
       "      <td>99120</td>\n",
       "      <td>100</td>\n",
       "      <td>1238</td>\n",
       "      <td>2</td>\n",
       "      <td>891375068</td>\n",
       "      <td>Full Speed (1996)</td>\n",
       "    </tr>\n",
       "    <tr>\n",
       "      <td>99265</td>\n",
       "      <td>100</td>\n",
       "      <td>1235</td>\n",
       "      <td>4</td>\n",
       "      <td>891375454</td>\n",
       "      <td>Big Bang Theory, The (1994)</td>\n",
       "    </tr>\n",
       "    <tr>\n",
       "      <td>99738</td>\n",
       "      <td>100</td>\n",
       "      <td>1234</td>\n",
       "      <td>1</td>\n",
       "      <td>891375068</td>\n",
       "      <td>Chairman of the Board (1998)</td>\n",
       "    </tr>\n",
       "    <tr>\n",
       "      <td>99781</td>\n",
       "      <td>100</td>\n",
       "      <td>1233</td>\n",
       "      <td>3</td>\n",
       "      <td>891375112</td>\n",
       "      <td>Nénette et Boni (1996)</td>\n",
       "    </tr>\n",
       "  </tbody>\n",
       "</table>\n",
       "</div>"
      ],
      "text/plain": [
       "       user_id  item_id  rating  timestamp  \\\n",
       "133        100      302       4  891374528   \n",
       "619        100      346       3  891375630   \n",
       "9854       100      288       2  891374603   \n",
       "11579      100      690       4  891375629   \n",
       "15329      100      294       4  891375313   \n",
       "16016      100      328       4  891375212   \n",
       "19300      100      750       4  891375016   \n",
       "20941      100      272       4  891375629   \n",
       "22111      100      268       3  891374982   \n",
       "23175      100      323       3  891375359   \n",
       "25313      100      258       4  891374675   \n",
       "29165      100      347       4  891375212   \n",
       "33056      100      344       4  891374868   \n",
       "37977      100      321       1  891375112   \n",
       "39589      100      751       4  891374868   \n",
       "40072      100      879       4  891374946   \n",
       "40368      100      271       3  891375260   \n",
       "40787      100      678       3  891375428   \n",
       "41592      100      333       3  891374528   \n",
       "42529      100      286       3  891375629   \n",
       "47235      100      315       5  891375557   \n",
       "48071      100      892       2  891375484   \n",
       "51571      100      289       3  891375359   \n",
       "55293      100      900       4  891374832   \n",
       "55367      100      905       3  891375630   \n",
       "57736      100      292       2  891375146   \n",
       "63968      100      269       4  891374641   \n",
       "66147      100      310       3  891375522   \n",
       "69750      100      354       2  891375260   \n",
       "73468      100      355       4  891375313   \n",
       "74972      100      316       5  891375313   \n",
       "75443      100      908       1  891375068   \n",
       "76290      100      300       4  891375112   \n",
       "77534      100      898       4  891375454   \n",
       "79729      100      886       3  891375522   \n",
       "80568      100      313       5  891374706   \n",
       "81777      100      874       1  891374868   \n",
       "82454      100      340       3  891374707   \n",
       "85260      100      990       3  891375428   \n",
       "86259      100      752       4  891375146   \n",
       "86597      100      880       1  891375260   \n",
       "87093      100      326       3  891375630   \n",
       "88422      100      895       2  891375212   \n",
       "88928      100      689       3  891375212   \n",
       "90227      100      266       2  891375484   \n",
       "91030      100      887       2  891374868   \n",
       "91204      100      348       3  891375630   \n",
       "91281      100      270       3  891375016   \n",
       "92445      100      691       4  891375260   \n",
       "95853      100      342       3  891375454   \n",
       "96622      100      349       3  891375629   \n",
       "97626      100      881       1  891375186   \n",
       "98082      100      885       2  891375359   \n",
       "98217      100     1236       3  891375630   \n",
       "99074      100     1237       3  891375630   \n",
       "99120      100     1238       2  891375068   \n",
       "99265      100     1235       4  891375454   \n",
       "99738      100     1234       1  891375068   \n",
       "99781      100     1233       3  891375112   \n",
       "\n",
       "                                     title  \n",
       "133               L.A. Confidential (1997)  \n",
       "619                    Jackie Brown (1997)  \n",
       "9854                         Scream (1996)  \n",
       "11579          Seven Years in Tibet (1997)  \n",
       "15329                     Liar Liar (1997)  \n",
       "16016             Conspiracy Theory (1997)  \n",
       "19300                       Amistad (1997)  \n",
       "20941             Good Will Hunting (1997)  \n",
       "22111                   Chasing Amy (1997)  \n",
       "23175                  Dante's Peak (1997)  \n",
       "25313                       Contact (1997)  \n",
       "29165                   Wag the Dog (1997)  \n",
       "33056                  Apostle, The (1997)  \n",
       "37977                        Mother (1996)  \n",
       "39589           Tomorrow Never Dies (1997)  \n",
       "40072               Peacemaker, The (1997)  \n",
       "40368             Starship Troopers (1997)  \n",
       "40787                       Volcano (1997)  \n",
       "41592                     Game, The (1997)  \n",
       "42529          English Patient, The (1996)  \n",
       "47235                     Apt Pupil (1998)  \n",
       "48071                       Flubber (1997)  \n",
       "51571                         Evita (1996)  \n",
       "55293                        Kundun (1997)  \n",
       "55367            Great Expectations (1998)  \n",
       "57736                      Rosewood (1997)  \n",
       "63968               Full Monty, The (1997)  \n",
       "66147                Rainmaker, The (1997)  \n",
       "69750           Wedding Singer, The (1998)  \n",
       "73468                        Sphere (1998)  \n",
       "74972            As Good As It Gets (1997)  \n",
       "75443                    Half Baked (1998)  \n",
       "76290                 Air Force One (1997)  \n",
       "77534                  Postman, The (1997)  \n",
       "79729         Life Less Ordinary, A (1997)  \n",
       "80568                       Titanic (1997)  \n",
       "81777                  Career Girls (1997)  \n",
       "82454                 Boogie Nights (1997)  \n",
       "85260                 Anna Karenina (1997)  \n",
       "86259      Replacement Killers, The (1998)  \n",
       "86597                     Soul Food (1997)  \n",
       "87093                     G.I. Jane (1997)  \n",
       "88422                      Scream 2 (1997)  \n",
       "88928                   Jackal, The (1997)  \n",
       "90227            Kull the Conqueror (1997)  \n",
       "91030                   Eve's Bayou (1997)  \n",
       "91204            Desperate Measures (1998)  \n",
       "91281                       Gattaca (1997)  \n",
       "92445                     Dark City (1998)  \n",
       "95853  Man Who Knew Too Little, The (1997)  \n",
       "96622                     Hard Rain (1998)  \n",
       "97626                   Money Talks (1997)  \n",
       "98082                      Phantoms (1998)  \n",
       "98217     Other Voices, Other Rooms (1997)  \n",
       "99074                       Twisted (1996)  \n",
       "99120                    Full Speed (1996)  \n",
       "99265          Big Bang Theory, The (1994)  \n",
       "99738         Chairman of the Board (1998)  \n",
       "99781               Nénette et Boni (1996)  "
      ]
     },
     "execution_count": 434,
     "metadata": {},
     "output_type": "execute_result"
    }
   ],
   "source": [
    "df[df['user_id']==100]"
   ]
  },
  {
   "cell_type": "code",
   "execution_count": 435,
   "metadata": {},
   "outputs": [],
   "source": [
    "def evaluate(user_id):\n",
    "    user_number = df[df['user_id']==user_id]\n",
    "    t = 0\n",
    "    for i in range(len(user_number)):\n",
    "        if user_number['title'].iloc[i] in pred.index:\n",
    "            t+=1\n",
    "    print(t)"
   ]
  },
  {
   "cell_type": "code",
   "execution_count": 436,
   "metadata": {},
   "outputs": [
    {
     "name": "stdout",
     "output_type": "stream",
     "text": [
      "0\n"
     ]
    }
   ],
   "source": [
    "evaluate(100)   "
   ]
  },
  {
   "cell_type": "markdown",
   "metadata": {},
   "source": [
    "# Sources\n",
    "https://course.fast.ai/videos/?lesson=4\n",
    "\n",
    "https://towardsdatascience.com/collaborative-filtering-with-fastai-3dbdd4ef4f00\n",
    "\n",
    "https://github.com/TannerGilbert/Tutorials/blob/master/FastAI/Book%20Recommendation%20System.ipynb\n",
    "\n",
    "https://medium.com/quantyca/deep-learning-for-collaborative-filtering-using-fastai-b28e197ccd59\n",
    "\n",
    "https://www.kaggle.com/abhikjha/movielens-fastai-collab\n",
    "\n",
    "https://blog.cambridgespark.com/nowadays-recommender-systems-are-used-to-personalize-your-experience-on-the-web-telling-you-what-120f39b89c3c"
   ]
  },
  {
   "cell_type": "code",
   "execution_count": null,
   "metadata": {},
   "outputs": [],
   "source": []
  },
  {
   "cell_type": "code",
   "execution_count": null,
   "metadata": {},
   "outputs": [],
   "source": []
  },
  {
   "cell_type": "code",
   "execution_count": null,
   "metadata": {},
   "outputs": [],
   "source": []
  }
 ],
 "metadata": {
  "kernelspec": {
   "display_name": "Python 3",
   "language": "python",
   "name": "python3"
  },
  "language_info": {
   "codemirror_mode": {
    "name": "ipython",
    "version": 3
   },
   "file_extension": ".py",
   "mimetype": "text/x-python",
   "name": "python",
   "nbconvert_exporter": "python",
   "pygments_lexer": "ipython3",
   "version": "3.7.4"
  }
 },
 "nbformat": 4,
 "nbformat_minor": 1
}
