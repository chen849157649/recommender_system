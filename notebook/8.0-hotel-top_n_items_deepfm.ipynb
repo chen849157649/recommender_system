{
 "cells": [
  {
   "cell_type": "markdown",
   "metadata": {},
   "source": [
    "# DeepFM Recommender System - Expedia Hotel dataset"
   ]
  },
  {
   "cell_type": "code",
   "execution_count": 1,
   "metadata": {},
   "outputs": [
    {
     "name": "stderr",
     "output_type": "stream",
     "text": [
      "/Users/yas/opt/anaconda3/lib/python3.7/site-packages/statsmodels/tools/_testing.py:19: FutureWarning: pandas.util.testing is deprecated. Use the functions in the public API at pandas.testing instead.\n",
      "  import pandas.util.testing as tm\n"
     ]
    }
   ],
   "source": [
    "import numpy as np\n",
    "import pandas as pd\n",
    "import matplotlib.pyplot as plt\n",
    "import seaborn as sns\n",
    "%matplotlib inline\n",
    "\n",
    "import tensorflow as tf\n",
    "import warnings\n",
    "import math\n",
    "from math import sqrt\n",
    "import sys\n",
    "import holidays\n",
    "import datetime\n",
    "\n",
    "from sklearn.metrics import roc_curve, auc,roc_auc_score\n",
    "from sklearn import metrics\n",
    "from sklearn.metrics import mean_squared_error,mean_absolute_error\n",
    "from sklearn.preprocessing import LabelEncoder, MinMaxScaler\n",
    "\n",
    "from sklearn.model_selection import train_test_split\n",
    "from sklearn.preprocessing import LabelEncoder\n",
    "\n",
    "from deepctr.inputs import build_input_features, get_linear_logit, input_from_feature_columns, combined_dnn_input\n",
    "from deepctr.layers.core import PredictionLayer, DNN\n",
    "from deepctr.layers.utils import add_func\n",
    "from deepctr.models import WDL, DeepFM\n",
    "from deepctr.inputs import SparseFeat,get_feature_names\n",
    "\n",
    "\n",
    "from tensorflow.python.keras.models import Model\n",
    "from tensorflow.python.keras.layers import Dense\n",
    "\n",
    "import scipy.sparse as sparse\n",
    "from scipy.sparse import csr_matrix\n",
    "from scipy.sparse import coo_matrix\n",
    "import implicit"
   ]
  },
  {
   "cell_type": "code",
   "execution_count": 2,
   "metadata": {},
   "outputs": [
    {
     "data": {
      "text/plain": [
       "(1500000, 24)"
      ]
     },
     "execution_count": 2,
     "metadata": {},
     "output_type": "execute_result"
    }
   ],
   "source": [
    "df = pd.read_csv('../data/hotel_data/train.csv', sep=',', nrows=1500000)\n",
    "destinations = pd.read_csv('../data/hotel_data/destinations.csv', sep=',')\n",
    "df.shape"
   ]
  },
  {
   "cell_type": "code",
   "execution_count": 3,
   "metadata": {},
   "outputs": [],
   "source": [
    "#merge only top 10 most correlated columns with rating column\n",
    "df = pd.merge(df,destinations[['srch_destination_id','d33', 'd64', 'd52', 'd120', 'd72', 'd136', 'd7', 'd59', 'd50', 'd30']],on='srch_destination_id')"
   ]
  },
  {
   "cell_type": "code",
   "execution_count": 4,
   "metadata": {},
   "outputs": [],
   "source": [
    "# rename 2 columns\n",
    "df = df.rename(columns={'hotel_cluster': 'item_id', 'is_booking': 'rating'})\n",
    "df = df.dropna()"
   ]
  },
  {
   "cell_type": "markdown",
   "metadata": {},
   "source": [
    "## Feature Engineering"
   ]
  },
  {
   "cell_type": "code",
   "execution_count": 5,
   "metadata": {},
   "outputs": [],
   "source": [
    "# sort values\n",
    "from pandas.tseries.offsets import Week\n",
    "df = df.sort_values(\"date_time\").reset_index()\n",
    "df.drop('index',axis=1,inplace=True)"
   ]
  },
  {
   "cell_type": "code",
   "execution_count": 6,
   "metadata": {},
   "outputs": [],
   "source": [
    "df[\"date_time\"] =  pd.to_datetime(df[\"date_time\"], infer_datetime_format=True)\n",
    "df[\"date_time\"] = df.date_time.dt.strftime('%Y-%m-%d')\n",
    "#df[\"date_time_timestamp\"] =  pd.to_datetime(df[\"date_time\"], infer_datetime_format=True)"
   ]
  },
  {
   "cell_type": "code",
   "execution_count": 7,
   "metadata": {},
   "outputs": [],
   "source": [
    "d = datetime.timedelta(days=14)\n",
    "df['lagged_date_time'] = df[\"date_time\"].apply(lambda x: datetime.datetime.strptime(x,\"%Y-%m-%d\") + d)\n",
    "\n",
    "def extract_week(feature,week,lag):\n",
    "    df[feature] =  pd.to_datetime(df[feature], infer_datetime_format=True)\n",
    "    df[feature] = df.date_time.dt.strftime('%Y-%m-%d')\n",
    "    if lag == True:\n",
    "        d = datetime.timedelta(days=14)\n",
    "        df['lag_date_time'] = df[feature].apply(lambda x: datetime.datetime.strptime(x,\"%Y-%m-%d\") + d)\n",
    "        df['week'] = pd.DatetimeIndex(df['lag_date_time']).week\n",
    "        df['year']=pd.DatetimeIndex(df['lag_date_time']).year\n",
    "        \n",
    "        # countinue week numbers for the next year\n",
    "        df[week] = df['week'].where(df['year'] ==2013 , df['week']+52)\n",
    "extract_week('date_time','click_week',lag=True)\n",
    "\n",
    "# extract month from date_time\n",
    "df['click_month'] = pd.DatetimeIndex(df['date_time']).month"
   ]
  },
  {
   "cell_type": "code",
   "execution_count": 8,
   "metadata": {},
   "outputs": [],
   "source": [
    "df['checkin_month'] = pd.DatetimeIndex(df['srch_ci']).month\n",
    "df['checkout_month'] = pd.DatetimeIndex(df['srch_co']).month\n",
    "\n",
    "df['checkin_year'] = pd.DatetimeIndex(df['srch_ci']).year\n",
    "df['checkout_year'] = pd.DatetimeIndex(df['srch_co']).year"
   ]
  },
  {
   "cell_type": "code",
   "execution_count": 9,
   "metadata": {},
   "outputs": [],
   "source": [
    "# Define holidays in some countries\n",
    "ca_holidays = holidays.Canada()\n",
    "us_holidays = holidays.UnitedStates()\n",
    "\n",
    "# check if checkin or checkout date is in holiday of different countries\n",
    "\n",
    "df['north_am_ci'] = df['srch_ci'].apply(lambda x: 1 if x in (us_holidays or ca_holidays)  else 0)\n",
    "df['north_am_co'] = df['srch_co'].apply(lambda x: 1 if x in (us_holidays or ca_holidays)  else 0)"
   ]
  },
  {
   "cell_type": "code",
   "execution_count": 10,
   "metadata": {},
   "outputs": [],
   "source": [
    "df= df.drop(['date_time'],axis=1)\n",
    "df= df.drop(['week'],axis=1)\n",
    "df= df.drop(['year'],axis=1)\n",
    "df= df.drop(['srch_ci'],axis=1)\n",
    "df= df.drop(['srch_co'],axis=1)\n",
    "df= df.drop(['lag_date_time'],axis=1)\n",
    "#df= df.drop(['date_time_timestamp'],axis=1)\n",
    "df= df.drop(['lagged_date_time'],axis=1)\n",
    "#df= df.drop(['num_visit'],axis=1)"
   ]
  },
  {
   "cell_type": "code",
   "execution_count": 11,
   "metadata": {},
   "outputs": [],
   "source": [
    "#Note that we add 1 to the raw count to prevent the logarithm from\n",
    "# exploding into negative infinity in case the count is zero.\n",
    "df['log_orig_destination_distance'] = np.log10(df['orig_destination_distance'] + 1)\n",
    "\n",
    "df= df.drop(['orig_destination_distance'],axis=1)"
   ]
  },
  {
   "cell_type": "code",
   "execution_count": 12,
   "metadata": {},
   "outputs": [],
   "source": [
    "from sklearn.cluster import KMeans\n",
    "def create_cluster(feature):\n",
    "    y = df[feature]\n",
    "    X = df.drop(feature,axis=1)\n",
    "    wcss=[]\n",
    "    for i in range(1,11):\n",
    "        kmeans = KMeans(n_clusters= i, init='k-means++', random_state=0)\n",
    "        kmeans.fit(X)\n",
    "        wcss.append(kmeans.inertia_)\n",
    "    plt.plot(range(1,11), wcss)\n",
    "    plt.title('The Elbow Method')\n",
    "    plt.xlabel('number of clusters')\n",
    "    plt.ylabel('wcss')\n",
    "    plt.show()"
   ]
  },
  {
   "cell_type": "code",
   "execution_count": 13,
   "metadata": {},
   "outputs": [],
   "source": [
    "X = df.drop(\"user_location_region\",axis=1)\n",
    "kmeansmodel = KMeans(n_clusters= 3, init='k-means++', random_state=0)\n",
    "y_kmeans= kmeansmodel.fit_predict(X)\n",
    "df['kmeans_user_location_region']=y_kmeans\n",
    "df= df.drop(['user_location_region'],axis=1)"
   ]
  },
  {
   "cell_type": "code",
   "execution_count": 14,
   "metadata": {},
   "outputs": [],
   "source": [
    "X = df.drop(\"user_location_city\",axis=1)\n",
    "kmeansmodel = KMeans(n_clusters= 3, init='k-means++', random_state=0)\n",
    "y_kmeans= kmeansmodel.fit_predict(X)\n",
    "df['kmeans_user_location_city']=y_kmeans\n",
    "df= df.drop(['user_location_city'],axis=1)"
   ]
  },
  {
   "cell_type": "code",
   "execution_count": 15,
   "metadata": {},
   "outputs": [],
   "source": [
    "condlist = [(df['srch_adults_cnt']==0) & (df['srch_children_cnt']==0),\n",
    "            (df['srch_adults_cnt']==2) & (df['srch_children_cnt']==0),\n",
    "            (df['srch_adults_cnt']==2) & (df['srch_children_cnt']==1),\n",
    "            (df['srch_adults_cnt']==2) & (df['srch_children_cnt']==2),\n",
    "           (df['srch_adults_cnt']==1) & (df['srch_children_cnt']==0),\n",
    "            (df['srch_adults_cnt']>1) & (df['srch_children_cnt']>0),\n",
    "           (df['srch_adults_cnt']==1) & (df['srch_children_cnt'] > 0),\n",
    "           (df['srch_adults_cnt']>2) & (df['srch_children_cnt'] == 0),\n",
    "           (df['srch_adults_cnt']==0) & (df['srch_children_cnt'] > 0)]\n",
    "\n",
    "choicelist = ['empty_room',\n",
    "                'couple_with_no_children',\n",
    "                'couple_with_one_child',\n",
    "                'couple_with_two_children',\n",
    "                'single',\n",
    "                'big_family',\n",
    "                'single_parent',\n",
    "                'friends',\n",
    "                'unsupervised_children']\n",
    "\n",
    "df['family_status'] = np.select(condlist,choicelist)"
   ]
  },
  {
   "cell_type": "code",
   "execution_count": 16,
   "metadata": {},
   "outputs": [],
   "source": [
    "#Convert the family_status into dummy variables\n",
    "dummies = pd.get_dummies(df['family_status'],drop_first=True)\n",
    "df= pd.concat( [df.drop('family_status',axis=1),dummies],axis=1)\n",
    "\n",
    "if \"unsupervised_children\" in df.columns:\n",
    "    df= df.drop(\"unsupervised_children\",axis=1)\n",
    "if \"empty_room\" in df.columns:\n",
    "    df= df.drop(\"empty_room\",axis=1)"
   ]
  },
  {
   "cell_type": "code",
   "execution_count": 17,
   "metadata": {},
   "outputs": [],
   "source": [
    "df['cnt'] = (df['cnt'] - df['cnt'].mean())/df['cnt'].std()"
   ]
  },
  {
   "cell_type": "markdown",
   "metadata": {},
   "source": [
    "# Define features"
   ]
  },
  {
   "cell_type": "code",
   "execution_count": 18,
   "metadata": {},
   "outputs": [],
   "source": [
    "# categ_sparse / conti_dense\n",
    "sparse_features = [\"site_name\", #ID of the Expedia point of sale (i.e. Expedia.com, Expedia.co.uk, Expedia.co.jp, …)\n",
    "\"posa_continent\", #ID of continent associated with site_name\n",
    "\"user_location_country\", #The ID of the country the customer is located\n",
    "\"kmeans_user_location_region\", #The ID of the region the customer is located clustered in 2 groups\n",
    "\"kmeans_user_location_city\", #The ID of the city the customer is located clustered in 2 groups\n",
    "\"user_id\", #ID of user\n",
    "\"is_mobile\", #1 when a user connected from a mobile device, 0 otherwise\n",
    "\"is_package\", #1 if the click/booking was generated as a part of a package (i.e. combined with a flight), 0 otherwise\n",
    "\"channel\", #ID of a marketing channel\n",
    "\"cnt\", #Numer of similar events in the context of the same user session\n",
    "\"srch_destination_id\", #ID of the destination where the hotel search was performed'\n",
    "\"srch_destination_type_id\", #Type of destination\n",
    "\"hotel_continent\", #'Hotel continent',\n",
    "\"hotel_country\", #Hotel country\n",
    "\"item_id\", #(hotel_cluster)ID of a hotel cluster\n",
    "\"north_am_ci\", # 1 if check-in date it's a holiday in north America\n",
    "\"north_am_co\",# 1 if check-out date it's a holiday in north America\n",
    "'hotel_market', #Hotel market\n",
    "'couple_with_no_children','couple_with_one_child','couple_with_two_children',\"friends\",\"single\",\"single_parent\",\n",
    "#hotel search latent attributes highly correlated with rating:\n",
    "'d33', 'd64','d52','d120', 'd72', 'd136', 'd7', 'd59', 'd50', 'd30'] \n",
    "\n",
    "dense_features = [\"srch_adults_cnt\", #The number of adults specified in the hotel room\n",
    "\"srch_children_cnt\", #The number of (extra occupancy) children specified in the hotel room\n",
    "\"srch_rm_cnt\", #The number of hotel rooms specified in the search\n",
    "'log_orig_destination_distance', # Log transformed physical distance between a hotel and a customer at the time of search\n",
    "\"click_week\",\n",
    "\"click_month\",\n",
    "\"checkin_month\",\n",
    "\"checkout_month\",\n",
    "\"checkin_year\",\n",
    "\"checkout_year\"]\n",
    "target = ['rating']"
   ]
  },
  {
   "cell_type": "markdown",
   "metadata": {},
   "source": [
    "### Simple preprocessing"
   ]
  },
  {
   "cell_type": "code",
   "execution_count": 19,
   "metadata": {},
   "outputs": [],
   "source": [
    "# Label Encoding for sparse features,and normalization for dense numerical features\n",
    "for feat in sparse_features:\n",
    "    lbe = LabelEncoder()\n",
    "    df[feat] = lbe.fit_transform(df[feat])"
   ]
  },
  {
   "cell_type": "code",
   "execution_count": 20,
   "metadata": {},
   "outputs": [],
   "source": [
    "mms = MinMaxScaler(feature_range=(0,1))\n",
    "df[dense_features] = mms.fit_transform(df[dense_features])"
   ]
  },
  {
   "cell_type": "markdown",
   "metadata": {},
   "source": [
    "### Generate feature columns\n",
    "For sparse features, we transform them into dense vectors by embedding techniques. For dense numerical features, we concatenate them to the input tensors of fully connected layer."
   ]
  },
  {
   "cell_type": "code",
   "execution_count": 21,
   "metadata": {},
   "outputs": [],
   "source": [
    "# count #unique features for each sparse field\n",
    "fixlen_feature_columns = [SparseFeat(feat, df[feat].nunique(),embedding_dim=4)\n",
    "                          for feat in sparse_features]\n",
    "linear_feature_columns = fixlen_feature_columns\n",
    "dnn_feature_columns = fixlen_feature_columns\n",
    "feature_names = get_feature_names(linear_feature_columns + dnn_feature_columns)"
   ]
  },
  {
   "cell_type": "markdown",
   "metadata": {},
   "source": [
    "### Generate the training samples and train the model"
   ]
  },
  {
   "cell_type": "code",
   "execution_count": 22,
   "metadata": {},
   "outputs": [],
   "source": [
    "# generate input data for model\n",
    "train, test = train_test_split(df, test_size=0.3)\n",
    "train_model_input = {name:train[name].values for name in feature_names}\n",
    "test_model_input = {name:test[name].values for name in feature_names}"
   ]
  },
  {
   "cell_type": "code",
   "execution_count": 23,
   "metadata": {},
   "outputs": [
    {
     "data": {
      "text/plain": [
       "((658258, 45), (282111, 45))"
      ]
     },
     "execution_count": 23,
     "metadata": {},
     "output_type": "execute_result"
    }
   ],
   "source": [
    "train.shape, test.shape"
   ]
  },
  {
   "cell_type": "markdown",
   "metadata": {},
   "source": [
    "# Best DeepFM Model after hyper-parameter tuning"
   ]
  },
  {
   "cell_type": "code",
   "execution_count": 24,
   "metadata": {
    "scrolled": true
   },
   "outputs": [
    {
     "name": "stdout",
     "output_type": "stream",
     "text": [
      "WARNING:tensorflow:From /Users/yas/opt/anaconda3/lib/python3.7/site-packages/tensorflow_core/python/keras/initializers.py:143: calling RandomNormal.__init__ (from tensorflow.python.ops.init_ops) with dtype is deprecated and will be removed in a future version.\n",
      "Instructions for updating:\n",
      "Call initializer instance with the dtype argument instead of passing it to the constructor\n",
      "WARNING:tensorflow:From /Users/yas/opt/anaconda3/lib/python3.7/site-packages/tensorflow_core/python/ops/resource_variable_ops.py:1630: calling BaseResourceVariable.__init__ (from tensorflow.python.ops.resource_variable_ops) with constraint is deprecated and will be removed in a future version.\n",
      "Instructions for updating:\n",
      "If using Keras pass *_constraint arguments to layers.\n",
      "WARNING:tensorflow:From /Users/yas/opt/anaconda3/lib/python3.7/site-packages/deepctr/layers/utils.py:163: calling reduce_sum_v1 (from tensorflow.python.ops.math_ops) with keep_dims is deprecated and will be removed in a future version.\n",
      "Instructions for updating:\n",
      "keep_dims is deprecated, use keepdims instead\n"
     ]
    }
   ],
   "source": [
    "model = DeepFM(linear_feature_columns, dnn_feature_columns, dnn_hidden_units=(128,128)\n",
    "            , init_std=0.0001, seed=1024, dnn_dropout=0.5, dnn_activation='relu',task='binary',\n",
    "               fm_group=['default_group'],dnn_use_bn=False)\n",
    "\n",
    "model.compile(\"adam\", \"mse\", metrics=['mse'])"
   ]
  },
  {
   "cell_type": "code",
   "execution_count": 25,
   "metadata": {},
   "outputs": [
    {
     "name": "stdout",
     "output_type": "stream",
     "text": [
      "Train on 526606 samples, validate on 131652 samples\n",
      "Epoch 1/10\n",
      "526606/526606 - 38s - loss: 0.0754 - mean_squared_error: 0.0736 - val_loss: 0.0745 - val_mean_squared_error: 0.0720\n",
      "Epoch 2/10\n",
      "526606/526606 - 37s - loss: 0.0725 - mean_squared_error: 0.0696 - val_loss: 0.0750 - val_mean_squared_error: 0.0722\n",
      "Epoch 3/10\n",
      "526606/526606 - 34s - loss: 0.0718 - mean_squared_error: 0.0686 - val_loss: 0.0757 - val_mean_squared_error: 0.0728\n",
      "Epoch 4/10\n",
      "526606/526606 - 28s - loss: 0.0713 - mean_squared_error: 0.0682 - val_loss: 0.0756 - val_mean_squared_error: 0.0726\n",
      "Epoch 5/10\n",
      "526606/526606 - 28s - loss: 0.0710 - mean_squared_error: 0.0678 - val_loss: 0.0756 - val_mean_squared_error: 0.0726\n",
      "Epoch 6/10\n",
      "526606/526606 - 28s - loss: 0.0707 - mean_squared_error: 0.0675 - val_loss: 0.0761 - val_mean_squared_error: 0.0730\n",
      "Epoch 7/10\n",
      "526606/526606 - 28s - loss: 0.0706 - mean_squared_error: 0.0672 - val_loss: 0.0760 - val_mean_squared_error: 0.0728\n",
      "Epoch 8/10\n",
      "526606/526606 - 28s - loss: 0.0705 - mean_squared_error: 0.0671 - val_loss: 0.0765 - val_mean_squared_error: 0.0732\n",
      "Epoch 9/10\n",
      "526606/526606 - 28s - loss: 0.0703 - mean_squared_error: 0.0668 - val_loss: 0.0767 - val_mean_squared_error: 0.0734\n",
      "Epoch 10/10\n",
      "526606/526606 - 28s - loss: 0.0701 - mean_squared_error: 0.0665 - val_loss: 0.0767 - val_mean_squared_error: 0.0733\n"
     ]
    }
   ],
   "source": [
    "history = model.fit(train_model_input, train[target].values,\n",
    "                        batch_size=256, epochs=10, verbose=2, validation_split=0.2, )"
   ]
  },
  {
   "cell_type": "code",
   "execution_count": 26,
   "metadata": {},
   "outputs": [],
   "source": [
    "pred_ans = model.predict(test_model_input, batch_size=256)"
   ]
  },
  {
   "cell_type": "code",
   "execution_count": 27,
   "metadata": {},
   "outputs": [
    {
     "name": "stdout",
     "output_type": "stream",
     "text": [
      "RMSE:\t0.270000\n",
      "MAE:\t0.134000\n",
      "MSE:\t0.073000\n",
      "AUC:\t0.784000\n"
     ]
    }
   ],
   "source": [
    "auc = roc_auc_score(test[target].values, pred_ans)\n",
    "print(\"RMSE:\\t%f\" % np.round(math.sqrt(mean_squared_error(test[target].values, pred_ans)),3),\n",
    "      \"MAE:\\t%f\" % np.round(mean_absolute_error(test[target].values, pred_ans),3),\n",
    "      \"MSE:\\t%f\" % np.round(mean_squared_error(test[target].values, pred_ans),3),\n",
    "      \"AUC:\\t%f\" % np.round(auc,3),\n",
    "      sep='\\n')"
   ]
  },
  {
   "cell_type": "code",
   "execution_count": 28,
   "metadata": {},
   "outputs": [],
   "source": [
    "warnings.filterwarnings(\"ignore\")\n",
    "new_df = test[['rating','item_id','user_id']]\n",
    "\n",
    "#replace the rating with algorithm generated output\n",
    "new_df['rating']=pred_ans"
   ]
  },
  {
   "cell_type": "code",
   "execution_count": 29,
   "metadata": {
    "scrolled": true
   },
   "outputs": [
    {
     "data": {
      "text/html": [
       "<div>\n",
       "<style scoped>\n",
       "    .dataframe tbody tr th:only-of-type {\n",
       "        vertical-align: middle;\n",
       "    }\n",
       "\n",
       "    .dataframe tbody tr th {\n",
       "        vertical-align: top;\n",
       "    }\n",
       "\n",
       "    .dataframe thead th {\n",
       "        text-align: right;\n",
       "    }\n",
       "</style>\n",
       "<table border=\"1\" class=\"dataframe\">\n",
       "  <thead>\n",
       "    <tr style=\"text-align: right;\">\n",
       "      <th></th>\n",
       "      <th>rating</th>\n",
       "      <th>item_id</th>\n",
       "      <th>user_id</th>\n",
       "    </tr>\n",
       "  </thead>\n",
       "  <tbody>\n",
       "    <tr>\n",
       "      <th>213374</th>\n",
       "      <td>0.142968</td>\n",
       "      <td>39</td>\n",
       "      <td>27471</td>\n",
       "    </tr>\n",
       "    <tr>\n",
       "      <th>149222</th>\n",
       "      <td>0.000025</td>\n",
       "      <td>73</td>\n",
       "      <td>12867</td>\n",
       "    </tr>\n",
       "    <tr>\n",
       "      <th>27514</th>\n",
       "      <td>0.252081</td>\n",
       "      <td>95</td>\n",
       "      <td>4537</td>\n",
       "    </tr>\n",
       "    <tr>\n",
       "      <th>559850</th>\n",
       "      <td>0.062676</td>\n",
       "      <td>56</td>\n",
       "      <td>13237</td>\n",
       "    </tr>\n",
       "    <tr>\n",
       "      <th>684066</th>\n",
       "      <td>0.189638</td>\n",
       "      <td>97</td>\n",
       "      <td>7674</td>\n",
       "    </tr>\n",
       "  </tbody>\n",
       "</table>\n",
       "</div>"
      ],
      "text/plain": [
       "          rating  item_id  user_id\n",
       "213374  0.142968       39    27471\n",
       "149222  0.000025       73    12867\n",
       "27514   0.252081       95     4537\n",
       "559850  0.062676       56    13237\n",
       "684066  0.189638       97     7674"
      ]
     },
     "execution_count": 29,
     "metadata": {},
     "output_type": "execute_result"
    }
   ],
   "source": [
    "new_df.head()"
   ]
  },
  {
   "cell_type": "markdown",
   "metadata": {},
   "source": [
    "### Create dataframe to store clusters"
   ]
  },
  {
   "cell_type": "code",
   "execution_count": 30,
   "metadata": {},
   "outputs": [],
   "source": [
    "hotel_df = pd.DataFrame(columns=['item_id','hotel_type'])\n",
    "hotel_df['item_id']=list(range(100))\n",
    "\n",
    "cluster = {\"apartment\":[5, 11, 22, 28,41, 56, 73],\n",
    "          'business_hotels':[ 64,69, 70, 97],\n",
    "          \"condo\":[3,8,36, 37, 55],\n",
    "          \"private_vacation_homes\":[ 4, 9, 21, 49, 75, 77],\n",
    "          \"motel\":[2,25,27, 95, 98],\n",
    "          \"beach_resort\":[0, 17, 26, 31, 34, 80, 84, 92],\n",
    "          \"casino_hotel\":[1, 19, 45, 54, 79,89, 93],\n",
    "          \"hotel_resort\":[52, 65, 66, 87, 96],\n",
    "          \"bed_n_breakfast\":[23, 39, 50, 51, 76],\n",
    "          \"hosetel\":[12, 20, 38, 53, 57, 60, 61, 85, 86]}"
   ]
  },
  {
   "cell_type": "markdown",
   "metadata": {},
   "source": [
    "### Store it on a dataframe"
   ]
  },
  {
   "cell_type": "code",
   "execution_count": 31,
   "metadata": {},
   "outputs": [],
   "source": [
    "warnings.filterwarnings(\"ignore\")\n",
    "for i in cluster.keys():\n",
    "    hotel_df['hotel_type'][cluster[i]]= i\n",
    "hotel_df.head(n=10)\n",
    "hotel_df = hotel_df.dropna().reset_index().drop('index',axis=1)"
   ]
  },
  {
   "cell_type": "code",
   "execution_count": null,
   "metadata": {},
   "outputs": [],
   "source": []
  },
  {
   "cell_type": "code",
   "execution_count": 32,
   "metadata": {},
   "outputs": [
    {
     "name": "stderr",
     "output_type": "stream",
     "text": [
      "WARNING:root:Intel MKL BLAS detected. Its highly recommend to set the environment variable 'export MKL_NUM_THREADS=1' to disable its internal multithreading\n"
     ]
    },
    {
     "data": {
      "application/vnd.jupyter.widget-view+json": {
       "model_id": "d6115f1faa9b4a2e8a0874680062ba1f",
       "version_major": 2,
       "version_minor": 0
      },
      "text/plain": [
       "HBox(children=(FloatProgress(value=0.0, max=20.0), HTML(value='')))"
      ]
     },
     "metadata": {},
     "output_type": "display_data"
    },
    {
     "name": "stdout",
     "output_type": "stream",
     "text": [
      "\n"
     ]
    }
   ],
   "source": [
    "#csr_matrix((data, (row, col))\n",
    "sparse_item_user = sparse.csr_matrix((new_df['rating'].astype(float),(new_df['item_id'], new_df['user_id'])))\n",
    "sparse_user_item = sparse.csr_matrix((new_df['rating'].astype(float),(new_df['user_id'], new_df['item_id'])))\n",
    "\n",
    "\n",
    "model = implicit.als.AlternatingLeastSquares(factors=20,regularization=0.1,iterations=20)\n",
    "alpha_val = 15\n",
    "data_conf = (sparse_item_user * alpha_val).astype('double')\n",
    "model.fit(data_conf)"
   ]
  },
  {
   "cell_type": "markdown",
   "metadata": {},
   "source": [
    "## Find similar clusters based on the results of DeepFM"
   ]
  },
  {
   "cell_type": "markdown",
   "metadata": {},
   "source": [
    "We can compare that if the results are similar with the defined following clusters "
   ]
  },
  {
   "cell_type": "code",
   "execution_count": 33,
   "metadata": {},
   "outputs": [
    {
     "data": {
      "text/plain": [
       "0    0\n",
       "Name: item_id, dtype: int64"
      ]
     },
     "execution_count": 33,
     "metadata": {},
     "output_type": "execute_result"
    }
   ],
   "source": [
    "hotel_df['item_id'][:1]\n"
   ]
  },
  {
   "cell_type": "code",
   "execution_count": 34,
   "metadata": {},
   "outputs": [],
   "source": [
    "def find_similar_clusters(item_id,n_similar):\n",
    "    similar = model.similar_items(item_id,n_similar)\n",
    "    return similar"
   ]
  },
  {
   "cell_type": "code",
   "execution_count": 35,
   "metadata": {},
   "outputs": [],
   "source": [
    "for i,x in enumerate(hotel_df['item_id'][:1]):\n",
    "    a = find_similar_clusters(x,10)\n",
    "    a_list=[]\n",
    "    for i in range(len(a)):\n",
    "        if a[i][0] not in hotel_df['item_id'].unique():\n",
    "            a_list.append(a[i][0])"
   ]
  },
  {
   "cell_type": "code",
   "execution_count": 36,
   "metadata": {},
   "outputs": [
    {
     "data": {
      "text/plain": [
       "[]"
      ]
     },
     "execution_count": 36,
     "metadata": {},
     "output_type": "execute_result"
    }
   ],
   "source": [
    "a_list"
   ]
  },
  {
   "cell_type": "code",
   "execution_count": 37,
   "metadata": {},
   "outputs": [
    {
     "data": {
      "text/plain": [
       "[(5, 0.9986916),\n",
       " (83, 0.6613542),\n",
       " (11, 0.61122227),\n",
       " (25, 0.5856495),\n",
       " (90, 0.45089),\n",
       " (47, 0.41762224),\n",
       " (29, 0.3743322),\n",
       " (93, 0.3367008),\n",
       " (73, 0.3354691),\n",
       " (75, 0.32569543)]"
      ]
     },
     "execution_count": 37,
     "metadata": {},
     "output_type": "execute_result"
    }
   ],
   "source": [
    "a = find_similar_clusters(5,10)\n",
    "a"
   ]
  },
  {
   "cell_type": "code",
   "execution_count": 38,
   "metadata": {},
   "outputs": [
    {
     "data": {
      "text/plain": [
       "[(0, 0.73556024),\n",
       " (96, 0.698922),\n",
       " (34, 0.67736465),\n",
       " (26, 0.6660772),\n",
       " (87, 0.6574121),\n",
       " (66, 0.65617114),\n",
       " (65, 0.65330756),\n",
       " (52, 0.65208405),\n",
       " (31, 0.6378538),\n",
       " (84, 0.6052376)]"
      ]
     },
     "execution_count": 38,
     "metadata": {},
     "output_type": "execute_result"
    }
   ],
   "source": [
    "b = find_similar_clusters(0,10)\n",
    "b"
   ]
  },
  {
   "cell_type": "code",
   "execution_count": 39,
   "metadata": {},
   "outputs": [],
   "source": [
    "tt = pd.DataFrame(a, columns =['item_id', 'Score'])"
   ]
  },
  {
   "cell_type": "code",
   "execution_count": 40,
   "metadata": {},
   "outputs": [],
   "source": [
    "csv_df = pd.DataFrame(columns= ['item_id','sim1','sim2','sim3'],\n",
    "                      index=range(len(hotel_df['item_id'].unique())))\n",
    "\n",
    "#find 25 similar clusters for each item_id in hotel_df\n",
    "for i,x in enumerate(hotel_df['item_id'].unique()):\n",
    "    a= find_similar_clusters(x,25)\n",
    "    #store them in a dataframe\n",
    "    tt = pd.DataFrame(a, columns =['item_id', 'Score'])\n",
    "    # keep only clusters that have different type with the current cluster\n",
    "    for j in range(len(tt)):\n",
    "        if tt['item_id'][j] in cluster[hotel_df['hotel_type'][i]]:\n",
    "            tt=tt.drop([j])\n",
    "    bb = tt.copy()\n",
    "    # keep the top 5\n",
    "    bb=bb.reset_index(drop=True)\n",
    "    # keep only clusters that are available in hotel_df\n",
    "    for k in range(len(bb)):\n",
    "        if bb['item_id'][k] not in hotel_df['item_id']:\n",
    "            bb=bb.drop([k])\n",
    "    cc = bb.copy()\n",
    "    cc= cc.reset_index(drop=True)\n",
    "    csv_df[\"item_id\"][i]=x\n",
    "    csv_df[\"sim1\"][i]=cc['item_id'][0]\n",
    "    csv_df[\"sim2\"][i]=cc['item_id'][1]\n",
    "    csv_df[\"sim3\"][i]=cc['item_id'][2]"
   ]
  },
  {
   "cell_type": "code",
   "execution_count": 41,
   "metadata": {},
   "outputs": [
    {
     "data": {
      "text/html": [
       "<div>\n",
       "<style scoped>\n",
       "    .dataframe tbody tr th:only-of-type {\n",
       "        vertical-align: middle;\n",
       "    }\n",
       "\n",
       "    .dataframe tbody tr th {\n",
       "        vertical-align: top;\n",
       "    }\n",
       "\n",
       "    .dataframe thead th {\n",
       "        text-align: right;\n",
       "    }\n",
       "</style>\n",
       "<table border=\"1\" class=\"dataframe\">\n",
       "  <thead>\n",
       "    <tr style=\"text-align: right;\">\n",
       "      <th></th>\n",
       "      <th>item_id</th>\n",
       "      <th>sim1</th>\n",
       "      <th>sim2</th>\n",
       "      <th>sim3</th>\n",
       "    </tr>\n",
       "  </thead>\n",
       "  <tbody>\n",
       "    <tr>\n",
       "      <th>0</th>\n",
       "      <td>0</td>\n",
       "      <td>52</td>\n",
       "      <td>44</td>\n",
       "      <td>21</td>\n",
       "    </tr>\n",
       "    <tr>\n",
       "      <th>1</th>\n",
       "      <td>1</td>\n",
       "      <td>24</td>\n",
       "      <td>49</td>\n",
       "      <td>51</td>\n",
       "    </tr>\n",
       "    <tr>\n",
       "      <th>2</th>\n",
       "      <td>2</td>\n",
       "      <td>47</td>\n",
       "      <td>9</td>\n",
       "      <td>11</td>\n",
       "    </tr>\n",
       "    <tr>\n",
       "      <th>3</th>\n",
       "      <td>3</td>\n",
       "      <td>53</td>\n",
       "      <td>30</td>\n",
       "      <td>35</td>\n",
       "    </tr>\n",
       "    <tr>\n",
       "      <th>4</th>\n",
       "      <td>4</td>\n",
       "      <td>13</td>\n",
       "      <td>19</td>\n",
       "      <td>11</td>\n",
       "    </tr>\n",
       "    <tr>\n",
       "      <th>...</th>\n",
       "      <td>...</td>\n",
       "      <td>...</td>\n",
       "      <td>...</td>\n",
       "      <td>...</td>\n",
       "    </tr>\n",
       "    <tr>\n",
       "      <th>56</th>\n",
       "      <td>93</td>\n",
       "      <td>3</td>\n",
       "      <td>27</td>\n",
       "      <td>44</td>\n",
       "    </tr>\n",
       "    <tr>\n",
       "      <th>57</th>\n",
       "      <td>95</td>\n",
       "      <td>18</td>\n",
       "      <td>5</td>\n",
       "      <td>19</td>\n",
       "    </tr>\n",
       "    <tr>\n",
       "      <th>58</th>\n",
       "      <td>96</td>\n",
       "      <td>0</td>\n",
       "      <td>34</td>\n",
       "      <td>26</td>\n",
       "    </tr>\n",
       "    <tr>\n",
       "      <th>59</th>\n",
       "      <td>97</td>\n",
       "      <td>58</td>\n",
       "      <td>38</td>\n",
       "      <td>46</td>\n",
       "    </tr>\n",
       "    <tr>\n",
       "      <th>60</th>\n",
       "      <td>98</td>\n",
       "      <td>56</td>\n",
       "      <td>41</td>\n",
       "      <td>19</td>\n",
       "    </tr>\n",
       "  </tbody>\n",
       "</table>\n",
       "<p>61 rows × 4 columns</p>\n",
       "</div>"
      ],
      "text/plain": [
       "   item_id sim1 sim2 sim3\n",
       "0        0   52   44   21\n",
       "1        1   24   49   51\n",
       "2        2   47    9   11\n",
       "3        3   53   30   35\n",
       "4        4   13   19   11\n",
       "..     ...  ...  ...  ...\n",
       "56      93    3   27   44\n",
       "57      95   18    5   19\n",
       "58      96    0   34   26\n",
       "59      97   58   38   46\n",
       "60      98   56   41   19\n",
       "\n",
       "[61 rows x 4 columns]"
      ]
     },
     "execution_count": 41,
     "metadata": {},
     "output_type": "execute_result"
    }
   ],
   "source": [
    "csv_df"
   ]
  },
  {
   "cell_type": "code",
   "execution_count": 42,
   "metadata": {},
   "outputs": [
    {
     "data": {
      "text/html": [
       "<div>\n",
       "<style scoped>\n",
       "    .dataframe tbody tr th:only-of-type {\n",
       "        vertical-align: middle;\n",
       "    }\n",
       "\n",
       "    .dataframe tbody tr th {\n",
       "        vertical-align: top;\n",
       "    }\n",
       "\n",
       "    .dataframe thead th {\n",
       "        text-align: right;\n",
       "    }\n",
       "</style>\n",
       "<table border=\"1\" class=\"dataframe\">\n",
       "  <thead>\n",
       "    <tr style=\"text-align: right;\">\n",
       "      <th></th>\n",
       "      <th>item_id</th>\n",
       "      <th>sim1</th>\n",
       "      <th>sim2</th>\n",
       "      <th>sim3</th>\n",
       "    </tr>\n",
       "  </thead>\n",
       "  <tbody>\n",
       "    <tr>\n",
       "      <th>0</th>\n",
       "      <td>0</td>\n",
       "      <td>52</td>\n",
       "      <td>44</td>\n",
       "      <td>21</td>\n",
       "    </tr>\n",
       "    <tr>\n",
       "      <th>1</th>\n",
       "      <td>1</td>\n",
       "      <td>24</td>\n",
       "      <td>49</td>\n",
       "      <td>51</td>\n",
       "    </tr>\n",
       "    <tr>\n",
       "      <th>2</th>\n",
       "      <td>2</td>\n",
       "      <td>47</td>\n",
       "      <td>9</td>\n",
       "      <td>11</td>\n",
       "    </tr>\n",
       "    <tr>\n",
       "      <th>3</th>\n",
       "      <td>3</td>\n",
       "      <td>53</td>\n",
       "      <td>30</td>\n",
       "      <td>35</td>\n",
       "    </tr>\n",
       "    <tr>\n",
       "      <th>4</th>\n",
       "      <td>4</td>\n",
       "      <td>13</td>\n",
       "      <td>19</td>\n",
       "      <td>11</td>\n",
       "    </tr>\n",
       "    <tr>\n",
       "      <th>5</th>\n",
       "      <td>5</td>\n",
       "      <td>25</td>\n",
       "      <td>47</td>\n",
       "      <td>29</td>\n",
       "    </tr>\n",
       "  </tbody>\n",
       "</table>\n",
       "</div>"
      ],
      "text/plain": [
       "  item_id sim1 sim2 sim3\n",
       "0       0   52   44   21\n",
       "1       1   24   49   51\n",
       "2       2   47    9   11\n",
       "3       3   53   30   35\n",
       "4       4   13   19   11\n",
       "5       5   25   47   29"
      ]
     },
     "execution_count": 42,
     "metadata": {},
     "output_type": "execute_result"
    }
   ],
   "source": [
    "csv_df.head(n=6)"
   ]
  },
  {
   "cell_type": "code",
   "execution_count": 43,
   "metadata": {},
   "outputs": [],
   "source": [
    "csv_df.to_csv(\"output.csv\", encoding='utf-8', index=False)"
   ]
  },
  {
   "cell_type": "markdown",
   "metadata": {},
   "source": [
    "### 1) apartment :[5, 11, 22, 28,41, 56, 73]"
   ]
  },
  {
   "cell_type": "code",
   "execution_count": 44,
   "metadata": {},
   "outputs": [],
   "source": [
    "a = find_similar_clusters(5,10)\n",
    "a_list=[]\n",
    "b_list=[]\n",
    "for i in range(len(a)):\n",
    "    if a[i][0] not in cluster['apartment']:\n",
    "        a_list.append(a[i][0])\n",
    "for x in a_list:\n",
    "    if x in hotel_df['item_id'].values:\n",
    "        b_list.append(hotel_df[hotel_df['item_id']==x]['hotel_type'].values)"
   ]
  },
  {
   "cell_type": "code",
   "execution_count": 45,
   "metadata": {},
   "outputs": [
    {
     "data": {
      "text/plain": [
       "[83, 25, 90, 47, 29, 93, 75]"
      ]
     },
     "execution_count": 45,
     "metadata": {},
     "output_type": "execute_result"
    }
   ],
   "source": [
    "a_list"
   ]
  },
  {
   "cell_type": "code",
   "execution_count": 46,
   "metadata": {},
   "outputs": [
    {
     "data": {
      "text/plain": [
       "[array(['motel'], dtype=object),\n",
       " array(['casino_hotel'], dtype=object),\n",
       " array(['private_vacation_homes'], dtype=object)]"
      ]
     },
     "execution_count": 46,
     "metadata": {},
     "output_type": "execute_result"
    }
   ],
   "source": [
    "b_list[:3]"
   ]
  },
  {
   "cell_type": "markdown",
   "metadata": {},
   "source": [
    "### 2) business_hotels:[ 64,69, 70, 97]"
   ]
  },
  {
   "cell_type": "code",
   "execution_count": 47,
   "metadata": {},
   "outputs": [
    {
     "name": "stdout",
     "output_type": "stream",
     "text": [
      "['motel']\n",
      "['casino_hotel']\n",
      "['private_vacation_homes']\n"
     ]
    }
   ],
   "source": [
    "b= find_similar_clusters(64,10)\n",
    "b_list=[]\n",
    "for i in range(len(a)):\n",
    "    if b[i][0] not in cluster['business_hotels']:\n",
    "        b_list.append(b[i][0])\n",
    "for x in a_list:\n",
    "    if x in hotel_df['item_id'].values:\n",
    "        print(hotel_df[hotel_df['item_id']==x]['hotel_type'].values)"
   ]
  },
  {
   "cell_type": "markdown",
   "metadata": {},
   "source": [
    "### 3) \"condo\":[3,8,36, 37, 55]"
   ]
  },
  {
   "cell_type": "code",
   "execution_count": 48,
   "metadata": {},
   "outputs": [
    {
     "name": "stdout",
     "output_type": "stream",
     "text": [
      "['hosetel']\n",
      "['hosetel']\n",
      "['casino_hotel']\n",
      "['hosetel']\n",
      "['hosetel']\n",
      "['hosetel']\n"
     ]
    }
   ],
   "source": [
    "a = find_similar_clusters(3,10)\n",
    "a_list=[]\n",
    "for i in range(len(a)):\n",
    "    if a[i][0] not in cluster['condo']:\n",
    "        a_list.append(a[i][0])\n",
    "for x in a_list:\n",
    "    if x in hotel_df['item_id'].values:\n",
    "        print(hotel_df[hotel_df['item_id']==x]['hotel_type'].values)"
   ]
  },
  {
   "cell_type": "markdown",
   "metadata": {},
   "source": [
    "### 4) \"private_vacation_homes\":[ 4, 9, 21, 49, 75, 77]"
   ]
  },
  {
   "cell_type": "code",
   "execution_count": 49,
   "metadata": {},
   "outputs": [
    {
     "name": "stdout",
     "output_type": "stream",
     "text": [
      "['condo']\n",
      "['hosetel']\n",
      "['hosetel']\n",
      "['casino_hotel']\n",
      "['hosetel']\n",
      "['hosetel']\n",
      "['hosetel']\n"
     ]
    }
   ],
   "source": [
    "a = find_similar_clusters(3,10)\n",
    "a_list=[]\n",
    "for i in range(len(a)):\n",
    "    if a[i][0] not in cluster['private_vacation_homes']:\n",
    "        a_list.append(a[i][0])\n",
    "for x in a_list:\n",
    "    if x in hotel_df['item_id'].values:\n",
    "        print(hotel_df[hotel_df['item_id']==x]['hotel_type'].values)"
   ]
  },
  {
   "cell_type": "markdown",
   "metadata": {},
   "source": [
    "### 5)\"motel\":[2,25,27, 95, 98]"
   ]
  },
  {
   "cell_type": "code",
   "execution_count": 50,
   "metadata": {},
   "outputs": [
    {
     "name": "stdout",
     "output_type": "stream",
     "text": [
      "['private_vacation_homes']\n",
      "['apartment']\n",
      "['bed_n_breakfast']\n"
     ]
    }
   ],
   "source": [
    "a = find_similar_clusters(2,10)\n",
    "a_list=[]\n",
    "for i in range(len(a)):\n",
    "    if a[i][0] not in cluster['motel']:\n",
    "        a_list.append(a[i][0])\n",
    "for x in a_list:\n",
    "    if x in hotel_df['item_id'].values:\n",
    "        print(hotel_df[hotel_df['item_id']==x]['hotel_type'].values)"
   ]
  },
  {
   "cell_type": "markdown",
   "metadata": {},
   "source": [
    "### 6) \"beach_resort\":[0, 17, 26, 31, 34, 80, 84, 92],\n",
    "         "
   ]
  },
  {
   "cell_type": "code",
   "execution_count": 51,
   "metadata": {},
   "outputs": [
    {
     "name": "stdout",
     "output_type": "stream",
     "text": [
      "['hotel_resort']\n",
      "['hotel_resort']\n",
      "['hotel_resort']\n",
      "['hotel_resort']\n",
      "['hotel_resort']\n"
     ]
    }
   ],
   "source": [
    "a = find_similar_clusters(0,10)\n",
    "a_list=[]\n",
    "for i in range(len(a)):\n",
    "    if a[i][0] not in cluster['beach_resort']:\n",
    "        a_list.append(a[i][0])\n",
    "for x in a_list:\n",
    "    if x in hotel_df['item_id'].values:\n",
    "        print(hotel_df[hotel_df['item_id']==x]['hotel_type'].values)"
   ]
  },
  {
   "cell_type": "markdown",
   "metadata": {},
   "source": [
    "### 7) \"casino_hotel\":[1, 19, 45, 54, 79,89, 93],"
   ]
  },
  {
   "cell_type": "code",
   "execution_count": 52,
   "metadata": {},
   "outputs": [
    {
     "name": "stdout",
     "output_type": "stream",
     "text": [
      "['private_vacation_homes']\n",
      "['bed_n_breakfast']\n"
     ]
    }
   ],
   "source": [
    "a = find_similar_clusters(1,10)\n",
    "a_list=[]\n",
    "for i in range(len(a)):\n",
    "    if a[i][0] not in cluster['casino_hotel']:\n",
    "        a_list.append(a[i][0])\n",
    "for x in a_list:\n",
    "    if x in hotel_df['item_id'].values:\n",
    "        print(hotel_df[hotel_df['item_id']==x]['hotel_type'].values)"
   ]
  },
  {
   "cell_type": "markdown",
   "metadata": {},
   "source": [
    "### 8) \"hotel_resort\":[52, 65, 66, 87, 96],\n"
   ]
  },
  {
   "cell_type": "code",
   "execution_count": 53,
   "metadata": {},
   "outputs": [
    {
     "name": "stdout",
     "output_type": "stream",
     "text": [
      "['beach_resort']\n",
      "['beach_resort']\n",
      "['beach_resort']\n",
      "['apartment']\n",
      "['beach_resort']\n"
     ]
    }
   ],
   "source": [
    "a = find_similar_clusters(52,10)\n",
    "a_list=[]\n",
    "for i in range(len(a)):\n",
    "    if a[i][0] not in cluster['hotel_resort']:\n",
    "        a_list.append(a[i][0])\n",
    "for x in a_list:\n",
    "    if x in hotel_df['item_id'].values:\n",
    "        print(hotel_df[hotel_df['item_id']==x]['hotel_type'].values)"
   ]
  },
  {
   "cell_type": "markdown",
   "metadata": {},
   "source": [
    "### 9)\"bed_n_breakfast\":[23, 39, 50, 51, 76],\n"
   ]
  },
  {
   "cell_type": "code",
   "execution_count": 54,
   "metadata": {},
   "outputs": [
    {
     "name": "stdout",
     "output_type": "stream",
     "text": [
      "['private_vacation_homes']\n",
      "['hosetel']\n"
     ]
    }
   ],
   "source": [
    "a = find_similar_clusters(23,10)\n",
    "a_list=[]\n",
    "for i in range(len(a)):\n",
    "    if a[i][0] not in cluster['bed_n_breakfast']:\n",
    "        a_list.append(a[i][0])\n",
    "for x in a_list:\n",
    "    if x in hotel_df['item_id'].values:\n",
    "        print(hotel_df[hotel_df['item_id']==x]['hotel_type'].values)"
   ]
  },
  {
   "cell_type": "markdown",
   "metadata": {},
   "source": [
    "### 10) \"hosetel\":[12, 20, 38, 53, 57, 60, 61, 85, 86]"
   ]
  },
  {
   "cell_type": "code",
   "execution_count": 55,
   "metadata": {},
   "outputs": [
    {
     "name": "stdout",
     "output_type": "stream",
     "text": [
      "['condo']\n",
      "['condo']\n"
     ]
    }
   ],
   "source": [
    "a = find_similar_clusters(12,10)\n",
    "a_list=[]\n",
    "for i in range(len(a)):\n",
    "    if a[i][0] not in cluster['hosetel']:\n",
    "        a_list.append(a[i][0])\n",
    "for x in a_list:\n",
    "    if x in hotel_df['item_id'].values:\n",
    "        print(hotel_df[hotel_df['item_id']==x]['hotel_type'].values)"
   ]
  },
  {
   "cell_type": "markdown",
   "metadata": {},
   "source": [
    "### 65 is in hotel_resort and the results have 4 out of 5 clusters in common"
   ]
  },
  {
   "cell_type": "code",
   "execution_count": 56,
   "metadata": {},
   "outputs": [],
   "source": [
    "a = find_similar_clusters(65,10)"
   ]
  },
  {
   "cell_type": "markdown",
   "metadata": {},
   "source": [
    "### 70 is in business_hotels and the results have 2 out of 5 clusters in common"
   ]
  },
  {
   "cell_type": "code",
   "execution_count": 57,
   "metadata": {},
   "outputs": [
    {
     "data": {
      "text/plain": [
       "[(70, 0.9828824),\n",
       " (56, 0.8358953),\n",
       " (98, 0.7379527),\n",
       " (41, 0.52802414),\n",
       " (69, 0.4185779),\n",
       " (37, 0.26818994)]"
      ]
     },
     "execution_count": 57,
     "metadata": {},
     "output_type": "execute_result"
    }
   ],
   "source": [
    "find_similar_clusters(70,6)"
   ]
  },
  {
   "cell_type": "markdown",
   "metadata": {},
   "source": [
    "### 4 is in private_vacation_homes and the results have 2 out of 5 clusters in common"
   ]
  },
  {
   "cell_type": "code",
   "execution_count": 58,
   "metadata": {
    "scrolled": true
   },
   "outputs": [
    {
     "data": {
      "text/plain": [
       "[(4, 0.903138),\n",
       " (83, 0.43959123),\n",
       " (13, 0.37228698),\n",
       " (19, 0.30119917),\n",
       " (49, 0.2873956),\n",
       " (11, 0.26796383)]"
      ]
     },
     "execution_count": 58,
     "metadata": {},
     "output_type": "execute_result"
    }
   ],
   "source": [
    "find_similar_clusters(4,6)"
   ]
  },
  {
   "cell_type": "markdown",
   "metadata": {},
   "source": [
    "## Recommend 5 hotel clusters to a user"
   ]
  },
  {
   "cell_type": "code",
   "execution_count": 59,
   "metadata": {},
   "outputs": [
    {
     "data": {
      "text/plain": [
       "[(40, 0.11947691),\n",
       " (39, 0.114687555),\n",
       " (65, 0.096853465),\n",
       " (77, 0.09677903),\n",
       " (26, 0.08109836),\n",
       " (51, 0.080432214),\n",
       " (0, 0.08021465),\n",
       " (76, 0.07629116),\n",
       " (34, 0.07572769),\n",
       " (96, 0.07480145)]"
      ]
     },
     "execution_count": 59,
     "metadata": {},
     "output_type": "execute_result"
    }
   ],
   "source": [
    "#Get Recommendations\n",
    "user_id =   800\n",
    "recommended = model.recommend(user_id, sparse_user_item)\n",
    "recommended"
   ]
  },
  {
   "cell_type": "code",
   "execution_count": 60,
   "metadata": {},
   "outputs": [],
   "source": [
    "recommended_df = pd.DataFrame(columns=['user_id','rec1','rec2','rec3','rec4','rec5'],\n",
    "                              index=range(len(new_df['user_id'][:5].unique())))\n"
   ]
  },
  {
   "cell_type": "code",
   "execution_count": 61,
   "metadata": {},
   "outputs": [],
   "source": [
    "for i,x in enumerate(new_df['user_id'][:5].unique()):\n",
    "    recommended = model.recommend(x, sparse_user_item)\n",
    "    recommended_df['user_id'].iloc[i]=x\n",
    "    recommended_df['rec1'].iloc[i]=recommended[0][0]\n",
    "    recommended_df['rec2'].iloc[i]=recommended[1][0]\n",
    "    recommended_df['rec3'].iloc[i]=recommended[2][0]\n",
    "    recommended_df['rec4'].iloc[i]=recommended[3][0]\n",
    "    recommended_df['rec5'].iloc[i]=recommended[4][0]"
   ]
  },
  {
   "cell_type": "code",
   "execution_count": 62,
   "metadata": {},
   "outputs": [
    {
     "data": {
      "text/html": [
       "<div>\n",
       "<style scoped>\n",
       "    .dataframe tbody tr th:only-of-type {\n",
       "        vertical-align: middle;\n",
       "    }\n",
       "\n",
       "    .dataframe tbody tr th {\n",
       "        vertical-align: top;\n",
       "    }\n",
       "\n",
       "    .dataframe thead th {\n",
       "        text-align: right;\n",
       "    }\n",
       "</style>\n",
       "<table border=\"1\" class=\"dataframe\">\n",
       "  <thead>\n",
       "    <tr style=\"text-align: right;\">\n",
       "      <th></th>\n",
       "      <th>user_id</th>\n",
       "      <th>rec1</th>\n",
       "      <th>rec2</th>\n",
       "      <th>rec3</th>\n",
       "      <th>rec4</th>\n",
       "      <th>rec5</th>\n",
       "    </tr>\n",
       "  </thead>\n",
       "  <tbody>\n",
       "    <tr>\n",
       "      <th>0</th>\n",
       "      <td>27471</td>\n",
       "      <td>40</td>\n",
       "      <td>76</td>\n",
       "      <td>41</td>\n",
       "      <td>9</td>\n",
       "      <td>23</td>\n",
       "    </tr>\n",
       "    <tr>\n",
       "      <th>1</th>\n",
       "      <td>12867</td>\n",
       "      <td>77</td>\n",
       "      <td>42</td>\n",
       "      <td>4</td>\n",
       "      <td>0</td>\n",
       "      <td>41</td>\n",
       "    </tr>\n",
       "    <tr>\n",
       "      <th>2</th>\n",
       "      <td>4537</td>\n",
       "      <td>18</td>\n",
       "      <td>6</td>\n",
       "      <td>50</td>\n",
       "      <td>83</td>\n",
       "      <td>5</td>\n",
       "    </tr>\n",
       "    <tr>\n",
       "      <th>3</th>\n",
       "      <td>13237</td>\n",
       "      <td>13</td>\n",
       "      <td>21</td>\n",
       "      <td>17</td>\n",
       "      <td>69</td>\n",
       "      <td>77</td>\n",
       "    </tr>\n",
       "    <tr>\n",
       "      <th>4</th>\n",
       "      <td>7674</td>\n",
       "      <td>46</td>\n",
       "      <td>22</td>\n",
       "      <td>67</td>\n",
       "      <td>41</td>\n",
       "      <td>86</td>\n",
       "    </tr>\n",
       "  </tbody>\n",
       "</table>\n",
       "</div>"
      ],
      "text/plain": [
       "  user_id rec1 rec2 rec3 rec4 rec5\n",
       "0   27471   40   76   41    9   23\n",
       "1   12867   77   42    4    0   41\n",
       "2    4537   18    6   50   83    5\n",
       "3   13237   13   21   17   69   77\n",
       "4    7674   46   22   67   41   86"
      ]
     },
     "execution_count": 62,
     "metadata": {},
     "output_type": "execute_result"
    }
   ],
   "source": [
    "recommended_df"
   ]
  }
 ],
 "metadata": {
  "kernelspec": {
   "display_name": "Python 3",
   "language": "python",
   "name": "python3"
  },
  "language_info": {
   "codemirror_mode": {
    "name": "ipython",
    "version": 3
   },
   "file_extension": ".py",
   "mimetype": "text/x-python",
   "name": "python",
   "nbconvert_exporter": "python",
   "pygments_lexer": "ipython3",
   "version": "3.7.4"
  }
 },
 "nbformat": 4,
 "nbformat_minor": 1
}
