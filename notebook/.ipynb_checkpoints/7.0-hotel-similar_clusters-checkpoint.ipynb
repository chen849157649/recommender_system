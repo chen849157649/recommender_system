{
 "cells": [
  {
   "cell_type": "markdown",
   "metadata": {},
   "source": [
    "# Collaborative Filtering Recommender System - Expedia Hotel dataset"
   ]
  },
  {
   "cell_type": "markdown",
   "metadata": {},
   "source": [
    "## Import Libraries"
   ]
  },
  {
   "cell_type": "code",
   "execution_count": 239,
   "metadata": {},
   "outputs": [],
   "source": [
    "import numpy as np\n",
    "import pandas as pd\n",
    "import matplotlib.pyplot as plt\n",
    "import seaborn as sns\n",
    "%matplotlib inline\n",
    "\n",
    "from sklearn.model_selection import train_test_split\n",
    "import warnings\n",
    "import implicit\n",
    "from scipy.sparse import coo_matrix\n",
    "import scipy.sparse as sparse\n",
    "\n",
    "import sys\n",
    "\n",
    "from sklearn.metrics import mean_squared_error\n",
    "from sklearn.metrics import mean_absolute_error\n",
    "from math import sqrt\n",
    "\n",
    "from scipy.sparse import csr_matrix\n",
    "from scipy.sparse import coo_matrix\n",
    "import implicit"
   ]
  },
  {
   "cell_type": "code",
   "execution_count": 240,
   "metadata": {},
   "outputs": [
    {
     "data": {
      "text/plain": [
       "(1000000, 24)"
      ]
     },
     "execution_count": 240,
     "metadata": {},
     "output_type": "execute_result"
    }
   ],
   "source": [
    "df = pd.read_csv('../data/hotel_data/train.csv', sep=',', nrows=1000000)\n",
    "df.shape"
   ]
  },
  {
   "cell_type": "code",
   "execution_count": 241,
   "metadata": {},
   "outputs": [],
   "source": [
    "# rename 2 columns\n",
    "df = df.rename(columns={'hotel_cluster': 'item_id', 'is_booking': 'rating'})"
   ]
  },
  {
   "cell_type": "markdown",
   "metadata": {},
   "source": [
    "### Remove rows with the same user_id and item_id but different rating"
   ]
  },
  {
   "cell_type": "code",
   "execution_count": 243,
   "metadata": {},
   "outputs": [],
   "source": [
    "max_rating = df.groupby(['user_id', 'item_id']).rating.transform(max)\n",
    "df = df.loc[df.rating == max_rating]\n",
    "df.drop_duplicates(keep='first',inplace=True) \n",
    "df= df.reset_index().drop('index',axis=1)"
   ]
  },
  {
   "cell_type": "code",
   "execution_count": 244,
   "metadata": {},
   "outputs": [
    {
     "data": {
      "text/plain": [
       "2047"
      ]
     },
     "execution_count": 244,
     "metadata": {},
     "output_type": "execute_result"
    }
   ],
   "source": [
    "len(df['hotel_market'].unique())"
   ]
  },
  {
   "cell_type": "markdown",
   "metadata": {},
   "source": [
    "## Assumptions:\n",
    "    \n",
    "site_name = 2 -> Expedia.com\n",
    "\n",
    "posa_continent = 3 -> America\n",
    "\n",
    "hotel_continent = 2 -> America\n",
    "\n",
    "hotel_continent = 6-> Europe\n",
    "\n",
    "user_location_country = 66 -> USA\n",
    "\n",
    "user_location_country = 205 -> Canada \n",
    "\n",
    "\n",
    "\n",
    "hotel_country = 50 -> USA\n",
    "\n",
    "hotel_country = 8  ->Mexico\n",
    "\n",
    "hotel_country=198->Canada\n",
    "\n",
    "hotel_country 70 ->UK\n",
    "\n",
    "hotel_country 204 ->France\n",
    "\n",
    "hotel_market 27 Paris\n",
    "\n",
    "hotel_market= 19-> London.\n",
    "\n",
    "hotel_market = 675 -> New York \n",
    "\n",
    "hotel_market = 701 -> Miami\n",
    "\n",
    "hotel_market 628 ->Las Vegas\n",
    "\n",
    "hotel_market 365 ->Los Angeles\n",
    "\n",
    "hotel_market 1230 ->San Francisco\n",
    "\n",
    "hotel_market 637 -> Chicago\n",
    "\n",
    "\n",
    "hotel_market = 212, 214, 213 -> paradise islands"
   ]
  },
  {
   "cell_type": "markdown",
   "metadata": {},
   "source": [
    "# Create dataframe to store clusters"
   ]
  },
  {
   "cell_type": "code",
   "execution_count": 283,
   "metadata": {},
   "outputs": [
    {
     "data": {
      "text/html": [
       "<div>\n",
       "<style scoped>\n",
       "    .dataframe tbody tr th:only-of-type {\n",
       "        vertical-align: middle;\n",
       "    }\n",
       "\n",
       "    .dataframe tbody tr th {\n",
       "        vertical-align: top;\n",
       "    }\n",
       "\n",
       "    .dataframe thead th {\n",
       "        text-align: right;\n",
       "    }\n",
       "</style>\n",
       "<table border=\"1\" class=\"dataframe\">\n",
       "  <thead>\n",
       "    <tr style=\"text-align: right;\">\n",
       "      <th></th>\n",
       "      <th>hotel_continent</th>\n",
       "      <th>hotel_country</th>\n",
       "      <th>hotel_market</th>\n",
       "      <th>item_id</th>\n",
       "    </tr>\n",
       "  </thead>\n",
       "  <tbody>\n",
       "    <tr>\n",
       "      <th>259</th>\n",
       "      <td>2</td>\n",
       "      <td>198</td>\n",
       "      <td>391</td>\n",
       "      <td>68</td>\n",
       "    </tr>\n",
       "    <tr>\n",
       "      <th>260</th>\n",
       "      <td>2</td>\n",
       "      <td>198</td>\n",
       "      <td>391</td>\n",
       "      <td>40</td>\n",
       "    </tr>\n",
       "    <tr>\n",
       "      <th>261</th>\n",
       "      <td>2</td>\n",
       "      <td>198</td>\n",
       "      <td>391</td>\n",
       "      <td>83</td>\n",
       "    </tr>\n",
       "    <tr>\n",
       "      <th>262</th>\n",
       "      <td>2</td>\n",
       "      <td>198</td>\n",
       "      <td>391</td>\n",
       "      <td>37</td>\n",
       "    </tr>\n",
       "    <tr>\n",
       "      <th>263</th>\n",
       "      <td>2</td>\n",
       "      <td>198</td>\n",
       "      <td>391</td>\n",
       "      <td>72</td>\n",
       "    </tr>\n",
       "    <tr>\n",
       "      <th>...</th>\n",
       "      <td>...</td>\n",
       "      <td>...</td>\n",
       "      <td>...</td>\n",
       "      <td>...</td>\n",
       "    </tr>\n",
       "    <tr>\n",
       "      <th>762284</th>\n",
       "      <td>2</td>\n",
       "      <td>198</td>\n",
       "      <td>399</td>\n",
       "      <td>10</td>\n",
       "    </tr>\n",
       "    <tr>\n",
       "      <th>762285</th>\n",
       "      <td>2</td>\n",
       "      <td>198</td>\n",
       "      <td>399</td>\n",
       "      <td>42</td>\n",
       "    </tr>\n",
       "    <tr>\n",
       "      <th>762324</th>\n",
       "      <td>2</td>\n",
       "      <td>198</td>\n",
       "      <td>399</td>\n",
       "      <td>9</td>\n",
       "    </tr>\n",
       "    <tr>\n",
       "      <th>762325</th>\n",
       "      <td>2</td>\n",
       "      <td>198</td>\n",
       "      <td>399</td>\n",
       "      <td>49</td>\n",
       "    </tr>\n",
       "    <tr>\n",
       "      <th>762444</th>\n",
       "      <td>2</td>\n",
       "      <td>198</td>\n",
       "      <td>401</td>\n",
       "      <td>70</td>\n",
       "    </tr>\n",
       "  </tbody>\n",
       "</table>\n",
       "<p>29427 rows × 4 columns</p>\n",
       "</div>"
      ],
      "text/plain": [
       "        hotel_continent  hotel_country  hotel_market  item_id\n",
       "259                   2            198           391       68\n",
       "260                   2            198           391       40\n",
       "261                   2            198           391       83\n",
       "262                   2            198           391       37\n",
       "263                   2            198           391       72\n",
       "...                 ...            ...           ...      ...\n",
       "762284                2            198           399       10\n",
       "762285                2            198           399       42\n",
       "762324                2            198           399        9\n",
       "762325                2            198           399       49\n",
       "762444                2            198           401       70\n",
       "\n",
       "[29427 rows x 4 columns]"
      ]
     },
     "execution_count": 283,
     "metadata": {},
     "output_type": "execute_result"
    }
   ],
   "source": [
    "df[df['hotel_country']==198][['hotel_continent' ,'hotel_country' ,'hotel_market' ,'item_id' ]]"
   ]
  },
  {
   "cell_type": "code",
   "execution_count": 245,
   "metadata": {},
   "outputs": [],
   "source": [
    "hotel_df = pd.DataFrame(columns=['item_id','hotel_name'])\n",
    "hotel_df['item_id']=list(range(100))\n",
    "cluster=[]"
   ]
  },
  {
   "cell_type": "markdown",
   "metadata": {},
   "source": [
    "### Check information of hotel_market \n",
    "Add until now: hotel_market = 212,213,214 , item_id = (0,26,34,73)"
   ]
  },
  {
   "cell_type": "code",
   "execution_count": 263,
   "metadata": {},
   "outputs": [
    {
     "data": {
      "text/html": [
       "<div>\n",
       "<style scoped>\n",
       "    .dataframe tbody tr th:only-of-type {\n",
       "        vertical-align: middle;\n",
       "    }\n",
       "\n",
       "    .dataframe tbody tr th {\n",
       "        vertical-align: top;\n",
       "    }\n",
       "\n",
       "    .dataframe thead th {\n",
       "        text-align: right;\n",
       "    }\n",
       "</style>\n",
       "<table border=\"1\" class=\"dataframe\">\n",
       "  <thead>\n",
       "    <tr style=\"text-align: right;\">\n",
       "      <th></th>\n",
       "      <th>hotel_continent</th>\n",
       "      <th>hotel_country</th>\n",
       "      <th>hotel_market</th>\n",
       "      <th>item_id</th>\n",
       "    </tr>\n",
       "  </thead>\n",
       "  <tbody>\n",
       "    <tr>\n",
       "      <th>58</th>\n",
       "      <td>2</td>\n",
       "      <td>50</td>\n",
       "      <td>214</td>\n",
       "      <td>28</td>\n",
       "    </tr>\n",
       "    <tr>\n",
       "      <th>59</th>\n",
       "      <td>2</td>\n",
       "      <td>50</td>\n",
       "      <td>214</td>\n",
       "      <td>73</td>\n",
       "    </tr>\n",
       "    <tr>\n",
       "      <th>60</th>\n",
       "      <td>2</td>\n",
       "      <td>50</td>\n",
       "      <td>214</td>\n",
       "      <td>26</td>\n",
       "    </tr>\n",
       "    <tr>\n",
       "      <th>61</th>\n",
       "      <td>2</td>\n",
       "      <td>50</td>\n",
       "      <td>214</td>\n",
       "      <td>28</td>\n",
       "    </tr>\n",
       "    <tr>\n",
       "      <th>5585</th>\n",
       "      <td>2</td>\n",
       "      <td>50</td>\n",
       "      <td>214</td>\n",
       "      <td>26</td>\n",
       "    </tr>\n",
       "    <tr>\n",
       "      <th>...</th>\n",
       "      <td>...</td>\n",
       "      <td>...</td>\n",
       "      <td>...</td>\n",
       "      <td>...</td>\n",
       "    </tr>\n",
       "    <tr>\n",
       "      <th>761343</th>\n",
       "      <td>2</td>\n",
       "      <td>50</td>\n",
       "      <td>214</td>\n",
       "      <td>84</td>\n",
       "    </tr>\n",
       "    <tr>\n",
       "      <th>761344</th>\n",
       "      <td>2</td>\n",
       "      <td>50</td>\n",
       "      <td>214</td>\n",
       "      <td>0</td>\n",
       "    </tr>\n",
       "    <tr>\n",
       "      <th>761345</th>\n",
       "      <td>2</td>\n",
       "      <td>50</td>\n",
       "      <td>214</td>\n",
       "      <td>26</td>\n",
       "    </tr>\n",
       "    <tr>\n",
       "      <th>761346</th>\n",
       "      <td>2</td>\n",
       "      <td>50</td>\n",
       "      <td>214</td>\n",
       "      <td>26</td>\n",
       "    </tr>\n",
       "    <tr>\n",
       "      <th>761347</th>\n",
       "      <td>2</td>\n",
       "      <td>50</td>\n",
       "      <td>214</td>\n",
       "      <td>84</td>\n",
       "    </tr>\n",
       "  </tbody>\n",
       "</table>\n",
       "<p>1488 rows × 4 columns</p>\n",
       "</div>"
      ],
      "text/plain": [
       "        hotel_continent  hotel_country  hotel_market  item_id\n",
       "58                    2             50           214       28\n",
       "59                    2             50           214       73\n",
       "60                    2             50           214       26\n",
       "61                    2             50           214       28\n",
       "5585                  2             50           214       26\n",
       "...                 ...            ...           ...      ...\n",
       "761343                2             50           214       84\n",
       "761344                2             50           214        0\n",
       "761345                2             50           214       26\n",
       "761346                2             50           214       26\n",
       "761347                2             50           214       84\n",
       "\n",
       "[1488 rows x 4 columns]"
      ]
     },
     "execution_count": 263,
     "metadata": {},
     "output_type": "execute_result"
    }
   ],
   "source": [
    "df[df['hotel_market']==214][['hotel_continent' ,'hotel_country' ,'hotel_market' ,'item_id' ]]"
   ]
  },
  {
   "cell_type": "markdown",
   "metadata": {},
   "source": [
    "## The most repeated number of item_id (hotel_cluster) with this hotel_market number"
   ]
  },
  {
   "cell_type": "code",
   "execution_count": 264,
   "metadata": {},
   "outputs": [
    {
     "data": {
      "text/plain": [
       "26    199\n",
       "73    190\n",
       "34    161\n",
       "0     157\n",
       "84    140\n",
       "28     67\n",
       "10     54\n",
       "59     49\n",
       "32     47\n",
       "92     46\n",
       "Name: item_id, dtype: int64"
      ]
     },
     "execution_count": 264,
     "metadata": {},
     "output_type": "execute_result"
    }
   ],
   "source": [
    "df[df['hotel_market']==214]['item_id'].value_counts()[:10]"
   ]
  },
  {
   "cell_type": "markdown",
   "metadata": {},
   "source": [
    "# Find Similar Hotel clusters"
   ]
  },
  {
   "cell_type": "code",
   "execution_count": 265,
   "metadata": {},
   "outputs": [
    {
     "data": {
      "application/vnd.jupyter.widget-view+json": {
       "model_id": "5f257eba3f7c48e094a89f6cc9de3581",
       "version_major": 2,
       "version_minor": 0
      },
      "text/plain": [
       "HBox(children=(FloatProgress(value=0.0, max=20.0), HTML(value='')))"
      ]
     },
     "metadata": {},
     "output_type": "display_data"
    },
    {
     "name": "stdout",
     "output_type": "stream",
     "text": [
      "\n"
     ]
    },
    {
     "data": {
      "text/plain": [
       "[(34, 0.46054688),\n",
       " (96, 0.3630649),\n",
       " (26, 0.2983222),\n",
       " (84, 0.2849912),\n",
       " (80, 0.2535136),\n",
       " (73, 0.25050712)]"
      ]
     },
     "execution_count": 265,
     "metadata": {},
     "output_type": "execute_result"
    }
   ],
   "source": [
    "#csr_matrix((data, (row, col))\n",
    "sparse_item_user = sparse.csr_matrix((df['rating'].astype(float),(df['item_id'], df['user_id'])))\n",
    "sparse_user_item = sparse.csr_matrix((df['rating'].astype(float),(df['user_id'], df['item_id'])))\n",
    "\n",
    "\n",
    "model = implicit.als.AlternatingLeastSquares(factors=20,regularization=0.1,iterations=20)\n",
    "alpha_val = 15\n",
    "data_conf = (sparse_item_user * alpha_val).astype('double')\n",
    "model.fit(data_conf)\n",
    "\n",
    "item_id = 34\n",
    "n_similar = 6\n",
    "similar = model.similar_items(item_id,n_similar)\n",
    "similar\n",
    "#for item in similar:\n",
    "#    idx,score = item\n",
    "#    print(df.item_id.loc[df.item_id == idx].iloc[0])"
   ]
  },
  {
   "cell_type": "code",
   "execution_count": 266,
   "metadata": {},
   "outputs": [],
   "source": [
    "for i in similar:\n",
    "    cluster.append(i[0])"
   ]
  },
  {
   "cell_type": "code",
   "execution_count": 285,
   "metadata": {},
   "outputs": [
    {
     "data": {
      "text/plain": [
       "{0, 17, 26, 31, 34, 66, 73, 80, 84, 87, 92, 96}"
      ]
     },
     "execution_count": 285,
     "metadata": {},
     "output_type": "execute_result"
    }
   ],
   "source": [
    "set(cluster)"
   ]
  },
  {
   "cell_type": "code",
   "execution_count": 272,
   "metadata": {},
   "outputs": [],
   "source": [
    "cluster_item_id_0_26_34_73 =[0,96,34,31,84,87,26,96,80,84,92,66,73,80,92,17,84,26,34,96,26,84,80,73]"
   ]
  },
  {
   "cell_type": "markdown",
   "metadata": {},
   "source": [
    "## Check this hotel cluster"
   ]
  },
  {
   "cell_type": "code",
   "execution_count": 279,
   "metadata": {},
   "outputs": [],
   "source": [
    "for i in cluster_item_id_0_26_34_73:\n",
    "    hotel_df['hotel_name'][i]=\"beach_resorts\"\n"
   ]
  },
  {
   "cell_type": "code",
   "execution_count": 280,
   "metadata": {},
   "outputs": [
    {
     "data": {
      "text/html": [
       "<div>\n",
       "<style scoped>\n",
       "    .dataframe tbody tr th:only-of-type {\n",
       "        vertical-align: middle;\n",
       "    }\n",
       "\n",
       "    .dataframe tbody tr th {\n",
       "        vertical-align: top;\n",
       "    }\n",
       "\n",
       "    .dataframe thead th {\n",
       "        text-align: right;\n",
       "    }\n",
       "</style>\n",
       "<table border=\"1\" class=\"dataframe\">\n",
       "  <thead>\n",
       "    <tr style=\"text-align: right;\">\n",
       "      <th></th>\n",
       "      <th>item_id</th>\n",
       "      <th>hotel_name</th>\n",
       "    </tr>\n",
       "  </thead>\n",
       "  <tbody>\n",
       "    <tr>\n",
       "      <th>0</th>\n",
       "      <td>0</td>\n",
       "      <td>beach_resorts</td>\n",
       "    </tr>\n",
       "    <tr>\n",
       "      <th>1</th>\n",
       "      <td>1</td>\n",
       "      <td>NaN</td>\n",
       "    </tr>\n",
       "    <tr>\n",
       "      <th>2</th>\n",
       "      <td>2</td>\n",
       "      <td>NaN</td>\n",
       "    </tr>\n",
       "    <tr>\n",
       "      <th>3</th>\n",
       "      <td>3</td>\n",
       "      <td>NaN</td>\n",
       "    </tr>\n",
       "    <tr>\n",
       "      <th>4</th>\n",
       "      <td>4</td>\n",
       "      <td>NaN</td>\n",
       "    </tr>\n",
       "    <tr>\n",
       "      <th>...</th>\n",
       "      <td>...</td>\n",
       "      <td>...</td>\n",
       "    </tr>\n",
       "    <tr>\n",
       "      <th>95</th>\n",
       "      <td>95</td>\n",
       "      <td>NaN</td>\n",
       "    </tr>\n",
       "    <tr>\n",
       "      <th>96</th>\n",
       "      <td>96</td>\n",
       "      <td>beach_resorts</td>\n",
       "    </tr>\n",
       "    <tr>\n",
       "      <th>97</th>\n",
       "      <td>97</td>\n",
       "      <td>NaN</td>\n",
       "    </tr>\n",
       "    <tr>\n",
       "      <th>98</th>\n",
       "      <td>98</td>\n",
       "      <td>NaN</td>\n",
       "    </tr>\n",
       "    <tr>\n",
       "      <th>99</th>\n",
       "      <td>99</td>\n",
       "      <td>NaN</td>\n",
       "    </tr>\n",
       "  </tbody>\n",
       "</table>\n",
       "<p>100 rows × 2 columns</p>\n",
       "</div>"
      ],
      "text/plain": [
       "    item_id     hotel_name\n",
       "0         0  beach_resorts\n",
       "1         1            NaN\n",
       "2         2            NaN\n",
       "3         3            NaN\n",
       "4         4            NaN\n",
       "..      ...            ...\n",
       "95       95            NaN\n",
       "96       96  beach_resorts\n",
       "97       97            NaN\n",
       "98       98            NaN\n",
       "99       99            NaN\n",
       "\n",
       "[100 rows x 2 columns]"
      ]
     },
     "execution_count": 280,
     "metadata": {},
     "output_type": "execute_result"
    }
   ],
   "source": [
    "hotel_df"
   ]
  }
 ],
 "metadata": {
  "kernelspec": {
   "display_name": "Python 3",
   "language": "python",
   "name": "python3"
  },
  "language_info": {
   "codemirror_mode": {
    "name": "ipython",
    "version": 3
   },
   "file_extension": ".py",
   "mimetype": "text/x-python",
   "name": "python",
   "nbconvert_exporter": "python",
   "pygments_lexer": "ipython3",
   "version": "3.7.4"
  }
 },
 "nbformat": 4,
 "nbformat_minor": 1
}
