{
 "cells": [
  {
   "cell_type": "markdown",
   "metadata": {},
   "source": [
    "# XDeepFM Recommender System - Expedia Hotel dataset"
   ]
  },
  {
   "cell_type": "markdown",
   "metadata": {},
   "source": [
    "## Import Libraries"
   ]
  },
  {
   "cell_type": "code",
   "execution_count": 1,
   "metadata": {},
   "outputs": [],
   "source": [
    "import numpy as np\n",
    "import pandas as pd\n",
    "import matplotlib.pyplot as plt\n",
    "import seaborn as sns\n",
    "%matplotlib inline\n",
    "\n",
    "import tensorflow as tf\n",
    "import warnings\n",
    "import math\n",
    "import sys\n",
    "import holidays\n",
    "\n",
    "from sklearn.metrics import roc_curve, auc\n",
    "from sklearn.metrics import roc_auc_score\n",
    "\n",
    "from sklearn import metrics\n",
    "\n",
    "from sklearn.metrics import mean_squared_error,r2_score\n",
    "from sklearn.metrics import mean_absolute_error\n",
    "from sklearn.preprocessing import LabelEncoder, MinMaxScaler\n",
    "from math import sqrt\n",
    "\n",
    "\n",
    "from tensorflow.python.keras.models import Model\n",
    "from tensorflow.python.keras.layers import Dense\n",
    "\n",
    "from deepctr.inputs import build_input_features, get_linear_logit, input_from_feature_columns, combined_dnn_input\n",
    "from deepctr.layers.core import PredictionLayer, DNN\n",
    "from deepctr.layers.utils import add_func\n",
    "from deepctr.models import xDeepFM\n",
    "\n",
    "\n",
    "from sklearn.metrics import mean_squared_error\n",
    "from sklearn.model_selection import train_test_split\n",
    "from sklearn.preprocessing import LabelEncoder\n",
    "\n",
    "from deepctr.inputs import SparseFeat,get_feature_names\n",
    "\n"
   ]
  },
  {
   "cell_type": "code",
   "execution_count": 2,
   "metadata": {},
   "outputs": [
    {
     "name": "stderr",
     "output_type": "stream",
     "text": [
      "WARNING:root:\n",
      "DeepCTR version 0.7.5 detected. Your version is 0.7.4.\n",
      "Use `pip install -U deepctr` to upgrade.Changelog: https://github.com/shenweichen/DeepCTR/releases/tag/v0.7.5\n"
     ]
    },
    {
     "data": {
      "text/plain": [
       "(200000, 24)"
      ]
     },
     "execution_count": 2,
     "metadata": {},
     "output_type": "execute_result"
    }
   ],
   "source": [
    "df = pd.read_csv('../data/hotel_data/train.csv', sep=',', nrows=200000)\n",
    "df.shape"
   ]
  },
  {
   "cell_type": "markdown",
   "metadata": {},
   "source": [
    "## Data Preprocessing"
   ]
  },
  {
   "cell_type": "code",
   "execution_count": 3,
   "metadata": {},
   "outputs": [
    {
     "data": {
      "text/html": [
       "<div>\n",
       "<style scoped>\n",
       "    .dataframe tbody tr th:only-of-type {\n",
       "        vertical-align: middle;\n",
       "    }\n",
       "\n",
       "    .dataframe tbody tr th {\n",
       "        vertical-align: top;\n",
       "    }\n",
       "\n",
       "    .dataframe thead th {\n",
       "        text-align: right;\n",
       "    }\n",
       "</style>\n",
       "<table border=\"1\" class=\"dataframe\">\n",
       "  <thead>\n",
       "    <tr style=\"text-align: right;\">\n",
       "      <th></th>\n",
       "      <th>date_time</th>\n",
       "      <th>site_name</th>\n",
       "      <th>posa_continent</th>\n",
       "      <th>user_location_country</th>\n",
       "      <th>user_location_region</th>\n",
       "      <th>user_location_city</th>\n",
       "      <th>orig_destination_distance</th>\n",
       "      <th>user_id</th>\n",
       "      <th>is_mobile</th>\n",
       "      <th>is_package</th>\n",
       "      <th>...</th>\n",
       "      <th>srch_children_cnt</th>\n",
       "      <th>srch_rm_cnt</th>\n",
       "      <th>srch_destination_id</th>\n",
       "      <th>srch_destination_type_id</th>\n",
       "      <th>is_booking</th>\n",
       "      <th>cnt</th>\n",
       "      <th>hotel_continent</th>\n",
       "      <th>hotel_country</th>\n",
       "      <th>hotel_market</th>\n",
       "      <th>hotel_cluster</th>\n",
       "    </tr>\n",
       "  </thead>\n",
       "  <tbody>\n",
       "    <tr>\n",
       "      <td>0</td>\n",
       "      <td>2014-08-11 07:46:59</td>\n",
       "      <td>2</td>\n",
       "      <td>3</td>\n",
       "      <td>66</td>\n",
       "      <td>348</td>\n",
       "      <td>48862</td>\n",
       "      <td>2234.2641</td>\n",
       "      <td>12</td>\n",
       "      <td>0</td>\n",
       "      <td>1</td>\n",
       "      <td>...</td>\n",
       "      <td>0</td>\n",
       "      <td>1</td>\n",
       "      <td>8250</td>\n",
       "      <td>1</td>\n",
       "      <td>0</td>\n",
       "      <td>3</td>\n",
       "      <td>2</td>\n",
       "      <td>50</td>\n",
       "      <td>628</td>\n",
       "      <td>1</td>\n",
       "    </tr>\n",
       "    <tr>\n",
       "      <td>1</td>\n",
       "      <td>2014-08-11 08:22:12</td>\n",
       "      <td>2</td>\n",
       "      <td>3</td>\n",
       "      <td>66</td>\n",
       "      <td>348</td>\n",
       "      <td>48862</td>\n",
       "      <td>2234.2641</td>\n",
       "      <td>12</td>\n",
       "      <td>0</td>\n",
       "      <td>1</td>\n",
       "      <td>...</td>\n",
       "      <td>0</td>\n",
       "      <td>1</td>\n",
       "      <td>8250</td>\n",
       "      <td>1</td>\n",
       "      <td>1</td>\n",
       "      <td>1</td>\n",
       "      <td>2</td>\n",
       "      <td>50</td>\n",
       "      <td>628</td>\n",
       "      <td>1</td>\n",
       "    </tr>\n",
       "  </tbody>\n",
       "</table>\n",
       "<p>2 rows × 24 columns</p>\n",
       "</div>"
      ],
      "text/plain": [
       "             date_time  site_name  posa_continent  user_location_country  \\\n",
       "0  2014-08-11 07:46:59          2               3                     66   \n",
       "1  2014-08-11 08:22:12          2               3                     66   \n",
       "\n",
       "   user_location_region  user_location_city  orig_destination_distance  \\\n",
       "0                   348               48862                  2234.2641   \n",
       "1                   348               48862                  2234.2641   \n",
       "\n",
       "   user_id  is_mobile  is_package  ...  srch_children_cnt srch_rm_cnt  \\\n",
       "0       12          0           1  ...                  0           1   \n",
       "1       12          0           1  ...                  0           1   \n",
       "\n",
       "  srch_destination_id  srch_destination_type_id  is_booking  cnt  \\\n",
       "0                8250                         1           0    3   \n",
       "1                8250                         1           1    1   \n",
       "\n",
       "   hotel_continent  hotel_country  hotel_market  hotel_cluster  \n",
       "0                2             50           628              1  \n",
       "1                2             50           628              1  \n",
       "\n",
       "[2 rows x 24 columns]"
      ]
     },
     "execution_count": 3,
     "metadata": {},
     "output_type": "execute_result"
    }
   ],
   "source": [
    "df.head(n=2)"
   ]
  },
  {
   "cell_type": "code",
   "execution_count": 4,
   "metadata": {},
   "outputs": [],
   "source": [
    "# rename 2 columns\n",
    "df = df.rename(columns={'hotel_cluster': 'item_id', 'is_booking': 'rating'})"
   ]
  },
  {
   "cell_type": "code",
   "execution_count": 5,
   "metadata": {},
   "outputs": [],
   "source": [
    "#Define an information dectionary for features\n",
    "info_dic = {'date_time':'Timestamp',\n",
    "'site_name':'ID of the Expedia point of sale (i.e. Expedia.com, Expedia.co.uk, Expedia.co.jp, …)',\n",
    "'posa_continent':'ID of continent associated with site_name',\n",
    "'user_location_country':'The ID of the country the customer is located',\n",
    "'user_location_region':'The ID of the region the customer is located',\n",
    "'user_location_city':'The ID of the city the customer is located',\n",
    "'orig_destination_distance':'Physical distance between a hotel and a customer at the time of search. A null means the distance could not be calculated',\n",
    "'user_id':'ID of user','is_mobile':'1 when a user connected from a mobile device, 0 otherwise',\n",
    "'is_package':'1 if the click/booking was generated as a part of a package (i.e. combined with a flight), 0 otherwise',\n",
    "'channel':'ID of a marketing channel',\n",
    "'srch_ci':'Checkin date','srch_co':'Checkout date',\n",
    "'srch_adults_cnt':'The number of adults specified in the hotel room',\n",
    "'srch_children_cnt':'The number of (extra occupancy) children specified in the hotel room',\n",
    "'srch_rm_cnt':'The number of hotel rooms specified in the search',\n",
    "'srch_destination_id':'ID of the destination where the hotel search was performed',\n",
    "'srch_destination_type_id':'Type of destination',\n",
    "'hotel_continent':'Hotel continent',\n",
    "'hotel_country':'Hotel country',\n",
    "'hotel_market':'Hotel market','rating':'(is_booking)1 if a booking, 0 if a click',\n",
    "'cnt':'Numer of similar events in the context of the same user session','item_id':'(hotel_cluster)ID of a hotel cluster'}"
   ]
  },
  {
   "cell_type": "code",
   "execution_count": 6,
   "metadata": {},
   "outputs": [
    {
     "data": {
      "text/plain": [
       "143"
      ]
     },
     "execution_count": 6,
     "metadata": {},
     "output_type": "execute_result"
    }
   ],
   "source": [
    "len(df['user_location_country'].unique())"
   ]
  },
  {
   "cell_type": "code",
   "execution_count": 7,
   "metadata": {},
   "outputs": [
    {
     "data": {
      "text/plain": [
       "('Checkin date', 'Checkout date')"
      ]
     },
     "execution_count": 7,
     "metadata": {},
     "output_type": "execute_result"
    }
   ],
   "source": [
    "info_dic['srch_ci'],info_dic['srch_co']"
   ]
  },
  {
   "cell_type": "code",
   "execution_count": 8,
   "metadata": {},
   "outputs": [
    {
     "name": "stdout",
     "output_type": "stream",
     "text": [
      "<class 'pandas.core.frame.DataFrame'>\n",
      "RangeIndex: 200000 entries, 0 to 199999\n",
      "Data columns (total 24 columns):\n",
      "date_time                    200000 non-null object\n",
      "site_name                    200000 non-null int64\n",
      "posa_continent               200000 non-null int64\n",
      "user_location_country        200000 non-null int64\n",
      "user_location_region         200000 non-null int64\n",
      "user_location_city           200000 non-null int64\n",
      "orig_destination_distance    130363 non-null float64\n",
      "user_id                      200000 non-null int64\n",
      "is_mobile                    200000 non-null int64\n",
      "is_package                   200000 non-null int64\n",
      "channel                      200000 non-null int64\n",
      "srch_ci                      199823 non-null object\n",
      "srch_co                      199823 non-null object\n",
      "srch_adults_cnt              200000 non-null int64\n",
      "srch_children_cnt            200000 non-null int64\n",
      "srch_rm_cnt                  200000 non-null int64\n",
      "srch_destination_id          200000 non-null int64\n",
      "srch_destination_type_id     200000 non-null int64\n",
      "rating                       200000 non-null int64\n",
      "cnt                          200000 non-null int64\n",
      "hotel_continent              200000 non-null int64\n",
      "hotel_country                200000 non-null int64\n",
      "hotel_market                 200000 non-null int64\n",
      "item_id                      200000 non-null int64\n",
      "dtypes: float64(1), int64(20), object(3)\n",
      "memory usage: 36.6+ MB\n"
     ]
    }
   ],
   "source": [
    "df.info()"
   ]
  },
  {
   "cell_type": "markdown",
   "metadata": {},
   "source": [
    "## Feature Engineering"
   ]
  },
  {
   "cell_type": "code",
   "execution_count": 9,
   "metadata": {},
   "outputs": [],
   "source": [
    "df= df.drop(['orig_destination_distance'],axis=1)\n",
    "df = df.dropna()"
   ]
  },
  {
   "cell_type": "code",
   "execution_count": 10,
   "metadata": {},
   "outputs": [
    {
     "name": "stdout",
     "output_type": "stream",
     "text": [
      "<class 'pandas.core.frame.DataFrame'>\n",
      "Int64Index: 199823 entries, 0 to 199999\n",
      "Data columns (total 23 columns):\n",
      "date_time                   199823 non-null object\n",
      "site_name                   199823 non-null int64\n",
      "posa_continent              199823 non-null int64\n",
      "user_location_country       199823 non-null int64\n",
      "user_location_region        199823 non-null int64\n",
      "user_location_city          199823 non-null int64\n",
      "user_id                     199823 non-null int64\n",
      "is_mobile                   199823 non-null int64\n",
      "is_package                  199823 non-null int64\n",
      "channel                     199823 non-null int64\n",
      "srch_ci                     199823 non-null object\n",
      "srch_co                     199823 non-null object\n",
      "srch_adults_cnt             199823 non-null int64\n",
      "srch_children_cnt           199823 non-null int64\n",
      "srch_rm_cnt                 199823 non-null int64\n",
      "srch_destination_id         199823 non-null int64\n",
      "srch_destination_type_id    199823 non-null int64\n",
      "rating                      199823 non-null int64\n",
      "cnt                         199823 non-null int64\n",
      "hotel_continent             199823 non-null int64\n",
      "hotel_country               199823 non-null int64\n",
      "hotel_market                199823 non-null int64\n",
      "item_id                     199823 non-null int64\n",
      "dtypes: int64(20), object(3)\n",
      "memory usage: 36.6+ MB\n"
     ]
    }
   ],
   "source": [
    "df.info()"
   ]
  },
  {
   "cell_type": "code",
   "execution_count": 11,
   "metadata": {},
   "outputs": [],
   "source": [
    "# Define holidays in some countries\n",
    "ca_holidays = holidays.Canada()\n",
    "us_holidays = holidays.UnitedStates()\n",
    "\n",
    "uk_holidays = holidays.UnitedKingdom()\n",
    "gr_holidays = holidays.Germany()"
   ]
  },
  {
   "cell_type": "code",
   "execution_count": null,
   "metadata": {},
   "outputs": [],
   "source": [
    "# check if checkin or checkout date is in holiday of different countries\n",
    "df['north_am_ci'] = df['srch_ci'].apply(lambda x: 1 if x in (us_holidays or ca_holidays)  else 0)\n",
    "df['north_am_co'] = df['srch_co'].apply(lambda x: 1 if x in (us_holidays or ca_holidays)  else 0)\n",
    "\n",
    "df['europe_ci'] = df['srch_ci'].apply(lambda x: 1 if x in (uk_holidays or gr_holidays)  else 0)\n",
    "df['europe_co'] = df['srch_co'].apply(lambda x: 1 if x in (uk_holidays or gr_holidays)  else 0)"
   ]
  },
  {
   "cell_type": "code",
   "execution_count": null,
   "metadata": {
    "scrolled": true
   },
   "outputs": [],
   "source": [
    "df.head(n=2)"
   ]
  },
  {
   "cell_type": "code",
   "execution_count": null,
   "metadata": {},
   "outputs": [],
   "source": [
    "# extract month from date_time\n",
    "df['click_month'] = pd.DatetimeIndex(df['date_time']).month\n",
    "df['checkin_month'] = pd.DatetimeIndex(df['srch_ci']).month\n",
    "df['checkout_month'] = pd.DatetimeIndex(df['srch_co']).month"
   ]
  },
  {
   "cell_type": "code",
   "execution_count": null,
   "metadata": {},
   "outputs": [],
   "source": [
    "df= df.drop(['date_time'],axis=1)\n",
    "df= df.drop(['srch_ci'],axis=1)\n",
    "df= df.drop(['srch_co'],axis=1)"
   ]
  },
  {
   "cell_type": "code",
   "execution_count": null,
   "metadata": {},
   "outputs": [],
   "source": [
    "df.shape"
   ]
  },
  {
   "cell_type": "code",
   "execution_count": null,
   "metadata": {},
   "outputs": [],
   "source": [
    "df.columns"
   ]
  },
  {
   "cell_type": "code",
   "execution_count": null,
   "metadata": {},
   "outputs": [],
   "source": [
    "# categ_sparse / conti_dense\n",
    "sparse_features = ['site_name','posa_continent','user_location_country','user_location_region','user_location_city',\n",
    "             'user_id','is_mobile','is_package','channel','click_month','checkin_month','checkout_month',\n",
    "            'srch_adults_cnt','srch_children_cnt','srch_rm_cnt','srch_destination_id','hotel_continent',\n",
    "               'hotel_country','cnt','north_am_ci', 'north_am_co', 'europe_ci', 'europe_co','click_month',\n",
    "                   'checkin_month','checkout_month']\n",
    "\n",
    "dense_features = ['hotel_market']\n",
    "target = ['rating']"
   ]
  },
  {
   "cell_type": "markdown",
   "metadata": {},
   "source": [
    "### Simple preprocessing"
   ]
  },
  {
   "cell_type": "code",
   "execution_count": null,
   "metadata": {},
   "outputs": [],
   "source": [
    "# Label Encoding for sparse features,and normalization for dense numerical features\n",
    "for feat in sparse_features:\n",
    "    lbe = LabelEncoder()\n",
    "    df[feat] = lbe.fit_transform(df[feat])"
   ]
  },
  {
   "cell_type": "code",
   "execution_count": null,
   "metadata": {},
   "outputs": [],
   "source": [
    "mms = MinMaxScaler(feature_range=(0,1))\n",
    "df[dense_features] = mms.fit_transform(df[dense_features])"
   ]
  },
  {
   "cell_type": "markdown",
   "metadata": {},
   "source": [
    "### Generate feature columns\n",
    "For sparse features, we transform them into dense vectors by embedding techniques. For dense numerical features, we concatenate them to the input tensors of fully connected layer."
   ]
  },
  {
   "cell_type": "code",
   "execution_count": null,
   "metadata": {},
   "outputs": [],
   "source": [
    "# count #unique features for each sparse field\n",
    "fixlen_feature_columns = [SparseFeat(feat, df[feat].nunique(),embedding_dim=4)\n",
    "                          for feat in sparse_features]\n",
    "linear_feature_columns = fixlen_feature_columns\n",
    "dnn_feature_columns = fixlen_feature_columns\n",
    "feature_names = get_feature_names(linear_feature_columns + dnn_feature_columns)"
   ]
  },
  {
   "cell_type": "markdown",
   "metadata": {},
   "source": [
    "### Generate the training samples and train the model"
   ]
  },
  {
   "cell_type": "code",
   "execution_count": null,
   "metadata": {},
   "outputs": [],
   "source": [
    "# generate input data for model\n",
    "train, test = train_test_split(df, test_size=0.2)\n",
    "train_model_input = {name:train[name].values for name in feature_names}\n",
    "test_model_input = {name:test[name].values for name in feature_names}"
   ]
  },
  {
   "cell_type": "markdown",
   "metadata": {},
   "source": [
    "# Model Before Hyper-Parameter Tuning"
   ]
  },
  {
   "cell_type": "code",
   "execution_count": 24,
   "metadata": {},
   "outputs": [
    {
     "name": "stdout",
     "output_type": "stream",
     "text": [
      "WARNING:tensorflow:From /Users/yas/opt/anaconda3/lib/python3.7/site-packages/tensorflow_core/python/keras/initializers.py:143: calling RandomNormal.__init__ (from tensorflow.python.ops.init_ops) with dtype is deprecated and will be removed in a future version.\n",
      "Instructions for updating:\n",
      "Call initializer instance with the dtype argument instead of passing it to the constructor\n",
      "WARNING:tensorflow:From /Users/yas/opt/anaconda3/lib/python3.7/site-packages/tensorflow_core/python/ops/resource_variable_ops.py:1630: calling BaseResourceVariable.__init__ (from tensorflow.python.ops.resource_variable_ops) with constraint is deprecated and will be removed in a future version.\n",
      "Instructions for updating:\n",
      "If using Keras pass *_constraint arguments to layers.\n",
      "WARNING:tensorflow:From /Users/yas/opt/anaconda3/lib/python3.7/site-packages/deepctr/layers/utils.py:163: calling reduce_sum_v1 (from tensorflow.python.ops.math_ops) with keep_dims is deprecated and will be removed in a future version.\n",
      "Instructions for updating:\n",
      "keep_dims is deprecated, use keepdims instead\n",
      "WARNING:tensorflow:From /Users/yas/opt/anaconda3/lib/python3.7/site-packages/tensorflow_core/python/ops/math_grad.py:1424: where (from tensorflow.python.ops.array_ops) is deprecated and will be removed in a future version.\n",
      "Instructions for updating:\n",
      "Use tf.where in 2.0, which has the same broadcast rule as np.where\n",
      "Train on 63954 samples, validate on 15989 samples\n",
      "Epoch 1/10\n",
      "63954/63954 - 22s - loss: 0.2699 - binary_crossentropy: 0.2697 - val_loss: 0.2432 - val_binary_crossentropy: 0.2428\n",
      "Epoch 2/10\n",
      "63954/63954 - 21s - loss: 0.2217 - binary_crossentropy: 0.2210 - val_loss: 0.2561 - val_binary_crossentropy: 0.2551\n",
      "Epoch 3/10\n",
      "63954/63954 - 21s - loss: 0.2069 - binary_crossentropy: 0.2056 - val_loss: 0.2685 - val_binary_crossentropy: 0.2669\n",
      "Epoch 4/10\n",
      "63954/63954 - 18s - loss: 0.1982 - binary_crossentropy: 0.1964 - val_loss: 0.2933 - val_binary_crossentropy: 0.2913\n",
      "Epoch 5/10\n",
      "63954/63954 - 18s - loss: 0.1924 - binary_crossentropy: 0.1902 - val_loss: 0.2902 - val_binary_crossentropy: 0.2879\n",
      "Epoch 6/10\n",
      "63954/63954 - 17s - loss: 0.1877 - binary_crossentropy: 0.1853 - val_loss: 0.3104 - val_binary_crossentropy: 0.3077\n",
      "Epoch 7/10\n",
      "63954/63954 - 17s - loss: 0.1841 - binary_crossentropy: 0.1814 - val_loss: 0.3321 - val_binary_crossentropy: 0.3292\n",
      "Epoch 8/10\n",
      "63954/63954 - 17s - loss: 0.1802 - binary_crossentropy: 0.1772 - val_loss: 0.3295 - val_binary_crossentropy: 0.3264\n",
      "Epoch 9/10\n",
      "63954/63954 - 16s - loss: 0.1754 - binary_crossentropy: 0.1723 - val_loss: 0.3578 - val_binary_crossentropy: 0.3546\n",
      "Epoch 10/10\n",
      "63954/63954 - 17s - loss: 0.1712 - binary_crossentropy: 0.1679 - val_loss: 0.3888 - val_binary_crossentropy: 0.3855\n"
     ]
    }
   ],
   "source": [
    "model = xDeepFM(linear_feature_columns,dnn_feature_columns,task='binary')\n",
    "model.compile(\"adam\", \"binary_crossentropy\",metrics=['binary_crossentropy'])\n",
    "\n",
    "history = model.fit(train_model_input, train[target].values,\n",
    "                    batch_size=256, epochs=10, verbose=2, validation_split=0.2, )\n",
    "pred_ans = model.predict(test_model_input, batch_size=256)"
   ]
  },
  {
   "cell_type": "code",
   "execution_count": 25,
   "metadata": {},
   "outputs": [
    {
     "name": "stdout",
     "output_type": "stream",
     "text": [
      "RMSE:\t0.293000\n",
      "MAE:\t0.141000\n",
      "MSE:\t0.086000\n",
      "AUC:\t0.705000\n"
     ]
    }
   ],
   "source": [
    "auc = roc_auc_score(test[target].values, pred_ans)\n",
    "\n",
    "print(\"RMSE:\\t%f\" % np.round(math.sqrt(mean_squared_error(test[target].values, pred_ans)),3),\n",
    "      \"MAE:\\t%f\" % np.round(mean_absolute_error(test[target].values, pred_ans),3),\n",
    "      \"MSE:\\t%f\" % np.round(mean_squared_error(test[target].values, pred_ans),3),\n",
    "      \"AUC:\\t%f\" % np.round(auc,3),\n",
    "      sep='\\n')"
   ]
  },
  {
   "cell_type": "markdown",
   "metadata": {},
   "source": [
    "# Random Search\n",
    "This is just a random search and the result might be more acuurate using methods like grid shearch."
   ]
  },
  {
   "cell_type": "code",
   "execution_count": 43,
   "metadata": {},
   "outputs": [],
   "source": [
    "param_rand = {'dnn_hidden_units' : [(1,1),(2,2),(4,4),(8,8),(29,29),(128,128),(256,256)],\n",
    "              'cin_layer_size':[(1,1),(2,2),(4,4),(8,8),(32,32),(128,128)],\n",
    "              'cin_split_half':[True,False],\n",
    "              'dnn_use_bn':[True,False],\n",
    "              'l2_reg_cin':[1e-7,1e-5,1e-3,1e-1,1],\n",
    "              'l2_reg_linear':[1e-5,1e-3,1e-1,1,10],\n",
    "              'l2_reg_embedding':[1e-7,1e-5,1e-3,1e-1,1],\n",
    "              'l2_reg_dnn':[0,0.2,2,4],\n",
    "              'dnn_dropout':[0, 0.3, 0.5, 0.7, 0.9]\n",
    "             }\n",
    "result = {}"
   ]
  },
  {
   "cell_type": "markdown",
   "metadata": {},
   "source": [
    "### dnn_hidden_units: list,list of positive integer or empty list, the layer number and units in each layer of DNN"
   ]
  },
  {
   "cell_type": "code",
   "execution_count": 27,
   "metadata": {
    "scrolled": true
   },
   "outputs": [
    {
     "name": "stdout",
     "output_type": "stream",
     "text": [
      "Train on 63954 samples, validate on 15989 samples\n",
      "Epoch 1/10\n",
      "63954/63954 - 20s - loss: 0.0796 - mean_squared_error: 0.0794 - val_loss: 0.0696 - val_mean_squared_error: 0.0692\n",
      "Epoch 2/10\n",
      "63954/63954 - 19s - loss: 0.0665 - mean_squared_error: 0.0659 - val_loss: 0.0710 - val_mean_squared_error: 0.0702\n",
      "Epoch 3/10\n",
      "63954/63954 - 17s - loss: 0.0632 - mean_squared_error: 0.0623 - val_loss: 0.0737 - val_mean_squared_error: 0.0727\n",
      "Epoch 4/10\n",
      "63954/63954 - 17s - loss: 0.0611 - mean_squared_error: 0.0600 - val_loss: 0.0748 - val_mean_squared_error: 0.0736\n",
      "Epoch 5/10\n",
      "63954/63954 - 16s - loss: 0.0594 - mean_squared_error: 0.0581 - val_loss: 0.0779 - val_mean_squared_error: 0.0766\n",
      "Epoch 6/10\n",
      "63954/63954 - 15s - loss: 0.0581 - mean_squared_error: 0.0568 - val_loss: 0.0793 - val_mean_squared_error: 0.0779\n",
      "Epoch 7/10\n",
      "63954/63954 - 21s - loss: 0.0571 - mean_squared_error: 0.0557 - val_loss: 0.0807 - val_mean_squared_error: 0.0792\n",
      "Epoch 8/10\n",
      "63954/63954 - 20s - loss: 0.0561 - mean_squared_error: 0.0546 - val_loss: 0.0819 - val_mean_squared_error: 0.0804\n",
      "Epoch 9/10\n",
      "63954/63954 - 18s - loss: 0.0553 - mean_squared_error: 0.0538 - val_loss: 0.0836 - val_mean_squared_error: 0.0821\n",
      "Epoch 10/10\n",
      "63954/63954 - 17s - loss: 0.0543 - mean_squared_error: 0.0528 - val_loss: 0.0857 - val_mean_squared_error: 0.0841\n",
      "Train on 63954 samples, validate on 15989 samples\n",
      "Epoch 1/10\n",
      "63954/63954 - 20s - loss: 0.0798 - mean_squared_error: 0.0796 - val_loss: 0.0697 - val_mean_squared_error: 0.0693\n",
      "Epoch 2/10\n",
      "63954/63954 - 17s - loss: 0.0663 - mean_squared_error: 0.0657 - val_loss: 0.0711 - val_mean_squared_error: 0.0704\n",
      "Epoch 3/10\n",
      "63954/63954 - 16s - loss: 0.0630 - mean_squared_error: 0.0621 - val_loss: 0.0727 - val_mean_squared_error: 0.0717\n",
      "Epoch 4/10\n",
      "63954/63954 - 20s - loss: 0.0608 - mean_squared_error: 0.0597 - val_loss: 0.0752 - val_mean_squared_error: 0.0741\n",
      "Epoch 5/10\n",
      "63954/63954 - 18s - loss: 0.0591 - mean_squared_error: 0.0579 - val_loss: 0.0771 - val_mean_squared_error: 0.0758\n",
      "Epoch 6/10\n",
      "63954/63954 - 18s - loss: 0.0577 - mean_squared_error: 0.0564 - val_loss: 0.0787 - val_mean_squared_error: 0.0774\n",
      "Epoch 7/10\n",
      "63954/63954 - 17s - loss: 0.0566 - mean_squared_error: 0.0552 - val_loss: 0.0810 - val_mean_squared_error: 0.0795\n",
      "Epoch 8/10\n",
      "63954/63954 - 16s - loss: 0.0553 - mean_squared_error: 0.0539 - val_loss: 0.0841 - val_mean_squared_error: 0.0826\n",
      "Epoch 9/10\n",
      "63954/63954 - 15s - loss: 0.0544 - mean_squared_error: 0.0529 - val_loss: 0.0843 - val_mean_squared_error: 0.0828\n",
      "Epoch 10/10\n",
      "63954/63954 - 16s - loss: 0.0535 - mean_squared_error: 0.0520 - val_loss: 0.0842 - val_mean_squared_error: 0.0826\n",
      "Train on 63954 samples, validate on 15989 samples\n",
      "Epoch 1/10\n",
      "63954/63954 - 20s - loss: 0.0805 - mean_squared_error: 0.0804 - val_loss: 0.0698 - val_mean_squared_error: 0.0695\n",
      "Epoch 2/10\n",
      "63954/63954 - 19s - loss: 0.0667 - mean_squared_error: 0.0662 - val_loss: 0.0706 - val_mean_squared_error: 0.0699\n",
      "Epoch 3/10\n",
      "63954/63954 - 19s - loss: 0.0626 - mean_squared_error: 0.0619 - val_loss: 0.0736 - val_mean_squared_error: 0.0727\n",
      "Epoch 4/10\n",
      "63954/63954 - 17s - loss: 0.0597 - mean_squared_error: 0.0588 - val_loss: 0.0757 - val_mean_squared_error: 0.0747\n",
      "Epoch 5/10\n",
      "63954/63954 - 18s - loss: 0.0576 - mean_squared_error: 0.0565 - val_loss: 0.0784 - val_mean_squared_error: 0.0772\n",
      "Epoch 6/10\n",
      "63954/63954 - 20s - loss: 0.0557 - mean_squared_error: 0.0545 - val_loss: 0.0815 - val_mean_squared_error: 0.0802\n",
      "Epoch 7/10\n",
      "63954/63954 - 15s - loss: 0.0542 - mean_squared_error: 0.0529 - val_loss: 0.0845 - val_mean_squared_error: 0.0831\n",
      "Epoch 8/10\n",
      "63954/63954 - 15s - loss: 0.0527 - mean_squared_error: 0.0514 - val_loss: 0.0832 - val_mean_squared_error: 0.0818\n",
      "Epoch 9/10\n",
      "63954/63954 - 16s - loss: 0.0515 - mean_squared_error: 0.0500 - val_loss: 0.0880 - val_mean_squared_error: 0.0865\n",
      "Epoch 10/10\n",
      "63954/63954 - 16s - loss: 0.0505 - mean_squared_error: 0.0491 - val_loss: 0.0899 - val_mean_squared_error: 0.0884\n",
      "Train on 63954 samples, validate on 15989 samples\n",
      "Epoch 1/10\n",
      "63954/63954 - 18s - loss: 0.0799 - mean_squared_error: 0.0798 - val_loss: 0.0702 - val_mean_squared_error: 0.0698\n",
      "Epoch 2/10\n",
      "63954/63954 - 16s - loss: 0.0665 - mean_squared_error: 0.0659 - val_loss: 0.0707 - val_mean_squared_error: 0.0700\n",
      "Epoch 3/10\n",
      "63954/63954 - 16s - loss: 0.0632 - mean_squared_error: 0.0624 - val_loss: 0.0733 - val_mean_squared_error: 0.0723\n",
      "Epoch 4/10\n",
      "63954/63954 - 16s - loss: 0.0607 - mean_squared_error: 0.0597 - val_loss: 0.0751 - val_mean_squared_error: 0.0740\n",
      "Epoch 5/10\n",
      "63954/63954 - 15s - loss: 0.0589 - mean_squared_error: 0.0577 - val_loss: 0.0777 - val_mean_squared_error: 0.0765\n",
      "Epoch 6/10\n",
      "63954/63954 - 16s - loss: 0.0575 - mean_squared_error: 0.0562 - val_loss: 0.0795 - val_mean_squared_error: 0.0781\n",
      "Epoch 7/10\n",
      "63954/63954 - 16s - loss: 0.0563 - mean_squared_error: 0.0550 - val_loss: 0.0808 - val_mean_squared_error: 0.0794\n",
      "Epoch 8/10\n",
      "63954/63954 - 16s - loss: 0.0553 - mean_squared_error: 0.0539 - val_loss: 0.0836 - val_mean_squared_error: 0.0821\n",
      "Epoch 9/10\n",
      "63954/63954 - 15s - loss: 0.0545 - mean_squared_error: 0.0530 - val_loss: 0.0826 - val_mean_squared_error: 0.0811\n",
      "Epoch 10/10\n",
      "63954/63954 - 16s - loss: 0.0536 - mean_squared_error: 0.0521 - val_loss: 0.0856 - val_mean_squared_error: 0.0840\n",
      "Train on 63954 samples, validate on 15989 samples\n",
      "Epoch 1/10\n",
      "63954/63954 - 19s - loss: 0.0791 - mean_squared_error: 0.0790 - val_loss: 0.0697 - val_mean_squared_error: 0.0694\n",
      "Epoch 2/10\n",
      "63954/63954 - 15s - loss: 0.0662 - mean_squared_error: 0.0657 - val_loss: 0.0706 - val_mean_squared_error: 0.0700\n",
      "Epoch 3/10\n",
      "63954/63954 - 16s - loss: 0.0628 - mean_squared_error: 0.0620 - val_loss: 0.0732 - val_mean_squared_error: 0.0723\n",
      "Epoch 4/10\n",
      "63954/63954 - 16s - loss: 0.0605 - mean_squared_error: 0.0595 - val_loss: 0.0765 - val_mean_squared_error: 0.0755\n",
      "Epoch 5/10\n",
      "63954/63954 - 16s - loss: 0.0589 - mean_squared_error: 0.0577 - val_loss: 0.0779 - val_mean_squared_error: 0.0768\n",
      "Epoch 6/10\n",
      "63954/63954 - 16s - loss: 0.0576 - mean_squared_error: 0.0564 - val_loss: 0.0824 - val_mean_squared_error: 0.0812\n",
      "Epoch 7/10\n",
      "63954/63954 - 15s - loss: 0.0566 - mean_squared_error: 0.0553 - val_loss: 0.0815 - val_mean_squared_error: 0.0801\n",
      "Epoch 8/10\n",
      "63954/63954 - 16s - loss: 0.0556 - mean_squared_error: 0.0542 - val_loss: 0.0825 - val_mean_squared_error: 0.0811\n",
      "Epoch 9/10\n",
      "63954/63954 - 16s - loss: 0.0547 - mean_squared_error: 0.0533 - val_loss: 0.0841 - val_mean_squared_error: 0.0827\n",
      "Epoch 10/10\n",
      "63954/63954 - 16s - loss: 0.0539 - mean_squared_error: 0.0524 - val_loss: 0.0837 - val_mean_squared_error: 0.0822\n",
      "Train on 63954 samples, validate on 15989 samples\n",
      "Epoch 1/10\n",
      "63954/63954 - 19s - loss: 0.0784 - mean_squared_error: 0.0783 - val_loss: 0.0698 - val_mean_squared_error: 0.0695\n",
      "Epoch 2/10\n",
      "63954/63954 - 16s - loss: 0.0659 - mean_squared_error: 0.0654 - val_loss: 0.0712 - val_mean_squared_error: 0.0705\n",
      "Epoch 3/10\n",
      "63954/63954 - 16s - loss: 0.0628 - mean_squared_error: 0.0620 - val_loss: 0.0733 - val_mean_squared_error: 0.0724\n",
      "Epoch 4/10\n",
      "63954/63954 - 16s - loss: 0.0606 - mean_squared_error: 0.0597 - val_loss: 0.0771 - val_mean_squared_error: 0.0760\n",
      "Epoch 5/10\n",
      "63954/63954 - 16s - loss: 0.0591 - mean_squared_error: 0.0580 - val_loss: 0.0786 - val_mean_squared_error: 0.0774\n",
      "Epoch 6/10\n",
      "63954/63954 - 16s - loss: 0.0580 - mean_squared_error: 0.0567 - val_loss: 0.0795 - val_mean_squared_error: 0.0783\n",
      "Epoch 7/10\n",
      "63954/63954 - 16s - loss: 0.0572 - mean_squared_error: 0.0559 - val_loss: 0.0816 - val_mean_squared_error: 0.0803\n",
      "Epoch 8/10\n",
      "63954/63954 - 17s - loss: 0.0563 - mean_squared_error: 0.0549 - val_loss: 0.0820 - val_mean_squared_error: 0.0805\n",
      "Epoch 9/10\n",
      "63954/63954 - 16s - loss: 0.0556 - mean_squared_error: 0.0542 - val_loss: 0.0834 - val_mean_squared_error: 0.0820\n",
      "Epoch 10/10\n",
      "63954/63954 - 16s - loss: 0.0549 - mean_squared_error: 0.0534 - val_loss: 0.0846 - val_mean_squared_error: 0.0831\n",
      "Train on 63954 samples, validate on 15989 samples\n",
      "Epoch 1/10\n",
      "63954/63954 - 20s - loss: 0.0772 - mean_squared_error: 0.0771 - val_loss: 0.0695 - val_mean_squared_error: 0.0692\n",
      "Epoch 2/10\n",
      "63954/63954 - 17s - loss: 0.0658 - mean_squared_error: 0.0654 - val_loss: 0.0709 - val_mean_squared_error: 0.0703\n",
      "Epoch 3/10\n",
      "63954/63954 - 16s - loss: 0.0627 - mean_squared_error: 0.0620 - val_loss: 0.0733 - val_mean_squared_error: 0.0725\n"
     ]
    },
    {
     "name": "stdout",
     "output_type": "stream",
     "text": [
      "Epoch 4/10\n",
      "63954/63954 - 16s - loss: 0.0605 - mean_squared_error: 0.0596 - val_loss: 0.0758 - val_mean_squared_error: 0.0748\n",
      "Epoch 5/10\n",
      "63954/63954 - 17s - loss: 0.0588 - mean_squared_error: 0.0578 - val_loss: 0.0780 - val_mean_squared_error: 0.0769\n",
      "Epoch 6/10\n",
      "63954/63954 - 16s - loss: 0.0576 - mean_squared_error: 0.0565 - val_loss: 0.0788 - val_mean_squared_error: 0.0776\n",
      "Epoch 7/10\n",
      "63954/63954 - 16s - loss: 0.0565 - mean_squared_error: 0.0553 - val_loss: 0.0799 - val_mean_squared_error: 0.0786\n",
      "Epoch 8/10\n",
      "63954/63954 - 16s - loss: 0.0554 - mean_squared_error: 0.0541 - val_loss: 0.0837 - val_mean_squared_error: 0.0823\n",
      "Epoch 9/10\n",
      "63954/63954 - 16s - loss: 0.0546 - mean_squared_error: 0.0532 - val_loss: 0.0860 - val_mean_squared_error: 0.0846\n",
      "Epoch 10/10\n",
      "63954/63954 - 16s - loss: 0.0537 - mean_squared_error: 0.0523 - val_loss: 0.0866 - val_mean_squared_error: 0.0851\n"
     ]
    }
   ],
   "source": [
    "dnn_hidden_units_dict = {}\n",
    "for i in param_rand['dnn_hidden_units']:\n",
    "    model = xDeepFM(linear_feature_columns,dnn_feature_columns, dnn_hidden_units=i, \n",
    "             init_std=0.0001, seed=1024,task='binary')\n",
    "    model.compile(\"adam\", \"mse\", metrics=['mse'])\n",
    "\n",
    "    history = model.fit(train_model_input, train[target].values,\n",
    "                            batch_size=256, epochs=10, verbose=2, validation_split=0.2, )\n",
    "    pred_ans = model.predict(test_model_input, batch_size=256)\n",
    "    \n",
    "    auc = roc_auc_score(test[target].values, pred_ans)\n",
    "    dnn_hidden_units_dict[i]={\"RMSE\": np.round(math.sqrt(mean_squared_error(test[target].values, pred_ans)),3),\n",
    "      \"MAE\" : np.round(mean_absolute_error(test[target].values, pred_ans),3),\n",
    "      \"MSE\" : np.round(mean_squared_error(test[target].values, pred_ans),3),\n",
    "      \"AUC\" : np.round(auc,3)}\n",
    "result['dnn_hidden_units']=dnn_hidden_units_dict"
   ]
  },
  {
   "cell_type": "code",
   "execution_count": 28,
   "metadata": {},
   "outputs": [
    {
     "data": {
      "text/plain": [
       "{(1, 1): {'RMSE': 0.29, 'MAE': 0.13, 'MSE': 0.084, 'AUC': 0.735},\n",
       " (2, 2): {'RMSE': 0.288, 'MAE': 0.132, 'MSE': 0.083, 'AUC': 0.74},\n",
       " (4, 4): {'RMSE': 0.297, 'MAE': 0.141, 'MSE': 0.088, 'AUC': 0.728},\n",
       " (8, 8): {'RMSE': 0.29, 'MAE': 0.133, 'MSE': 0.084, 'AUC': 0.742},\n",
       " (29, 29): {'RMSE': 0.288, 'MAE': 0.131, 'MSE': 0.083, 'AUC': 0.736},\n",
       " (128, 128): {'RMSE': 0.288, 'MAE': 0.133, 'MSE': 0.083, 'AUC': 0.744},\n",
       " (256, 256): {'RMSE': 0.292, 'MAE': 0.129, 'MSE': 0.085, 'AUC': 0.738}}"
      ]
     },
     "execution_count": 28,
     "metadata": {},
     "output_type": "execute_result"
    }
   ],
   "source": [
    "dnn_hidden_units_dict"
   ]
  },
  {
   "cell_type": "code",
   "execution_count": 47,
   "metadata": {},
   "outputs": [
    {
     "data": {
      "text/plain": [
       "{'RMSE': 0.286, 'MAE': 0.126, 'MSE': 0.082, 'AUC': 0.752}"
      ]
     },
     "execution_count": 47,
     "metadata": {},
     "output_type": "execute_result"
    }
   ],
   "source": [
    "dnn_hidden_units_dict[(128, 128)]"
   ]
  },
  {
   "cell_type": "markdown",
   "metadata": {},
   "source": [
    "### cin_layer_size – list,list of positive integer or empty list, the feature maps in each hidden layer of Compressed Interaction Network"
   ]
  },
  {
   "cell_type": "code",
   "execution_count": 39,
   "metadata": {
    "scrolled": true
   },
   "outputs": [
    {
     "name": "stdout",
     "output_type": "stream",
     "text": [
      "Train on 63954 samples, validate on 15989 samples\n",
      "Epoch 1/10\n",
      "63954/63954 - 13s - loss: 0.0792 - mean_squared_error: 0.0791 - val_loss: 0.0695 - val_mean_squared_error: 0.0692\n",
      "Epoch 2/10\n",
      "63954/63954 - 6s - loss: 0.0658 - mean_squared_error: 0.0654 - val_loss: 0.0707 - val_mean_squared_error: 0.0701\n",
      "Epoch 3/10\n",
      "63954/63954 - 6s - loss: 0.0625 - mean_squared_error: 0.0619 - val_loss: 0.0737 - val_mean_squared_error: 0.0729\n",
      "Epoch 4/10\n",
      "63954/63954 - 5s - loss: 0.0605 - mean_squared_error: 0.0596 - val_loss: 0.0752 - val_mean_squared_error: 0.0742\n",
      "Epoch 5/10\n",
      "63954/63954 - 5s - loss: 0.0589 - mean_squared_error: 0.0579 - val_loss: 0.0780 - val_mean_squared_error: 0.0769\n",
      "Epoch 6/10\n",
      "63954/63954 - 5s - loss: 0.0578 - mean_squared_error: 0.0566 - val_loss: 0.0783 - val_mean_squared_error: 0.0771\n",
      "Epoch 7/10\n",
      "63954/63954 - 5s - loss: 0.0568 - mean_squared_error: 0.0556 - val_loss: 0.0820 - val_mean_squared_error: 0.0807\n",
      "Epoch 8/10\n",
      "63954/63954 - 5s - loss: 0.0560 - mean_squared_error: 0.0547 - val_loss: 0.0826 - val_mean_squared_error: 0.0813\n",
      "Epoch 9/10\n",
      "63954/63954 - 5s - loss: 0.0552 - mean_squared_error: 0.0538 - val_loss: 0.0825 - val_mean_squared_error: 0.0811\n",
      "Epoch 10/10\n",
      "63954/63954 - 5s - loss: 0.0545 - mean_squared_error: 0.0531 - val_loss: 0.0864 - val_mean_squared_error: 0.0849\n",
      "Train on 63954 samples, validate on 15989 samples\n",
      "Epoch 1/10\n",
      "63954/63954 - 10s - loss: 0.0787 - mean_squared_error: 0.0786 - val_loss: 0.0699 - val_mean_squared_error: 0.0696\n",
      "Epoch 2/10\n",
      "63954/63954 - 5s - loss: 0.0659 - mean_squared_error: 0.0654 - val_loss: 0.0711 - val_mean_squared_error: 0.0705\n",
      "Epoch 3/10\n",
      "63954/63954 - 5s - loss: 0.0626 - mean_squared_error: 0.0619 - val_loss: 0.0728 - val_mean_squared_error: 0.0720\n",
      "Epoch 4/10\n",
      "63954/63954 - 5s - loss: 0.0605 - mean_squared_error: 0.0596 - val_loss: 0.0757 - val_mean_squared_error: 0.0747\n",
      "Epoch 5/10\n",
      "63954/63954 - 5s - loss: 0.0589 - mean_squared_error: 0.0579 - val_loss: 0.0790 - val_mean_squared_error: 0.0779\n",
      "Epoch 6/10\n",
      "63954/63954 - 6s - loss: 0.0579 - mean_squared_error: 0.0567 - val_loss: 0.0792 - val_mean_squared_error: 0.0780\n",
      "Epoch 7/10\n",
      "63954/63954 - 5s - loss: 0.0569 - mean_squared_error: 0.0557 - val_loss: 0.0800 - val_mean_squared_error: 0.0788\n",
      "Epoch 8/10\n",
      "63954/63954 - 7s - loss: 0.0563 - mean_squared_error: 0.0550 - val_loss: 0.0828 - val_mean_squared_error: 0.0815\n",
      "Epoch 9/10\n",
      "63954/63954 - 7s - loss: 0.0556 - mean_squared_error: 0.0542 - val_loss: 0.0816 - val_mean_squared_error: 0.0802\n",
      "Epoch 10/10\n",
      "63954/63954 - 5s - loss: 0.0548 - mean_squared_error: 0.0534 - val_loss: 0.0830 - val_mean_squared_error: 0.0815\n",
      "Train on 63954 samples, validate on 15989 samples\n",
      "Epoch 1/10\n",
      "63954/63954 - 11s - loss: 0.0794 - mean_squared_error: 0.0793 - val_loss: 0.0697 - val_mean_squared_error: 0.0694\n",
      "Epoch 2/10\n",
      "63954/63954 - 6s - loss: 0.0659 - mean_squared_error: 0.0654 - val_loss: 0.0708 - val_mean_squared_error: 0.0702\n",
      "Epoch 3/10\n",
      "63954/63954 - 6s - loss: 0.0627 - mean_squared_error: 0.0620 - val_loss: 0.0737 - val_mean_squared_error: 0.0728\n",
      "Epoch 4/10\n",
      "63954/63954 - 6s - loss: 0.0605 - mean_squared_error: 0.0596 - val_loss: 0.0753 - val_mean_squared_error: 0.0743\n",
      "Epoch 5/10\n",
      "63954/63954 - 6s - loss: 0.0590 - mean_squared_error: 0.0579 - val_loss: 0.0770 - val_mean_squared_error: 0.0759\n",
      "Epoch 6/10\n",
      "63954/63954 - 6s - loss: 0.0580 - mean_squared_error: 0.0569 - val_loss: 0.0783 - val_mean_squared_error: 0.0771\n",
      "Epoch 7/10\n",
      "63954/63954 - 6s - loss: 0.0571 - mean_squared_error: 0.0559 - val_loss: 0.0806 - val_mean_squared_error: 0.0793\n",
      "Epoch 8/10\n",
      "63954/63954 - 6s - loss: 0.0562 - mean_squared_error: 0.0549 - val_loss: 0.0809 - val_mean_squared_error: 0.0796\n",
      "Epoch 9/10\n",
      "63954/63954 - 7s - loss: 0.0553 - mean_squared_error: 0.0539 - val_loss: 0.0828 - val_mean_squared_error: 0.0814\n",
      "Epoch 10/10\n",
      "63954/63954 - 6s - loss: 0.0546 - mean_squared_error: 0.0532 - val_loss: 0.0853 - val_mean_squared_error: 0.0839\n",
      "Train on 63954 samples, validate on 15989 samples\n",
      "Epoch 1/10\n",
      "63954/63954 - 12s - loss: 0.0782 - mean_squared_error: 0.0780 - val_loss: 0.0696 - val_mean_squared_error: 0.0693\n",
      "Epoch 2/10\n",
      "63954/63954 - 7s - loss: 0.0657 - mean_squared_error: 0.0653 - val_loss: 0.0708 - val_mean_squared_error: 0.0702\n",
      "Epoch 3/10\n",
      "63954/63954 - 7s - loss: 0.0626 - mean_squared_error: 0.0619 - val_loss: 0.0736 - val_mean_squared_error: 0.0728\n",
      "Epoch 4/10\n",
      "63954/63954 - 7s - loss: 0.0606 - mean_squared_error: 0.0597 - val_loss: 0.0756 - val_mean_squared_error: 0.0746\n",
      "Epoch 5/10\n",
      "63954/63954 - 7s - loss: 0.0590 - mean_squared_error: 0.0580 - val_loss: 0.0772 - val_mean_squared_error: 0.0761\n",
      "Epoch 6/10\n",
      "63954/63954 - 7s - loss: 0.0578 - mean_squared_error: 0.0566 - val_loss: 0.0774 - val_mean_squared_error: 0.0762\n",
      "Epoch 7/10\n",
      "63954/63954 - 7s - loss: 0.0567 - mean_squared_error: 0.0555 - val_loss: 0.0803 - val_mean_squared_error: 0.0790\n",
      "Epoch 8/10\n",
      "63954/63954 - 7s - loss: 0.0560 - mean_squared_error: 0.0547 - val_loss: 0.0830 - val_mean_squared_error: 0.0816\n",
      "Epoch 9/10\n",
      "63954/63954 - 6s - loss: 0.0551 - mean_squared_error: 0.0537 - val_loss: 0.0840 - val_mean_squared_error: 0.0826\n",
      "Epoch 10/10\n",
      "63954/63954 - 6s - loss: 0.0544 - mean_squared_error: 0.0529 - val_loss: 0.0846 - val_mean_squared_error: 0.0831\n",
      "Train on 63954 samples, validate on 15989 samples\n",
      "Epoch 1/10\n",
      "63954/63954 - 15s - loss: 0.0782 - mean_squared_error: 0.0780 - val_loss: 0.0707 - val_mean_squared_error: 0.0704\n",
      "Epoch 2/10\n",
      "63954/63954 - 8s - loss: 0.0659 - mean_squared_error: 0.0654 - val_loss: 0.0709 - val_mean_squared_error: 0.0702\n",
      "Epoch 3/10\n",
      "63954/63954 - 8s - loss: 0.0627 - mean_squared_error: 0.0619 - val_loss: 0.0733 - val_mean_squared_error: 0.0724\n",
      "Epoch 4/10\n",
      "63954/63954 - 8s - loss: 0.0606 - mean_squared_error: 0.0596 - val_loss: 0.0757 - val_mean_squared_error: 0.0747\n",
      "Epoch 5/10\n",
      "63954/63954 - 8s - loss: 0.0591 - mean_squared_error: 0.0580 - val_loss: 0.0774 - val_mean_squared_error: 0.0762\n",
      "Epoch 6/10\n",
      "63954/63954 - 8s - loss: 0.0579 - mean_squared_error: 0.0567 - val_loss: 0.0791 - val_mean_squared_error: 0.0778\n",
      "Epoch 7/10\n",
      "63954/63954 - 8s - loss: 0.0569 - mean_squared_error: 0.0556 - val_loss: 0.0800 - val_mean_squared_error: 0.0787\n",
      "Epoch 8/10\n",
      "63954/63954 - 8s - loss: 0.0559 - mean_squared_error: 0.0545 - val_loss: 0.0845 - val_mean_squared_error: 0.0831\n",
      "Epoch 9/10\n",
      "63954/63954 - 8s - loss: 0.0552 - mean_squared_error: 0.0538 - val_loss: 0.0860 - val_mean_squared_error: 0.0846\n",
      "Epoch 10/10\n",
      "63954/63954 - 8s - loss: 0.0545 - mean_squared_error: 0.0530 - val_loss: 0.0838 - val_mean_squared_error: 0.0823\n",
      "Train on 63954 samples, validate on 15989 samples\n",
      "Epoch 1/10\n",
      "63954/63954 - 61s - loss: 0.0775 - mean_squared_error: 0.0774 - val_loss: 0.0697 - val_mean_squared_error: 0.0694\n",
      "Epoch 2/10\n",
      "63954/63954 - 54s - loss: 0.0659 - mean_squared_error: 0.0654 - val_loss: 0.0708 - val_mean_squared_error: 0.0702\n",
      "Epoch 3/10\n",
      "63954/63954 - 57s - loss: 0.0627 - mean_squared_error: 0.0620 - val_loss: 0.0737 - val_mean_squared_error: 0.0728\n",
      "Epoch 4/10\n",
      "63954/63954 - 56s - loss: 0.0605 - mean_squared_error: 0.0596 - val_loss: 0.0747 - val_mean_squared_error: 0.0737\n",
      "Epoch 5/10\n",
      "63954/63954 - 55s - loss: 0.0591 - mean_squared_error: 0.0580 - val_loss: 0.0792 - val_mean_squared_error: 0.0781\n",
      "Epoch 6/10\n",
      "63954/63954 - 54s - loss: 0.0578 - mean_squared_error: 0.0566 - val_loss: 0.0795 - val_mean_squared_error: 0.0783\n",
      "Epoch 7/10\n",
      "63954/63954 - 54s - loss: 0.0567 - mean_squared_error: 0.0555 - val_loss: 0.0808 - val_mean_squared_error: 0.0795\n",
      "Epoch 8/10\n",
      "63954/63954 - 54s - loss: 0.0558 - mean_squared_error: 0.0545 - val_loss: 0.0838 - val_mean_squared_error: 0.0825\n",
      "Epoch 9/10\n",
      "63954/63954 - 56s - loss: 0.0550 - mean_squared_error: 0.0536 - val_loss: 0.0859 - val_mean_squared_error: 0.0845\n",
      "Epoch 10/10\n",
      "63954/63954 - 55s - loss: 0.0540 - mean_squared_error: 0.0526 - val_loss: 0.0864 - val_mean_squared_error: 0.0850\n"
     ]
    }
   ],
   "source": [
    "cin_layer_size_dict = {}\n",
    "for i in param_rand['cin_layer_size']:\n",
    "    model= xDeepFM(linear_feature_columns,dnn_feature_columns,cin_layer_size=i,dnn_hidden_units=(256, 256),\n",
    "                   cin_activation='relu', init_std=0.0001, seed=1024,task='binary',cin_split_half=False)\n",
    "\n",
    "    model.compile(\"adam\", \"mse\", metrics=['mse'])\n",
    "\n",
    "    history = model.fit(train_model_input, train[target].values,\n",
    "                            batch_size=256, epochs=10, verbose=2, validation_split=0.2, )\n",
    "    pred_ans = model.predict(test_model_input, batch_size=256)\n",
    "    \n",
    "    auc = roc_auc_score(test[target].values, pred_ans)\n",
    "    cin_layer_size_dict[i]={\"RMSE\": np.round(math.sqrt(mean_squared_error(test[target].values, pred_ans)),3),\n",
    "      \"MAE\" : np.round(mean_absolute_error(test[target].values, pred_ans),3),\n",
    "      \"MSE\" : np.round(mean_squared_error(test[target].values, pred_ans),3),\n",
    "      \"AUC\" : np.round(auc,3)}\n",
    "result['cin_layer_size']=cin_layer_size_dict"
   ]
  },
  {
   "cell_type": "code",
   "execution_count": 40,
   "metadata": {},
   "outputs": [
    {
     "data": {
      "text/plain": [
       "{(1, 1): {'RMSE': 0.291, 'MAE': 0.135, 'MSE': 0.085, 'AUC': 0.744},\n",
       " (2, 2): {'RMSE': 0.286, 'MAE': 0.133, 'MSE': 0.082, 'AUC': 0.74},\n",
       " (4, 4): {'RMSE': 0.29, 'MAE': 0.133, 'MSE': 0.084, 'AUC': 0.741},\n",
       " (8, 8): {'RMSE': 0.288, 'MAE': 0.136, 'MSE': 0.083, 'AUC': 0.738},\n",
       " (32, 32): {'RMSE': 0.288, 'MAE': 0.132, 'MSE': 0.083, 'AUC': 0.737},\n",
       " (128, 128): {'RMSE': 0.291, 'MAE': 0.13, 'MSE': 0.084, 'AUC': 0.74}}"
      ]
     },
     "execution_count": 40,
     "metadata": {},
     "output_type": "execute_result"
    }
   ],
   "source": [
    "cin_layer_size_dict"
   ]
  },
  {
   "cell_type": "code",
   "execution_count": 64,
   "metadata": {},
   "outputs": [
    {
     "data": {
      "text/plain": [
       "{'RMSE': 0.285, 'MAE': 0.135, 'MSE': 0.081, 'AUC': 0.748}"
      ]
     },
     "execution_count": 64,
     "metadata": {},
     "output_type": "execute_result"
    }
   ],
   "source": [
    "cin_layer_size_dict[]"
   ]
  },
  {
   "cell_type": "markdown",
   "metadata": {},
   "source": [
    "### cin_split_half – bool.if set to True, half of the feature maps in each hidden will connect to output unit"
   ]
  },
  {
   "cell_type": "code",
   "execution_count": 41,
   "metadata": {
    "scrolled": true
   },
   "outputs": [
    {
     "name": "stdout",
     "output_type": "stream",
     "text": [
      "Train on 63954 samples, validate on 15989 samples\n",
      "Epoch 1/10\n",
      "63954/63954 - 24s - loss: 0.0779 - mean_squared_error: 0.0777 - val_loss: 0.0697 - val_mean_squared_error: 0.0694\n",
      "Epoch 2/10\n",
      "63954/63954 - 17s - loss: 0.0660 - mean_squared_error: 0.0655 - val_loss: 0.0710 - val_mean_squared_error: 0.0704\n",
      "Epoch 3/10\n",
      "63954/63954 - 17s - loss: 0.0629 - mean_squared_error: 0.0622 - val_loss: 0.0737 - val_mean_squared_error: 0.0729\n",
      "Epoch 4/10\n",
      "63954/63954 - 17s - loss: 0.0605 - mean_squared_error: 0.0596 - val_loss: 0.0774 - val_mean_squared_error: 0.0764\n",
      "Epoch 5/10\n",
      "63954/63954 - 17s - loss: 0.0590 - mean_squared_error: 0.0580 - val_loss: 0.0768 - val_mean_squared_error: 0.0757\n",
      "Epoch 6/10\n",
      "63954/63954 - 17s - loss: 0.0577 - mean_squared_error: 0.0565 - val_loss: 0.0803 - val_mean_squared_error: 0.0791\n",
      "Epoch 7/10\n",
      "63954/63954 - 17s - loss: 0.0566 - mean_squared_error: 0.0554 - val_loss: 0.0799 - val_mean_squared_error: 0.0786\n",
      "Epoch 8/10\n",
      "63954/63954 - 17s - loss: 0.0556 - mean_squared_error: 0.0542 - val_loss: 0.0823 - val_mean_squared_error: 0.0809\n",
      "Epoch 9/10\n",
      "63954/63954 - 17s - loss: 0.0546 - mean_squared_error: 0.0532 - val_loss: 0.0862 - val_mean_squared_error: 0.0847\n",
      "Epoch 10/10\n",
      "63954/63954 - 17s - loss: 0.0536 - mean_squared_error: 0.0522 - val_loss: 0.0872 - val_mean_squared_error: 0.0857\n",
      "Train on 63954 samples, validate on 15989 samples\n",
      "Epoch 1/10\n",
      "63954/63954 - 67s - loss: 0.0771 - mean_squared_error: 0.0770 - val_loss: 0.0696 - val_mean_squared_error: 0.0693\n",
      "Epoch 2/10\n",
      "63954/63954 - 65s - loss: 0.0660 - mean_squared_error: 0.0655 - val_loss: 0.0706 - val_mean_squared_error: 0.0700\n",
      "Epoch 3/10\n",
      "63954/63954 - 65s - loss: 0.0629 - mean_squared_error: 0.0622 - val_loss: 0.0725 - val_mean_squared_error: 0.0717\n",
      "Epoch 4/10\n",
      "63954/63954 - 62s - loss: 0.0605 - mean_squared_error: 0.0596 - val_loss: 0.0752 - val_mean_squared_error: 0.0742\n",
      "Epoch 5/10\n",
      "63954/63954 - 67s - loss: 0.0589 - mean_squared_error: 0.0578 - val_loss: 0.0776 - val_mean_squared_error: 0.0765\n",
      "Epoch 6/10\n",
      "63954/63954 - 65s - loss: 0.0575 - mean_squared_error: 0.0563 - val_loss: 0.0805 - val_mean_squared_error: 0.0792\n",
      "Epoch 7/10\n",
      "63954/63954 - 68s - loss: 0.0565 - mean_squared_error: 0.0553 - val_loss: 0.0792 - val_mean_squared_error: 0.0779\n",
      "Epoch 8/10\n",
      "63954/63954 - 60s - loss: 0.0554 - mean_squared_error: 0.0541 - val_loss: 0.0830 - val_mean_squared_error: 0.0816\n",
      "Epoch 9/10\n",
      "63954/63954 - 56s - loss: 0.0546 - mean_squared_error: 0.0532 - val_loss: 0.0840 - val_mean_squared_error: 0.0826\n",
      "Epoch 10/10\n",
      "63954/63954 - 56s - loss: 0.0537 - mean_squared_error: 0.0523 - val_loss: 0.0865 - val_mean_squared_error: 0.0850\n"
     ]
    }
   ],
   "source": [
    "cin_split_half_dict = {}\n",
    "for i in param_rand['cin_split_half']:\n",
    "    model= xDeepFM(linear_feature_columns,dnn_feature_columns,dnn_hidden_units=(256, 256),\n",
    "                    cin_layer_size=(128, 128),cin_activation='relu',cin_split_half=i,\n",
    "                   init_std=0.0001, seed=1024,task='binary')\n",
    "\n",
    "    model.compile(\"adam\", \"mse\", metrics=['mse'])\n",
    "\n",
    "    history = model.fit(train_model_input, train[target].values,\n",
    "                            batch_size=256, epochs=10, verbose=2, validation_split=0.2, )\n",
    "    pred_ans = model.predict(test_model_input, batch_size=256)\n",
    "    \n",
    "    auc = roc_auc_score(test[target].values, pred_ans)\n",
    "    cin_split_half_dict[i]={\"RMSE\": np.round(math.sqrt(mean_squared_error(test[target].values, pred_ans)),3),\n",
    "      \"MAE\" : np.round(mean_absolute_error(test[target].values, pred_ans),3),\n",
    "      \"MSE\" : np.round(mean_squared_error(test[target].values, pred_ans),3),\n",
    "      \"AUC\" : np.round(auc,3)}\n",
    "result['cin_split_half']=cin_split_half_dict"
   ]
  },
  {
   "cell_type": "code",
   "execution_count": 42,
   "metadata": {},
   "outputs": [
    {
     "data": {
      "text/plain": [
       "{True: {'RMSE': 0.292, 'MAE': 0.128, 'MSE': 0.085, 'AUC': 0.738},\n",
       " False: {'RMSE': 0.291, 'MAE': 0.127, 'MSE': 0.085, 'AUC': 0.733}}"
      ]
     },
     "execution_count": 42,
     "metadata": {},
     "output_type": "execute_result"
    }
   ],
   "source": [
    "cin_split_half_dict"
   ]
  },
  {
   "cell_type": "markdown",
   "metadata": {},
   "source": [
    "### l2_reg_cin – L2 regularizer strength applied to CIN."
   ]
  },
  {
   "cell_type": "code",
   "execution_count": 44,
   "metadata": {
    "scrolled": true
   },
   "outputs": [
    {
     "name": "stdout",
     "output_type": "stream",
     "text": [
      "Train on 63954 samples, validate on 15989 samples\n",
      "Epoch 1/10\n",
      "63954/63954 - 25s - loss: 0.0774 - mean_squared_error: 0.0772 - val_loss: 0.0696 - val_mean_squared_error: 0.0693\n",
      "Epoch 2/10\n",
      "63954/63954 - 18s - loss: 0.0658 - mean_squared_error: 0.0653 - val_loss: 0.0707 - val_mean_squared_error: 0.0701\n",
      "Epoch 3/10\n",
      "63954/63954 - 18s - loss: 0.0625 - mean_squared_error: 0.0618 - val_loss: 0.0728 - val_mean_squared_error: 0.0720\n",
      "Epoch 4/10\n",
      "63954/63954 - 18s - loss: 0.0605 - mean_squared_error: 0.0596 - val_loss: 0.0757 - val_mean_squared_error: 0.0747\n",
      "Epoch 5/10\n",
      "63954/63954 - 18s - loss: 0.0590 - mean_squared_error: 0.0579 - val_loss: 0.0767 - val_mean_squared_error: 0.0756\n",
      "Epoch 6/10\n",
      "63954/63954 - 17s - loss: 0.0578 - mean_squared_error: 0.0566 - val_loss: 0.0788 - val_mean_squared_error: 0.0776\n",
      "Epoch 7/10\n",
      "63954/63954 - 17s - loss: 0.0568 - mean_squared_error: 0.0556 - val_loss: 0.0796 - val_mean_squared_error: 0.0783\n",
      "Epoch 8/10\n",
      "63954/63954 - 18s - loss: 0.0558 - mean_squared_error: 0.0545 - val_loss: 0.0824 - val_mean_squared_error: 0.0811\n",
      "Epoch 9/10\n",
      "63954/63954 - 18s - loss: 0.0552 - mean_squared_error: 0.0538 - val_loss: 0.0825 - val_mean_squared_error: 0.0811\n",
      "Epoch 10/10\n",
      "63954/63954 - 18s - loss: 0.0544 - mean_squared_error: 0.0529 - val_loss: 0.0858 - val_mean_squared_error: 0.0843\n",
      "Train on 63954 samples, validate on 15989 samples\n",
      "Epoch 1/10\n",
      "63954/63954 - 26s - loss: 0.0778 - mean_squared_error: 0.0770 - val_loss: 0.0697 - val_mean_squared_error: 0.0694\n",
      "Epoch 2/10\n",
      "63954/63954 - 18s - loss: 0.0659 - mean_squared_error: 0.0654 - val_loss: 0.0709 - val_mean_squared_error: 0.0703\n",
      "Epoch 3/10\n",
      "63954/63954 - 18s - loss: 0.0626 - mean_squared_error: 0.0619 - val_loss: 0.0737 - val_mean_squared_error: 0.0729\n",
      "Epoch 4/10\n",
      "63954/63954 - 18s - loss: 0.0605 - mean_squared_error: 0.0596 - val_loss: 0.0753 - val_mean_squared_error: 0.0743\n",
      "Epoch 5/10\n",
      "63954/63954 - 18s - loss: 0.0588 - mean_squared_error: 0.0578 - val_loss: 0.0782 - val_mean_squared_error: 0.0771\n",
      "Epoch 6/10\n",
      "63954/63954 - 18s - loss: 0.0575 - mean_squared_error: 0.0564 - val_loss: 0.0807 - val_mean_squared_error: 0.0795\n",
      "Epoch 7/10\n",
      "63954/63954 - 18s - loss: 0.0564 - mean_squared_error: 0.0552 - val_loss: 0.0819 - val_mean_squared_error: 0.0806\n",
      "Epoch 8/10\n",
      "63954/63954 - 18s - loss: 0.0553 - mean_squared_error: 0.0540 - val_loss: 0.0855 - val_mean_squared_error: 0.0841\n",
      "Epoch 9/10\n",
      "63954/63954 - 18s - loss: 0.0545 - mean_squared_error: 0.0531 - val_loss: 0.0853 - val_mean_squared_error: 0.0838\n",
      "Epoch 10/10\n",
      "63954/63954 - 18s - loss: 0.0536 - mean_squared_error: 0.0521 - val_loss: 0.0847 - val_mean_squared_error: 0.0832\n",
      "Train on 63954 samples, validate on 15989 samples\n",
      "Epoch 1/10\n",
      "63954/63954 - 26s - loss: 0.1145 - mean_squared_error: 0.0774 - val_loss: 0.0696 - val_mean_squared_error: 0.0693\n",
      "Epoch 2/10\n",
      "63954/63954 - 18s - loss: 0.0659 - mean_squared_error: 0.0654 - val_loss: 0.0707 - val_mean_squared_error: 0.0701\n",
      "Epoch 3/10\n",
      "63954/63954 - 18s - loss: 0.0626 - mean_squared_error: 0.0619 - val_loss: 0.0730 - val_mean_squared_error: 0.0721\n",
      "Epoch 4/10\n",
      "63954/63954 - 18s - loss: 0.0606 - mean_squared_error: 0.0597 - val_loss: 0.0760 - val_mean_squared_error: 0.0750\n",
      "Epoch 5/10\n",
      "63954/63954 - 18s - loss: 0.0589 - mean_squared_error: 0.0579 - val_loss: 0.0774 - val_mean_squared_error: 0.0763\n",
      "Epoch 6/10\n",
      "63954/63954 - 18s - loss: 0.0578 - mean_squared_error: 0.0566 - val_loss: 0.0806 - val_mean_squared_error: 0.0794\n",
      "Epoch 7/10\n",
      "63954/63954 - 18s - loss: 0.0567 - mean_squared_error: 0.0555 - val_loss: 0.0818 - val_mean_squared_error: 0.0805\n",
      "Epoch 8/10\n",
      "63954/63954 - 18s - loss: 0.0559 - mean_squared_error: 0.0545 - val_loss: 0.0827 - val_mean_squared_error: 0.0813\n",
      "Epoch 9/10\n",
      "63954/63954 - 18s - loss: 0.0550 - mean_squared_error: 0.0536 - val_loss: 0.0867 - val_mean_squared_error: 0.0853\n",
      "Epoch 10/10\n",
      "63954/63954 - 18s - loss: 0.0540 - mean_squared_error: 0.0525 - val_loss: 0.0868 - val_mean_squared_error: 0.0853\n",
      "Train on 63954 samples, validate on 15989 samples\n",
      "Epoch 1/10\n",
      "63954/63954 - 29s - loss: 3.7289 - mean_squared_error: 0.0772 - val_loss: 0.0697 - val_mean_squared_error: 0.0694\n",
      "Epoch 2/10\n",
      "63954/63954 - 18s - loss: 0.0658 - mean_squared_error: 0.0654 - val_loss: 0.0707 - val_mean_squared_error: 0.0701\n",
      "Epoch 3/10\n",
      "63954/63954 - 18s - loss: 0.0627 - mean_squared_error: 0.0620 - val_loss: 0.0732 - val_mean_squared_error: 0.0724\n",
      "Epoch 4/10\n",
      "63954/63954 - 18s - loss: 0.0605 - mean_squared_error: 0.0596 - val_loss: 0.0756 - val_mean_squared_error: 0.0747\n",
      "Epoch 5/10\n",
      "63954/63954 - 18s - loss: 0.0590 - mean_squared_error: 0.0579 - val_loss: 0.0766 - val_mean_squared_error: 0.0755\n",
      "Epoch 6/10\n",
      "63954/63954 - 18s - loss: 0.0579 - mean_squared_error: 0.0567 - val_loss: 0.0777 - val_mean_squared_error: 0.0765\n",
      "Epoch 7/10\n",
      "63954/63954 - 18s - loss: 0.0569 - mean_squared_error: 0.0556 - val_loss: 0.0818 - val_mean_squared_error: 0.0805\n",
      "Epoch 8/10\n",
      "63954/63954 - 18s - loss: 0.0559 - mean_squared_error: 0.0546 - val_loss: 0.0833 - val_mean_squared_error: 0.0820\n",
      "Epoch 9/10\n",
      "63954/63954 - 18s - loss: 0.0551 - mean_squared_error: 0.0537 - val_loss: 0.0842 - val_mean_squared_error: 0.0828\n",
      "Epoch 10/10\n",
      "63954/63954 - 18s - loss: 0.0543 - mean_squared_error: 0.0529 - val_loss: 0.0882 - val_mean_squared_error: 0.0867\n",
      "Train on 63954 samples, validate on 15989 samples\n",
      "Epoch 1/10\n",
      "63954/63954 - 27s - loss: 36.5891 - mean_squared_error: 0.0772 - val_loss: 0.0697 - val_mean_squared_error: 0.0694\n",
      "Epoch 2/10\n",
      "63954/63954 - 18s - loss: 0.0659 - mean_squared_error: 0.0654 - val_loss: 0.0711 - val_mean_squared_error: 0.0705\n",
      "Epoch 3/10\n",
      "63954/63954 - 18s - loss: 0.0627 - mean_squared_error: 0.0620 - val_loss: 0.0741 - val_mean_squared_error: 0.0733\n",
      "Epoch 4/10\n",
      "63954/63954 - 18s - loss: 0.0605 - mean_squared_error: 0.0596 - val_loss: 0.0760 - val_mean_squared_error: 0.0750\n",
      "Epoch 5/10\n",
      "63954/63954 - 18s - loss: 0.0590 - mean_squared_error: 0.0579 - val_loss: 0.0783 - val_mean_squared_error: 0.0772\n",
      "Epoch 6/10\n",
      "63954/63954 - 18s - loss: 0.0576 - mean_squared_error: 0.0565 - val_loss: 0.0799 - val_mean_squared_error: 0.0787\n",
      "Epoch 7/10\n",
      "63954/63954 - 18s - loss: 0.0569 - mean_squared_error: 0.0557 - val_loss: 0.0807 - val_mean_squared_error: 0.0794\n",
      "Epoch 8/10\n",
      "63954/63954 - 18s - loss: 0.0559 - mean_squared_error: 0.0546 - val_loss: 0.0828 - val_mean_squared_error: 0.0814\n",
      "Epoch 9/10\n",
      "63954/63954 - 18s - loss: 0.0551 - mean_squared_error: 0.0538 - val_loss: 0.0815 - val_mean_squared_error: 0.0801\n",
      "Epoch 10/10\n",
      "63954/63954 - 20s - loss: 0.0544 - mean_squared_error: 0.0530 - val_loss: 0.0859 - val_mean_squared_error: 0.0845\n"
     ]
    }
   ],
   "source": [
    "l2_reg_cin_dict={}\n",
    "for i in param_rand['l2_reg_cin']:\n",
    "    model = xDeepFM(linear_feature_columns,dnn_feature_columns,dnn_hidden_units=(256, 256),\n",
    "                    cin_layer_size=(128, 128),cin_activation='relu',cin_split_half=True,l2_reg_cin=i,\n",
    "                   init_std=0.0001, seed=1024,task='binary')\n",
    "\n",
    "    model.compile(\"adam\", \"mse\", metrics=['mse'])\n",
    "\n",
    "    history = model.fit(train_model_input, train[target].values,\n",
    "                            batch_size=256, epochs=10, verbose=2, validation_split=0.2, )\n",
    "    pred_ans = model.predict(test_model_input, batch_size=256)\n",
    "    \n",
    "    auc = roc_auc_score(test[target].values, pred_ans)\n",
    "    \n",
    "    l2_reg_cin_dict[i]={\"RMSE\": np.round(math.sqrt(mean_squared_error(test[target].values, pred_ans)),3),\n",
    "      \"MAE\" : np.round(mean_absolute_error(test[target].values, pred_ans),3),\n",
    "      \"MSE\" : np.round(mean_squared_error(test[target].values, pred_ans),3),\n",
    "      \"AUC\" : np.round(auc,3)}\n",
    "    \n",
    "result['l2_reg_cin']=l2_reg_cin_dict"
   ]
  },
  {
   "cell_type": "code",
   "execution_count": 45,
   "metadata": {},
   "outputs": [
    {
     "data": {
      "text/plain": [
       "{1e-07: {'RMSE': 0.29, 'MAE': 0.125, 'MSE': 0.084, 'AUC': 0.74},\n",
       " 1e-05: {'RMSE': 0.288, 'MAE': 0.132, 'MSE': 0.083, 'AUC': 0.74},\n",
       " 0.001: {'RMSE': 0.293, 'MAE': 0.129, 'MSE': 0.086, 'AUC': 0.735},\n",
       " 0.1: {'RMSE': 0.294, 'MAE': 0.14, 'MSE': 0.086, 'AUC': 0.737},\n",
       " 1: {'RMSE': 0.291, 'MAE': 0.138, 'MSE': 0.085, 'AUC': 0.741}}"
      ]
     },
     "execution_count": 45,
     "metadata": {},
     "output_type": "execute_result"
    }
   ],
   "source": [
    "l2_reg_cin_dict"
   ]
  },
  {
   "cell_type": "code",
   "execution_count": 47,
   "metadata": {},
   "outputs": [
    {
     "data": {
      "text/plain": [
       "{'RMSE': 0.29, 'MAE': 0.125, 'MSE': 0.084, 'AUC': 0.74}"
      ]
     },
     "execution_count": 47,
     "metadata": {},
     "output_type": "execute_result"
    }
   ],
   "source": [
    "l2_reg_cin_dict[1e-07]"
   ]
  },
  {
   "cell_type": "markdown",
   "metadata": {},
   "source": [
    "### l2_reg_linear: float. L2 regularizer strength applied to wide part"
   ]
  },
  {
   "cell_type": "code",
   "execution_count": 48,
   "metadata": {
    "scrolled": true
   },
   "outputs": [
    {
     "name": "stdout",
     "output_type": "stream",
     "text": [
      "Train on 63954 samples, validate on 15989 samples\n",
      "Epoch 1/10\n",
      "63954/63954 - 40s - loss: 0.0777 - mean_squared_error: 0.0775 - val_loss: 0.0700 - val_mean_squared_error: 0.0696\n",
      "Epoch 2/10\n",
      "63954/63954 - 23s - loss: 0.0659 - mean_squared_error: 0.0654 - val_loss: 0.0714 - val_mean_squared_error: 0.0707\n",
      "Epoch 3/10\n",
      "63954/63954 - 21s - loss: 0.0626 - mean_squared_error: 0.0618 - val_loss: 0.0738 - val_mean_squared_error: 0.0729\n",
      "Epoch 4/10\n",
      "63954/63954 - 23s - loss: 0.0606 - mean_squared_error: 0.0596 - val_loss: 0.0757 - val_mean_squared_error: 0.0747\n",
      "Epoch 5/10\n",
      "63954/63954 - 21s - loss: 0.0592 - mean_squared_error: 0.0581 - val_loss: 0.0768 - val_mean_squared_error: 0.0757\n",
      "Epoch 6/10\n",
      "63954/63954 - 20s - loss: 0.0578 - mean_squared_error: 0.0566 - val_loss: 0.0787 - val_mean_squared_error: 0.0774\n",
      "Epoch 7/10\n",
      "63954/63954 - 21s - loss: 0.0569 - mean_squared_error: 0.0556 - val_loss: 0.0803 - val_mean_squared_error: 0.0789\n",
      "Epoch 8/10\n",
      "63954/63954 - 21s - loss: 0.0560 - mean_squared_error: 0.0546 - val_loss: 0.0835 - val_mean_squared_error: 0.0821\n",
      "Epoch 9/10\n",
      "63954/63954 - 20s - loss: 0.0553 - mean_squared_error: 0.0539 - val_loss: 0.0836 - val_mean_squared_error: 0.0822\n",
      "Epoch 10/10\n",
      "63954/63954 - 19s - loss: 0.0547 - mean_squared_error: 0.0532 - val_loss: 0.0882 - val_mean_squared_error: 0.0866\n",
      "Train on 63954 samples, validate on 15989 samples\n",
      "Epoch 1/10\n",
      "63954/63954 - 32s - loss: 0.0773 - mean_squared_error: 0.0770 - val_loss: 0.0700 - val_mean_squared_error: 0.0695\n",
      "Epoch 2/10\n",
      "63954/63954 - 21s - loss: 0.0660 - mean_squared_error: 0.0654 - val_loss: 0.0709 - val_mean_squared_error: 0.0702\n",
      "Epoch 3/10\n",
      "63954/63954 - 21s - loss: 0.0628 - mean_squared_error: 0.0620 - val_loss: 0.0739 - val_mean_squared_error: 0.0730\n",
      "Epoch 4/10\n",
      "63954/63954 - 22s - loss: 0.0607 - mean_squared_error: 0.0597 - val_loss: 0.0750 - val_mean_squared_error: 0.0739\n",
      "Epoch 5/10\n",
      "63954/63954 - 20s - loss: 0.0592 - mean_squared_error: 0.0581 - val_loss: 0.0775 - val_mean_squared_error: 0.0763\n",
      "Epoch 6/10\n",
      "63954/63954 - 20s - loss: 0.0581 - mean_squared_error: 0.0569 - val_loss: 0.0791 - val_mean_squared_error: 0.0778\n",
      "Epoch 7/10\n",
      "63954/63954 - 20s - loss: 0.0571 - mean_squared_error: 0.0558 - val_loss: 0.0800 - val_mean_squared_error: 0.0787\n",
      "Epoch 8/10\n",
      "63954/63954 - 20s - loss: 0.0563 - mean_squared_error: 0.0550 - val_loss: 0.0821 - val_mean_squared_error: 0.0807\n",
      "Epoch 9/10\n",
      "63954/63954 - 22s - loss: 0.0556 - mean_squared_error: 0.0542 - val_loss: 0.0847 - val_mean_squared_error: 0.0833\n",
      "Epoch 10/10\n",
      "63954/63954 - 20s - loss: 0.0547 - mean_squared_error: 0.0532 - val_loss: 0.0856 - val_mean_squared_error: 0.0841\n",
      "Train on 63954 samples, validate on 15989 samples\n",
      "Epoch 1/10\n",
      "63954/63954 - 30s - loss: 0.0778 - mean_squared_error: 0.0770 - val_loss: 0.0698 - val_mean_squared_error: 0.0694\n",
      "Epoch 2/10\n",
      "63954/63954 - 19s - loss: 0.0659 - mean_squared_error: 0.0653 - val_loss: 0.0716 - val_mean_squared_error: 0.0709\n",
      "Epoch 3/10\n",
      "63954/63954 - 19s - loss: 0.0628 - mean_squared_error: 0.0619 - val_loss: 0.0726 - val_mean_squared_error: 0.0717\n",
      "Epoch 4/10\n",
      "63954/63954 - 20s - loss: 0.0605 - mean_squared_error: 0.0595 - val_loss: 0.0756 - val_mean_squared_error: 0.0745\n",
      "Epoch 5/10\n",
      "63954/63954 - 22s - loss: 0.0592 - mean_squared_error: 0.0581 - val_loss: 0.0765 - val_mean_squared_error: 0.0753\n",
      "Epoch 6/10\n",
      "63954/63954 - 22s - loss: 0.0580 - mean_squared_error: 0.0568 - val_loss: 0.0829 - val_mean_squared_error: 0.0816\n",
      "Epoch 7/10\n",
      "63954/63954 - 21s - loss: 0.0572 - mean_squared_error: 0.0558 - val_loss: 0.0818 - val_mean_squared_error: 0.0805\n",
      "Epoch 8/10\n",
      "63954/63954 - 21s - loss: 0.0563 - mean_squared_error: 0.0549 - val_loss: 0.0822 - val_mean_squared_error: 0.0807\n",
      "Epoch 9/10\n",
      "63954/63954 - 22s - loss: 0.0555 - mean_squared_error: 0.0540 - val_loss: 0.0852 - val_mean_squared_error: 0.0836\n",
      "Epoch 10/10\n",
      "63954/63954 - 23s - loss: 0.0548 - mean_squared_error: 0.0532 - val_loss: 0.0850 - val_mean_squared_error: 0.0834\n",
      "Train on 63954 samples, validate on 15989 samples\n",
      "Epoch 1/10\n",
      "63954/63954 - 31s - loss: 0.0784 - mean_squared_error: 0.0771 - val_loss: 0.0695 - val_mean_squared_error: 0.0692\n",
      "Epoch 2/10\n",
      "63954/63954 - 23s - loss: 0.0660 - mean_squared_error: 0.0654 - val_loss: 0.0708 - val_mean_squared_error: 0.0702\n",
      "Epoch 3/10\n",
      "63954/63954 - 24s - loss: 0.0627 - mean_squared_error: 0.0619 - val_loss: 0.0727 - val_mean_squared_error: 0.0719\n",
      "Epoch 4/10\n",
      "63954/63954 - 19s - loss: 0.0604 - mean_squared_error: 0.0595 - val_loss: 0.0759 - val_mean_squared_error: 0.0749\n",
      "Epoch 5/10\n",
      "63954/63954 - 19s - loss: 0.0589 - mean_squared_error: 0.0579 - val_loss: 0.0780 - val_mean_squared_error: 0.0769\n",
      "Epoch 6/10\n",
      "63954/63954 - 18s - loss: 0.0576 - mean_squared_error: 0.0565 - val_loss: 0.0796 - val_mean_squared_error: 0.0784\n",
      "Epoch 7/10\n",
      "63954/63954 - 19s - loss: 0.0566 - mean_squared_error: 0.0553 - val_loss: 0.0832 - val_mean_squared_error: 0.0819\n",
      "Epoch 8/10\n",
      "63954/63954 - 18s - loss: 0.0554 - mean_squared_error: 0.0541 - val_loss: 0.0842 - val_mean_squared_error: 0.0828\n",
      "Epoch 9/10\n",
      "63954/63954 - 19s - loss: 0.0544 - mean_squared_error: 0.0530 - val_loss: 0.0868 - val_mean_squared_error: 0.0853\n",
      "Epoch 10/10\n",
      "63954/63954 - 19s - loss: 0.0533 - mean_squared_error: 0.0519 - val_loss: 0.0880 - val_mean_squared_error: 0.0865\n",
      "Train on 63954 samples, validate on 15989 samples\n",
      "Epoch 1/10\n",
      "63954/63954 - 31s - loss: 0.0806 - mean_squared_error: 0.0780 - val_loss: 0.0698 - val_mean_squared_error: 0.0695\n",
      "Epoch 2/10\n",
      "63954/63954 - 19s - loss: 0.0658 - mean_squared_error: 0.0653 - val_loss: 0.0710 - val_mean_squared_error: 0.0703\n",
      "Epoch 3/10\n",
      "63954/63954 - 19s - loss: 0.0626 - mean_squared_error: 0.0618 - val_loss: 0.0727 - val_mean_squared_error: 0.0719\n",
      "Epoch 4/10\n",
      "63954/63954 - 18s - loss: 0.0606 - mean_squared_error: 0.0596 - val_loss: 0.0750 - val_mean_squared_error: 0.0740\n",
      "Epoch 5/10\n",
      "63954/63954 - 18s - loss: 0.0590 - mean_squared_error: 0.0579 - val_loss: 0.0781 - val_mean_squared_error: 0.0770\n",
      "Epoch 6/10\n",
      "63954/63954 - 18s - loss: 0.0577 - mean_squared_error: 0.0565 - val_loss: 0.0793 - val_mean_squared_error: 0.0780\n",
      "Epoch 7/10\n",
      "63954/63954 - 18s - loss: 0.0568 - mean_squared_error: 0.0555 - val_loss: 0.0804 - val_mean_squared_error: 0.0790\n",
      "Epoch 8/10\n",
      "63954/63954 - 19s - loss: 0.0559 - mean_squared_error: 0.0544 - val_loss: 0.0831 - val_mean_squared_error: 0.0816\n",
      "Epoch 9/10\n",
      "63954/63954 - 18s - loss: 0.0550 - mean_squared_error: 0.0535 - val_loss: 0.0852 - val_mean_squared_error: 0.0837\n",
      "Epoch 10/10\n",
      "63954/63954 - 22s - loss: 0.0543 - mean_squared_error: 0.0527 - val_loss: 0.0865 - val_mean_squared_error: 0.0849\n"
     ]
    }
   ],
   "source": [
    "l2_reg_linear_dict={}\n",
    "for i in param_rand['l2_reg_linear']:\n",
    "    model = xDeepFM(linear_feature_columns, dnn_feature_columns, dnn_hidden_units=(256, 256), l2_reg_linear=i,\n",
    "                    cin_layer_size=(128, 128), cin_split_half=True, cin_activation='relu', l2_reg_cin=1e-07,\n",
    "                    init_std=0.0001,dnn_use_bn=False,seed=1024,task='binary')\n",
    "\n",
    "    model.compile(\"adam\", \"mse\", metrics=['mse'])\n",
    "\n",
    "    history = model.fit(train_model_input, train[target].values,\n",
    "                            batch_size=256, epochs=10, verbose=2, validation_split=0.2, )\n",
    "    pred_ans = model.predict(test_model_input, batch_size=256)\n",
    "    \n",
    "    auc = roc_auc_score(test[target].values, pred_ans)\n",
    "    \n",
    "    l2_reg_linear_dict[i]={\"RMSE\": np.round(math.sqrt(mean_squared_error(test[target].values, pred_ans)),3),\n",
    "      \"MAE\" : np.round(mean_absolute_error(test[target].values, pred_ans),3),\n",
    "      \"MSE\" : np.round(mean_squared_error(test[target].values, pred_ans),3),\n",
    "      \"AUC\" : np.round(auc,3)}\n",
    "    \n",
    "result['l2_reg_linear']=l2_reg_linear_dict"
   ]
  },
  {
   "cell_type": "code",
   "execution_count": 49,
   "metadata": {},
   "outputs": [
    {
     "data": {
      "text/plain": [
       "{1e-05: {'RMSE': 0.294, 'MAE': 0.134, 'MSE': 0.087, 'AUC': 0.74},\n",
       " 0.001: {'RMSE': 0.291, 'MAE': 0.146, 'MSE': 0.084, 'AUC': 0.741},\n",
       " 0.1: {'RMSE': 0.289, 'MAE': 0.128, 'MSE': 0.083, 'AUC': 0.741},\n",
       " 1: {'RMSE': 0.294, 'MAE': 0.14, 'MSE': 0.086, 'AUC': 0.746},\n",
       " 10: {'RMSE': 0.292, 'MAE': 0.138, 'MSE': 0.085, 'AUC': 0.738}}"
      ]
     },
     "execution_count": 49,
     "metadata": {},
     "output_type": "execute_result"
    }
   ],
   "source": [
    "l2_reg_linear_dict"
   ]
  },
  {
   "cell_type": "code",
   "execution_count": 50,
   "metadata": {},
   "outputs": [
    {
     "data": {
      "text/plain": [
       "{'RMSE': 0.289, 'MAE': 0.128, 'MSE': 0.083, 'AUC': 0.741}"
      ]
     },
     "execution_count": 50,
     "metadata": {},
     "output_type": "execute_result"
    }
   ],
   "source": [
    "l2_reg_linear_dict[0.1]"
   ]
  },
  {
   "cell_type": "markdown",
   "metadata": {},
   "source": [
    "### l2_reg_embedding: float. L2 regularizer strength applied to embedding vector"
   ]
  },
  {
   "cell_type": "code",
   "execution_count": 51,
   "metadata": {
    "scrolled": true
   },
   "outputs": [
    {
     "name": "stdout",
     "output_type": "stream",
     "text": [
      "Train on 63954 samples, validate on 15989 samples\n",
      "Epoch 1/10\n",
      "63954/63954 - 30s - loss: 0.0785 - mean_squared_error: 0.0777 - val_loss: 0.0696 - val_mean_squared_error: 0.0694\n",
      "Epoch 2/10\n",
      "63954/63954 - 18s - loss: 0.0652 - mean_squared_error: 0.0650 - val_loss: 0.0718 - val_mean_squared_error: 0.0716\n",
      "Epoch 3/10\n",
      "63954/63954 - 19s - loss: 0.0615 - mean_squared_error: 0.0613 - val_loss: 0.0738 - val_mean_squared_error: 0.0736\n",
      "Epoch 4/10\n",
      "63954/63954 - 19s - loss: 0.0590 - mean_squared_error: 0.0588 - val_loss: 0.0759 - val_mean_squared_error: 0.0757\n",
      "Epoch 5/10\n",
      "63954/63954 - 19s - loss: 0.0574 - mean_squared_error: 0.0572 - val_loss: 0.0792 - val_mean_squared_error: 0.0790\n",
      "Epoch 6/10\n",
      "63954/63954 - 20s - loss: 0.0560 - mean_squared_error: 0.0558 - val_loss: 0.0800 - val_mean_squared_error: 0.0798\n",
      "Epoch 7/10\n",
      "63954/63954 - 19s - loss: 0.0548 - mean_squared_error: 0.0546 - val_loss: 0.0823 - val_mean_squared_error: 0.0821\n",
      "Epoch 8/10\n",
      "63954/63954 - 19s - loss: 0.0537 - mean_squared_error: 0.0535 - val_loss: 0.0825 - val_mean_squared_error: 0.0822\n",
      "Epoch 9/10\n",
      "63954/63954 - 23s - loss: 0.0529 - mean_squared_error: 0.0527 - val_loss: 0.0852 - val_mean_squared_error: 0.0850\n",
      "Epoch 10/10\n",
      "63954/63954 - 25s - loss: 0.0520 - mean_squared_error: 0.0518 - val_loss: 0.0864 - val_mean_squared_error: 0.0862\n",
      "Train on 63954 samples, validate on 15989 samples\n",
      "Epoch 1/10\n",
      "63954/63954 - 34s - loss: 0.0784 - mean_squared_error: 0.0774 - val_loss: 0.0699 - val_mean_squared_error: 0.0694\n",
      "Epoch 2/10\n",
      "63954/63954 - 20s - loss: 0.0660 - mean_squared_error: 0.0654 - val_loss: 0.0712 - val_mean_squared_error: 0.0704\n",
      "Epoch 3/10\n",
      "63954/63954 - 20s - loss: 0.0629 - mean_squared_error: 0.0621 - val_loss: 0.0733 - val_mean_squared_error: 0.0723\n",
      "Epoch 4/10\n",
      "63954/63954 - 20s - loss: 0.0607 - mean_squared_error: 0.0597 - val_loss: 0.0763 - val_mean_squared_error: 0.0751\n",
      "Epoch 5/10\n",
      "63954/63954 - 20s - loss: 0.0590 - mean_squared_error: 0.0579 - val_loss: 0.0779 - val_mean_squared_error: 0.0766\n",
      "Epoch 6/10\n",
      "63954/63954 - 19s - loss: 0.0578 - mean_squared_error: 0.0565 - val_loss: 0.0790 - val_mean_squared_error: 0.0776\n",
      "Epoch 7/10\n",
      "63954/63954 - 19s - loss: 0.0568 - mean_squared_error: 0.0554 - val_loss: 0.0800 - val_mean_squared_error: 0.0786\n",
      "Epoch 8/10\n",
      "63954/63954 - 19s - loss: 0.0557 - mean_squared_error: 0.0543 - val_loss: 0.0837 - val_mean_squared_error: 0.0823\n",
      "Epoch 9/10\n",
      "63954/63954 - 19s - loss: 0.0545 - mean_squared_error: 0.0530 - val_loss: 0.0867 - val_mean_squared_error: 0.0852\n",
      "Epoch 10/10\n",
      "63954/63954 - 22s - loss: 0.0536 - mean_squared_error: 0.0521 - val_loss: 0.0862 - val_mean_squared_error: 0.0847\n",
      "Train on 63954 samples, validate on 15989 samples\n",
      "Epoch 1/10\n",
      "63954/63954 - 32s - loss: 0.0795 - mean_squared_error: 0.0773 - val_loss: 0.0728 - val_mean_squared_error: 0.0699\n",
      "Epoch 2/10\n",
      "63954/63954 - 19s - loss: 0.0717 - mean_squared_error: 0.0687 - val_loss: 0.0726 - val_mean_squared_error: 0.0698\n",
      "Epoch 3/10\n",
      "63954/63954 - 22s - loss: 0.0709 - mean_squared_error: 0.0676 - val_loss: 0.0723 - val_mean_squared_error: 0.0693\n",
      "Epoch 4/10\n",
      "63954/63954 - 19s - loss: 0.0705 - mean_squared_error: 0.0672 - val_loss: 0.0730 - val_mean_squared_error: 0.0698\n",
      "Epoch 5/10\n",
      "63954/63954 - 19s - loss: 0.0704 - mean_squared_error: 0.0668 - val_loss: 0.0729 - val_mean_squared_error: 0.0696\n",
      "Epoch 6/10\n",
      "63954/63954 - 19s - loss: 0.0700 - mean_squared_error: 0.0664 - val_loss: 0.0729 - val_mean_squared_error: 0.0695\n",
      "Epoch 7/10\n",
      "63954/63954 - 19s - loss: 0.0695 - mean_squared_error: 0.0658 - val_loss: 0.0733 - val_mean_squared_error: 0.0699\n",
      "Epoch 8/10\n",
      "63954/63954 - 19s - loss: 0.0689 - mean_squared_error: 0.0652 - val_loss: 0.0741 - val_mean_squared_error: 0.0704\n",
      "Epoch 9/10\n",
      "63954/63954 - 19s - loss: 0.0686 - mean_squared_error: 0.0646 - val_loss: 0.0748 - val_mean_squared_error: 0.0709\n",
      "Epoch 10/10\n",
      "63954/63954 - 19s - loss: 0.0682 - mean_squared_error: 0.0641 - val_loss: 0.0750 - val_mean_squared_error: 0.0711\n",
      "Train on 63954 samples, validate on 15989 samples\n",
      "Epoch 1/10\n",
      "63954/63954 - 31s - loss: 0.0819 - mean_squared_error: 0.0792 - val_loss: 0.0779 - val_mean_squared_error: 0.0730\n",
      "Epoch 2/10\n",
      "63954/63954 - 19s - loss: 0.0789 - mean_squared_error: 0.0723 - val_loss: 0.0803 - val_mean_squared_error: 0.0721\n",
      "Epoch 3/10\n",
      "63954/63954 - 19s - loss: 0.0790 - mean_squared_error: 0.0718 - val_loss: 0.0809 - val_mean_squared_error: 0.0721\n",
      "Epoch 4/10\n",
      "63954/63954 - 20s - loss: 0.0791 - mean_squared_error: 0.0718 - val_loss: 0.0777 - val_mean_squared_error: 0.0718\n",
      "Epoch 5/10\n",
      "63954/63954 - 19s - loss: 0.0785 - mean_squared_error: 0.0717 - val_loss: 0.0790 - val_mean_squared_error: 0.0724\n",
      "Epoch 6/10\n",
      "63954/63954 - 19s - loss: 0.0782 - mean_squared_error: 0.0716 - val_loss: 0.0777 - val_mean_squared_error: 0.0717\n",
      "Epoch 7/10\n",
      "63954/63954 - 19s - loss: 0.0782 - mean_squared_error: 0.0715 - val_loss: 0.0808 - val_mean_squared_error: 0.0716\n",
      "Epoch 8/10\n",
      "63954/63954 - 19s - loss: 0.0785 - mean_squared_error: 0.0714 - val_loss: 0.0797 - val_mean_squared_error: 0.0714\n",
      "Epoch 9/10\n",
      "63954/63954 - 19s - loss: 0.0783 - mean_squared_error: 0.0715 - val_loss: 0.0781 - val_mean_squared_error: 0.0714\n",
      "Epoch 10/10\n",
      "63954/63954 - 19s - loss: 0.0782 - mean_squared_error: 0.0713 - val_loss: 0.0798 - val_mean_squared_error: 0.0720\n",
      "Train on 63954 samples, validate on 15989 samples\n",
      "Epoch 1/10\n",
      "63954/63954 - 33s - loss: 0.0830 - mean_squared_error: 0.0808 - val_loss: 0.0758 - val_mean_squared_error: 0.0748\n",
      "Epoch 2/10\n",
      "63954/63954 - 19s - loss: 0.0754 - mean_squared_error: 0.0738 - val_loss: 0.0756 - val_mean_squared_error: 0.0735\n",
      "Epoch 3/10\n",
      "63954/63954 - 19s - loss: 0.0779 - mean_squared_error: 0.0733 - val_loss: 0.0802 - val_mean_squared_error: 0.0729\n",
      "Epoch 4/10\n",
      "63954/63954 - 19s - loss: 0.0816 - mean_squared_error: 0.0730 - val_loss: 0.0802 - val_mean_squared_error: 0.0730\n",
      "Epoch 5/10\n",
      "63954/63954 - 19s - loss: 0.0822 - mean_squared_error: 0.0728 - val_loss: 0.0823 - val_mean_squared_error: 0.0728\n",
      "Epoch 6/10\n",
      "63954/63954 - 19s - loss: 0.0829 - mean_squared_error: 0.0729 - val_loss: 0.0848 - val_mean_squared_error: 0.0751\n",
      "Epoch 7/10\n",
      "63954/63954 - 19s - loss: 0.0821 - mean_squared_error: 0.0729 - val_loss: 0.0829 - val_mean_squared_error: 0.0726\n",
      "Epoch 8/10\n",
      "63954/63954 - 19s - loss: 0.0828 - mean_squared_error: 0.0727 - val_loss: 0.0808 - val_mean_squared_error: 0.0730\n",
      "Epoch 9/10\n",
      "63954/63954 - 20s - loss: 0.0825 - mean_squared_error: 0.0726 - val_loss: 0.0797 - val_mean_squared_error: 0.0725\n",
      "Epoch 10/10\n",
      "63954/63954 - 21s - loss: 0.0836 - mean_squared_error: 0.0724 - val_loss: 0.0825 - val_mean_squared_error: 0.0726\n"
     ]
    }
   ],
   "source": [
    "l2_reg_embedding_dict={}\n",
    "for i in param_rand['l2_reg_embedding']:\n",
    "    model = xDeepFM(linear_feature_columns, dnn_feature_columns,dnn_hidden_units=(256, 256), l2_reg_linear=0.1,\n",
    "            l2_reg_embedding=i,cin_layer_size=(128, 128), cin_split_half=True, cin_activation='relu', \n",
    "            l2_reg_cin=1e-07, init_std=0.0001, seed=1024, task='binary',dnn_use_bn=False)\n",
    "\n",
    "    model.compile(\"adam\", \"mse\", metrics=['mse'])\n",
    "\n",
    "    history = model.fit(train_model_input, train[target].values,\n",
    "                            batch_size=256, epochs=10, verbose=2, validation_split=0.2, )\n",
    "    pred_ans = model.predict(test_model_input, batch_size=256)\n",
    "    \n",
    "    auc = roc_auc_score(test[target].values, pred_ans)\n",
    "    l2_reg_embedding_dict[i]={\"RMSE\": np.round(math.sqrt(mean_squared_error(test[target].values, pred_ans)),3),\n",
    "      \"MAE\" : np.round(mean_absolute_error(test[target].values, pred_ans),3),\n",
    "      \"MSE\" : np.round(mean_squared_error(test[target].values, pred_ans),3),\n",
    "      \"AUC\" : np.round(auc,3)}\n",
    "result['l2_reg_embedding']=l2_reg_embedding_dict"
   ]
  },
  {
   "cell_type": "code",
   "execution_count": 52,
   "metadata": {},
   "outputs": [
    {
     "data": {
      "text/plain": [
       "{1e-07: {'RMSE': 0.293, 'MAE': 0.138, 'MSE': 0.086, 'AUC': 0.734},\n",
       " 1e-05: {'RMSE': 0.29, 'MAE': 0.124, 'MSE': 0.084, 'AUC': 0.738},\n",
       " 0.001: {'RMSE': 0.267, 'MAE': 0.13, 'MSE': 0.071, 'AUC': 0.769},\n",
       " 0.1: {'RMSE': 0.269, 'MAE': 0.161, 'MSE': 0.072, 'AUC': 0.736},\n",
       " 1: {'RMSE': 0.27, 'MAE': 0.154, 'MSE': 0.073, 'AUC': 0.721}}"
      ]
     },
     "execution_count": 52,
     "metadata": {},
     "output_type": "execute_result"
    }
   ],
   "source": [
    "l2_reg_embedding_dict"
   ]
  },
  {
   "cell_type": "code",
   "execution_count": 53,
   "metadata": {},
   "outputs": [
    {
     "data": {
      "text/plain": [
       "{'RMSE': 0.29, 'MAE': 0.124, 'MSE': 0.084, 'AUC': 0.738}"
      ]
     },
     "execution_count": 53,
     "metadata": {},
     "output_type": "execute_result"
    }
   ],
   "source": [
    "l2_reg_embedding_dict[1e-05]"
   ]
  },
  {
   "cell_type": "markdown",
   "metadata": {},
   "source": [
    "## l2_reg_dnn: float. L2 regularizer strength applied to DNN"
   ]
  },
  {
   "cell_type": "code",
   "execution_count": 54,
   "metadata": {
    "scrolled": true
   },
   "outputs": [
    {
     "name": "stdout",
     "output_type": "stream",
     "text": [
      "Train on 63954 samples, validate on 15989 samples\n",
      "Epoch 1/10\n",
      "63954/63954 - 32s - loss: 0.0782 - mean_squared_error: 0.0773 - val_loss: 0.0701 - val_mean_squared_error: 0.0696\n",
      "Epoch 2/10\n",
      "63954/63954 - 20s - loss: 0.0660 - mean_squared_error: 0.0654 - val_loss: 0.0714 - val_mean_squared_error: 0.0707\n",
      "Epoch 3/10\n",
      "63954/63954 - 19s - loss: 0.0627 - mean_squared_error: 0.0619 - val_loss: 0.0736 - val_mean_squared_error: 0.0726\n",
      "Epoch 4/10\n",
      "63954/63954 - 19s - loss: 0.0606 - mean_squared_error: 0.0596 - val_loss: 0.0770 - val_mean_squared_error: 0.0760\n",
      "Epoch 5/10\n",
      "63954/63954 - 20s - loss: 0.0590 - mean_squared_error: 0.0579 - val_loss: 0.0767 - val_mean_squared_error: 0.0755\n",
      "Epoch 6/10\n",
      "63954/63954 - 19s - loss: 0.0579 - mean_squared_error: 0.0567 - val_loss: 0.0785 - val_mean_squared_error: 0.0773\n",
      "Epoch 7/10\n",
      "63954/63954 - 19s - loss: 0.0570 - mean_squared_error: 0.0557 - val_loss: 0.0808 - val_mean_squared_error: 0.0795\n",
      "Epoch 8/10\n",
      "63954/63954 - 19s - loss: 0.0560 - mean_squared_error: 0.0547 - val_loss: 0.0801 - val_mean_squared_error: 0.0787\n",
      "Epoch 9/10\n",
      "63954/63954 - 19s - loss: 0.0551 - mean_squared_error: 0.0537 - val_loss: 0.0842 - val_mean_squared_error: 0.0827\n",
      "Epoch 10/10\n",
      "63954/63954 - 19s - loss: 0.0542 - mean_squared_error: 0.0527 - val_loss: 0.0864 - val_mean_squared_error: 0.0849\n",
      "Train on 63954 samples, validate on 15989 samples\n",
      "Epoch 1/10\n",
      "63954/63954 - 34s - loss: 12.3675 - mean_squared_error: 0.0779 - val_loss: 0.1128 - val_mean_squared_error: 0.0694\n",
      "Epoch 2/10\n",
      "63954/63954 - 21s - loss: 0.0710 - mean_squared_error: 0.0656 - val_loss: 0.0714 - val_mean_squared_error: 0.0706\n",
      "Epoch 3/10\n",
      "63954/63954 - 21s - loss: 0.0629 - mean_squared_error: 0.0619 - val_loss: 0.0731 - val_mean_squared_error: 0.0720\n",
      "Epoch 4/10\n",
      "63954/63954 - 25s - loss: 0.0605 - mean_squared_error: 0.0593 - val_loss: 0.0758 - val_mean_squared_error: 0.0746\n",
      "Epoch 5/10\n",
      "63954/63954 - 24s - loss: 0.0584 - mean_squared_error: 0.0572 - val_loss: 0.0786 - val_mean_squared_error: 0.0773\n",
      "Epoch 6/10\n",
      "63954/63954 - 20s - loss: 0.0570 - mean_squared_error: 0.0556 - val_loss: 0.0817 - val_mean_squared_error: 0.0802\n",
      "Epoch 7/10\n",
      "63954/63954 - 19s - loss: 0.0557 - mean_squared_error: 0.0543 - val_loss: 0.0828 - val_mean_squared_error: 0.0813\n",
      "Epoch 8/10\n",
      "63954/63954 - 19s - loss: 0.0545 - mean_squared_error: 0.0530 - val_loss: 0.0828 - val_mean_squared_error: 0.0812\n",
      "Epoch 9/10\n",
      "63954/63954 - 20s - loss: 0.0534 - mean_squared_error: 0.0518 - val_loss: 0.0861 - val_mean_squared_error: 0.0845\n",
      "Epoch 10/10\n",
      "63954/63954 - 20s - loss: 0.0526 - mean_squared_error: 0.0509 - val_loss: 0.0894 - val_mean_squared_error: 0.0877\n",
      "Train on 63954 samples, validate on 15989 samples\n",
      "Epoch 1/10\n",
      "63954/63954 - 37s - loss: 122.9618 - mean_squared_error: 0.0785 - val_loss: 0.4974 - val_mean_squared_error: 0.0692\n",
      "Epoch 2/10\n",
      "63954/63954 - 24s - loss: 0.1144 - mean_squared_error: 0.0659 - val_loss: 0.0711 - val_mean_squared_error: 0.0702\n",
      "Epoch 3/10\n",
      "63954/63954 - 20s - loss: 0.0631 - mean_squared_error: 0.0621 - val_loss: 0.0732 - val_mean_squared_error: 0.0721\n",
      "Epoch 4/10\n",
      "63954/63954 - 20s - loss: 0.0606 - mean_squared_error: 0.0594 - val_loss: 0.0765 - val_mean_squared_error: 0.0752\n",
      "Epoch 5/10\n",
      "63954/63954 - 19s - loss: 0.0585 - mean_squared_error: 0.0572 - val_loss: 0.0790 - val_mean_squared_error: 0.0776\n",
      "Epoch 6/10\n",
      "63954/63954 - 22s - loss: 0.0567 - mean_squared_error: 0.0553 - val_loss: 0.0805 - val_mean_squared_error: 0.0791\n",
      "Epoch 7/10\n",
      "63954/63954 - 20s - loss: 0.0552 - mean_squared_error: 0.0537 - val_loss: 0.0830 - val_mean_squared_error: 0.0814\n",
      "Epoch 8/10\n",
      "63954/63954 - 19s - loss: 0.0539 - mean_squared_error: 0.0524 - val_loss: 0.0825 - val_mean_squared_error: 0.0808\n",
      "Epoch 9/10\n",
      "63954/63954 - 19s - loss: 0.0528 - mean_squared_error: 0.0512 - val_loss: 0.0854 - val_mean_squared_error: 0.0838\n",
      "Epoch 10/10\n",
      "63954/63954 - 19s - loss: 0.0517 - mean_squared_error: 0.0501 - val_loss: 0.0879 - val_mean_squared_error: 0.0862\n",
      "Train on 63954 samples, validate on 15989 samples\n",
      "Epoch 1/10\n",
      "63954/63954 - 36s - loss: 245.8428 - mean_squared_error: 0.0779 - val_loss: 0.9252 - val_mean_squared_error: 0.0694\n",
      "Epoch 2/10\n",
      "63954/63954 - 19s - loss: 0.1619 - mean_squared_error: 0.0656 - val_loss: 0.0713 - val_mean_squared_error: 0.0704\n",
      "Epoch 3/10\n",
      "63954/63954 - 20s - loss: 0.0631 - mean_squared_error: 0.0621 - val_loss: 0.0736 - val_mean_squared_error: 0.0725\n",
      "Epoch 4/10\n",
      "63954/63954 - 22s - loss: 0.0607 - mean_squared_error: 0.0596 - val_loss: 0.0757 - val_mean_squared_error: 0.0745\n",
      "Epoch 5/10\n",
      "63954/63954 - 21s - loss: 0.0588 - mean_squared_error: 0.0575 - val_loss: 0.0789 - val_mean_squared_error: 0.0775\n",
      "Epoch 6/10\n",
      "63954/63954 - 19s - loss: 0.0572 - mean_squared_error: 0.0559 - val_loss: 0.0794 - val_mean_squared_error: 0.0780\n",
      "Epoch 7/10\n",
      "63954/63954 - 19s - loss: 0.0560 - mean_squared_error: 0.0545 - val_loss: 0.0816 - val_mean_squared_error: 0.0801\n",
      "Epoch 8/10\n",
      "63954/63954 - 19s - loss: 0.0549 - mean_squared_error: 0.0534 - val_loss: 0.0845 - val_mean_squared_error: 0.0829\n",
      "Epoch 9/10\n",
      "63954/63954 - 19s - loss: 0.0538 - mean_squared_error: 0.0522 - val_loss: 0.0854 - val_mean_squared_error: 0.0837\n",
      "Epoch 10/10\n",
      "63954/63954 - 19s - loss: 0.0528 - mean_squared_error: 0.0512 - val_loss: 0.0897 - val_mean_squared_error: 0.0880\n"
     ]
    }
   ],
   "source": [
    "l2_reg_dnn_dict={}\n",
    "for i in param_rand['l2_reg_dnn']:\n",
    "    model = xDeepFM(linear_feature_columns, dnn_feature_columns, dnn_hidden_units=(256, 256), l2_reg_linear=0.1,\n",
    "            cin_layer_size=(128, 128), cin_split_half=True, cin_activation='relu', l2_reg_cin=1e-07,\n",
    "            l2_reg_embedding=1e-05, l2_reg_dnn=i, init_std=0.0001, seed=1024,task='binary',dnn_use_bn=False)\n",
    "\n",
    "    model.compile(\"adam\", \"mse\", metrics=['mse'])\n",
    "\n",
    "    history = model.fit(train_model_input, train[target].values,\n",
    "                            batch_size=256, epochs=10, verbose=2, validation_split=0.2, )\n",
    "    pred_ans = model.predict(test_model_input, batch_size=256)\n",
    "    \n",
    "    auc = roc_auc_score(test[target].values, pred_ans)\n",
    "    \n",
    "    l2_reg_dnn_dict[i]={\"RMSE\": np.round(math.sqrt(mean_squared_error(test[target].values, pred_ans)),3),\n",
    "      \"MAE\" : np.round(mean_absolute_error(test[target].values, pred_ans),3),\n",
    "      \"MSE\" : np.round(mean_squared_error(test[target].values, pred_ans),3),\n",
    "      \"AUC\" : np.round(auc,3)}\n",
    "result['l2_reg_dnn']=l2_reg_dnn_dict"
   ]
  },
  {
   "cell_type": "code",
   "execution_count": 55,
   "metadata": {},
   "outputs": [
    {
     "data": {
      "text/plain": [
       "{0: {'RMSE': 0.291, 'MAE': 0.14, 'MSE': 0.085, 'AUC': 0.736},\n",
       " 0.2: {'RMSE': 0.297, 'MAE': 0.146, 'MSE': 0.088, 'AUC': 0.729},\n",
       " 2: {'RMSE': 0.293, 'MAE': 0.139, 'MSE': 0.086, 'AUC': 0.733},\n",
       " 4: {'RMSE': 0.296, 'MAE': 0.142, 'MSE': 0.088, 'AUC': 0.735}}"
      ]
     },
     "execution_count": 55,
     "metadata": {},
     "output_type": "execute_result"
    }
   ],
   "source": [
    "l2_reg_dnn_dict"
   ]
  },
  {
   "cell_type": "code",
   "execution_count": 56,
   "metadata": {},
   "outputs": [
    {
     "data": {
      "text/plain": [
       "{'RMSE': 0.293, 'MAE': 0.139, 'MSE': 0.086, 'AUC': 0.733}"
      ]
     },
     "execution_count": 56,
     "metadata": {},
     "output_type": "execute_result"
    }
   ],
   "source": [
    "l2_reg_dnn_dict[ 2]"
   ]
  },
  {
   "cell_type": "markdown",
   "metadata": {},
   "source": [
    "### dnn_dropout: float in [0,1), the probability we will drop out a given DNN coordinate.\n",
    "#### dnn_activation: Activation function to use in DNN"
   ]
  },
  {
   "cell_type": "code",
   "execution_count": 57,
   "metadata": {
    "scrolled": true
   },
   "outputs": [
    {
     "name": "stdout",
     "output_type": "stream",
     "text": [
      "Train on 63954 samples, validate on 15989 samples\n",
      "Epoch 1/10\n",
      "63954/63954 - 35s - loss: 0.0776 - mean_squared_error: 0.0775 - val_loss: 0.0698 - val_mean_squared_error: 0.0695\n",
      "Epoch 2/10\n",
      "63954/63954 - 20s - loss: 0.0660 - mean_squared_error: 0.0655 - val_loss: 0.0709 - val_mean_squared_error: 0.0703\n",
      "Epoch 3/10\n",
      "63954/63954 - 24s - loss: 0.0626 - mean_squared_error: 0.0619 - val_loss: 0.0735 - val_mean_squared_error: 0.0727\n",
      "Epoch 4/10\n",
      "63954/63954 - 23s - loss: 0.0606 - mean_squared_error: 0.0597 - val_loss: 0.0752 - val_mean_squared_error: 0.0742\n",
      "Epoch 5/10\n",
      "63954/63954 - 20s - loss: 0.0589 - mean_squared_error: 0.0579 - val_loss: 0.0777 - val_mean_squared_error: 0.0766\n",
      "Epoch 6/10\n",
      "63954/63954 - 19s - loss: 0.0576 - mean_squared_error: 0.0565 - val_loss: 0.0793 - val_mean_squared_error: 0.0781\n",
      "Epoch 7/10\n",
      "63954/63954 - 20s - loss: 0.0565 - mean_squared_error: 0.0553 - val_loss: 0.0808 - val_mean_squared_error: 0.0795\n",
      "Epoch 8/10\n",
      "63954/63954 - 21s - loss: 0.0555 - mean_squared_error: 0.0542 - val_loss: 0.0819 - val_mean_squared_error: 0.0806\n",
      "Epoch 9/10\n",
      "63954/63954 - 21s - loss: 0.0546 - mean_squared_error: 0.0533 - val_loss: 0.0858 - val_mean_squared_error: 0.0844\n",
      "Epoch 10/10\n",
      "63954/63954 - 23s - loss: 0.0536 - mean_squared_error: 0.0522 - val_loss: 0.0873 - val_mean_squared_error: 0.0859\n",
      "Train on 63954 samples, validate on 15989 samples\n",
      "Epoch 1/10\n",
      "63954/63954 - 37s - loss: 0.0774 - mean_squared_error: 0.0772 - val_loss: 0.0700 - val_mean_squared_error: 0.0696\n",
      "Epoch 2/10\n",
      "63954/63954 - 23s - loss: 0.0661 - mean_squared_error: 0.0656 - val_loss: 0.0708 - val_mean_squared_error: 0.0702\n",
      "Epoch 3/10\n",
      "63954/63954 - 20s - loss: 0.0628 - mean_squared_error: 0.0621 - val_loss: 0.0738 - val_mean_squared_error: 0.0729\n",
      "Epoch 4/10\n",
      "63954/63954 - 21s - loss: 0.0606 - mean_squared_error: 0.0597 - val_loss: 0.0748 - val_mean_squared_error: 0.0738\n",
      "Epoch 5/10\n",
      "63954/63954 - 22s - loss: 0.0590 - mean_squared_error: 0.0580 - val_loss: 0.0771 - val_mean_squared_error: 0.0759\n",
      "Epoch 6/10\n",
      "63954/63954 - 22s - loss: 0.0579 - mean_squared_error: 0.0567 - val_loss: 0.0800 - val_mean_squared_error: 0.0788\n",
      "Epoch 7/10\n",
      "63954/63954 - 22s - loss: 0.0568 - mean_squared_error: 0.0556 - val_loss: 0.0817 - val_mean_squared_error: 0.0803\n",
      "Epoch 8/10\n",
      "63954/63954 - 20s - loss: 0.0558 - mean_squared_error: 0.0545 - val_loss: 0.0830 - val_mean_squared_error: 0.0816\n",
      "Epoch 9/10\n",
      "63954/63954 - 20s - loss: 0.0550 - mean_squared_error: 0.0536 - val_loss: 0.0841 - val_mean_squared_error: 0.0826\n",
      "Epoch 10/10\n",
      "63954/63954 - 24s - loss: 0.0541 - mean_squared_error: 0.0527 - val_loss: 0.0860 - val_mean_squared_error: 0.0845\n",
      "Train on 63954 samples, validate on 15989 samples\n",
      "Epoch 1/10\n",
      "63954/63954 - 49s - loss: 0.0776 - mean_squared_error: 0.0775 - val_loss: 0.0699 - val_mean_squared_error: 0.0696\n",
      "Epoch 2/10\n",
      "63954/63954 - 20s - loss: 0.0663 - mean_squared_error: 0.0658 - val_loss: 0.0714 - val_mean_squared_error: 0.0708\n",
      "Epoch 3/10\n",
      "63954/63954 - 20s - loss: 0.0630 - mean_squared_error: 0.0623 - val_loss: 0.0734 - val_mean_squared_error: 0.0725\n",
      "Epoch 4/10\n",
      "63954/63954 - 20s - loss: 0.0610 - mean_squared_error: 0.0600 - val_loss: 0.0755 - val_mean_squared_error: 0.0745\n",
      "Epoch 5/10\n",
      "63954/63954 - 20s - loss: 0.0595 - mean_squared_error: 0.0584 - val_loss: 0.0766 - val_mean_squared_error: 0.0754\n",
      "Epoch 6/10\n",
      "63954/63954 - 20s - loss: 0.0584 - mean_squared_error: 0.0573 - val_loss: 0.0791 - val_mean_squared_error: 0.0778\n",
      "Epoch 7/10\n",
      "63954/63954 - 20s - loss: 0.0574 - mean_squared_error: 0.0561 - val_loss: 0.0796 - val_mean_squared_error: 0.0783\n",
      "Epoch 8/10\n",
      "63954/63954 - 20s - loss: 0.0567 - mean_squared_error: 0.0553 - val_loss: 0.0819 - val_mean_squared_error: 0.0804\n",
      "Epoch 9/10\n",
      "63954/63954 - 20s - loss: 0.0559 - mean_squared_error: 0.0545 - val_loss: 0.0831 - val_mean_squared_error: 0.0817\n",
      "Epoch 10/10\n",
      "63954/63954 - 20s - loss: 0.0555 - mean_squared_error: 0.0540 - val_loss: 0.0814 - val_mean_squared_error: 0.0799\n",
      "WARNING:tensorflow:Large dropout rate: 0.7 (>0.5). In TensorFlow 2.x, dropout() uses dropout rate instead of keep_prob. Please ensure that this is intended.\n",
      "WARNING:tensorflow:Large dropout rate: 0.7 (>0.5). In TensorFlow 2.x, dropout() uses dropout rate instead of keep_prob. Please ensure that this is intended.\n",
      "Train on 63954 samples, validate on 15989 samples\n",
      "Epoch 1/10\n",
      "63954/63954 - 37s - loss: 0.0777 - mean_squared_error: 0.0776 - val_loss: 0.0697 - val_mean_squared_error: 0.0694\n",
      "Epoch 2/10\n",
      "63954/63954 - 20s - loss: 0.0664 - mean_squared_error: 0.0660 - val_loss: 0.0707 - val_mean_squared_error: 0.0701\n",
      "Epoch 3/10\n",
      "63954/63954 - 20s - loss: 0.0631 - mean_squared_error: 0.0624 - val_loss: 0.0733 - val_mean_squared_error: 0.0725\n",
      "Epoch 4/10\n",
      "63954/63954 - 20s - loss: 0.0608 - mean_squared_error: 0.0599 - val_loss: 0.0755 - val_mean_squared_error: 0.0745\n",
      "Epoch 5/10\n",
      "63954/63954 - 20s - loss: 0.0590 - mean_squared_error: 0.0579 - val_loss: 0.0780 - val_mean_squared_error: 0.0769\n",
      "Epoch 6/10\n",
      "63954/63954 - 20s - loss: 0.0576 - mean_squared_error: 0.0564 - val_loss: 0.0797 - val_mean_squared_error: 0.0785\n",
      "Epoch 7/10\n",
      "63954/63954 - 20s - loss: 0.0563 - mean_squared_error: 0.0551 - val_loss: 0.0824 - val_mean_squared_error: 0.0811\n",
      "Epoch 8/10\n",
      "63954/63954 - 20s - loss: 0.0552 - mean_squared_error: 0.0539 - val_loss: 0.0821 - val_mean_squared_error: 0.0807\n",
      "Epoch 9/10\n",
      "63954/63954 - 20s - loss: 0.0543 - mean_squared_error: 0.0529 - val_loss: 0.0846 - val_mean_squared_error: 0.0832\n",
      "Epoch 10/10\n",
      "63954/63954 - 20s - loss: 0.0534 - mean_squared_error: 0.0520 - val_loss: 0.0851 - val_mean_squared_error: 0.0836\n",
      "WARNING:tensorflow:Large dropout rate: 0.9 (>0.5). In TensorFlow 2.x, dropout() uses dropout rate instead of keep_prob. Please ensure that this is intended.\n",
      "WARNING:tensorflow:Large dropout rate: 0.9 (>0.5). In TensorFlow 2.x, dropout() uses dropout rate instead of keep_prob. Please ensure that this is intended.\n",
      "Train on 63954 samples, validate on 15989 samples\n",
      "Epoch 1/10\n",
      "63954/63954 - 39s - loss: 0.0795 - mean_squared_error: 0.0794 - val_loss: 0.0705 - val_mean_squared_error: 0.0704\n",
      "Epoch 2/10\n",
      "63954/63954 - 22s - loss: 0.0682 - mean_squared_error: 0.0678 - val_loss: 0.0703 - val_mean_squared_error: 0.0698\n",
      "Epoch 3/10\n",
      "63954/63954 - 21s - loss: 0.0640 - mean_squared_error: 0.0634 - val_loss: 0.0728 - val_mean_squared_error: 0.0721\n",
      "Epoch 4/10\n",
      "63954/63954 - 21s - loss: 0.0614 - mean_squared_error: 0.0606 - val_loss: 0.0755 - val_mean_squared_error: 0.0747\n",
      "Epoch 5/10\n",
      "63954/63954 - 23s - loss: 0.0594 - mean_squared_error: 0.0584 - val_loss: 0.0760 - val_mean_squared_error: 0.0750\n",
      "Epoch 6/10\n",
      "63954/63954 - 21s - loss: 0.0577 - mean_squared_error: 0.0567 - val_loss: 0.0788 - val_mean_squared_error: 0.0777\n",
      "Epoch 7/10\n",
      "63954/63954 - 23s - loss: 0.0564 - mean_squared_error: 0.0553 - val_loss: 0.0801 - val_mean_squared_error: 0.0789\n",
      "Epoch 8/10\n",
      "63954/63954 - 31s - loss: 0.0552 - mean_squared_error: 0.0539 - val_loss: 0.0845 - val_mean_squared_error: 0.0832\n",
      "Epoch 9/10\n",
      "63954/63954 - 72s - loss: 0.0539 - mean_squared_error: 0.0526 - val_loss: 0.0848 - val_mean_squared_error: 0.0834\n",
      "Epoch 10/10\n",
      "63954/63954 - 66s - loss: 0.0529 - mean_squared_error: 0.0515 - val_loss: 0.0865 - val_mean_squared_error: 0.0851\n"
     ]
    }
   ],
   "source": [
    "dnn_dropout_dict={}\n",
    "for i in param_rand['dnn_dropout']:\n",
    "    model = xDeepFM(linear_feature_columns, dnn_feature_columns, dnn_hidden_units=(256, 256),init_std=0.0001,\n",
    "                   cin_layer_size=(128, 128), cin_split_half=True, cin_activation='relu', l2_reg_cin=1e-07,\n",
    "                   seed=1024, dnn_dropout=i, dnn_activation='relu',task='binary',dnn_use_bn=False)\n",
    "\n",
    "    model.compile(\"adam\", \"mse\", metrics=['mse'])\n",
    "\n",
    "    history = model.fit(train_model_input, train[target].values,\n",
    "                            batch_size=256, epochs=10, verbose=2, validation_split=0.2, )\n",
    "    pred_ans = model.predict(test_model_input, batch_size=256)\n",
    "    \n",
    "    auc = roc_auc_score(test[target].values, pred_ans)\n",
    "    \n",
    "    dnn_dropout_dict[i]={\"RMSE\": np.round(math.sqrt(mean_squared_error(test[target].values, pred_ans)),3),\n",
    "      \"MAE\" : np.round(mean_absolute_error(test[target].values, pred_ans),3),\n",
    "      \"MSE\" : np.round(mean_squared_error(test[target].values, pred_ans),3),\n",
    "      \"AUC\" : np.round(auc,3)}\n",
    "result['dnn_dropout']=dnn_dropout_dict"
   ]
  },
  {
   "cell_type": "code",
   "execution_count": 58,
   "metadata": {},
   "outputs": [
    {
     "data": {
      "text/plain": [
       "{0: {'RMSE': 0.293, 'MAE': 0.131, 'MSE': 0.086, 'AUC': 0.737},\n",
       " 0.3: {'RMSE': 0.291, 'MAE': 0.133, 'MSE': 0.085, 'AUC': 0.741},\n",
       " 0.5: {'RMSE': 0.284, 'MAE': 0.127, 'MSE': 0.08, 'AUC': 0.742},\n",
       " 0.7: {'RMSE': 0.289, 'MAE': 0.13, 'MSE': 0.084, 'AUC': 0.741},\n",
       " 0.9: {'RMSE': 0.291, 'MAE': 0.138, 'MSE': 0.084, 'AUC': 0.741}}"
      ]
     },
     "execution_count": 58,
     "metadata": {},
     "output_type": "execute_result"
    }
   ],
   "source": [
    "dnn_dropout_dict"
   ]
  },
  {
   "cell_type": "code",
   "execution_count": 59,
   "metadata": {},
   "outputs": [
    {
     "data": {
      "text/plain": [
       "{'RMSE': 0.284, 'MAE': 0.127, 'MSE': 0.08, 'AUC': 0.742}"
      ]
     },
     "execution_count": 59,
     "metadata": {},
     "output_type": "execute_result"
    }
   ],
   "source": [
    "#***\n",
    "dnn_dropout_dict[ 0.5]"
   ]
  },
  {
   "cell_type": "markdown",
   "metadata": {},
   "source": [
    "# Best Model after hyper-parameter tuning"
   ]
  },
  {
   "cell_type": "code",
   "execution_count": 94,
   "metadata": {
    "scrolled": true
   },
   "outputs": [
    {
     "name": "stdout",
     "output_type": "stream",
     "text": [
      "WARNING:tensorflow:Large dropout rate: 0.9 (>0.5). In TensorFlow 2.x, dropout() uses dropout rate instead of keep_prob. Please ensure that this is intended.\n"
     ]
    }
   ],
   "source": [
    "#model = xDeepFM(linear_feature_columns,dnn_feature_columns, dnn_hidden_units=(128,128), \n",
    "#             init_std=0.0001, seed=1024,task='binary')\n",
    "\n",
    "model = xDeepFM(linear_feature_columns, dnn_feature_columns, dnn_hidden_units=(256, 256),init_std=0.0001,\n",
    "                   cin_layer_size=(128, 128), cin_split_half=True, cin_activation='relu', l2_reg_cin=1e-07,\n",
    "                   seed=1024, dnn_dropout=0.5, dnn_activation='relu',task='binary',dnn_use_bn=False)\n",
    "    \n",
    "model.compile(\"adam\", \"mse\", metrics=['mse'])"
   ]
  },
  {
   "cell_type": "code",
   "execution_count": 95,
   "metadata": {},
   "outputs": [
    {
     "name": "stdout",
     "output_type": "stream",
     "text": [
      "Train on 127886 samples, validate on 31972 samples\n",
      "Epoch 1/10\n",
      "127886/127886 - 74s - loss: 0.0758 - mean_squared_error: 0.0756 - val_loss: 0.0707 - val_mean_squared_error: 0.0702\n",
      "Epoch 2/10\n",
      "127886/127886 - 55s - loss: 0.0678 - mean_squared_error: 0.0669 - val_loss: 0.0720 - val_mean_squared_error: 0.0709\n",
      "Epoch 3/10\n",
      "127886/127886 - 52s - loss: 0.0652 - mean_squared_error: 0.0639 - val_loss: 0.0737 - val_mean_squared_error: 0.0723\n",
      "Epoch 4/10\n",
      "127886/127886 - 51s - loss: 0.0634 - mean_squared_error: 0.0618 - val_loss: 0.0766 - val_mean_squared_error: 0.0749\n",
      "Epoch 5/10\n",
      "127886/127886 - 51s - loss: 0.0616 - mean_squared_error: 0.0599 - val_loss: 0.0788 - val_mean_squared_error: 0.0770\n",
      "Epoch 6/10\n",
      "127886/127886 - 51s - loss: 0.0601 - mean_squared_error: 0.0582 - val_loss: 0.0804 - val_mean_squared_error: 0.0784\n",
      "Epoch 7/10\n",
      "127886/127886 - 50s - loss: 0.0586 - mean_squared_error: 0.0566 - val_loss: 0.0832 - val_mean_squared_error: 0.0811\n",
      "Epoch 8/10\n",
      "127886/127886 - 50s - loss: 0.0575 - mean_squared_error: 0.0554 - val_loss: 0.0861 - val_mean_squared_error: 0.0838\n",
      "Epoch 9/10\n",
      "127886/127886 - 50s - loss: 0.0563 - mean_squared_error: 0.0540 - val_loss: 0.0876 - val_mean_squared_error: 0.0853\n",
      "Epoch 10/10\n",
      "127886/127886 - 49s - loss: 0.0555 - mean_squared_error: 0.0531 - val_loss: 0.0874 - val_mean_squared_error: 0.0850\n"
     ]
    }
   ],
   "source": [
    "history = model.fit(train_model_input, train[target].values,\n",
    "                        batch_size=256, epochs=10, verbose=2, validation_split=0.2, )"
   ]
  },
  {
   "cell_type": "code",
   "execution_count": 96,
   "metadata": {},
   "outputs": [],
   "source": [
    "pred_ans = model.predict(test_model_input, batch_size=256)\n",
    "\n",
    "auc = roc_auc_score(test[target].values, pred_ans)"
   ]
  },
  {
   "cell_type": "code",
   "execution_count": 97,
   "metadata": {},
   "outputs": [
    {
     "name": "stdout",
     "output_type": "stream",
     "text": [
      "RMSE:\t0.290000\n",
      "MAE:\t0.134000\n",
      "MSE:\t0.084000\n",
      "AUC:\t0.748000\n"
     ]
    }
   ],
   "source": [
    "print(\"RMSE:\\t%f\" % np.round(math.sqrt(mean_squared_error(test[target].values, pred_ans)),3),\n",
    "      \"MAE:\\t%f\" % np.round(mean_absolute_error(test[target].values, pred_ans),3),\n",
    "      \"MSE:\\t%f\" % np.round(mean_squared_error(test[target].values, pred_ans),3),\n",
    "      \"AUC:\\t%f\" % np.round(auc,3),\n",
    "      sep='\\n')"
   ]
  },
  {
   "cell_type": "markdown",
   "metadata": {},
   "source": [
    "### Result using 200000 rows of data"
   ]
  },
  {
   "cell_type": "code",
   "execution_count": 93,
   "metadata": {},
   "outputs": [
    {
     "name": "stdout",
     "output_type": "stream",
     "text": [
      "RMSE:\t0.291000\n",
      "MAE:\t0.134000\n",
      "MSE:\t0.085000\n",
      "AUC:\t0.747000\n"
     ]
    }
   ],
   "source": [
    "print(\"RMSE:\\t%f\" % np.round(math.sqrt(mean_squared_error(test[target].values, pred_ans)),3),\n",
    "      \"MAE:\\t%f\" % np.round(mean_absolute_error(test[target].values, pred_ans),3),\n",
    "      \"MSE:\\t%f\" % np.round(mean_squared_error(test[target].values, pred_ans),3),\n",
    "      \"AUC:\\t%f\" % np.round(auc,3),\n",
    "      sep='\\n')"
   ]
  },
  {
   "cell_type": "markdown",
   "metadata": {},
   "source": [
    "### Result using 100000 rows of data"
   ]
  },
  {
   "cell_type": "code",
   "execution_count": 63,
   "metadata": {},
   "outputs": [
    {
     "name": "stdout",
     "output_type": "stream",
     "text": [
      "RMSE:\t0.286000\n",
      "MAE:\t0.127000\n",
      "MSE:\t0.082000\n",
      "AUC:\t0.746000\n"
     ]
    }
   ],
   "source": [
    "print(\"RMSE:\\t%f\" % np.round(math.sqrt(mean_squared_error(test[target].values, pred_ans)),3),\n",
    "      \"MAE:\\t%f\" % np.round(mean_absolute_error(test[target].values, pred_ans),3),\n",
    "      \"MSE:\\t%f\" % np.round(mean_squared_error(test[target].values, pred_ans),3),\n",
    "      \"AUC:\\t%f\" % np.round(auc,3),\n",
    "      sep='\\n')"
   ]
  },
  {
   "cell_type": "code",
   "execution_count": 64,
   "metadata": {},
   "outputs": [
    {
     "name": "stderr",
     "output_type": "stream",
     "text": [
      "/Users/yas/opt/anaconda3/lib/python3.7/site-packages/sklearn/metrics/_ranking.py:808: UndefinedMetricWarning: No positive samples in y_true, true positive value should be meaningless\n",
      "  UndefinedMetricWarning)\n"
     ]
    }
   ],
   "source": [
    "fpr, tpr, thresholds = metrics.roc_curve(test[target].values, pred_ans, pos_label=2)"
   ]
  },
  {
   "cell_type": "code",
   "execution_count": 67,
   "metadata": {
    "scrolled": true
   },
   "outputs": [
    {
     "name": "stdout",
     "output_type": "stream",
     "text": [
      "No Skill: ROC AUC=0.500\n",
      "Logistic: ROC AUC=0.746\n"
     ]
    },
    {
     "data": {
      "image/png": "[encoded data removed]",
      "text/plain": [
       "<Figure size 432x288 with 1 Axes>"
      ]
     },
     "metadata": {
      "needs_background": "light"
     },
     "output_type": "display_data"
    }
   ],
   "source": [
    "# roc curve and auc\n",
    "\n",
    "# generate a no skill prediction (majority class)\n",
    "ns_probs = [0 for _ in range(len(pred_ans))]\n",
    "# predict probabilities\n",
    "lr_probs = pred_ans\n",
    "\n",
    "# calculate scores\n",
    "ns_auc = roc_auc_score(test[target].values, ns_probs)\n",
    "lr_auc = roc_auc_score(test[target].values, lr_probs)\n",
    "# summarize scores\n",
    "print('No Skill: ROC AUC=%.3f' % (ns_auc))\n",
    "print('Logistic: ROC AUC=%.3f' % (lr_auc))\n",
    "# calculate roc curves\n",
    "ns_fpr, ns_tpr, _ = roc_curve(test[target].values, ns_probs)\n",
    "lr_fpr, lr_tpr, _ = roc_curve(test[target].values, lr_probs)\n",
    "# plot the roc curve for the model\n",
    "plt.plot(ns_fpr, ns_tpr, linestyle='--', label='No Skill')\n",
    "plt.plot(lr_fpr, lr_tpr, marker='.', label='Logistic')\n",
    "# axis labels\n",
    "plt.xlabel('False Positive Rate')\n",
    "plt.ylabel('True Positive Rate')\n",
    "# show the legend\n",
    "plt.legend()\n",
    "# show the plot\n",
    "plt.show()"
   ]
  },
  {
   "cell_type": "markdown",
   "metadata": {},
   "source": [
    "## Resources:\n",
    "\n",
    "https://deepctr-doc.readthedocs.io/en/latest/Quick-Start.html\n",
    "\n",
    "https://deepctr-doc.readthedocs.io/en/latest/deepctr.models.xdeepfm.html\n",
    "\n",
    "https://towardsdatascience.com/extreme-deep-factorization-machine-xdeepfm-1ba180a6de78"
   ]
  },
  {
   "cell_type": "code",
   "execution_count": null,
   "metadata": {},
   "outputs": [],
   "source": []
  }
 ],
 "metadata": {
  "kernelspec": {
   "display_name": "Python 3",
   "language": "python",
   "name": "python3"
  },
  "language_info": {
   "codemirror_mode": {
    "name": "ipython",
    "version": 3
   },
   "file_extension": ".py",
   "mimetype": "text/x-python",
   "name": "python",
   "nbconvert_exporter": "python",
   "pygments_lexer": "ipython3",
   "version": "3.7.4"
  }
 },
 "nbformat": 4,
 "nbformat_minor": 1
}
