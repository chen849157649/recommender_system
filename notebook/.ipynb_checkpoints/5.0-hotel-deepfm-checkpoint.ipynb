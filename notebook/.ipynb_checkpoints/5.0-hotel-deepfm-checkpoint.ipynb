{
 "cells": [
  {
   "cell_type": "markdown",
   "metadata": {},
   "source": [
    "# DeepFM Recommender System - Expedia Hotel dataset"
   ]
  },
  {
   "cell_type": "markdown",
   "metadata": {},
   "source": [
    "## Import Libraries"
   ]
  },
  {
   "cell_type": "code",
   "execution_count": 1,
   "metadata": {},
   "outputs": [],
   "source": [
    "import numpy as np\n",
    "import pandas as pd\n",
    "import matplotlib.pyplot as plt\n",
    "import seaborn as sns\n",
    "%matplotlib inline\n",
    "\n",
    "import tensorflow as tf\n",
    "import warnings\n",
    "import math\n",
    "import sys\n",
    "import holidays\n",
    "from sklearn.metrics import roc_curve, auc\n",
    "from sklearn.metrics import roc_auc_score\n",
    "\n",
    "from sklearn.metrics import mean_squared_error\n",
    "from sklearn.metrics import mean_absolute_error\n",
    "from sklearn.preprocessing import LabelEncoder, MinMaxScaler\n",
    "from math import sqrt\n",
    "\n",
    "\n",
    "from tensorflow.python.keras.models import Model\n",
    "from tensorflow.python.keras.layers import Dense\n",
    "\n",
    "from deepctr.inputs import build_input_features, get_linear_logit, input_from_feature_columns, combined_dnn_input\n",
    "from deepctr.layers.core import PredictionLayer, DNN\n",
    "from deepctr.layers.utils import add_func\n",
    "from deepctr.models import DeepFM\n",
    "\n",
    "\n",
    "from sklearn.metrics import mean_squared_error\n",
    "from sklearn.model_selection import train_test_split\n",
    "from sklearn.preprocessing import LabelEncoder\n",
    "\n",
    "from deepctr.inputs import SparseFeat,get_feature_names\n",
    "\n"
   ]
  },
  {
   "cell_type": "code",
   "execution_count": 2,
   "metadata": {},
   "outputs": [
    {
     "data": {
      "text/plain": [
       "(100000, 24)"
      ]
     },
     "execution_count": 2,
     "metadata": {},
     "output_type": "execute_result"
    }
   ],
   "source": [
    "df = pd.read_csv('../data/hotel_data/train.csv', sep=',', nrows=100000)\n",
    "df.shape"
   ]
  },
  {
   "cell_type": "markdown",
   "metadata": {},
   "source": [
    "## Data Preprocessing"
   ]
  },
  {
   "cell_type": "code",
   "execution_count": 3,
   "metadata": {},
   "outputs": [
    {
     "data": {
      "text/html": [
       "<div>\n",
       "<style scoped>\n",
       "    .dataframe tbody tr th:only-of-type {\n",
       "        vertical-align: middle;\n",
       "    }\n",
       "\n",
       "    .dataframe tbody tr th {\n",
       "        vertical-align: top;\n",
       "    }\n",
       "\n",
       "    .dataframe thead th {\n",
       "        text-align: right;\n",
       "    }\n",
       "</style>\n",
       "<table border=\"1\" class=\"dataframe\">\n",
       "  <thead>\n",
       "    <tr style=\"text-align: right;\">\n",
       "      <th></th>\n",
       "      <th>date_time</th>\n",
       "      <th>site_name</th>\n",
       "      <th>posa_continent</th>\n",
       "      <th>user_location_country</th>\n",
       "      <th>user_location_region</th>\n",
       "      <th>user_location_city</th>\n",
       "      <th>orig_destination_distance</th>\n",
       "      <th>user_id</th>\n",
       "      <th>is_mobile</th>\n",
       "      <th>is_package</th>\n",
       "      <th>...</th>\n",
       "      <th>srch_children_cnt</th>\n",
       "      <th>srch_rm_cnt</th>\n",
       "      <th>srch_destination_id</th>\n",
       "      <th>srch_destination_type_id</th>\n",
       "      <th>is_booking</th>\n",
       "      <th>cnt</th>\n",
       "      <th>hotel_continent</th>\n",
       "      <th>hotel_country</th>\n",
       "      <th>hotel_market</th>\n",
       "      <th>hotel_cluster</th>\n",
       "    </tr>\n",
       "  </thead>\n",
       "  <tbody>\n",
       "    <tr>\n",
       "      <td>0</td>\n",
       "      <td>2014-08-11 07:46:59</td>\n",
       "      <td>2</td>\n",
       "      <td>3</td>\n",
       "      <td>66</td>\n",
       "      <td>348</td>\n",
       "      <td>48862</td>\n",
       "      <td>2234.2641</td>\n",
       "      <td>12</td>\n",
       "      <td>0</td>\n",
       "      <td>1</td>\n",
       "      <td>...</td>\n",
       "      <td>0</td>\n",
       "      <td>1</td>\n",
       "      <td>8250</td>\n",
       "      <td>1</td>\n",
       "      <td>0</td>\n",
       "      <td>3</td>\n",
       "      <td>2</td>\n",
       "      <td>50</td>\n",
       "      <td>628</td>\n",
       "      <td>1</td>\n",
       "    </tr>\n",
       "    <tr>\n",
       "      <td>1</td>\n",
       "      <td>2014-08-11 08:22:12</td>\n",
       "      <td>2</td>\n",
       "      <td>3</td>\n",
       "      <td>66</td>\n",
       "      <td>348</td>\n",
       "      <td>48862</td>\n",
       "      <td>2234.2641</td>\n",
       "      <td>12</td>\n",
       "      <td>0</td>\n",
       "      <td>1</td>\n",
       "      <td>...</td>\n",
       "      <td>0</td>\n",
       "      <td>1</td>\n",
       "      <td>8250</td>\n",
       "      <td>1</td>\n",
       "      <td>1</td>\n",
       "      <td>1</td>\n",
       "      <td>2</td>\n",
       "      <td>50</td>\n",
       "      <td>628</td>\n",
       "      <td>1</td>\n",
       "    </tr>\n",
       "  </tbody>\n",
       "</table>\n",
       "<p>2 rows × 24 columns</p>\n",
       "</div>"
      ],
      "text/plain": [
       "             date_time  site_name  posa_continent  user_location_country  \\\n",
       "0  2014-08-11 07:46:59          2               3                     66   \n",
       "1  2014-08-11 08:22:12          2               3                     66   \n",
       "\n",
       "   user_location_region  user_location_city  orig_destination_distance  \\\n",
       "0                   348               48862                  2234.2641   \n",
       "1                   348               48862                  2234.2641   \n",
       "\n",
       "   user_id  is_mobile  is_package  ...  srch_children_cnt srch_rm_cnt  \\\n",
       "0       12          0           1  ...                  0           1   \n",
       "1       12          0           1  ...                  0           1   \n",
       "\n",
       "  srch_destination_id  srch_destination_type_id  is_booking  cnt  \\\n",
       "0                8250                         1           0    3   \n",
       "1                8250                         1           1    1   \n",
       "\n",
       "   hotel_continent  hotel_country  hotel_market  hotel_cluster  \n",
       "0                2             50           628              1  \n",
       "1                2             50           628              1  \n",
       "\n",
       "[2 rows x 24 columns]"
      ]
     },
     "execution_count": 3,
     "metadata": {},
     "output_type": "execute_result"
    }
   ],
   "source": [
    "df.head(n=2)"
   ]
  },
  {
   "cell_type": "code",
   "execution_count": 4,
   "metadata": {},
   "outputs": [],
   "source": [
    "# rename 2 columns\n",
    "df = df.rename(columns={'hotel_cluster': 'item_id', 'is_booking': 'rating'})"
   ]
  },
  {
   "cell_type": "markdown",
   "metadata": {},
   "source": [
    "### drop orig_destination_distance and null values."
   ]
  },
  {
   "cell_type": "code",
   "execution_count": 5,
   "metadata": {},
   "outputs": [],
   "source": [
    "#Define an information dectionary for features\n",
    "info_dic = {'date_time':'Timestamp',\n",
    "'site_name':'ID of the Expedia point of sale (i.e. Expedia.com, Expedia.co.uk, Expedia.co.jp, …)',\n",
    "'posa_continent':'ID of continent associated with site_name',\n",
    "'user_location_country':'The ID of the country the customer is located',\n",
    "'user_location_region':'The ID of the region the customer is located',\n",
    "'user_location_city':'The ID of the city the customer is located',\n",
    "'orig_destination_distance':'Physical distance between a hotel and a customer at the time of search. A null means the distance could not be calculated',\n",
    "'user_id':'ID of user','is_mobile':'1 when a user connected from a mobile device, 0 otherwise',\n",
    "'is_package':'1 if the click/booking was generated as a part of a package (i.e. combined with a flight), 0 otherwise',\n",
    "'channel':'ID of a marketing channel',\n",
    "'srch_ci':'Checkin date','srch_co':'Checkout date',\n",
    "'srch_adults_cnt':'The number of adults specified in the hotel room',\n",
    "'srch_children_cnt':'The number of (extra occupancy) children specified in the hotel room',\n",
    "'srch_rm_cnt':'The number of hotel rooms specified in the search',\n",
    "'srch_destination_id':'ID of the destination where the hotel search was performed',\n",
    "'srch_destination_type_id':'Type of destination',\n",
    "'hotel_continent':'Hotel continent',\n",
    "'hotel_country':'Hotel country',\n",
    "'hotel_market':'Hotel market','rating':'(is_booking)1 if a booking, 0 if a click',\n",
    "'cnt':'Numer of similar events in the context of the same user session','item_id':'(hotel_cluster)ID of a hotel cluster'}"
   ]
  },
  {
   "cell_type": "code",
   "execution_count": 6,
   "metadata": {},
   "outputs": [
    {
     "data": {
      "text/plain": [
       "123"
      ]
     },
     "execution_count": 6,
     "metadata": {},
     "output_type": "execute_result"
    }
   ],
   "source": [
    "len(df['user_location_country'].unique())"
   ]
  },
  {
   "cell_type": "code",
   "execution_count": 7,
   "metadata": {},
   "outputs": [
    {
     "data": {
      "text/plain": [
       "('Checkin date', 'Checkout date')"
      ]
     },
     "execution_count": 7,
     "metadata": {},
     "output_type": "execute_result"
    }
   ],
   "source": [
    "info_dic['srch_ci'],info_dic['srch_co']"
   ]
  },
  {
   "cell_type": "code",
   "execution_count": 8,
   "metadata": {},
   "outputs": [
    {
     "name": "stdout",
     "output_type": "stream",
     "text": [
      "<class 'pandas.core.frame.DataFrame'>\n",
      "RangeIndex: 100000 entries, 0 to 99999\n",
      "Data columns (total 24 columns):\n",
      "date_time                    100000 non-null object\n",
      "site_name                    100000 non-null int64\n",
      "posa_continent               100000 non-null int64\n",
      "user_location_country        100000 non-null int64\n",
      "user_location_region         100000 non-null int64\n",
      "user_location_city           100000 non-null int64\n",
      "orig_destination_distance    63078 non-null float64\n",
      "user_id                      100000 non-null int64\n",
      "is_mobile                    100000 non-null int64\n",
      "is_package                   100000 non-null int64\n",
      "channel                      100000 non-null int64\n",
      "srch_ci                      99929 non-null object\n",
      "srch_co                      99929 non-null object\n",
      "srch_adults_cnt              100000 non-null int64\n",
      "srch_children_cnt            100000 non-null int64\n",
      "srch_rm_cnt                  100000 non-null int64\n",
      "srch_destination_id          100000 non-null int64\n",
      "srch_destination_type_id     100000 non-null int64\n",
      "rating                       100000 non-null int64\n",
      "cnt                          100000 non-null int64\n",
      "hotel_continent              100000 non-null int64\n",
      "hotel_country                100000 non-null int64\n",
      "hotel_market                 100000 non-null int64\n",
      "item_id                      100000 non-null int64\n",
      "dtypes: float64(1), int64(20), object(3)\n",
      "memory usage: 18.3+ MB\n"
     ]
    }
   ],
   "source": [
    "df.info()"
   ]
  },
  {
   "cell_type": "markdown",
   "metadata": {},
   "source": [
    "## Feature Engineering"
   ]
  },
  {
   "cell_type": "code",
   "execution_count": 9,
   "metadata": {},
   "outputs": [],
   "source": [
    "df= df.drop(['orig_destination_distance'],axis=1)\n",
    "df = df.dropna()"
   ]
  },
  {
   "cell_type": "code",
   "execution_count": 10,
   "metadata": {},
   "outputs": [
    {
     "name": "stdout",
     "output_type": "stream",
     "text": [
      "<class 'pandas.core.frame.DataFrame'>\n",
      "Int64Index: 99929 entries, 0 to 99999\n",
      "Data columns (total 23 columns):\n",
      "date_time                   99929 non-null object\n",
      "site_name                   99929 non-null int64\n",
      "posa_continent              99929 non-null int64\n",
      "user_location_country       99929 non-null int64\n",
      "user_location_region        99929 non-null int64\n",
      "user_location_city          99929 non-null int64\n",
      "user_id                     99929 non-null int64\n",
      "is_mobile                   99929 non-null int64\n",
      "is_package                  99929 non-null int64\n",
      "channel                     99929 non-null int64\n",
      "srch_ci                     99929 non-null object\n",
      "srch_co                     99929 non-null object\n",
      "srch_adults_cnt             99929 non-null int64\n",
      "srch_children_cnt           99929 non-null int64\n",
      "srch_rm_cnt                 99929 non-null int64\n",
      "srch_destination_id         99929 non-null int64\n",
      "srch_destination_type_id    99929 non-null int64\n",
      "rating                      99929 non-null int64\n",
      "cnt                         99929 non-null int64\n",
      "hotel_continent             99929 non-null int64\n",
      "hotel_country               99929 non-null int64\n",
      "hotel_market                99929 non-null int64\n",
      "item_id                     99929 non-null int64\n",
      "dtypes: int64(20), object(3)\n",
      "memory usage: 18.3+ MB\n"
     ]
    }
   ],
   "source": [
    "df.info()"
   ]
  },
  {
   "cell_type": "code",
   "execution_count": 11,
   "metadata": {},
   "outputs": [],
   "source": [
    "# Define holidays in some countries\n",
    "ca_holidays = holidays.Canada()\n",
    "us_holidays = holidays.UnitedStates()\n",
    "\n",
    "uk_holidays = holidays.UnitedKingdom()\n",
    "gr_holidays = holidays.Germany()\n",
    "\n",
    "au_holidays = holidays.Australia()\n",
    "\n",
    "jp_holidays = holidays.Japan()\n",
    "\n",
    "ar_holidays = holidays.Argentina()"
   ]
  },
  {
   "cell_type": "code",
   "execution_count": 12,
   "metadata": {},
   "outputs": [],
   "source": [
    "# check if checkin or checkout date is in holiday of different countries\n",
    "df['north_am_ci'] = df['srch_ci'].apply(lambda x: 1 if x in (us_holidays or ca_holidays)  else 0)\n",
    "df['north_am_co'] = df['srch_co'].apply(lambda x: 1 if x in (us_holidays or ca_holidays)  else 0)\n",
    "\n",
    "df['europe_ci'] = df['srch_ci'].apply(lambda x: 1 if x in (uk_holidays or gr_holidays)  else 0)\n",
    "df['europe_co'] = df['srch_co'].apply(lambda x: 1 if x in (uk_holidays or gr_holidays)  else 0)\n",
    "\n",
    "df['au_ci'] = df['srch_ci'].apply(lambda x: 1 if x in au_holidays  else 0)\n",
    "df['au_co'] = df['srch_co'].apply(lambda x: 1 if x in au_holidays else 0)\n",
    "\n",
    "df['asia_am_ci'] = df['srch_ci'].apply(lambda x: 1 if x in jp_holidays  else 0)\n",
    "df['asia_co'] = df['srch_co'].apply(lambda x: 1 if x in jp_holidays  else 0)\n",
    "\n",
    "df['south_am_ci'] = df['srch_ci'].apply(lambda x: 1 if x in ar_holidays else 0)\n",
    "df['south_am_co'] = df['srch_co'].apply(lambda x: 1 if x in ar_holidays else 0)"
   ]
  },
  {
   "cell_type": "code",
   "execution_count": 13,
   "metadata": {},
   "outputs": [
    {
     "data": {
      "text/html": [
       "<div>\n",
       "<style scoped>\n",
       "    .dataframe tbody tr th:only-of-type {\n",
       "        vertical-align: middle;\n",
       "    }\n",
       "\n",
       "    .dataframe tbody tr th {\n",
       "        vertical-align: top;\n",
       "    }\n",
       "\n",
       "    .dataframe thead th {\n",
       "        text-align: right;\n",
       "    }\n",
       "</style>\n",
       "<table border=\"1\" class=\"dataframe\">\n",
       "  <thead>\n",
       "    <tr style=\"text-align: right;\">\n",
       "      <th></th>\n",
       "      <th>date_time</th>\n",
       "      <th>site_name</th>\n",
       "      <th>posa_continent</th>\n",
       "      <th>user_location_country</th>\n",
       "      <th>user_location_region</th>\n",
       "      <th>user_location_city</th>\n",
       "      <th>user_id</th>\n",
       "      <th>is_mobile</th>\n",
       "      <th>is_package</th>\n",
       "      <th>channel</th>\n",
       "      <th>...</th>\n",
       "      <th>north_am_ci</th>\n",
       "      <th>north_am_co</th>\n",
       "      <th>europe_ci</th>\n",
       "      <th>europe_co</th>\n",
       "      <th>au_ci</th>\n",
       "      <th>au_co</th>\n",
       "      <th>asia_am_ci</th>\n",
       "      <th>asia_co</th>\n",
       "      <th>south_am_ci</th>\n",
       "      <th>south_am_co</th>\n",
       "    </tr>\n",
       "  </thead>\n",
       "  <tbody>\n",
       "    <tr>\n",
       "      <td>0</td>\n",
       "      <td>2014-08-11 07:46:59</td>\n",
       "      <td>2</td>\n",
       "      <td>3</td>\n",
       "      <td>66</td>\n",
       "      <td>348</td>\n",
       "      <td>48862</td>\n",
       "      <td>12</td>\n",
       "      <td>0</td>\n",
       "      <td>1</td>\n",
       "      <td>9</td>\n",
       "      <td>...</td>\n",
       "      <td>0</td>\n",
       "      <td>0</td>\n",
       "      <td>0</td>\n",
       "      <td>0</td>\n",
       "      <td>0</td>\n",
       "      <td>0</td>\n",
       "      <td>0</td>\n",
       "      <td>0</td>\n",
       "      <td>0</td>\n",
       "      <td>0</td>\n",
       "    </tr>\n",
       "    <tr>\n",
       "      <td>1</td>\n",
       "      <td>2014-08-11 08:22:12</td>\n",
       "      <td>2</td>\n",
       "      <td>3</td>\n",
       "      <td>66</td>\n",
       "      <td>348</td>\n",
       "      <td>48862</td>\n",
       "      <td>12</td>\n",
       "      <td>0</td>\n",
       "      <td>1</td>\n",
       "      <td>9</td>\n",
       "      <td>...</td>\n",
       "      <td>0</td>\n",
       "      <td>0</td>\n",
       "      <td>0</td>\n",
       "      <td>0</td>\n",
       "      <td>0</td>\n",
       "      <td>0</td>\n",
       "      <td>0</td>\n",
       "      <td>0</td>\n",
       "      <td>0</td>\n",
       "      <td>0</td>\n",
       "    </tr>\n",
       "  </tbody>\n",
       "</table>\n",
       "<p>2 rows × 33 columns</p>\n",
       "</div>"
      ],
      "text/plain": [
       "             date_time  site_name  posa_continent  user_location_country  \\\n",
       "0  2014-08-11 07:46:59          2               3                     66   \n",
       "1  2014-08-11 08:22:12          2               3                     66   \n",
       "\n",
       "   user_location_region  user_location_city  user_id  is_mobile  is_package  \\\n",
       "0                   348               48862       12          0           1   \n",
       "1                   348               48862       12          0           1   \n",
       "\n",
       "   channel  ... north_am_ci north_am_co  europe_ci  europe_co  au_ci  au_co  \\\n",
       "0        9  ...           0           0          0          0      0      0   \n",
       "1        9  ...           0           0          0          0      0      0   \n",
       "\n",
       "   asia_am_ci  asia_co  south_am_ci  south_am_co  \n",
       "0           0        0            0            0  \n",
       "1           0        0            0            0  \n",
       "\n",
       "[2 rows x 33 columns]"
      ]
     },
     "execution_count": 13,
     "metadata": {},
     "output_type": "execute_result"
    }
   ],
   "source": [
    "df.head(n=2)"
   ]
  },
  {
   "cell_type": "code",
   "execution_count": 14,
   "metadata": {},
   "outputs": [],
   "source": [
    "# extract month from date_time\n",
    "df['click_month'] = pd.DatetimeIndex(df['date_time']).month\n",
    "df['checkin_month'] = pd.DatetimeIndex(df['srch_ci']).month\n",
    "df['checkout_month'] = pd.DatetimeIndex(df['srch_co']).month"
   ]
  },
  {
   "cell_type": "code",
   "execution_count": 15,
   "metadata": {},
   "outputs": [],
   "source": [
    "df= df.drop(['date_time'],axis=1)\n",
    "df= df.drop(['srch_ci'],axis=1)\n",
    "df= df.drop(['srch_co'],axis=1)"
   ]
  },
  {
   "cell_type": "code",
   "execution_count": 16,
   "metadata": {},
   "outputs": [
    {
     "data": {
      "text/plain": [
       "(99929, 33)"
      ]
     },
     "execution_count": 16,
     "metadata": {},
     "output_type": "execute_result"
    }
   ],
   "source": [
    "df.shape"
   ]
  },
  {
   "cell_type": "code",
   "execution_count": 17,
   "metadata": {},
   "outputs": [
    {
     "data": {
      "text/plain": [
       "Index(['site_name', 'posa_continent', 'user_location_country',\n",
       "       'user_location_region', 'user_location_city', 'user_id', 'is_mobile',\n",
       "       'is_package', 'channel', 'srch_adults_cnt', 'srch_children_cnt',\n",
       "       'srch_rm_cnt', 'srch_destination_id', 'srch_destination_type_id',\n",
       "       'rating', 'cnt', 'hotel_continent', 'hotel_country', 'hotel_market',\n",
       "       'item_id', 'north_am_ci', 'north_am_co', 'europe_ci', 'europe_co',\n",
       "       'au_ci', 'au_co', 'asia_am_ci', 'asia_co', 'south_am_ci', 'south_am_co',\n",
       "       'click_month', 'checkin_month', 'checkout_month'],\n",
       "      dtype='object')"
      ]
     },
     "execution_count": 17,
     "metadata": {},
     "output_type": "execute_result"
    }
   ],
   "source": [
    "df.columns"
   ]
  },
  {
   "cell_type": "code",
   "execution_count": 18,
   "metadata": {},
   "outputs": [],
   "source": [
    "#Remove rows with the same user_id and item_id and different rating\n",
    "\n",
    "#max_rating = df.groupby(['user_id', 'item_id']).rating.transform(max)\n",
    "#df = df.loc[df.rating == max_rating]\n",
    "#df.drop_duplicates(keep='first',inplace=True)"
   ]
  },
  {
   "cell_type": "code",
   "execution_count": 19,
   "metadata": {},
   "outputs": [],
   "source": [
    "# categ_sparse / conti_dense\n",
    "sparse_features = ['site_name','posa_continent','user_location_country','user_location_region','user_location_city',\n",
    "             'user_id','is_mobile','is_package','channel','click_month','checkin_month','checkout_month',\n",
    "            'srch_adults_cnt','srch_children_cnt','srch_rm_cnt','srch_destination_id','hotel_continent',\n",
    "               'hotel_country','cnt','north_am_ci', 'north_am_co', 'europe_ci', 'europe_co','au_ci', 'au_co',\n",
    "                'asia_am_ci', 'asia_co', 'south_am_ci', 'south_am_co','click_month', 'checkin_month',\n",
    "                   'checkout_month']\n",
    "\n",
    "dense_features = ['hotel_market']\n",
    "target = ['rating']"
   ]
  },
  {
   "cell_type": "markdown",
   "metadata": {},
   "source": [
    "### Simple preprocessing"
   ]
  },
  {
   "cell_type": "code",
   "execution_count": 20,
   "metadata": {},
   "outputs": [],
   "source": [
    "# Label Encoding for sparse features,and normalization for dense numerical features\n",
    "for feat in sparse_features:\n",
    "    lbe = LabelEncoder()\n",
    "    df[feat] = lbe.fit_transform(df[feat])"
   ]
  },
  {
   "cell_type": "code",
   "execution_count": 21,
   "metadata": {},
   "outputs": [],
   "source": [
    "mms = MinMaxScaler(feature_range=(0,1))\n",
    "df[dense_features] = mms.fit_transform(df[dense_features])"
   ]
  },
  {
   "cell_type": "markdown",
   "metadata": {},
   "source": [
    "### Generate feature columns\n",
    "For sparse features, we transform them into dense vectors by embedding techniques. For dense numerical features, we concatenate them to the input tensors of fully connected layer."
   ]
  },
  {
   "cell_type": "code",
   "execution_count": 22,
   "metadata": {},
   "outputs": [],
   "source": [
    "# count #unique features for each sparse field\n",
    "fixlen_feature_columns = [SparseFeat(feat, df[feat].nunique(),embedding_dim=4)\n",
    "                          for feat in sparse_features]\n",
    "linear_feature_columns = fixlen_feature_columns\n",
    "dnn_feature_columns = fixlen_feature_columns\n",
    "feature_names = get_feature_names(linear_feature_columns + dnn_feature_columns)"
   ]
  },
  {
   "cell_type": "markdown",
   "metadata": {},
   "source": [
    "### Generate the training samples and train the model"
   ]
  },
  {
   "cell_type": "code",
   "execution_count": 23,
   "metadata": {},
   "outputs": [],
   "source": [
    "# generate input data for model\n",
    "train, test = train_test_split(df, test_size=0.2)\n",
    "train_model_input = {name:train[name].values for name in feature_names}\n",
    "test_model_input = {name:test[name].values for name in feature_names}"
   ]
  },
  {
   "cell_type": "code",
   "execution_count": 37,
   "metadata": {},
   "outputs": [],
   "source": [
    "# 4.Define Model,train\n",
    "\n",
    "#linear_feature_columns – An iterable containing all the features used by linear part of the model.\n",
    "#dnn_feature_columns – An iterable containing all the features used by deep part of the model.\n",
    "#fm_group – list, group_name of features that will be used to do feature interactions.\n",
    "#dnn_hidden_units – list,list of positive integer or empty list, the layer number and units in each layer of DNN\n",
    "#l2_reg_linear – float. L2 regularizer strength applied to linear part\n",
    "#l2_reg_embedding – float. L2 regularizer strength applied to embedding vector\n",
    "#l2_reg_dnn – float. L2 regularizer strength applied to DNN\n",
    "#init_std – float,to use as the initialize std of embedding vector\n",
    "#seed – integer ,to use as random seed.\n",
    "#dnn_dropout – float in [0,1), the probability we will drop out a given DNN coordinate.\n",
    "#dnn_activation – Activation function to use in DNN\n",
    "#dnn_use_bn – bool. Whether use BatchNormalization before activation or not in DNN\n",
    "#task – str, \"binary\" for binary logloss or \"regression\" for regression loss\n",
    "\n",
    "\n",
    "#model = DeepFM(linear_feature_columns, dnn_feature_columns, task='binary')\n",
    "\n",
    "\n",
    "model=DeepFM(linear_feature_columns, dnn_feature_columns, fm_group=['default_group'], dnn_hidden_units=(128, 128),\n",
    "             init_std=0.0001, seed=1024, dnn_dropout=0,\n",
    "             dnn_activation='relu', dnn_use_bn=False, task='binary')\n",
    "\n",
    "model.compile(\"adam\", \"mse\", metrics=['mse'], )"
   ]
  },
  {
   "cell_type": "code",
   "execution_count": 38,
   "metadata": {},
   "outputs": [
    {
     "name": "stdout",
     "output_type": "stream",
     "text": [
      "Train on 63954 samples, validate on 15989 samples\n",
      "Epoch 1/10\n",
      "63954/63954 - 5s - loss: 0.0795 - mean_squared_error: 0.0793 - val_loss: 0.0685 - val_mean_squared_error: 0.0682\n",
      "Epoch 2/10\n",
      "63954/63954 - 3s - loss: 0.0659 - mean_squared_error: 0.0654 - val_loss: 0.0697 - val_mean_squared_error: 0.0690\n",
      "Epoch 3/10\n",
      "63954/63954 - 3s - loss: 0.0625 - mean_squared_error: 0.0617 - val_loss: 0.0717 - val_mean_squared_error: 0.0708\n",
      "Epoch 4/10\n",
      "63954/63954 - 3s - loss: 0.0605 - mean_squared_error: 0.0596 - val_loss: 0.0742 - val_mean_squared_error: 0.0732\n",
      "Epoch 5/10\n",
      "63954/63954 - 3s - loss: 0.0590 - mean_squared_error: 0.0579 - val_loss: 0.0779 - val_mean_squared_error: 0.0767\n",
      "Epoch 6/10\n",
      "63954/63954 - 2s - loss: 0.0579 - mean_squared_error: 0.0567 - val_loss: 0.0763 - val_mean_squared_error: 0.0750\n",
      "Epoch 7/10\n",
      "63954/63954 - 2s - loss: 0.0569 - mean_squared_error: 0.0556 - val_loss: 0.0809 - val_mean_squared_error: 0.0795\n",
      "Epoch 8/10\n",
      "63954/63954 - 2s - loss: 0.0560 - mean_squared_error: 0.0547 - val_loss: 0.0808 - val_mean_squared_error: 0.0793\n",
      "Epoch 9/10\n",
      "63954/63954 - 3s - loss: 0.0552 - mean_squared_error: 0.0537 - val_loss: 0.0804 - val_mean_squared_error: 0.0789\n",
      "Epoch 10/10\n",
      "63954/63954 - 3s - loss: 0.0545 - mean_squared_error: 0.0529 - val_loss: 0.0830 - val_mean_squared_error: 0.0815\n"
     ]
    }
   ],
   "source": [
    "history = model.fit(train_model_input, train[target].values,\n",
    "                        batch_size=256, epochs=10, verbose=2, validation_split=0.2, )"
   ]
  },
  {
   "cell_type": "markdown",
   "metadata": {},
   "source": [
    "## Prediction"
   ]
  },
  {
   "cell_type": "code",
   "execution_count": 39,
   "metadata": {},
   "outputs": [],
   "source": [
    "pred_ans = model.predict(test_model_input, batch_size=256)"
   ]
  },
  {
   "cell_type": "markdown",
   "metadata": {},
   "source": [
    "## Evaluation"
   ]
  },
  {
   "cell_type": "code",
   "execution_count": 40,
   "metadata": {},
   "outputs": [],
   "source": [
    "auc = roc_auc_score(test[target].values, pred_ans)"
   ]
  },
  {
   "cell_type": "code",
   "execution_count": 41,
   "metadata": {},
   "outputs": [
    {
     "name": "stdout",
     "output_type": "stream",
     "text": [
      "RMSE:\t0.293000\n",
      "MAE:\t0.133000\n",
      "MSE:\t0.086000\n",
      "auc score:\t0.742000\n"
     ]
    }
   ],
   "source": [
    "print(\"RMSE:\\t%f\" % np.round(math.sqrt(mean_squared_error(test[target].values, pred_ans)),3),\n",
    "      \"MAE:\\t%f\" % np.round(mean_absolute_error(test[target].values, pred_ans),3),\n",
    "      \"MSE:\\t%f\" % np.round(mean_squared_error(test[target].values, pred_ans),3),\n",
    "      \"auc score:\\t%f\" % np.round(auc,3),\n",
    "      sep='\\n')"
   ]
  },
  {
   "cell_type": "code",
   "execution_count": 30,
   "metadata": {},
   "outputs": [
    {
     "name": "stderr",
     "output_type": "stream",
     "text": [
      "/Users/yas/opt/anaconda3/lib/python3.7/site-packages/sklearn/metrics/_ranking.py:808: UndefinedMetricWarning: No positive samples in y_true, true positive value should be meaningless\n",
      "  UndefinedMetricWarning)\n"
     ]
    }
   ],
   "source": [
    "from sklearn import metrics\n",
    "fpr, tpr, thresholds = metrics.roc_curve(test[target].values, pred_ans, pos_label=2)"
   ]
  },
  {
   "cell_type": "code",
   "execution_count": 31,
   "metadata": {},
   "outputs": [
    {
     "name": "stdout",
     "output_type": "stream",
     "text": [
      "No Skill: ROC AUC=0.500\n",
      "Logistic: ROC AUC=0.735\n"
     ]
    },
    {
     "data": {
      "image/png": "[encoded data removed]",
      "text/plain": [
       "<Figure size 432x288 with 1 Axes>"
      ]
     },
     "metadata": {
      "needs_background": "light"
     },
     "output_type": "display_data"
    }
   ],
   "source": [
    "# roc curve and auc\n",
    "\n",
    "# generate a no skill prediction (majority class)\n",
    "ns_probs = [0 for _ in range(len(pred_ans))]\n",
    "# predict probabilities\n",
    "lr_probs = pred_ans\n",
    "\n",
    "# calculate scores\n",
    "ns_auc = roc_auc_score(test[target].values, ns_probs)\n",
    "lr_auc = roc_auc_score(test[target].values, lr_probs)\n",
    "# summarize scores\n",
    "print('No Skill: ROC AUC=%.3f' % (ns_auc))\n",
    "print('Logistic: ROC AUC=%.3f' % (lr_auc))\n",
    "# calculate roc curves\n",
    "ns_fpr, ns_tpr, _ = roc_curve(test[target].values, ns_probs)\n",
    "lr_fpr, lr_tpr, _ = roc_curve(test[target].values, lr_probs)\n",
    "# plot the roc curve for the model\n",
    "plt.plot(ns_fpr, ns_tpr, linestyle='--', label='No Skill')\n",
    "plt.plot(lr_fpr, lr_tpr, marker='.', label='Logistic')\n",
    "# axis labels\n",
    "plt.xlabel('False Positive Rate')\n",
    "plt.ylabel('True Positive Rate')\n",
    "# show the legend\n",
    "plt.legend()\n",
    "# show the plot\n",
    "plt.show()"
   ]
  },
  {
   "cell_type": "markdown",
   "metadata": {},
   "source": [
    "## Resources:\n",
    "\n",
    "https://deepctr-doc.readthedocs.io/en/latest/Quick-Start.html\n",
    "\n",
    "https://deepctr-doc.readthedocs.io/en/latest/Examples.html\n",
    "\n",
    "https://github.com/shenweichen/DeepCTR/blob/ce140ffcc1057e8fb57622ae1732c39df32bc11e/docs/source/FAQ.md\n",
    "\n",
    "https://github.com/shenweichen/DeepCTR/blob/db229dc31f0d4c79c0de2ece0bb919b35258d6b2/tests/models/DeepFM_test.py\n",
    "\n",
    "https://github.com/shenweichen/DeepCTR/blob/db229dc31f0d4c79c0de2ece0bb919b35258d6b2/examples/run_regression_movielens.py\n"
   ]
  }
 ],
 "metadata": {
  "kernelspec": {
   "display_name": "Python 3",
   "language": "python",
   "name": "python3"
  },
  "language_info": {
   "codemirror_mode": {
    "name": "ipython",
    "version": 3
   },
   "file_extension": ".py",
   "mimetype": "text/x-python",
   "name": "python",
   "nbconvert_exporter": "python",
   "pygments_lexer": "ipython3",
   "version": "3.6.10"
  }
 },
 "nbformat": 4,
 "nbformat_minor": 1
}
