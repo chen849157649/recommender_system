{
 "cells": [
  {
   "cell_type": "markdown",
   "metadata": {},
   "source": [
    "# Wide and Deep Recommender System - Expedia Hotel dataset"
   ]
  },
  {
   "cell_type": "markdown",
   "metadata": {},
   "source": [
    "## Import Libraries"
   ]
  },
  {
   "cell_type": "code",
   "execution_count": 184,
   "metadata": {},
   "outputs": [],
   "source": [
    "import numpy as np\n",
    "import pandas as pd\n",
    "import matplotlib.pyplot as plt\n",
    "import seaborn as sns\n",
    "%matplotlib inline\n",
    "\n",
    "import tensorflow as tf\n",
    "import warnings\n",
    "import math\n",
    "from math import sqrt\n",
    "\n",
    "import sys\n",
    "import holidays\n",
    "\n",
    "from sklearn.metrics import roc_curve, auc,roc_auc_score\n",
    "from sklearn import metrics\n",
    "from sklearn.metrics import mean_squared_error,mean_absolute_error\n",
    "from sklearn.preprocessing import LabelEncoder, MinMaxScaler\n",
    "\n",
    "from sklearn.model_selection import train_test_split\n",
    "from sklearn.preprocessing import LabelEncoder\n",
    "\n",
    "from deepctr.inputs import build_input_features, get_linear_logit, input_from_feature_columns, combined_dnn_input\n",
    "from deepctr.layers.core import PredictionLayer, DNN\n",
    "from deepctr.layers.utils import add_func\n",
    "from deepctr.models import WDL\n",
    "from deepctr.inputs import SparseFeat,get_feature_names\n",
    "import datetime"
   ]
  },
  {
   "cell_type": "code",
   "execution_count": 185,
   "metadata": {},
   "outputs": [
    {
     "data": {
      "text/plain": [
       "(15000, 24)"
      ]
     },
     "execution_count": 185,
     "metadata": {},
     "output_type": "execute_result"
    }
   ],
   "source": [
    "df = pd.read_csv('../data/hotel_data/train.csv', sep=',', nrows=15000)\n",
    "destinations = pd.read_csv('../data/hotel_data/destinations.csv', sep=',')\n",
    "df.shape"
   ]
  },
  {
   "cell_type": "code",
   "execution_count": 186,
   "metadata": {},
   "outputs": [],
   "source": [
    "#merge only top 10 most correlated columns with rating column\n",
    "df = pd.merge(df,destinations[['srch_destination_id','d33', 'd64', 'd52', 'd120', 'd72', 'd136', 'd7', 'd59', 'd50', 'd30']],on='srch_destination_id')"
   ]
  },
  {
   "cell_type": "code",
   "execution_count": 187,
   "metadata": {},
   "outputs": [],
   "source": [
    "# rename 2 columns\n",
    "df = df.rename(columns={'hotel_cluster': 'item_id', 'is_booking': 'rating'})"
   ]
  },
  {
   "cell_type": "code",
   "execution_count": 188,
   "metadata": {},
   "outputs": [],
   "source": [
    "df = df.dropna()"
   ]
  },
  {
   "cell_type": "code",
   "execution_count": 189,
   "metadata": {},
   "outputs": [
    {
     "data": {
      "text/plain": [
       "(8649, 34)"
      ]
     },
     "execution_count": 189,
     "metadata": {},
     "output_type": "execute_result"
    }
   ],
   "source": [
    "df.shape"
   ]
  },
  {
   "cell_type": "markdown",
   "metadata": {},
   "source": [
    "## Feature Engineering"
   ]
  },
  {
   "cell_type": "markdown",
   "metadata": {},
   "source": [
    "## date_time"
   ]
  },
  {
   "cell_type": "markdown",
   "metadata": {},
   "source": [
    "### Extract week and month"
   ]
  },
  {
   "cell_type": "code",
   "execution_count": 190,
   "metadata": {},
   "outputs": [],
   "source": [
    "# sort values\n",
    "from pandas.tseries.offsets import Week\n",
    "df = df.sort_values(\"date_time\").reset_index()\n",
    "df.drop('index',axis=1,inplace=True)"
   ]
  },
  {
   "cell_type": "code",
   "execution_count": 191,
   "metadata": {},
   "outputs": [],
   "source": [
    "df[\"date_time\"] =  pd.to_datetime(df[\"date_time\"], infer_datetime_format=True)\n",
    "df[\"date_time\"] = df.date_time.dt.strftime('%Y-%m-%d')\n",
    "#df[\"date_time_timestamp\"] =  pd.to_datetime(df[\"date_time\"], infer_datetime_format=True)"
   ]
  },
  {
   "cell_type": "code",
   "execution_count": 192,
   "metadata": {},
   "outputs": [],
   "source": [
    "d = datetime.timedelta(days=14)\n",
    "df['lagged_date_time'] = df[\"date_time\"].apply(lambda x: datetime.datetime.strptime(x,\"%Y-%m-%d\") + d)\n",
    "\n",
    "#df[\"str_lagged_date_time\"] = df.lagged_date_time.dt.strftime('%Y-%m-%d')\n",
    "#df[\"lagged_date_time\"][1].strftime(\"%B\")\n",
    "#df[\"date_time_timestamp\"].apply(lambda x: x.strftime(\"%Y-%U-%w\"))"
   ]
  },
  {
   "cell_type": "code",
   "execution_count": 193,
   "metadata": {},
   "outputs": [],
   "source": [
    "#df['num_visit']=1\n",
    "#df_test = df.groupby([pd.Grouper(key='lagged_date_time', freq='W-MON')])['num_visit'].count().reset_index().set_index('lagged_date_time').sort_values('lagged_date_time')"
   ]
  },
  {
   "cell_type": "code",
   "execution_count": 194,
   "metadata": {},
   "outputs": [],
   "source": [
    "#df['expand_sum']=df['num_visit'].expanding().sum()\n",
    "#df['roll_mean_3']=df['num_visit'].rolling(5).sum()"
   ]
  },
  {
   "cell_type": "code",
   "execution_count": 195,
   "metadata": {},
   "outputs": [],
   "source": [
    "def extract_week(feature,week,lag):\n",
    "    df[feature] =  pd.to_datetime(df[feature], infer_datetime_format=True)\n",
    "    df[feature] = df.date_time.dt.strftime('%Y-%m-%d')\n",
    "    if lag == True:\n",
    "        d = datetime.timedelta(days=14)\n",
    "        df['lag_date_time'] = df[feature].apply(lambda x: datetime.datetime.strptime(x,\"%Y-%m-%d\") + d)\n",
    "        df['week'] = pd.DatetimeIndex(df['lag_date_time']).week\n",
    "        df['year']=pd.DatetimeIndex(df['lag_date_time']).year\n",
    "        \n",
    "        # countinue week numbers for the next year\n",
    "        df[week] = df['week'].where(df['year'] ==2013 , df['week']+52)"
   ]
  },
  {
   "cell_type": "code",
   "execution_count": 196,
   "metadata": {},
   "outputs": [],
   "source": [
    "extract_week('date_time','click_week',lag=True)"
   ]
  },
  {
   "cell_type": "code",
   "execution_count": 197,
   "metadata": {},
   "outputs": [
    {
     "data": {
      "text/html": [
       "<div>\n",
       "<style scoped>\n",
       "    .dataframe tbody tr th:only-of-type {\n",
       "        vertical-align: middle;\n",
       "    }\n",
       "\n",
       "    .dataframe tbody tr th {\n",
       "        vertical-align: top;\n",
       "    }\n",
       "\n",
       "    .dataframe thead th {\n",
       "        text-align: right;\n",
       "    }\n",
       "</style>\n",
       "<table border=\"1\" class=\"dataframe\">\n",
       "  <thead>\n",
       "    <tr style=\"text-align: right;\">\n",
       "      <th></th>\n",
       "      <th>date_time</th>\n",
       "      <th>site_name</th>\n",
       "      <th>posa_continent</th>\n",
       "      <th>user_location_country</th>\n",
       "      <th>user_location_region</th>\n",
       "      <th>user_location_city</th>\n",
       "      <th>orig_destination_distance</th>\n",
       "      <th>user_id</th>\n",
       "      <th>is_mobile</th>\n",
       "      <th>is_package</th>\n",
       "      <th>...</th>\n",
       "      <th>d136</th>\n",
       "      <th>d7</th>\n",
       "      <th>d59</th>\n",
       "      <th>d50</th>\n",
       "      <th>d30</th>\n",
       "      <th>lagged_date_time</th>\n",
       "      <th>lag_date_time</th>\n",
       "      <th>week</th>\n",
       "      <th>year</th>\n",
       "      <th>click_week</th>\n",
       "    </tr>\n",
       "  </thead>\n",
       "  <tbody>\n",
       "    <tr>\n",
       "      <th>0</th>\n",
       "      <td>2013-01-07</td>\n",
       "      <td>2</td>\n",
       "      <td>3</td>\n",
       "      <td>66</td>\n",
       "      <td>260</td>\n",
       "      <td>19022</td>\n",
       "      <td>1327.0556</td>\n",
       "      <td>15880</td>\n",
       "      <td>0</td>\n",
       "      <td>1</td>\n",
       "      <td>...</td>\n",
       "      <td>-2.311736</td>\n",
       "      <td>-2.321327</td>\n",
       "      <td>-2.319700</td>\n",
       "      <td>-2.321320</td>\n",
       "      <td>-2.316438</td>\n",
       "      <td>2013-01-21</td>\n",
       "      <td>2013-01-21</td>\n",
       "      <td>4</td>\n",
       "      <td>2013</td>\n",
       "      <td>4</td>\n",
       "    </tr>\n",
       "    <tr>\n",
       "      <th>1</th>\n",
       "      <td>2013-01-07</td>\n",
       "      <td>2</td>\n",
       "      <td>3</td>\n",
       "      <td>66</td>\n",
       "      <td>260</td>\n",
       "      <td>19022</td>\n",
       "      <td>1327.0601</td>\n",
       "      <td>15880</td>\n",
       "      <td>0</td>\n",
       "      <td>1</td>\n",
       "      <td>...</td>\n",
       "      <td>-2.311736</td>\n",
       "      <td>-2.321327</td>\n",
       "      <td>-2.319700</td>\n",
       "      <td>-2.321320</td>\n",
       "      <td>-2.316438</td>\n",
       "      <td>2013-01-21</td>\n",
       "      <td>2013-01-21</td>\n",
       "      <td>4</td>\n",
       "      <td>2013</td>\n",
       "      <td>4</td>\n",
       "    </tr>\n",
       "    <tr>\n",
       "      <th>2</th>\n",
       "      <td>2013-01-07</td>\n",
       "      <td>2</td>\n",
       "      <td>3</td>\n",
       "      <td>66</td>\n",
       "      <td>260</td>\n",
       "      <td>19022</td>\n",
       "      <td>1328.3353</td>\n",
       "      <td>15880</td>\n",
       "      <td>0</td>\n",
       "      <td>1</td>\n",
       "      <td>...</td>\n",
       "      <td>-2.311736</td>\n",
       "      <td>-2.321327</td>\n",
       "      <td>-2.319700</td>\n",
       "      <td>-2.321320</td>\n",
       "      <td>-2.316438</td>\n",
       "      <td>2013-01-21</td>\n",
       "      <td>2013-01-21</td>\n",
       "      <td>4</td>\n",
       "      <td>2013</td>\n",
       "      <td>4</td>\n",
       "    </tr>\n",
       "    <tr>\n",
       "      <th>3</th>\n",
       "      <td>2013-01-07</td>\n",
       "      <td>2</td>\n",
       "      <td>3</td>\n",
       "      <td>66</td>\n",
       "      <td>260</td>\n",
       "      <td>19022</td>\n",
       "      <td>1323.7627</td>\n",
       "      <td>15880</td>\n",
       "      <td>0</td>\n",
       "      <td>1</td>\n",
       "      <td>...</td>\n",
       "      <td>-2.311736</td>\n",
       "      <td>-2.321327</td>\n",
       "      <td>-2.319700</td>\n",
       "      <td>-2.321320</td>\n",
       "      <td>-2.316438</td>\n",
       "      <td>2013-01-21</td>\n",
       "      <td>2013-01-21</td>\n",
       "      <td>4</td>\n",
       "      <td>2013</td>\n",
       "      <td>4</td>\n",
       "    </tr>\n",
       "    <tr>\n",
       "      <th>4</th>\n",
       "      <td>2013-01-07</td>\n",
       "      <td>2</td>\n",
       "      <td>3</td>\n",
       "      <td>66</td>\n",
       "      <td>258</td>\n",
       "      <td>4687</td>\n",
       "      <td>836.2746</td>\n",
       "      <td>33803</td>\n",
       "      <td>0</td>\n",
       "      <td>1</td>\n",
       "      <td>...</td>\n",
       "      <td>-2.122336</td>\n",
       "      <td>-2.326412</td>\n",
       "      <td>-2.326412</td>\n",
       "      <td>-2.299525</td>\n",
       "      <td>-2.264357</td>\n",
       "      <td>2013-01-21</td>\n",
       "      <td>2013-01-21</td>\n",
       "      <td>4</td>\n",
       "      <td>2013</td>\n",
       "      <td>4</td>\n",
       "    </tr>\n",
       "  </tbody>\n",
       "</table>\n",
       "<p>5 rows × 39 columns</p>\n",
       "</div>"
      ],
      "text/plain": [
       "    date_time  site_name  posa_continent  user_location_country  \\\n",
       "0  2013-01-07          2               3                     66   \n",
       "1  2013-01-07          2               3                     66   \n",
       "2  2013-01-07          2               3                     66   \n",
       "3  2013-01-07          2               3                     66   \n",
       "4  2013-01-07          2               3                     66   \n",
       "\n",
       "   user_location_region  user_location_city  orig_destination_distance  \\\n",
       "0                   260               19022                  1327.0556   \n",
       "1                   260               19022                  1327.0601   \n",
       "2                   260               19022                  1328.3353   \n",
       "3                   260               19022                  1323.7627   \n",
       "4                   258                4687                   836.2746   \n",
       "\n",
       "   user_id  is_mobile  is_package  ...      d136        d7       d59  \\\n",
       "0    15880          0           1  ... -2.311736 -2.321327 -2.319700   \n",
       "1    15880          0           1  ... -2.311736 -2.321327 -2.319700   \n",
       "2    15880          0           1  ... -2.311736 -2.321327 -2.319700   \n",
       "3    15880          0           1  ... -2.311736 -2.321327 -2.319700   \n",
       "4    33803          0           1  ... -2.122336 -2.326412 -2.326412   \n",
       "\n",
       "        d50       d30  lagged_date_time  lag_date_time  week  year  click_week  \n",
       "0 -2.321320 -2.316438        2013-01-21     2013-01-21     4  2013           4  \n",
       "1 -2.321320 -2.316438        2013-01-21     2013-01-21     4  2013           4  \n",
       "2 -2.321320 -2.316438        2013-01-21     2013-01-21     4  2013           4  \n",
       "3 -2.321320 -2.316438        2013-01-21     2013-01-21     4  2013           4  \n",
       "4 -2.299525 -2.264357        2013-01-21     2013-01-21     4  2013           4  \n",
       "\n",
       "[5 rows x 39 columns]"
      ]
     },
     "execution_count": 197,
     "metadata": {},
     "output_type": "execute_result"
    }
   ],
   "source": [
    "df.head()"
   ]
  },
  {
   "cell_type": "code",
   "execution_count": 198,
   "metadata": {},
   "outputs": [],
   "source": [
    "# extract month from date_time\n",
    "df['click_month'] = pd.DatetimeIndex(df['date_time']).month"
   ]
  },
  {
   "cell_type": "markdown",
   "metadata": {},
   "source": [
    "## checkin_month , checkout_month"
   ]
  },
  {
   "cell_type": "code",
   "execution_count": 199,
   "metadata": {},
   "outputs": [],
   "source": [
    "df['checkin_month'] = pd.DatetimeIndex(df['srch_ci']).month\n",
    "df['checkout_month'] = pd.DatetimeIndex(df['srch_co']).month\n",
    "\n",
    "df['checkin_year'] = pd.DatetimeIndex(df['srch_ci']).year\n",
    "df['checkout_year'] = pd.DatetimeIndex(df['srch_co']).year"
   ]
  },
  {
   "cell_type": "markdown",
   "metadata": {},
   "source": [
    "## add holiday"
   ]
  },
  {
   "cell_type": "code",
   "execution_count": 200,
   "metadata": {},
   "outputs": [],
   "source": [
    "# Define holidays in some countries\n",
    "ca_holidays = holidays.Canada()\n",
    "us_holidays = holidays.UnitedStates()"
   ]
  },
  {
   "cell_type": "code",
   "execution_count": 201,
   "metadata": {},
   "outputs": [],
   "source": [
    "# check if checkin or checkout date is in holiday of different countries\n",
    "\n",
    "df['north_am_ci'] = df['srch_ci'].apply(lambda x: 1 if x in (us_holidays or ca_holidays)  else 0)\n",
    "df['north_am_co'] = df['srch_co'].apply(lambda x: 1 if x in (us_holidays or ca_holidays)  else 0)"
   ]
  },
  {
   "cell_type": "code",
   "execution_count": 202,
   "metadata": {},
   "outputs": [],
   "source": [
    "df= df.drop(['date_time'],axis=1)\n",
    "df= df.drop(['week'],axis=1)\n",
    "df= df.drop(['year'],axis=1)\n",
    "df= df.drop(['srch_ci'],axis=1)\n",
    "df= df.drop(['srch_co'],axis=1)\n",
    "df= df.drop(['lag_date_time'],axis=1)\n",
    "#df= df.drop(['date_time_timestamp'],axis=1)\n",
    "df= df.drop(['lagged_date_time'],axis=1)\n",
    "#df= df.drop(['num_visit'],axis=1)"
   ]
  },
  {
   "cell_type": "code",
   "execution_count": 203,
   "metadata": {},
   "outputs": [
    {
     "data": {
      "text/plain": [
       "Index(['site_name', 'posa_continent', 'user_location_country',\n",
       "       'user_location_region', 'user_location_city',\n",
       "       'orig_destination_distance', 'user_id', 'is_mobile', 'is_package',\n",
       "       'channel', 'srch_adults_cnt', 'srch_children_cnt', 'srch_rm_cnt',\n",
       "       'srch_destination_id', 'srch_destination_type_id', 'rating', 'cnt',\n",
       "       'hotel_continent', 'hotel_country', 'hotel_market', 'item_id', 'd33',\n",
       "       'd64', 'd52', 'd120', 'd72', 'd136', 'd7', 'd59', 'd50', 'd30',\n",
       "       'click_week', 'click_month', 'checkin_month', 'checkout_month',\n",
       "       'checkin_year', 'checkout_year', 'north_am_ci', 'north_am_co'],\n",
       "      dtype='object')"
      ]
     },
     "execution_count": 203,
     "metadata": {},
     "output_type": "execute_result"
    }
   ],
   "source": [
    "df.columns"
   ]
  },
  {
   "cell_type": "code",
   "execution_count": 204,
   "metadata": {},
   "outputs": [],
   "source": [
    "#Note that we add 1 to the raw count to prevent the logarithm from\n",
    "# exploding into negative infinity in case the count is zero.\n",
    "df['log_orig_destination_distance'] = np.log10(df['orig_destination_distance'] + 1)"
   ]
  },
  {
   "cell_type": "code",
   "execution_count": 205,
   "metadata": {},
   "outputs": [],
   "source": [
    "df= df.drop(['orig_destination_distance'],axis=1)"
   ]
  },
  {
   "cell_type": "code",
   "execution_count": 206,
   "metadata": {},
   "outputs": [],
   "source": [
    "from sklearn.cluster import KMeans\n",
    "def create_cluster(feature):\n",
    "    y = df[feature]\n",
    "    X = df.drop(feature,axis=1)\n",
    "    wcss=[]\n",
    "    for i in range(1,11):\n",
    "        kmeans = KMeans(n_clusters= i, init='k-means++', random_state=0)\n",
    "        kmeans.fit(X)\n",
    "        wcss.append(kmeans.inertia_)\n",
    "    plt.plot(range(1,11), wcss)\n",
    "    plt.title('The Elbow Method')\n",
    "    plt.xlabel('number of clusters')\n",
    "    plt.ylabel('wcss')\n",
    "    plt.show()"
   ]
  },
  {
   "cell_type": "code",
   "execution_count": 207,
   "metadata": {},
   "outputs": [],
   "source": [
    "X = df.drop(\"user_location_region\",axis=1)\n",
    "kmeansmodel = KMeans(n_clusters= 3, init='k-means++', random_state=0)\n",
    "y_kmeans= kmeansmodel.fit_predict(X)\n",
    "df['kmeans_user_location_region']=y_kmeans\n",
    "df= df.drop(['user_location_region'],axis=1)"
   ]
  },
  {
   "cell_type": "code",
   "execution_count": 208,
   "metadata": {},
   "outputs": [],
   "source": [
    "X = df.drop(\"user_location_city\",axis=1)\n",
    "kmeansmodel = KMeans(n_clusters= 3, init='k-means++', random_state=0)\n",
    "y_kmeans= kmeansmodel.fit_predict(X)\n",
    "df['kmeans_user_location_city']=y_kmeans\n",
    "df= df.drop(['user_location_city'],axis=1)"
   ]
  },
  {
   "cell_type": "code",
   "execution_count": 209,
   "metadata": {},
   "outputs": [],
   "source": [
    "condlist = [(df['srch_adults_cnt']==0) & (df['srch_children_cnt']==0),\n",
    "            (df['srch_adults_cnt']==2) & (df['srch_children_cnt']==0),\n",
    "            (df['srch_adults_cnt']==2) & (df['srch_children_cnt']==1),\n",
    "            (df['srch_adults_cnt']==2) & (df['srch_children_cnt']==2),\n",
    "           (df['srch_adults_cnt']==1) & (df['srch_children_cnt']==0),\n",
    "            (df['srch_adults_cnt']>1) & (df['srch_children_cnt']>0),\n",
    "           (df['srch_adults_cnt']==1) & (df['srch_children_cnt'] > 0),\n",
    "           (df['srch_adults_cnt']>2) & (df['srch_children_cnt'] == 0),\n",
    "           (df['srch_adults_cnt']==0) & (df['srch_children_cnt'] > 0)]\n",
    "\n",
    "choicelist = ['empty_room',\n",
    "                'couple_with_no_children',\n",
    "                'couple_with_one_child',\n",
    "                'couple_with_two_children',\n",
    "                'single',\n",
    "                'big_family',\n",
    "                'single_parent',\n",
    "                'friends',\n",
    "                'unsupervised_children']\n",
    "\n",
    "df['family_status'] = np.select(condlist,choicelist)"
   ]
  },
  {
   "cell_type": "code",
   "execution_count": 210,
   "metadata": {},
   "outputs": [],
   "source": [
    "#Convert the family_status into dummy variables\n",
    "dummies = pd.get_dummies(df['family_status'],drop_first=True)\n",
    "df= pd.concat( [df.drop('family_status',axis=1),dummies],axis=1)"
   ]
  },
  {
   "cell_type": "code",
   "execution_count": 211,
   "metadata": {},
   "outputs": [],
   "source": [
    "if \"unsupervised_children\" in df.columns:\n",
    "    df= df.drop(\"unsupervised_children\",axis=1)\n",
    "if \"empty_room\" in df.columns:\n",
    "    df= df.drop(\"empty_room\",axis=1)"
   ]
  },
  {
   "cell_type": "markdown",
   "metadata": {},
   "source": [
    "## z-score normalizing"
   ]
  },
  {
   "cell_type": "code",
   "execution_count": 212,
   "metadata": {},
   "outputs": [],
   "source": [
    "df['cnt'] = (df['cnt'] - df['cnt'].mean())/df['cnt'].std()"
   ]
  },
  {
   "cell_type": "code",
   "execution_count": 213,
   "metadata": {},
   "outputs": [
    {
     "data": {
      "text/plain": [
       "(8649, 45)"
      ]
     },
     "execution_count": 213,
     "metadata": {},
     "output_type": "execute_result"
    }
   ],
   "source": [
    "df.shape"
   ]
  },
  {
   "cell_type": "code",
   "execution_count": 214,
   "metadata": {},
   "outputs": [
    {
     "data": {
      "text/plain": [
       "Index(['site_name', 'posa_continent', 'user_location_country', 'user_id',\n",
       "       'is_mobile', 'is_package', 'channel', 'srch_adults_cnt',\n",
       "       'srch_children_cnt', 'srch_rm_cnt', 'srch_destination_id',\n",
       "       'srch_destination_type_id', 'rating', 'cnt', 'hotel_continent',\n",
       "       'hotel_country', 'hotel_market', 'item_id', 'd33', 'd64', 'd52', 'd120',\n",
       "       'd72', 'd136', 'd7', 'd59', 'd50', 'd30', 'click_week', 'click_month',\n",
       "       'checkin_month', 'checkout_month', 'checkin_year', 'checkout_year',\n",
       "       'north_am_ci', 'north_am_co', 'log_orig_destination_distance',\n",
       "       'kmeans_user_location_region', 'kmeans_user_location_city',\n",
       "       'couple_with_no_children', 'couple_with_one_child',\n",
       "       'couple_with_two_children', 'friends', 'single', 'single_parent'],\n",
       "      dtype='object')"
      ]
     },
     "execution_count": 214,
     "metadata": {},
     "output_type": "execute_result"
    }
   ],
   "source": [
    "df.columns"
   ]
  },
  {
   "cell_type": "code",
   "execution_count": 215,
   "metadata": {},
   "outputs": [],
   "source": [
    "# categ_sparse / conti_dense\n",
    "sparse_features = [\"site_name\", #ID of the Expedia point of sale (i.e. Expedia.com, Expedia.co.uk, Expedia.co.jp, …)\n",
    "\"posa_continent\", #ID of continent associated with site_name\n",
    "\"user_location_country\", #The ID of the country the customer is located\n",
    "\"kmeans_user_location_region\", #The ID of the region the customer is located clustered in 2 groups\n",
    "\"kmeans_user_location_city\", #The ID of the city the customer is located clustered in 2 groups\n",
    "\"user_id\", #ID of user\n",
    "\"is_mobile\", #1 when a user connected from a mobile device, 0 otherwise\n",
    "\"is_package\", #1 if the click/booking was generated as a part of a package (i.e. combined with a flight), 0 otherwise\n",
    "\"channel\", #ID of a marketing channel\n",
    "\"cnt\", #Numer of similar events in the context of the same user session\n",
    "\"srch_destination_id\", #ID of the destination where the hotel search was performed'\n",
    "\"srch_destination_type_id\", #Type of destination\n",
    "\"hotel_continent\", #'Hotel continent',\n",
    "\"hotel_country\", #Hotel country\n",
    "\"item_id\", #(hotel_cluster)ID of a hotel cluster\n",
    "\"north_am_ci\", # 1 if check-in date it's a holiday in north America\n",
    "\"north_am_co\",# 1 if check-out date it's a holiday in north America\n",
    "'hotel_market', #Hotel market\n",
    "'couple_with_no_children','couple_with_one_child','couple_with_two_children',\"friends\",\"single\",\"single_parent\",\n",
    "#hotel search latent attributes highly correlated with rating:\n",
    "'d33', 'd64','d52','d120', 'd72', 'd136', 'd7', 'd59', 'd50', 'd30'] \n",
    "\n",
    "dense_features = [\"srch_adults_cnt\", #The number of adults specified in the hotel room\n",
    "\"srch_children_cnt\", #The number of (extra occupancy) children specified in the hotel room\n",
    "\"srch_rm_cnt\", #The number of hotel rooms specified in the search\n",
    "'log_orig_destination_distance', # Log transformed physical distance between a hotel and a customer at the time of search\n",
    "\"click_week\",\n",
    "\"click_month\",\n",
    "\"checkin_month\",\n",
    "\"checkout_month\",\n",
    "\"checkin_year\",\n",
    "\"checkout_year\"]\n",
    "target = ['rating']"
   ]
  },
  {
   "cell_type": "markdown",
   "metadata": {},
   "source": [
    "### Simple preprocessing"
   ]
  },
  {
   "cell_type": "code",
   "execution_count": 216,
   "metadata": {},
   "outputs": [],
   "source": [
    "# Label Encoding for sparse features,and normalization for dense numerical features\n",
    "for feat in sparse_features:\n",
    "    lbe = LabelEncoder()\n",
    "    df[feat] = lbe.fit_transform(df[feat])"
   ]
  },
  {
   "cell_type": "code",
   "execution_count": 217,
   "metadata": {},
   "outputs": [],
   "source": [
    "mms = MinMaxScaler(feature_range=(0,1))\n",
    "df[dense_features] = mms.fit_transform(df[dense_features])"
   ]
  },
  {
   "cell_type": "markdown",
   "metadata": {},
   "source": [
    "### Generate feature columns\n",
    "For sparse features, we transform them into dense vectors by embedding techniques. For dense numerical features, we concatenate them to the input tensors of fully connected layer."
   ]
  },
  {
   "cell_type": "code",
   "execution_count": 218,
   "metadata": {},
   "outputs": [],
   "source": [
    "# count #unique features for each sparse field\n",
    "fixlen_feature_columns = [SparseFeat(feat, df[feat].nunique(),embedding_dim=4)\n",
    "                          for feat in sparse_features]\n",
    "linear_feature_columns = fixlen_feature_columns\n",
    "dnn_feature_columns = fixlen_feature_columns\n",
    "feature_names = get_feature_names(linear_feature_columns + dnn_feature_columns)"
   ]
  },
  {
   "cell_type": "markdown",
   "metadata": {},
   "source": [
    "### Generate the training samples and train the model"
   ]
  },
  {
   "cell_type": "code",
   "execution_count": 219,
   "metadata": {},
   "outputs": [],
   "source": [
    "# generate input data for model\n",
    "train, test = train_test_split(df, test_size=0.2)\n",
    "train_model_input = {name:train[name].values for name in feature_names}\n",
    "test_model_input = {name:test[name].values for name in feature_names}"
   ]
  },
  {
   "cell_type": "markdown",
   "metadata": {},
   "source": [
    "# Model Before Hyper-Parameter Tuning"
   ]
  },
  {
   "cell_type": "code",
   "execution_count": 220,
   "metadata": {},
   "outputs": [
    {
     "name": "stdout",
     "output_type": "stream",
     "text": [
      "WARNING:tensorflow:From /Users/yas/opt/anaconda3/lib/python3.7/site-packages/tensorflow_core/python/keras/initializers.py:143: calling RandomNormal.__init__ (from tensorflow.python.ops.init_ops) with dtype is deprecated and will be removed in a future version.\n",
      "Instructions for updating:\n",
      "Call initializer instance with the dtype argument instead of passing it to the constructor\n",
      "WARNING:tensorflow:From /Users/yas/opt/anaconda3/lib/python3.7/site-packages/tensorflow_core/python/ops/resource_variable_ops.py:1630: calling BaseResourceVariable.__init__ (from tensorflow.python.ops.resource_variable_ops) with constraint is deprecated and will be removed in a future version.\n",
      "Instructions for updating:\n",
      "If using Keras pass *_constraint arguments to layers.\n",
      "WARNING:tensorflow:From /Users/yas/opt/anaconda3/lib/python3.7/site-packages/deepctr/layers/utils.py:163: calling reduce_sum_v1 (from tensorflow.python.ops.math_ops) with keep_dims is deprecated and will be removed in a future version.\n",
      "Instructions for updating:\n",
      "keep_dims is deprecated, use keepdims instead\n"
     ]
    }
   ],
   "source": [
    "# 4.Define Model,train\n",
    "\n",
    "#linear_feature_columns: An iterable containing all the features used by linear part of the model.\n",
    "\n",
    "model = WDL(linear_feature_columns, dnn_feature_columns, dnn_hidden_units=(128, 128), l2_reg_linear=1e-5,\n",
    "        l2_reg_embedding=1e-5, l2_reg_dnn=0, init_std=0.0001, seed=1024, dnn_dropout=0, dnn_activation='relu',\n",
    "        task='binary')\n",
    "\n",
    "\n",
    "model.compile(\"adam\", \"mse\", metrics=['mse'])"
   ]
  },
  {
   "cell_type": "code",
   "execution_count": 221,
   "metadata": {},
   "outputs": [
    {
     "name": "stdout",
     "output_type": "stream",
     "text": [
      "Train on 5535 samples, validate on 1384 samples\n",
      "Epoch 1/10\n",
      "5535/5535 - 2s - loss: 0.1623 - mean_squared_error: 0.1623 - val_loss: 0.0852 - val_mean_squared_error: 0.0852\n",
      "Epoch 2/10\n",
      "5535/5535 - 0s - loss: 0.0791 - mean_squared_error: 0.0791 - val_loss: 0.0838 - val_mean_squared_error: 0.0837\n",
      "Epoch 3/10\n",
      "5535/5535 - 0s - loss: 0.0754 - mean_squared_error: 0.0753 - val_loss: 0.0826 - val_mean_squared_error: 0.0826\n",
      "Epoch 4/10\n",
      "5535/5535 - 0s - loss: 0.0695 - mean_squared_error: 0.0694 - val_loss: 0.0863 - val_mean_squared_error: 0.0861\n",
      "Epoch 5/10\n",
      "5535/5535 - 0s - loss: 0.0644 - mean_squared_error: 0.0642 - val_loss: 0.0883 - val_mean_squared_error: 0.0881\n",
      "Epoch 6/10\n",
      "5535/5535 - 0s - loss: 0.0595 - mean_squared_error: 0.0593 - val_loss: 0.0905 - val_mean_squared_error: 0.0902\n",
      "Epoch 7/10\n",
      "5535/5535 - 0s - loss: 0.0550 - mean_squared_error: 0.0547 - val_loss: 0.0938 - val_mean_squared_error: 0.0935\n",
      "Epoch 8/10\n",
      "5535/5535 - 0s - loss: 0.0525 - mean_squared_error: 0.0522 - val_loss: 0.0970 - val_mean_squared_error: 0.0967\n",
      "Epoch 9/10\n",
      "5535/5535 - 0s - loss: 0.0510 - mean_squared_error: 0.0507 - val_loss: 0.0982 - val_mean_squared_error: 0.0978\n",
      "Epoch 10/10\n",
      "5535/5535 - 0s - loss: 0.0502 - mean_squared_error: 0.0498 - val_loss: 0.0981 - val_mean_squared_error: 0.0977\n"
     ]
    }
   ],
   "source": [
    "history = model.fit(train_model_input, train[target].values,\n",
    "                        batch_size=256, epochs=10, verbose=2, validation_split=0.2, )"
   ]
  },
  {
   "cell_type": "markdown",
   "metadata": {},
   "source": [
    "## Prediction"
   ]
  },
  {
   "cell_type": "code",
   "execution_count": 222,
   "metadata": {},
   "outputs": [],
   "source": [
    "pred_ans = model.predict(test_model_input, batch_size=256)"
   ]
  },
  {
   "cell_type": "markdown",
   "metadata": {},
   "source": [
    "## Evaluation"
   ]
  },
  {
   "cell_type": "code",
   "execution_count": 223,
   "metadata": {},
   "outputs": [
    {
     "name": "stdout",
     "output_type": "stream",
     "text": [
      "RMSE:\t0.295000\n",
      "MAE:\t0.131000\n",
      "MSE:\t0.087000\n",
      "AUC:\t0.707000\n"
     ]
    }
   ],
   "source": [
    "auc = roc_auc_score(test[target].values, pred_ans)\n",
    "\n",
    "print(\"RMSE:\\t%f\" % np.round(math.sqrt(mean_squared_error(test[target].values, pred_ans)),3),\n",
    "      \"MAE:\\t%f\" % np.round(mean_absolute_error(test[target].values, pred_ans),3),\n",
    "      \"MSE:\\t%f\" % np.round(mean_squared_error(test[target].values, pred_ans),3),\n",
    "      \"AUC:\\t%f\" % np.round(auc,3),\n",
    "      sep='\\n')"
   ]
  },
  {
   "cell_type": "markdown",
   "metadata": {},
   "source": [
    "# Random Search\n",
    "\n",
    "This is just a random search and the result might be more acuurate using methods like grid shearch."
   ]
  },
  {
   "cell_type": "code",
   "execution_count": 225,
   "metadata": {},
   "outputs": [],
   "source": [
    "param_rand = {'dnn_hidden_units' : [(1,1),(2,2),(4,4),(32,32),(128,128),(256,256)],\n",
    "              'l2_reg_linear':[1e-5,1e-3,1e-1,1,10],\n",
    "              'l2_reg_embedding':[1e-7,1e-5,1e-3,1e-1,1],\n",
    "              'l2_reg_dnn':[0,0.2,2,4],\n",
    "              'dnn_dropout':[0,0.2,0.4,0.5,0.6,0.8]\n",
    "             }"
   ]
  },
  {
   "cell_type": "markdown",
   "metadata": {},
   "source": [
    "### 1) dnn_hidden_units: list,list of positive integer or empty list, the layer number and units in each layer of DNN"
   ]
  },
  {
   "cell_type": "code",
   "execution_count": 226,
   "metadata": {},
   "outputs": [],
   "source": [
    "cols = ['dnn_hidden_units','RMSE','MAE','MSE','AUC','score']\n",
    "df_result = pd.DataFrame(columns=cols, index=range(len(param_rand['dnn_hidden_units'])))"
   ]
  },
  {
   "cell_type": "code",
   "execution_count": 227,
   "metadata": {
    "scrolled": true
   },
   "outputs": [
    {
     "name": "stdout",
     "output_type": "stream",
     "text": [
      "Train on 5535 samples, validate on 1384 samples\n",
      "Epoch 1/10\n",
      "5535/5535 - 2s - loss: 0.1977 - mean_squared_error: 0.1977 - val_loss: 0.1505 - val_mean_squared_error: 0.1505\n",
      "Epoch 2/10\n",
      "5535/5535 - 0s - loss: 0.1241 - mean_squared_error: 0.1241 - val_loss: 0.1084 - val_mean_squared_error: 0.1084\n",
      "Epoch 3/10\n",
      "5535/5535 - 0s - loss: 0.0957 - mean_squared_error: 0.0957 - val_loss: 0.0939 - val_mean_squared_error: 0.0939\n",
      "Epoch 4/10\n",
      "5535/5535 - 0s - loss: 0.0853 - mean_squared_error: 0.0853 - val_loss: 0.0883 - val_mean_squared_error: 0.0882\n",
      "Epoch 5/10\n",
      "5535/5535 - 0s - loss: 0.0807 - mean_squared_error: 0.0806 - val_loss: 0.0857 - val_mean_squared_error: 0.0857\n",
      "Epoch 6/10\n",
      "5535/5535 - 0s - loss: 0.0782 - mean_squared_error: 0.0781 - val_loss: 0.0845 - val_mean_squared_error: 0.0844\n",
      "Epoch 7/10\n",
      "5535/5535 - 0s - loss: 0.0766 - mean_squared_error: 0.0765 - val_loss: 0.0837 - val_mean_squared_error: 0.0836\n",
      "Epoch 8/10\n",
      "5535/5535 - 0s - loss: 0.0754 - mean_squared_error: 0.0753 - val_loss: 0.0833 - val_mean_squared_error: 0.0832\n",
      "Epoch 9/10\n",
      "5535/5535 - 0s - loss: 0.0745 - mean_squared_error: 0.0744 - val_loss: 0.0832 - val_mean_squared_error: 0.0830\n",
      "Epoch 10/10\n",
      "5535/5535 - 0s - loss: 0.0737 - mean_squared_error: 0.0736 - val_loss: 0.0831 - val_mean_squared_error: 0.0829\n",
      "Train on 5535 samples, validate on 1384 samples\n",
      "Epoch 1/10\n",
      "5535/5535 - 3s - loss: 0.1805 - mean_squared_error: 0.1805 - val_loss: 0.1230 - val_mean_squared_error: 0.1229\n",
      "Epoch 2/10\n",
      "5535/5535 - 0s - loss: 0.0980 - mean_squared_error: 0.0979 - val_loss: 0.0885 - val_mean_squared_error: 0.0884\n",
      "Epoch 3/10\n",
      "5535/5535 - 0s - loss: 0.0797 - mean_squared_error: 0.0796 - val_loss: 0.0832 - val_mean_squared_error: 0.0830\n",
      "Epoch 4/10\n",
      "5535/5535 - 0s - loss: 0.0762 - mean_squared_error: 0.0761 - val_loss: 0.0824 - val_mean_squared_error: 0.0822\n",
      "Epoch 5/10\n",
      "5535/5535 - 0s - loss: 0.0747 - mean_squared_error: 0.0745 - val_loss: 0.0824 - val_mean_squared_error: 0.0822\n",
      "Epoch 6/10\n",
      "5535/5535 - 0s - loss: 0.0732 - mean_squared_error: 0.0730 - val_loss: 0.0826 - val_mean_squared_error: 0.0823\n",
      "Epoch 7/10\n",
      "5535/5535 - 0s - loss: 0.0716 - mean_squared_error: 0.0712 - val_loss: 0.0834 - val_mean_squared_error: 0.0830\n",
      "Epoch 8/10\n",
      "5535/5535 - 0s - loss: 0.0697 - mean_squared_error: 0.0693 - val_loss: 0.0842 - val_mean_squared_error: 0.0838\n",
      "Epoch 9/10\n",
      "5535/5535 - 0s - loss: 0.0679 - mean_squared_error: 0.0674 - val_loss: 0.0849 - val_mean_squared_error: 0.0843\n",
      "Epoch 10/10\n",
      "5535/5535 - 0s - loss: 0.0666 - mean_squared_error: 0.0660 - val_loss: 0.0856 - val_mean_squared_error: 0.0850\n",
      "Train on 5535 samples, validate on 1384 samples\n",
      "Epoch 1/10\n",
      "5535/5535 - 3s - loss: 0.1869 - mean_squared_error: 0.1869 - val_loss: 0.1308 - val_mean_squared_error: 0.1308\n",
      "Epoch 2/10\n",
      "5535/5535 - 0s - loss: 0.1031 - mean_squared_error: 0.1030 - val_loss: 0.0906 - val_mean_squared_error: 0.0905\n",
      "Epoch 3/10\n",
      "5535/5535 - 0s - loss: 0.0807 - mean_squared_error: 0.0805 - val_loss: 0.0834 - val_mean_squared_error: 0.0832\n",
      "Epoch 4/10\n",
      "5535/5535 - 0s - loss: 0.0762 - mean_squared_error: 0.0760 - val_loss: 0.0823 - val_mean_squared_error: 0.0821\n",
      "Epoch 5/10\n",
      "5535/5535 - 0s - loss: 0.0745 - mean_squared_error: 0.0742 - val_loss: 0.0824 - val_mean_squared_error: 0.0821\n",
      "Epoch 6/10\n",
      "5535/5535 - 0s - loss: 0.0729 - mean_squared_error: 0.0726 - val_loss: 0.0828 - val_mean_squared_error: 0.0825\n",
      "Epoch 7/10\n",
      "5535/5535 - 0s - loss: 0.0707 - mean_squared_error: 0.0703 - val_loss: 0.0845 - val_mean_squared_error: 0.0841\n",
      "Epoch 8/10\n",
      "5535/5535 - 0s - loss: 0.0680 - mean_squared_error: 0.0676 - val_loss: 0.0870 - val_mean_squared_error: 0.0865\n",
      "Epoch 9/10\n",
      "5535/5535 - 0s - loss: 0.0657 - mean_squared_error: 0.0651 - val_loss: 0.0887 - val_mean_squared_error: 0.0881\n",
      "Epoch 10/10\n",
      "5535/5535 - 0s - loss: 0.0638 - mean_squared_error: 0.0632 - val_loss: 0.0902 - val_mean_squared_error: 0.0895\n",
      "Train on 5535 samples, validate on 1384 samples\n",
      "Epoch 1/10\n",
      "5535/5535 - 4s - loss: 0.1776 - mean_squared_error: 0.1776 - val_loss: 0.1125 - val_mean_squared_error: 0.1125\n",
      "Epoch 2/10\n",
      "5535/5535 - 0s - loss: 0.0875 - mean_squared_error: 0.0874 - val_loss: 0.0822 - val_mean_squared_error: 0.0821\n",
      "Epoch 3/10\n",
      "5535/5535 - 0s - loss: 0.0766 - mean_squared_error: 0.0765 - val_loss: 0.0820 - val_mean_squared_error: 0.0819\n",
      "Epoch 4/10\n",
      "5535/5535 - 0s - loss: 0.0736 - mean_squared_error: 0.0734 - val_loss: 0.0835 - val_mean_squared_error: 0.0834\n",
      "Epoch 5/10\n",
      "5535/5535 - 0s - loss: 0.0686 - mean_squared_error: 0.0683 - val_loss: 0.0882 - val_mean_squared_error: 0.0879\n",
      "Epoch 6/10\n",
      "5535/5535 - 0s - loss: 0.0646 - mean_squared_error: 0.0643 - val_loss: 0.0922 - val_mean_squared_error: 0.0918\n",
      "Epoch 7/10\n",
      "5535/5535 - 0s - loss: 0.0615 - mean_squared_error: 0.0612 - val_loss: 0.0934 - val_mean_squared_error: 0.0930\n",
      "Epoch 8/10\n",
      "5535/5535 - 0s - loss: 0.0580 - mean_squared_error: 0.0575 - val_loss: 0.0943 - val_mean_squared_error: 0.0938\n",
      "Epoch 9/10\n",
      "5535/5535 - 0s - loss: 0.0551 - mean_squared_error: 0.0547 - val_loss: 0.0956 - val_mean_squared_error: 0.0952\n",
      "Epoch 10/10\n",
      "5535/5535 - 0s - loss: 0.0532 - mean_squared_error: 0.0528 - val_loss: 0.1003 - val_mean_squared_error: 0.0998\n",
      "Train on 5535 samples, validate on 1384 samples\n",
      "Epoch 1/10\n",
      "5535/5535 - 4s - loss: 0.1624 - mean_squared_error: 0.1624 - val_loss: 0.0852 - val_mean_squared_error: 0.0852\n",
      "Epoch 2/10\n",
      "5535/5535 - 0s - loss: 0.0795 - mean_squared_error: 0.0794 - val_loss: 0.0839 - val_mean_squared_error: 0.0838\n",
      "Epoch 3/10\n",
      "5535/5535 - 0s - loss: 0.0753 - mean_squared_error: 0.0752 - val_loss: 0.0833 - val_mean_squared_error: 0.0832\n",
      "Epoch 4/10\n",
      "5535/5535 - 0s - loss: 0.0691 - mean_squared_error: 0.0689 - val_loss: 0.0879 - val_mean_squared_error: 0.0878\n",
      "Epoch 5/10\n",
      "5535/5535 - 0s - loss: 0.0637 - mean_squared_error: 0.0635 - val_loss: 0.0912 - val_mean_squared_error: 0.0910\n",
      "Epoch 6/10\n",
      "5535/5535 - 0s - loss: 0.0584 - mean_squared_error: 0.0582 - val_loss: 0.0909 - val_mean_squared_error: 0.0906\n",
      "Epoch 7/10\n",
      "5535/5535 - 0s - loss: 0.0548 - mean_squared_error: 0.0545 - val_loss: 0.0972 - val_mean_squared_error: 0.0969\n",
      "Epoch 8/10\n",
      "5535/5535 - 0s - loss: 0.0522 - mean_squared_error: 0.0519 - val_loss: 0.0979 - val_mean_squared_error: 0.0976\n",
      "Epoch 9/10\n",
      "5535/5535 - 0s - loss: 0.0506 - mean_squared_error: 0.0503 - val_loss: 0.1004 - val_mean_squared_error: 0.1001\n",
      "Epoch 10/10\n",
      "5535/5535 - 0s - loss: 0.0494 - mean_squared_error: 0.0490 - val_loss: 0.1025 - val_mean_squared_error: 0.1022\n",
      "Train on 5535 samples, validate on 1384 samples\n",
      "Epoch 1/10\n",
      "5535/5535 - 4s - loss: 0.1478 - mean_squared_error: 0.1478 - val_loss: 0.0832 - val_mean_squared_error: 0.0831\n",
      "Epoch 2/10\n",
      "5535/5535 - 0s - loss: 0.0816 - mean_squared_error: 0.0815 - val_loss: 0.0840 - val_mean_squared_error: 0.0840\n",
      "Epoch 3/10\n",
      "5535/5535 - 0s - loss: 0.0742 - mean_squared_error: 0.0741 - val_loss: 0.0846 - val_mean_squared_error: 0.0845\n",
      "Epoch 4/10\n",
      "5535/5535 - 0s - loss: 0.0669 - mean_squared_error: 0.0668 - val_loss: 0.0889 - val_mean_squared_error: 0.0888\n",
      "Epoch 5/10\n",
      "5535/5535 - 0s - loss: 0.0608 - mean_squared_error: 0.0606 - val_loss: 0.0881 - val_mean_squared_error: 0.0879\n",
      "Epoch 6/10\n",
      "5535/5535 - 0s - loss: 0.0559 - mean_squared_error: 0.0557 - val_loss: 0.0927 - val_mean_squared_error: 0.0925\n",
      "Epoch 7/10\n",
      "5535/5535 - 0s - loss: 0.0525 - mean_squared_error: 0.0523 - val_loss: 0.0948 - val_mean_squared_error: 0.0945\n",
      "Epoch 8/10\n",
      "5535/5535 - 0s - loss: 0.0512 - mean_squared_error: 0.0510 - val_loss: 0.0969 - val_mean_squared_error: 0.0966\n",
      "Epoch 9/10\n",
      "5535/5535 - 0s - loss: 0.0490 - mean_squared_error: 0.0487 - val_loss: 0.1029 - val_mean_squared_error: 0.1026\n",
      "Epoch 10/10\n",
      "5535/5535 - 0s - loss: 0.0487 - mean_squared_error: 0.0484 - val_loss: 0.1030 - val_mean_squared_error: 0.1028\n"
     ]
    },
    {
     "data": {
      "text/html": [
       "<div>\n",
       "<style scoped>\n",
       "    .dataframe tbody tr th:only-of-type {\n",
       "        vertical-align: middle;\n",
       "    }\n",
       "\n",
       "    .dataframe tbody tr th {\n",
       "        vertical-align: top;\n",
       "    }\n",
       "\n",
       "    .dataframe thead th {\n",
       "        text-align: right;\n",
       "    }\n",
       "</style>\n",
       "<table border=\"1\" class=\"dataframe\">\n",
       "  <thead>\n",
       "    <tr style=\"text-align: right;\">\n",
       "      <th></th>\n",
       "      <th>dnn_hidden_units</th>\n",
       "      <th>RMSE</th>\n",
       "      <th>MAE</th>\n",
       "      <th>MSE</th>\n",
       "      <th>AUC</th>\n",
       "      <th>score</th>\n",
       "    </tr>\n",
       "  </thead>\n",
       "  <tbody>\n",
       "    <tr>\n",
       "      <th>0</th>\n",
       "      <td>(1, 1)</td>\n",
       "      <td>0.271</td>\n",
       "      <td>0.177</td>\n",
       "      <td>0.074</td>\n",
       "      <td>0.667</td>\n",
       "      <td>NaN</td>\n",
       "    </tr>\n",
       "    <tr>\n",
       "      <th>1</th>\n",
       "      <td>(2, 2)</td>\n",
       "      <td>0.275</td>\n",
       "      <td>0.163</td>\n",
       "      <td>0.075</td>\n",
       "      <td>0.671</td>\n",
       "      <td>NaN</td>\n",
       "    </tr>\n",
       "    <tr>\n",
       "      <th>2</th>\n",
       "      <td>(4, 4)</td>\n",
       "      <td>0.283</td>\n",
       "      <td>0.164</td>\n",
       "      <td>0.08</td>\n",
       "      <td>0.669</td>\n",
       "      <td>NaN</td>\n",
       "    </tr>\n",
       "    <tr>\n",
       "      <th>3</th>\n",
       "      <td>(32, 32)</td>\n",
       "      <td>0.301</td>\n",
       "      <td>0.16</td>\n",
       "      <td>0.091</td>\n",
       "      <td>0.699</td>\n",
       "      <td>NaN</td>\n",
       "    </tr>\n",
       "    <tr>\n",
       "      <th>4</th>\n",
       "      <td>(128, 128)</td>\n",
       "      <td>0.303</td>\n",
       "      <td>0.145</td>\n",
       "      <td>0.092</td>\n",
       "      <td>0.714</td>\n",
       "      <td>NaN</td>\n",
       "    </tr>\n",
       "    <tr>\n",
       "      <th>5</th>\n",
       "      <td>(256, 256)</td>\n",
       "      <td>0.304</td>\n",
       "      <td>0.144</td>\n",
       "      <td>0.092</td>\n",
       "      <td>0.722</td>\n",
       "      <td>NaN</td>\n",
       "    </tr>\n",
       "  </tbody>\n",
       "</table>\n",
       "</div>"
      ],
      "text/plain": [
       "  dnn_hidden_units   RMSE    MAE    MSE    AUC score\n",
       "0           (1, 1)  0.271  0.177  0.074  0.667   NaN\n",
       "1           (2, 2)  0.275  0.163  0.075  0.671   NaN\n",
       "2           (4, 4)  0.283  0.164   0.08  0.669   NaN\n",
       "3         (32, 32)  0.301   0.16  0.091  0.699   NaN\n",
       "4       (128, 128)  0.303  0.145  0.092  0.714   NaN\n",
       "5       (256, 256)  0.304  0.144  0.092  0.722   NaN"
      ]
     },
     "execution_count": 227,
     "metadata": {},
     "output_type": "execute_result"
    }
   ],
   "source": [
    "for i,x in enumerate(param_rand['dnn_hidden_units']):\n",
    "    model = WDL(linear_feature_columns, dnn_feature_columns, dnn_hidden_units=x, \n",
    "             init_std=0.0001, seed=1024,task='binary')\n",
    "\n",
    "    model.compile(\"adam\", \"mse\", metrics=['mse'])\n",
    "\n",
    "    history = model.fit(train_model_input, train[target].values,\n",
    "                            batch_size=256, epochs=10, verbose=2, validation_split=0.2, )\n",
    "    pred_ans = model.predict(test_model_input, batch_size=256)\n",
    "    \n",
    "    auc = roc_auc_score(test[target].values, pred_ans)\n",
    "    \n",
    "    df_result.loc[i].dnn_hidden_units = x\n",
    "    df_result.loc[i].RMSE = np.round(math.sqrt(mean_squared_error(test[target].values, pred_ans)),3)\n",
    "    df_result.loc[i].MAE = np.round(mean_absolute_error(test[target].values, pred_ans),3)\n",
    "    df_result.loc[i].MSE = np.round(mean_squared_error(test[target].values, pred_ans),3)\n",
    "    df_result.loc[i].AUC = np.round(auc,3)    \n",
    "    df_result.iloc[i]['score']=df_result.sort_values(['AUC','MAE','RMSE'],ascending=False)"
   ]
  },
  {
   "cell_type": "code",
   "execution_count": 222,
   "metadata": {},
   "outputs": [],
   "source": [
    "#for x in ['RMSE','MAE','MSE']:\n",
    "#    df_result[x]=pd.to_numeric(df_result[x])\n",
    "#    df_result[x]=np.log10(df_result[x] + 1)"
   ]
  },
  {
   "cell_type": "code",
   "execution_count": 235,
   "metadata": {},
   "outputs": [
    {
     "data": {
      "text/plain": [
       "(256, 256)"
      ]
     },
     "execution_count": 235,
     "metadata": {},
     "output_type": "execute_result"
    }
   ],
   "source": [
    "df_result.sort_values(['AUC','MAE','RMSE'],ascending=False).iloc[0][\"dnn_hidden_units\"]"
   ]
  },
  {
   "cell_type": "code",
   "execution_count": 239,
   "metadata": {},
   "outputs": [],
   "source": [
    "a = df_result.sort_values(['AUC','MAE','RMSE'],ascending=False).iloc[0][\"dnn_hidden_units\"]\n",
    "#best_dnn_hidden_units = int(str(a.values).split(\",\")[1][:-2])"
   ]
  },
  {
   "cell_type": "code",
   "execution_count": 268,
   "metadata": {},
   "outputs": [],
   "source": [
    "a = df_result[\"dnn_hidden_units\"][5]"
   ]
  },
  {
   "cell_type": "code",
   "execution_count": 269,
   "metadata": {},
   "outputs": [
    {
     "data": {
      "text/plain": [
       "'256'"
      ]
     },
     "execution_count": 269,
     "metadata": {},
     "output_type": "execute_result"
    }
   ],
   "source": [
    "str(a).split(\",\")[0].split(\"(\")[1]"
   ]
  },
  {
   "cell_type": "markdown",
   "metadata": {},
   "source": [
    "### 2) l2_reg_linear: float. L2 regularizer strength applied to wide part"
   ]
  },
  {
   "cell_type": "code",
   "execution_count": 272,
   "metadata": {},
   "outputs": [],
   "source": [
    "cols2 = ['l2_reg_linear','RMSE','MAE','MSE','AUC','score']\n",
    "df_result2 = pd.DataFrame(columns=cols2, index=range(len(param_rand['l2_reg_linear'])))    "
   ]
  },
  {
   "cell_type": "code",
   "execution_count": 274,
   "metadata": {
    "scrolled": true
   },
   "outputs": [
    {
     "name": "stdout",
     "output_type": "stream",
     "text": [
      "Train on 5535 samples, validate on 1384 samples\n",
      "Epoch 1/3\n",
      "5535/5535 - 11s - loss: 0.1636 - mean_squared_error: 0.1636 - val_loss: 0.0858 - val_mean_squared_error: 0.0858\n",
      "Epoch 2/3\n",
      "5535/5535 - 0s - loss: 0.0796 - mean_squared_error: 0.0795 - val_loss: 0.0836 - val_mean_squared_error: 0.0835\n",
      "Epoch 3/3\n",
      "5535/5535 - 0s - loss: 0.0754 - mean_squared_error: 0.0754 - val_loss: 0.0828 - val_mean_squared_error: 0.0827\n",
      "Train on 5535 samples, validate on 1384 samples\n",
      "Epoch 1/3\n",
      "5535/5535 - 11s - loss: 0.1796 - mean_squared_error: 0.1718 - val_loss: 0.1012 - val_mean_squared_error: 0.0903\n",
      "Epoch 2/3\n",
      "5535/5535 - 1s - loss: 0.0902 - mean_squared_error: 0.0810 - val_loss: 0.0895 - val_mean_squared_error: 0.0839\n",
      "Epoch 3/3\n",
      "5535/5535 - 1s - loss: 0.0790 - mean_squared_error: 0.0760 - val_loss: 0.0843 - val_mean_squared_error: 0.0832\n",
      "Train on 5535 samples, validate on 1384 samples\n",
      "Epoch 1/3\n",
      "5535/5535 - 6s - loss: 0.1790 - mean_squared_error: 0.1680 - val_loss: 0.1023 - val_mean_squared_error: 0.0877\n",
      "Epoch 2/3\n",
      "5535/5535 - 0s - loss: 0.0896 - mean_squared_error: 0.0802 - val_loss: 0.0869 - val_mean_squared_error: 0.0839\n",
      "Epoch 3/3\n",
      "5535/5535 - 0s - loss: 0.0762 - mean_squared_error: 0.0752 - val_loss: 0.0833 - val_mean_squared_error: 0.0830\n",
      "Train on 5535 samples, validate on 1384 samples\n",
      "Epoch 1/3\n",
      "5535/5535 - 7s - loss: 0.1840 - mean_squared_error: 0.1697 - val_loss: 0.1060 - val_mean_squared_error: 0.0892\n",
      "Epoch 2/3\n",
      "5535/5535 - 0s - loss: 0.0891 - mean_squared_error: 0.0806 - val_loss: 0.0853 - val_mean_squared_error: 0.0840\n",
      "Epoch 3/3\n",
      "5535/5535 - 0s - loss: 0.0763 - mean_squared_error: 0.0757 - val_loss: 0.0838 - val_mean_squared_error: 0.0833\n",
      "Train on 5535 samples, validate on 1384 samples\n",
      "Epoch 1/3\n",
      "5535/5535 - 7s - loss: 0.1868 - mean_squared_error: 0.1698 - val_loss: 0.1035 - val_mean_squared_error: 0.0872\n",
      "Epoch 2/3\n",
      "5535/5535 - 0s - loss: 0.0864 - mean_squared_error: 0.0799 - val_loss: 0.0843 - val_mean_squared_error: 0.0837\n",
      "Epoch 3/3\n",
      "5535/5535 - 0s - loss: 0.0750 - mean_squared_error: 0.0744 - val_loss: 0.0838 - val_mean_squared_error: 0.0834\n"
     ]
    }
   ],
   "source": [
    "for i,x in enumerate(param_rand['l2_reg_linear']):\n",
    "    model = WDL(linear_feature_columns, dnn_feature_columns, \n",
    "                dnn_hidden_units=(128,128),\n",
    "                l2_reg_linear=i,l2_reg_embedding=1e-5, l2_reg_dnn=0, init_std=0.0001, seed=1024,task='binary')\n",
    "\n",
    "    model.compile(\"adam\", \"mse\", metrics=['mse'])\n",
    "\n",
    "    history = model.fit(train_model_input, train[target].values,\n",
    "                            batch_size=256, epochs=3, verbose=2, validation_split=0.2, )\n",
    "    pred_ans = model.predict(test_model_input, batch_size=256)\n",
    "    \n",
    "    auc = roc_auc_score(test[target].values, pred_ans)\n",
    "    \n",
    "    df_result2.loc[i].l2_reg_linear = x\n",
    "    df_result2.loc[i].RMSE = np.round(math.sqrt(mean_squared_error(test[target].values, pred_ans)),3)\n",
    "    df_result2.loc[i].MAE = np.round(mean_absolute_error(test[target].values, pred_ans),3)\n",
    "    df_result2.loc[i].MSE = np.round(mean_squared_error(test[target].values, pred_ans),3)\n",
    "    df_result2.loc[i].AUC = np.round(auc,3)    \n",
    "    df_result2.iloc[i]['score']=(1/df_result.iloc[i]['RMSE'])*(1/df_result.iloc[i]['MAE'])*(2*df_result.iloc[i]['AUC'])"
   ]
  },
  {
   "cell_type": "code",
   "execution_count": 293,
   "metadata": {},
   "outputs": [
    {
     "data": {
      "text/html": [
       "<div>\n",
       "<style scoped>\n",
       "    .dataframe tbody tr th:only-of-type {\n",
       "        vertical-align: middle;\n",
       "    }\n",
       "\n",
       "    .dataframe tbody tr th {\n",
       "        vertical-align: top;\n",
       "    }\n",
       "\n",
       "    .dataframe thead th {\n",
       "        text-align: right;\n",
       "    }\n",
       "</style>\n",
       "<table border=\"1\" class=\"dataframe\">\n",
       "  <thead>\n",
       "    <tr style=\"text-align: right;\">\n",
       "      <th></th>\n",
       "      <th>l2_reg_linear</th>\n",
       "      <th>RMSE</th>\n",
       "      <th>MAE</th>\n",
       "      <th>MSE</th>\n",
       "      <th>AUC</th>\n",
       "      <th>score</th>\n",
       "    </tr>\n",
       "  </thead>\n",
       "  <tbody>\n",
       "    <tr>\n",
       "      <th>1</th>\n",
       "      <td>0.001</td>\n",
       "      <td>0.27</td>\n",
       "      <td>0.17</td>\n",
       "      <td>0.073</td>\n",
       "      <td>0.667</td>\n",
       "      <td>29.9387</td>\n",
       "    </tr>\n",
       "    <tr>\n",
       "      <th>3</th>\n",
       "      <td>1</td>\n",
       "      <td>0.271</td>\n",
       "      <td>0.174</td>\n",
       "      <td>0.074</td>\n",
       "      <td>0.662</td>\n",
       "      <td>29.0282</td>\n",
       "    </tr>\n",
       "    <tr>\n",
       "      <th>4</th>\n",
       "      <td>10</td>\n",
       "      <td>0.271</td>\n",
       "      <td>0.171</td>\n",
       "      <td>0.074</td>\n",
       "      <td>0.662</td>\n",
       "      <td>32.5026</td>\n",
       "    </tr>\n",
       "    <tr>\n",
       "      <th>0</th>\n",
       "      <td>1e-05</td>\n",
       "      <td>0.27</td>\n",
       "      <td>0.166</td>\n",
       "      <td>0.073</td>\n",
       "      <td>0.662</td>\n",
       "      <td>27.8108</td>\n",
       "    </tr>\n",
       "    <tr>\n",
       "      <th>2</th>\n",
       "      <td>0.1</td>\n",
       "      <td>0.271</td>\n",
       "      <td>0.171</td>\n",
       "      <td>0.073</td>\n",
       "      <td>0.656</td>\n",
       "      <td>28.8288</td>\n",
       "    </tr>\n",
       "  </tbody>\n",
       "</table>\n",
       "</div>"
      ],
      "text/plain": [
       "  l2_reg_linear   RMSE    MAE    MSE    AUC    score\n",
       "1         0.001   0.27   0.17  0.073  0.667  29.9387\n",
       "3             1  0.271  0.174  0.074  0.662  29.0282\n",
       "4            10  0.271  0.171  0.074  0.662  32.5026\n",
       "0         1e-05   0.27  0.166  0.073  0.662  27.8108\n",
       "2           0.1  0.271  0.171  0.073  0.656  28.8288"
      ]
     },
     "execution_count": 293,
     "metadata": {},
     "output_type": "execute_result"
    }
   ],
   "source": [
    "df_result2.sort_values(['AUC','MAE','RMSE'],ascending=False)"
   ]
  },
  {
   "cell_type": "code",
   "execution_count": 300,
   "metadata": {},
   "outputs": [
    {
     "data": {
      "text/plain": [
       "0.001"
      ]
     },
     "execution_count": 300,
     "metadata": {},
     "output_type": "execute_result"
    }
   ],
   "source": [
    "b=df_result2.sort_values(['AUC','MAE','RMSE'],ascending=False).iloc[0][\"l2_reg_linear\"]\n",
    "b"
   ]
  },
  {
   "cell_type": "markdown",
   "metadata": {},
   "source": [
    "### 3) l2_reg_embedding: float. L2 regularizer strength applied to embedding vector"
   ]
  },
  {
   "cell_type": "code",
   "execution_count": 296,
   "metadata": {},
   "outputs": [],
   "source": [
    "cols3 = ['l2_reg_embedding','RMSE','MAE','MSE','AUC','score']\n",
    "df_result3 = pd.DataFrame(columns=cols3, index=range(len(param_rand['l2_reg_embedding'])))    "
   ]
  },
  {
   "cell_type": "code",
   "execution_count": 297,
   "metadata": {
    "scrolled": true
   },
   "outputs": [
    {
     "name": "stdout",
     "output_type": "stream",
     "text": [
      "Train on 5535 samples, validate on 1384 samples\n",
      "Epoch 1/3\n",
      "5535/5535 - 11s - loss: 0.1787 - mean_squared_error: 0.1787 - val_loss: 0.1208 - val_mean_squared_error: 0.1208\n",
      "Epoch 2/3\n",
      "5535/5535 - 1s - loss: 0.0960 - mean_squared_error: 0.0959 - val_loss: 0.0873 - val_mean_squared_error: 0.0873\n",
      "Epoch 3/3\n",
      "5535/5535 - 0s - loss: 0.0789 - mean_squared_error: 0.0788 - val_loss: 0.0828 - val_mean_squared_error: 0.0828\n",
      "Train on 5535 samples, validate on 1384 samples\n",
      "Epoch 1/3\n",
      "5535/5535 - 10s - loss: 0.2043 - mean_squared_error: 0.1970 - val_loss: 0.1505 - val_mean_squared_error: 0.1494\n",
      "Epoch 2/3\n",
      "5535/5535 - 0s - loss: 0.1235 - mean_squared_error: 0.1228 - val_loss: 0.1076 - val_mean_squared_error: 0.1075\n",
      "Epoch 3/3\n",
      "5535/5535 - 0s - loss: 0.0950 - mean_squared_error: 0.0948 - val_loss: 0.0932 - val_mean_squared_error: 0.0931\n",
      "Train on 5535 samples, validate on 1384 samples\n",
      "Epoch 1/3\n",
      "5535/5535 - 14s - loss: 0.2070 - mean_squared_error: 0.1900 - val_loss: 0.1450 - val_mean_squared_error: 0.1409\n",
      "Epoch 2/3\n",
      "5535/5535 - 0s - loss: 0.1182 - mean_squared_error: 0.1161 - val_loss: 0.1032 - val_mean_squared_error: 0.1025\n",
      "Epoch 3/3\n",
      "5535/5535 - 0s - loss: 0.0915 - mean_squared_error: 0.0911 - val_loss: 0.0907 - val_mean_squared_error: 0.0905\n",
      "Train on 5535 samples, validate on 1384 samples\n",
      "Epoch 1/3\n",
      "5535/5535 - 24s - loss: 0.2206 - mean_squared_error: 0.1980 - val_loss: 0.1547 - val_mean_squared_error: 0.1505\n",
      "Epoch 2/3\n",
      "5535/5535 - 1s - loss: 0.1260 - mean_squared_error: 0.1240 - val_loss: 0.1090 - val_mean_squared_error: 0.1086\n",
      "Epoch 3/3\n",
      "5535/5535 - 1s - loss: 0.0961 - mean_squared_error: 0.0958 - val_loss: 0.0939 - val_mean_squared_error: 0.0938\n",
      "Train on 5535 samples, validate on 1384 samples\n",
      "Epoch 1/3\n",
      "5535/5535 - 22s - loss: 0.2280 - mean_squared_error: 0.1976 - val_loss: 0.1564 - val_mean_squared_error: 0.1504\n",
      "Epoch 2/3\n",
      "5535/5535 - 1s - loss: 0.1266 - mean_squared_error: 0.1239 - val_loss: 0.1088 - val_mean_squared_error: 0.1083\n",
      "Epoch 3/3\n",
      "5535/5535 - 1s - loss: 0.0961 - mean_squared_error: 0.0957 - val_loss: 0.0938 - val_mean_squared_error: 0.0936\n"
     ]
    }
   ],
   "source": [
    "for i,x in enumerate(param_rand['l2_reg_embedding']):\n",
    "    model = WDL(linear_feature_columns, dnn_feature_columns,\n",
    "                dnn_hidden_units=(2,2), \n",
    "                l2_reg_linear=b,\n",
    "                l2_reg_embedding=i, l2_reg_dnn=0, init_std=0.0001, seed=1024, task='binary')\n",
    "\n",
    "    model.compile(\"adam\", \"mse\", metrics=['mse'])\n",
    "\n",
    "    history = model.fit(train_model_input, train[target].values,\n",
    "                            batch_size=256, epochs=3, verbose=2, validation_split=0.2, )\n",
    "    pred_ans = model.predict(test_model_input, batch_size=256)\n",
    "    \n",
    "    auc = roc_auc_score(test[target].values, pred_ans)\n",
    "    \n",
    "    df_result3.loc[i].l2_reg_embedding = x\n",
    "    df_result3.loc[i].RMSE = np.round(math.sqrt(mean_squared_error(test[target].values, pred_ans)),3)\n",
    "    df_result3.loc[i].MAE = np.round(mean_absolute_error(test[target].values, pred_ans),3)\n",
    "    df_result3.loc[i].MSE = np.round(mean_squared_error(test[target].values, pred_ans),3)\n",
    "    df_result3.loc[i].AUC = np.round(auc,3)    \n",
    "    df_result3.iloc[i]['score']=(1/df_result.iloc[i]['RMSE'])*(1/df_result.iloc[i]['MAE'])*(2*df_result.iloc[i]['AUC'])"
   ]
  },
  {
   "cell_type": "code",
   "execution_count": 304,
   "metadata": {},
   "outputs": [
    {
     "data": {
      "text/html": [
       "<div>\n",
       "<style scoped>\n",
       "    .dataframe tbody tr th:only-of-type {\n",
       "        vertical-align: middle;\n",
       "    }\n",
       "\n",
       "    .dataframe tbody tr th {\n",
       "        vertical-align: top;\n",
       "    }\n",
       "\n",
       "    .dataframe thead th {\n",
       "        text-align: right;\n",
       "    }\n",
       "</style>\n",
       "<table border=\"1\" class=\"dataframe\">\n",
       "  <thead>\n",
       "    <tr style=\"text-align: right;\">\n",
       "      <th></th>\n",
       "      <th>l2_reg_embedding</th>\n",
       "      <th>RMSE</th>\n",
       "      <th>MAE</th>\n",
       "      <th>MSE</th>\n",
       "      <th>AUC</th>\n",
       "      <th>score</th>\n",
       "    </tr>\n",
       "  </thead>\n",
       "  <tbody>\n",
       "    <tr>\n",
       "      <th>0</th>\n",
       "      <td>1e-07</td>\n",
       "      <td>0.271</td>\n",
       "      <td>0.179</td>\n",
       "      <td>0.074</td>\n",
       "      <td>0.647</td>\n",
       "      <td>27.8108</td>\n",
       "    </tr>\n",
       "    <tr>\n",
       "      <th>2</th>\n",
       "      <td>0.001</td>\n",
       "      <td>0.288</td>\n",
       "      <td>0.231</td>\n",
       "      <td>0.083</td>\n",
       "      <td>0.645</td>\n",
       "      <td>28.8288</td>\n",
       "    </tr>\n",
       "    <tr>\n",
       "      <th>1</th>\n",
       "      <td>1e-05</td>\n",
       "      <td>0.293</td>\n",
       "      <td>0.243</td>\n",
       "      <td>0.086</td>\n",
       "      <td>0.643</td>\n",
       "      <td>29.9387</td>\n",
       "    </tr>\n",
       "    <tr>\n",
       "      <th>4</th>\n",
       "      <td>1</td>\n",
       "      <td>0.294</td>\n",
       "      <td>0.245</td>\n",
       "      <td>0.086</td>\n",
       "      <td>0.642</td>\n",
       "      <td>32.5026</td>\n",
       "    </tr>\n",
       "    <tr>\n",
       "      <th>3</th>\n",
       "      <td>0.1</td>\n",
       "      <td>0.294</td>\n",
       "      <td>0.245</td>\n",
       "      <td>0.086</td>\n",
       "      <td>0.64</td>\n",
       "      <td>29.0282</td>\n",
       "    </tr>\n",
       "  </tbody>\n",
       "</table>\n",
       "</div>"
      ],
      "text/plain": [
       "  l2_reg_embedding   RMSE    MAE    MSE    AUC    score\n",
       "0            1e-07  0.271  0.179  0.074  0.647  27.8108\n",
       "2            0.001  0.288  0.231  0.083  0.645  28.8288\n",
       "1            1e-05  0.293  0.243  0.086  0.643  29.9387\n",
       "4                1  0.294  0.245  0.086  0.642  32.5026\n",
       "3              0.1  0.294  0.245  0.086   0.64  29.0282"
      ]
     },
     "execution_count": 304,
     "metadata": {},
     "output_type": "execute_result"
    }
   ],
   "source": [
    "df_result3.sort_values(['AUC','MAE','RMSE'],ascending=False)"
   ]
  },
  {
   "cell_type": "code",
   "execution_count": 306,
   "metadata": {},
   "outputs": [
    {
     "data": {
      "text/plain": [
       "1e-07"
      ]
     },
     "execution_count": 306,
     "metadata": {},
     "output_type": "execute_result"
    }
   ],
   "source": [
    "c=df_result3.sort_values(['AUC','MAE','RMSE'],ascending=False).iloc[0][\"l2_reg_embedding\"]\n",
    "c"
   ]
  },
  {
   "cell_type": "code",
   "execution_count": 380,
   "metadata": {},
   "outputs": [
    {
     "data": {
      "text/plain": [
       "1"
      ]
     },
     "execution_count": 380,
     "metadata": {},
     "output_type": "execute_result"
    }
   ],
   "source": [
    "best_l2_reg_embedding"
   ]
  },
  {
   "cell_type": "markdown",
   "metadata": {},
   "source": [
    "### 4)l2_reg_dnn: float. L2 regularizer strength applied to DNN"
   ]
  },
  {
   "cell_type": "code",
   "execution_count": 309,
   "metadata": {},
   "outputs": [],
   "source": [
    "cols4 = ['l2_reg_dnn','RMSE','MAE','MSE','AUC','score']\n",
    "df_result4 = pd.DataFrame(columns=cols4, index=range(len(param_rand['l2_reg_dnn'])))    "
   ]
  },
  {
   "cell_type": "code",
   "execution_count": 310,
   "metadata": {
    "scrolled": true
   },
   "outputs": [
    {
     "name": "stdout",
     "output_type": "stream",
     "text": [
      "Train on 5535 samples, validate on 1384 samples\n",
      "Epoch 1/3\n",
      "5535/5535 - 14s - loss: 0.1864 - mean_squared_error: 0.1862 - val_loss: 0.1306 - val_mean_squared_error: 0.1300\n",
      "Epoch 2/3\n",
      "5535/5535 - 0s - loss: 0.1052 - mean_squared_error: 0.1040 - val_loss: 0.0936 - val_mean_squared_error: 0.0919\n",
      "Epoch 3/3\n",
      "5535/5535 - 0s - loss: 0.0844 - mean_squared_error: 0.0824 - val_loss: 0.0864 - val_mean_squared_error: 0.0841\n",
      "Train on 5535 samples, validate on 1384 samples\n",
      "Epoch 1/3\n",
      "5535/5535 - 18s - loss: 4.3209 - mean_squared_error: 0.1975 - val_loss: 3.7509 - val_mean_squared_error: 0.1506\n",
      "Epoch 2/3\n",
      "5535/5535 - 1s - loss: 3.3432 - mean_squared_error: 0.1244 - val_loss: 2.9365 - val_mean_squared_error: 0.1087\n",
      "Epoch 3/3\n",
      "5535/5535 - 1s - loss: 2.6413 - mean_squared_error: 0.0966 - val_loss: 2.3491 - val_mean_squared_error: 0.0944\n",
      "Train on 5535 samples, validate on 1384 samples\n",
      "Epoch 1/3\n",
      "5535/5535 - 15s - loss: 8.4302 - mean_squared_error: 0.1837 - val_loss: 7.3306 - val_mean_squared_error: 0.1302\n",
      "Epoch 2/3\n",
      "5535/5535 - 1s - loss: 6.5442 - mean_squared_error: 0.1075 - val_loss: 5.7518 - val_mean_squared_error: 0.0978\n",
      "Epoch 3/3\n",
      "5535/5535 - 0s - loss: 5.1757 - mean_squared_error: 0.0884 - val_loss: 4.5957 - val_mean_squared_error: 0.0894\n",
      "Train on 5535 samples, validate on 1384 samples\n",
      "Epoch 1/3\n",
      "5535/5535 - 17s - loss: 12.5679 - mean_squared_error: 0.1983 - val_loss: 10.9505 - val_mean_squared_error: 0.1506\n",
      "Epoch 2/3\n",
      "5535/5535 - 1s - loss: 9.7784 - mean_squared_error: 0.1247 - val_loss: 8.5883 - val_mean_squared_error: 0.1090\n",
      "Epoch 3/3\n",
      "5535/5535 - 1s - loss: 7.7256 - mean_squared_error: 0.0965 - val_loss: 6.8522 - val_mean_squared_error: 0.0945\n"
     ]
    }
   ],
   "source": [
    "for i,x in enumerate(param_rand['l2_reg_dnn']):\n",
    "    model = WDL(linear_feature_columns, dnn_feature_columns,\n",
    "                dnn_hidden_units=(2,2), \n",
    "                l2_reg_linear=0.001,\n",
    "                l2_reg_embedding=c, l2_reg_dnn=i, init_std=0.0001, seed=1024,task='binary')\n",
    "\n",
    "    model.compile(\"adam\", \"mse\", metrics=['mse'])\n",
    "\n",
    "    history = model.fit(train_model_input, train[target].values,\n",
    "                            batch_size=256, epochs=3, verbose=2, validation_split=0.2, )\n",
    "    pred_ans = model.predict(test_model_input, batch_size=256)\n",
    "    \n",
    "    auc = roc_auc_score(test[target].values, pred_ans)\n",
    "    \n",
    "    df_result4.loc[i].l2_reg_dnn = x\n",
    "    df_result4.loc[i].RMSE = np.round(math.sqrt(mean_squared_error(test[target].values, pred_ans)),3)\n",
    "    df_result4.loc[i].MAE = np.round(mean_absolute_error(test[target].values, pred_ans),3)\n",
    "    df_result4.loc[i].MSE = np.round(mean_squared_error(test[target].values, pred_ans),3)\n",
    "    df_result4.loc[i].AUC = np.round(auc,3)    \n",
    "    df_result4.iloc[i]['score']=(1/df_result.iloc[i]['RMSE'])*(1/df_result.iloc[i]['MAE'])*(2*df_result.iloc[i]['AUC'])"
   ]
  },
  {
   "cell_type": "code",
   "execution_count": 311,
   "metadata": {},
   "outputs": [
    {
     "data": {
      "text/html": [
       "<div>\n",
       "<style scoped>\n",
       "    .dataframe tbody tr th:only-of-type {\n",
       "        vertical-align: middle;\n",
       "    }\n",
       "\n",
       "    .dataframe tbody tr th {\n",
       "        vertical-align: top;\n",
       "    }\n",
       "\n",
       "    .dataframe thead th {\n",
       "        text-align: right;\n",
       "    }\n",
       "</style>\n",
       "<table border=\"1\" class=\"dataframe\">\n",
       "  <thead>\n",
       "    <tr style=\"text-align: right;\">\n",
       "      <th></th>\n",
       "      <th>l2_reg_dnn</th>\n",
       "      <th>RMSE</th>\n",
       "      <th>MAE</th>\n",
       "      <th>MSE</th>\n",
       "      <th>AUC</th>\n",
       "      <th>score</th>\n",
       "    </tr>\n",
       "  </thead>\n",
       "  <tbody>\n",
       "    <tr>\n",
       "      <th>0</th>\n",
       "      <td>0</td>\n",
       "      <td>0.274</td>\n",
       "      <td>0.193</td>\n",
       "      <td>0.075</td>\n",
       "      <td>0.647</td>\n",
       "      <td>27.8108</td>\n",
       "    </tr>\n",
       "    <tr>\n",
       "      <th>1</th>\n",
       "      <td>0.2</td>\n",
       "      <td>0.295</td>\n",
       "      <td>0.247</td>\n",
       "      <td>0.087</td>\n",
       "      <td>0.642</td>\n",
       "      <td>29.9387</td>\n",
       "    </tr>\n",
       "    <tr>\n",
       "      <th>2</th>\n",
       "      <td>2</td>\n",
       "      <td>0.285</td>\n",
       "      <td>0.227</td>\n",
       "      <td>0.081</td>\n",
       "      <td>0.645</td>\n",
       "      <td>28.8288</td>\n",
       "    </tr>\n",
       "    <tr>\n",
       "      <th>3</th>\n",
       "      <td>4</td>\n",
       "      <td>0.295</td>\n",
       "      <td>0.248</td>\n",
       "      <td>0.087</td>\n",
       "      <td>0.646</td>\n",
       "      <td>29.0282</td>\n",
       "    </tr>\n",
       "  </tbody>\n",
       "</table>\n",
       "</div>"
      ],
      "text/plain": [
       "  l2_reg_dnn   RMSE    MAE    MSE    AUC    score\n",
       "0          0  0.274  0.193  0.075  0.647  27.8108\n",
       "1        0.2  0.295  0.247  0.087  0.642  29.9387\n",
       "2          2  0.285  0.227  0.081  0.645  28.8288\n",
       "3          4  0.295  0.248  0.087  0.646  29.0282"
      ]
     },
     "execution_count": 311,
     "metadata": {},
     "output_type": "execute_result"
    }
   ],
   "source": [
    "df_result4"
   ]
  },
  {
   "cell_type": "code",
   "execution_count": null,
   "metadata": {},
   "outputs": [],
   "source": [
    "d=df_result4.sort_values(['AUC','MAE','RMSE'],ascending=False).iloc[0][\"l2_reg_dnn\"]\n",
    "d"
   ]
  },
  {
   "cell_type": "markdown",
   "metadata": {},
   "source": [
    "### 5) dnn_dropout: float in [0,1), the probability we will drop out a given DNN coordinate.\n",
    "#### dnn_activation: Activation function to use in DNN"
   ]
  },
  {
   "cell_type": "code",
   "execution_count": 429,
   "metadata": {},
   "outputs": [],
   "source": [
    "cols5 = ['dnn_dropout','RMSE','MAE','MSE','AUC','score']\n",
    "df_result5 = pd.DataFrame(columns=cols4, index=range(len(param_rand['dnn_dropout'])))    "
   ]
  },
  {
   "cell_type": "code",
   "execution_count": 430,
   "metadata": {},
   "outputs": [
    {
     "name": "stdout",
     "output_type": "stream",
     "text": [
      "Train on 5535 samples, validate on 1384 samples\n"
     ]
    },
    {
     "ename": "KeyboardInterrupt",
     "evalue": "",
     "output_type": "error",
     "traceback": [
      "\u001b[0;31m---------------------------------------------------------------------------\u001b[0m",
      "\u001b[0;31mKeyboardInterrupt\u001b[0m                         Traceback (most recent call last)",
      "\u001b[0;32m<ipython-input-430-adbf1b9799b0>\u001b[0m in \u001b[0;36m<module>\u001b[0;34m\u001b[0m\n\u001b[1;32m      6\u001b[0m \u001b[0;34m\u001b[0m\u001b[0m\n\u001b[1;32m      7\u001b[0m     history = model.fit(train_model_input, train[target].values,\n\u001b[0;32m----> 8\u001b[0;31m                             batch_size=256, epochs=3, verbose=2, validation_split=0.2, )\n\u001b[0m\u001b[1;32m      9\u001b[0m     \u001b[0mpred_ans\u001b[0m \u001b[0;34m=\u001b[0m \u001b[0mmodel\u001b[0m\u001b[0;34m.\u001b[0m\u001b[0mpredict\u001b[0m\u001b[0;34m(\u001b[0m\u001b[0mtest_model_input\u001b[0m\u001b[0;34m,\u001b[0m \u001b[0mbatch_size\u001b[0m\u001b[0;34m=\u001b[0m\u001b[0;36m256\u001b[0m\u001b[0;34m)\u001b[0m\u001b[0;34m\u001b[0m\u001b[0;34m\u001b[0m\u001b[0m\n\u001b[1;32m     10\u001b[0m \u001b[0;34m\u001b[0m\u001b[0m\n",
      "\u001b[0;32m~/opt/anaconda3/lib/python3.7/site-packages/tensorflow_core/python/keras/engine/training.py\u001b[0m in \u001b[0;36mfit\u001b[0;34m(self, x, y, batch_size, epochs, verbose, callbacks, validation_split, validation_data, shuffle, class_weight, sample_weight, initial_epoch, steps_per_epoch, validation_steps, validation_freq, max_queue_size, workers, use_multiprocessing, **kwargs)\u001b[0m\n\u001b[1;32m    725\u001b[0m         \u001b[0mmax_queue_size\u001b[0m\u001b[0;34m=\u001b[0m\u001b[0mmax_queue_size\u001b[0m\u001b[0;34m,\u001b[0m\u001b[0;34m\u001b[0m\u001b[0;34m\u001b[0m\u001b[0m\n\u001b[1;32m    726\u001b[0m         \u001b[0mworkers\u001b[0m\u001b[0;34m=\u001b[0m\u001b[0mworkers\u001b[0m\u001b[0;34m,\u001b[0m\u001b[0;34m\u001b[0m\u001b[0;34m\u001b[0m\u001b[0m\n\u001b[0;32m--> 727\u001b[0;31m         use_multiprocessing=use_multiprocessing)\n\u001b[0m\u001b[1;32m    728\u001b[0m \u001b[0;34m\u001b[0m\u001b[0m\n\u001b[1;32m    729\u001b[0m   def evaluate(self,\n",
      "\u001b[0;32m~/opt/anaconda3/lib/python3.7/site-packages/tensorflow_core/python/keras/engine/training_arrays.py\u001b[0m in \u001b[0;36mfit\u001b[0;34m(self, model, x, y, batch_size, epochs, verbose, callbacks, validation_split, validation_data, shuffle, class_weight, sample_weight, initial_epoch, steps_per_epoch, validation_steps, validation_freq, **kwargs)\u001b[0m\n\u001b[1;32m    673\u001b[0m         \u001b[0mvalidation_steps\u001b[0m\u001b[0;34m=\u001b[0m\u001b[0mvalidation_steps\u001b[0m\u001b[0;34m,\u001b[0m\u001b[0;34m\u001b[0m\u001b[0;34m\u001b[0m\u001b[0m\n\u001b[1;32m    674\u001b[0m         \u001b[0mvalidation_freq\u001b[0m\u001b[0;34m=\u001b[0m\u001b[0mvalidation_freq\u001b[0m\u001b[0;34m,\u001b[0m\u001b[0;34m\u001b[0m\u001b[0;34m\u001b[0m\u001b[0m\n\u001b[0;32m--> 675\u001b[0;31m         steps_name='steps_per_epoch')\n\u001b[0m\u001b[1;32m    676\u001b[0m \u001b[0;34m\u001b[0m\u001b[0m\n\u001b[1;32m    677\u001b[0m   def evaluate(self,\n",
      "\u001b[0;32m~/opt/anaconda3/lib/python3.7/site-packages/tensorflow_core/python/keras/engine/training_arrays.py\u001b[0m in \u001b[0;36mmodel_iteration\u001b[0;34m(model, inputs, targets, sample_weights, batch_size, epochs, verbose, callbacks, val_inputs, val_targets, val_sample_weights, shuffle, initial_epoch, steps_per_epoch, validation_steps, validation_freq, mode, validation_in_fit, prepared_feed_values_from_dataset, steps_name, **kwargs)\u001b[0m\n\u001b[1;32m    269\u001b[0m     \u001b[0;31m# Setup work for each epoch\u001b[0m\u001b[0;34m\u001b[0m\u001b[0;34m\u001b[0m\u001b[0;34m\u001b[0m\u001b[0m\n\u001b[1;32m    270\u001b[0m     \u001b[0mepoch_logs\u001b[0m \u001b[0;34m=\u001b[0m \u001b[0;34m{\u001b[0m\u001b[0;34m}\u001b[0m\u001b[0;34m\u001b[0m\u001b[0;34m\u001b[0m\u001b[0m\n\u001b[0;32m--> 271\u001b[0;31m     \u001b[0mmodel\u001b[0m\u001b[0;34m.\u001b[0m\u001b[0mreset_metrics\u001b[0m\u001b[0;34m(\u001b[0m\u001b[0;34m)\u001b[0m\u001b[0;34m\u001b[0m\u001b[0;34m\u001b[0m\u001b[0m\n\u001b[0m\u001b[1;32m    272\u001b[0m     \u001b[0;32mif\u001b[0m \u001b[0mmode\u001b[0m \u001b[0;34m==\u001b[0m \u001b[0mModeKeys\u001b[0m\u001b[0;34m.\u001b[0m\u001b[0mTRAIN\u001b[0m\u001b[0;34m:\u001b[0m\u001b[0;34m\u001b[0m\u001b[0;34m\u001b[0m\u001b[0m\n\u001b[1;32m    273\u001b[0m       \u001b[0mcallbacks\u001b[0m\u001b[0;34m.\u001b[0m\u001b[0mon_epoch_begin\u001b[0m\u001b[0;34m(\u001b[0m\u001b[0mepoch\u001b[0m\u001b[0;34m,\u001b[0m \u001b[0mepoch_logs\u001b[0m\u001b[0;34m)\u001b[0m\u001b[0;34m\u001b[0m\u001b[0;34m\u001b[0m\u001b[0m\n",
      "\u001b[0;32m~/opt/anaconda3/lib/python3.7/site-packages/tensorflow_core/python/keras/engine/training.py\u001b[0m in \u001b[0;36mreset_metrics\u001b[0;34m(self)\u001b[0m\n\u001b[1;32m    912\u001b[0m     \u001b[0mmetrics\u001b[0m \u001b[0;34m=\u001b[0m \u001b[0mself\u001b[0m\u001b[0;34m.\u001b[0m\u001b[0m_get_training_eval_metrics\u001b[0m\u001b[0;34m(\u001b[0m\u001b[0;34m)\u001b[0m\u001b[0;34m\u001b[0m\u001b[0;34m\u001b[0m\u001b[0m\n\u001b[1;32m    913\u001b[0m     \u001b[0;32mfor\u001b[0m \u001b[0mm\u001b[0m \u001b[0;32min\u001b[0m \u001b[0mmetrics\u001b[0m\u001b[0;34m:\u001b[0m\u001b[0;34m\u001b[0m\u001b[0;34m\u001b[0m\u001b[0m\n\u001b[0;32m--> 914\u001b[0;31m       \u001b[0mm\u001b[0m\u001b[0;34m.\u001b[0m\u001b[0mreset_states\u001b[0m\u001b[0;34m(\u001b[0m\u001b[0;34m)\u001b[0m\u001b[0;34m\u001b[0m\u001b[0;34m\u001b[0m\u001b[0m\n\u001b[0m\u001b[1;32m    915\u001b[0m \u001b[0;34m\u001b[0m\u001b[0m\n\u001b[1;32m    916\u001b[0m     \u001b[0;31m# Reset metrics on all the distributed (cloned) models.\u001b[0m\u001b[0;34m\u001b[0m\u001b[0;34m\u001b[0m\u001b[0;34m\u001b[0m\u001b[0m\n",
      "\u001b[0;32m~/opt/anaconda3/lib/python3.7/site-packages/tensorflow_core/python/keras/metrics.py\u001b[0m in \u001b[0;36mreset_states\u001b[0;34m(self)\u001b[0m\n\u001b[1;32m    208\u001b[0m     \u001b[0mwhen\u001b[0m \u001b[0ma\u001b[0m \u001b[0mmetric\u001b[0m \u001b[0;32mis\u001b[0m \u001b[0mevaluated\u001b[0m \u001b[0mduring\u001b[0m \u001b[0mtraining\u001b[0m\u001b[0;34m.\u001b[0m\u001b[0;34m\u001b[0m\u001b[0;34m\u001b[0m\u001b[0m\n\u001b[1;32m    209\u001b[0m     \"\"\"\n\u001b[0;32m--> 210\u001b[0;31m     \u001b[0mK\u001b[0m\u001b[0;34m.\u001b[0m\u001b[0mbatch_set_value\u001b[0m\u001b[0;34m(\u001b[0m\u001b[0;34m[\u001b[0m\u001b[0;34m(\u001b[0m\u001b[0mv\u001b[0m\u001b[0;34m,\u001b[0m \u001b[0;36m0\u001b[0m\u001b[0;34m)\u001b[0m \u001b[0;32mfor\u001b[0m \u001b[0mv\u001b[0m \u001b[0;32min\u001b[0m \u001b[0mself\u001b[0m\u001b[0;34m.\u001b[0m\u001b[0mvariables\u001b[0m\u001b[0;34m]\u001b[0m\u001b[0;34m)\u001b[0m\u001b[0;34m\u001b[0m\u001b[0;34m\u001b[0m\u001b[0m\n\u001b[0m\u001b[1;32m    211\u001b[0m \u001b[0;34m\u001b[0m\u001b[0m\n\u001b[1;32m    212\u001b[0m   \u001b[0;34m@\u001b[0m\u001b[0mabc\u001b[0m\u001b[0;34m.\u001b[0m\u001b[0mabstractmethod\u001b[0m\u001b[0;34m\u001b[0m\u001b[0;34m\u001b[0m\u001b[0m\n",
      "\u001b[0;32m~/opt/anaconda3/lib/python3.7/site-packages/tensorflow_core/python/keras/backend.py\u001b[0m in \u001b[0;36mbatch_set_value\u001b[0;34m(tuples)\u001b[0m\n\u001b[1;32m   3257\u001b[0m           \u001b[0massign_ops\u001b[0m\u001b[0;34m.\u001b[0m\u001b[0mappend\u001b[0m\u001b[0;34m(\u001b[0m\u001b[0massign_op\u001b[0m\u001b[0;34m)\u001b[0m\u001b[0;34m\u001b[0m\u001b[0;34m\u001b[0m\u001b[0m\n\u001b[1;32m   3258\u001b[0m           \u001b[0mfeed_dict\u001b[0m\u001b[0;34m[\u001b[0m\u001b[0massign_placeholder\u001b[0m\u001b[0;34m]\u001b[0m \u001b[0;34m=\u001b[0m \u001b[0mvalue\u001b[0m\u001b[0;34m\u001b[0m\u001b[0;34m\u001b[0m\u001b[0m\n\u001b[0;32m-> 3259\u001b[0;31m         \u001b[0mget_session\u001b[0m\u001b[0;34m(\u001b[0m\u001b[0;34m)\u001b[0m\u001b[0;34m.\u001b[0m\u001b[0mrun\u001b[0m\u001b[0;34m(\u001b[0m\u001b[0massign_ops\u001b[0m\u001b[0;34m,\u001b[0m \u001b[0mfeed_dict\u001b[0m\u001b[0;34m=\u001b[0m\u001b[0mfeed_dict\u001b[0m\u001b[0;34m)\u001b[0m\u001b[0;34m\u001b[0m\u001b[0;34m\u001b[0m\u001b[0m\n\u001b[0m\u001b[1;32m   3260\u001b[0m \u001b[0;34m\u001b[0m\u001b[0m\n\u001b[1;32m   3261\u001b[0m \u001b[0;34m\u001b[0m\u001b[0m\n",
      "\u001b[0;32m~/opt/anaconda3/lib/python3.7/site-packages/tensorflow_core/python/keras/backend.py\u001b[0m in \u001b[0;36mget_session\u001b[0;34m(op_input_list)\u001b[0m\n\u001b[1;32m    484\u001b[0m   \u001b[0;32mif\u001b[0m \u001b[0;32mnot\u001b[0m \u001b[0m_MANUAL_VAR_INIT\u001b[0m\u001b[0;34m:\u001b[0m\u001b[0;34m\u001b[0m\u001b[0;34m\u001b[0m\u001b[0m\n\u001b[1;32m    485\u001b[0m     \u001b[0;32mwith\u001b[0m \u001b[0msession\u001b[0m\u001b[0;34m.\u001b[0m\u001b[0mgraph\u001b[0m\u001b[0;34m.\u001b[0m\u001b[0mas_default\u001b[0m\u001b[0;34m(\u001b[0m\u001b[0;34m)\u001b[0m\u001b[0;34m:\u001b[0m\u001b[0;34m\u001b[0m\u001b[0;34m\u001b[0m\u001b[0m\n\u001b[0;32m--> 486\u001b[0;31m       \u001b[0m_initialize_variables\u001b[0m\u001b[0;34m(\u001b[0m\u001b[0msession\u001b[0m\u001b[0;34m)\u001b[0m\u001b[0;34m\u001b[0m\u001b[0;34m\u001b[0m\u001b[0m\n\u001b[0m\u001b[1;32m    487\u001b[0m   \u001b[0;32mreturn\u001b[0m \u001b[0msession\u001b[0m\u001b[0;34m\u001b[0m\u001b[0;34m\u001b[0m\u001b[0m\n\u001b[1;32m    488\u001b[0m \u001b[0;34m\u001b[0m\u001b[0m\n",
      "\u001b[0;32m~/opt/anaconda3/lib/python3.7/site-packages/tensorflow_core/python/keras/backend.py\u001b[0m in \u001b[0;36m_initialize_variables\u001b[0;34m(session)\u001b[0m\n\u001b[1;32m    901\u001b[0m     \u001b[0;31m# marked as initialized.\u001b[0m\u001b[0;34m\u001b[0m\u001b[0;34m\u001b[0m\u001b[0;34m\u001b[0m\u001b[0m\n\u001b[1;32m    902\u001b[0m     is_initialized = session.run(\n\u001b[0;32m--> 903\u001b[0;31m         [variables_module.is_variable_initialized(v) for v in candidate_vars])\n\u001b[0m\u001b[1;32m    904\u001b[0m     \u001b[0muninitialized_vars\u001b[0m \u001b[0;34m=\u001b[0m \u001b[0;34m[\u001b[0m\u001b[0;34m]\u001b[0m\u001b[0;34m\u001b[0m\u001b[0;34m\u001b[0m\u001b[0m\n\u001b[1;32m    905\u001b[0m     \u001b[0;32mfor\u001b[0m \u001b[0mflag\u001b[0m\u001b[0;34m,\u001b[0m \u001b[0mv\u001b[0m \u001b[0;32min\u001b[0m \u001b[0mzip\u001b[0m\u001b[0;34m(\u001b[0m\u001b[0mis_initialized\u001b[0m\u001b[0;34m,\u001b[0m \u001b[0mcandidate_vars\u001b[0m\u001b[0;34m)\u001b[0m\u001b[0;34m:\u001b[0m\u001b[0;34m\u001b[0m\u001b[0;34m\u001b[0m\u001b[0m\n",
      "\u001b[0;32m~/opt/anaconda3/lib/python3.7/site-packages/tensorflow_core/python/client/session.py\u001b[0m in \u001b[0;36mrun\u001b[0;34m(self, fetches, feed_dict, options, run_metadata)\u001b[0m\n\u001b[1;32m    954\u001b[0m     \u001b[0;32mtry\u001b[0m\u001b[0;34m:\u001b[0m\u001b[0;34m\u001b[0m\u001b[0;34m\u001b[0m\u001b[0m\n\u001b[1;32m    955\u001b[0m       result = self._run(None, fetches, feed_dict, options_ptr,\n\u001b[0;32m--> 956\u001b[0;31m                          run_metadata_ptr)\n\u001b[0m\u001b[1;32m    957\u001b[0m       \u001b[0;32mif\u001b[0m \u001b[0mrun_metadata\u001b[0m\u001b[0;34m:\u001b[0m\u001b[0;34m\u001b[0m\u001b[0;34m\u001b[0m\u001b[0m\n\u001b[1;32m    958\u001b[0m         \u001b[0mproto_data\u001b[0m \u001b[0;34m=\u001b[0m \u001b[0mtf_session\u001b[0m\u001b[0;34m.\u001b[0m\u001b[0mTF_GetBuffer\u001b[0m\u001b[0;34m(\u001b[0m\u001b[0mrun_metadata_ptr\u001b[0m\u001b[0;34m)\u001b[0m\u001b[0;34m\u001b[0m\u001b[0;34m\u001b[0m\u001b[0m\n",
      "\u001b[0;32m~/opt/anaconda3/lib/python3.7/site-packages/tensorflow_core/python/client/session.py\u001b[0m in \u001b[0;36m_run\u001b[0;34m(self, handle, fetches, feed_dict, options, run_metadata)\u001b[0m\n\u001b[1;32m   1178\u001b[0m     \u001b[0;32mif\u001b[0m \u001b[0mfinal_fetches\u001b[0m \u001b[0;32mor\u001b[0m \u001b[0mfinal_targets\u001b[0m \u001b[0;32mor\u001b[0m \u001b[0;34m(\u001b[0m\u001b[0mhandle\u001b[0m \u001b[0;32mand\u001b[0m \u001b[0mfeed_dict_tensor\u001b[0m\u001b[0;34m)\u001b[0m\u001b[0;34m:\u001b[0m\u001b[0;34m\u001b[0m\u001b[0;34m\u001b[0m\u001b[0m\n\u001b[1;32m   1179\u001b[0m       results = self._do_run(handle, final_targets, final_fetches,\n\u001b[0;32m-> 1180\u001b[0;31m                              feed_dict_tensor, options, run_metadata)\n\u001b[0m\u001b[1;32m   1181\u001b[0m     \u001b[0;32melse\u001b[0m\u001b[0;34m:\u001b[0m\u001b[0;34m\u001b[0m\u001b[0;34m\u001b[0m\u001b[0m\n\u001b[1;32m   1182\u001b[0m       \u001b[0mresults\u001b[0m \u001b[0;34m=\u001b[0m \u001b[0;34m[\u001b[0m\u001b[0;34m]\u001b[0m\u001b[0;34m\u001b[0m\u001b[0;34m\u001b[0m\u001b[0m\n",
      "\u001b[0;32m~/opt/anaconda3/lib/python3.7/site-packages/tensorflow_core/python/client/session.py\u001b[0m in \u001b[0;36m_do_run\u001b[0;34m(self, handle, target_list, fetch_list, feed_dict, options, run_metadata)\u001b[0m\n\u001b[1;32m   1357\u001b[0m     \u001b[0;32mif\u001b[0m \u001b[0mhandle\u001b[0m \u001b[0;32mis\u001b[0m \u001b[0;32mNone\u001b[0m\u001b[0;34m:\u001b[0m\u001b[0;34m\u001b[0m\u001b[0;34m\u001b[0m\u001b[0m\n\u001b[1;32m   1358\u001b[0m       return self._do_call(_run_fn, feeds, fetches, targets, options,\n\u001b[0;32m-> 1359\u001b[0;31m                            run_metadata)\n\u001b[0m\u001b[1;32m   1360\u001b[0m     \u001b[0;32melse\u001b[0m\u001b[0;34m:\u001b[0m\u001b[0;34m\u001b[0m\u001b[0;34m\u001b[0m\u001b[0m\n\u001b[1;32m   1361\u001b[0m       \u001b[0;32mreturn\u001b[0m \u001b[0mself\u001b[0m\u001b[0;34m.\u001b[0m\u001b[0m_do_call\u001b[0m\u001b[0;34m(\u001b[0m\u001b[0m_prun_fn\u001b[0m\u001b[0;34m,\u001b[0m \u001b[0mhandle\u001b[0m\u001b[0;34m,\u001b[0m \u001b[0mfeeds\u001b[0m\u001b[0;34m,\u001b[0m \u001b[0mfetches\u001b[0m\u001b[0;34m)\u001b[0m\u001b[0;34m\u001b[0m\u001b[0;34m\u001b[0m\u001b[0m\n",
      "\u001b[0;32m~/opt/anaconda3/lib/python3.7/site-packages/tensorflow_core/python/client/session.py\u001b[0m in \u001b[0;36m_do_call\u001b[0;34m(self, fn, *args)\u001b[0m\n\u001b[1;32m   1363\u001b[0m   \u001b[0;32mdef\u001b[0m \u001b[0m_do_call\u001b[0m\u001b[0;34m(\u001b[0m\u001b[0mself\u001b[0m\u001b[0;34m,\u001b[0m \u001b[0mfn\u001b[0m\u001b[0;34m,\u001b[0m \u001b[0;34m*\u001b[0m\u001b[0margs\u001b[0m\u001b[0;34m)\u001b[0m\u001b[0;34m:\u001b[0m\u001b[0;34m\u001b[0m\u001b[0;34m\u001b[0m\u001b[0m\n\u001b[1;32m   1364\u001b[0m     \u001b[0;32mtry\u001b[0m\u001b[0;34m:\u001b[0m\u001b[0;34m\u001b[0m\u001b[0;34m\u001b[0m\u001b[0m\n\u001b[0;32m-> 1365\u001b[0;31m       \u001b[0;32mreturn\u001b[0m \u001b[0mfn\u001b[0m\u001b[0;34m(\u001b[0m\u001b[0;34m*\u001b[0m\u001b[0margs\u001b[0m\u001b[0;34m)\u001b[0m\u001b[0;34m\u001b[0m\u001b[0;34m\u001b[0m\u001b[0m\n\u001b[0m\u001b[1;32m   1366\u001b[0m     \u001b[0;32mexcept\u001b[0m \u001b[0merrors\u001b[0m\u001b[0;34m.\u001b[0m\u001b[0mOpError\u001b[0m \u001b[0;32mas\u001b[0m \u001b[0me\u001b[0m\u001b[0;34m:\u001b[0m\u001b[0;34m\u001b[0m\u001b[0;34m\u001b[0m\u001b[0m\n\u001b[1;32m   1367\u001b[0m       \u001b[0mmessage\u001b[0m \u001b[0;34m=\u001b[0m \u001b[0mcompat\u001b[0m\u001b[0;34m.\u001b[0m\u001b[0mas_text\u001b[0m\u001b[0;34m(\u001b[0m\u001b[0me\u001b[0m\u001b[0;34m.\u001b[0m\u001b[0mmessage\u001b[0m\u001b[0;34m)\u001b[0m\u001b[0;34m\u001b[0m\u001b[0;34m\u001b[0m\u001b[0m\n",
      "\u001b[0;32m~/opt/anaconda3/lib/python3.7/site-packages/tensorflow_core/python/client/session.py\u001b[0m in \u001b[0;36m_run_fn\u001b[0;34m(feed_dict, fetch_list, target_list, options, run_metadata)\u001b[0m\n\u001b[1;32m   1348\u001b[0m       \u001b[0mself\u001b[0m\u001b[0;34m.\u001b[0m\u001b[0m_extend_graph\u001b[0m\u001b[0;34m(\u001b[0m\u001b[0;34m)\u001b[0m\u001b[0;34m\u001b[0m\u001b[0;34m\u001b[0m\u001b[0m\n\u001b[1;32m   1349\u001b[0m       return self._call_tf_sessionrun(options, feed_dict, fetch_list,\n\u001b[0;32m-> 1350\u001b[0;31m                                       target_list, run_metadata)\n\u001b[0m\u001b[1;32m   1351\u001b[0m \u001b[0;34m\u001b[0m\u001b[0m\n\u001b[1;32m   1352\u001b[0m     \u001b[0;32mdef\u001b[0m \u001b[0m_prun_fn\u001b[0m\u001b[0;34m(\u001b[0m\u001b[0mhandle\u001b[0m\u001b[0;34m,\u001b[0m \u001b[0mfeed_dict\u001b[0m\u001b[0;34m,\u001b[0m \u001b[0mfetch_list\u001b[0m\u001b[0;34m)\u001b[0m\u001b[0;34m:\u001b[0m\u001b[0;34m\u001b[0m\u001b[0;34m\u001b[0m\u001b[0m\n",
      "\u001b[0;32m~/opt/anaconda3/lib/python3.7/site-packages/tensorflow_core/python/client/session.py\u001b[0m in \u001b[0;36m_call_tf_sessionrun\u001b[0;34m(self, options, feed_dict, fetch_list, target_list, run_metadata)\u001b[0m\n\u001b[1;32m   1441\u001b[0m     return tf_session.TF_SessionRun_wrapper(self._session, options, feed_dict,\n\u001b[1;32m   1442\u001b[0m                                             \u001b[0mfetch_list\u001b[0m\u001b[0;34m,\u001b[0m \u001b[0mtarget_list\u001b[0m\u001b[0;34m,\u001b[0m\u001b[0;34m\u001b[0m\u001b[0;34m\u001b[0m\u001b[0m\n\u001b[0;32m-> 1443\u001b[0;31m                                             run_metadata)\n\u001b[0m\u001b[1;32m   1444\u001b[0m \u001b[0;34m\u001b[0m\u001b[0m\n\u001b[1;32m   1445\u001b[0m   \u001b[0;32mdef\u001b[0m \u001b[0m_call_tf_sessionprun\u001b[0m\u001b[0;34m(\u001b[0m\u001b[0mself\u001b[0m\u001b[0;34m,\u001b[0m \u001b[0mhandle\u001b[0m\u001b[0;34m,\u001b[0m \u001b[0mfeed_dict\u001b[0m\u001b[0;34m,\u001b[0m \u001b[0mfetch_list\u001b[0m\u001b[0;34m)\u001b[0m\u001b[0;34m:\u001b[0m\u001b[0;34m\u001b[0m\u001b[0;34m\u001b[0m\u001b[0m\n",
      "\u001b[0;31mKeyboardInterrupt\u001b[0m: "
     ]
    }
   ],
   "source": [
    "for i,x in enumerate(param_rand['dnn_dropout']):\n",
    "    model = WDL(linear_feature_columns,dnn_feature_columns,dnn_hidden_units=(128,128),\n",
    "                init_std=0.0001, seed=1024, dnn_dropout=i, dnn_activation='relu',task='binary')\n",
    "\n",
    "    model.compile(\"adam\", \"mse\", metrics=['mse'])\n",
    "\n",
    "    history = model.fit(train_model_input, train[target].values,\n",
    "                            batch_size=256, epochs=3, verbose=2, validation_split=0.2, )\n",
    "    pred_ans = model.predict(test_model_input, batch_size=256)\n",
    "    \n",
    "    auc = roc_auc_score(test[target].values, pred_ans)\n",
    "    \n",
    "    df_result5.loc[i].dnn_dropout = x\n",
    "    df_result5.loc[i].RMSE = np.round(math.sqrt(mean_squared_error(test[target].values, pred_ans)),3)\n",
    "    df_result5.loc[i].MAE = np.round(mean_absolute_error(test[target].values, pred_ans),3)\n",
    "    df_result5.loc[i].MSE = np.round(mean_squared_error(test[target].values, pred_ans),3)\n",
    "    df_result5.loc[i].AUC = np.round(auc,3)    \n",
    "    df_result5.iloc[i]['score']=(1/df_result.iloc[i]['RMSE'])*(1/df_result.iloc[i]['MAE'])*(2*df_result.iloc[i]['AUC'])"
   ]
  },
  {
   "cell_type": "code",
   "execution_count": null,
   "metadata": {},
   "outputs": [],
   "source": [
    "df_result5"
   ]
  },
  {
   "cell_type": "code",
   "execution_count": null,
   "metadata": {},
   "outputs": [],
   "source": [
    "e = df_result5[df_result5['score']==df_result5['score'].max()]['dnn_dropout']\n",
    "e"
   ]
  },
  {
   "cell_type": "markdown",
   "metadata": {},
   "source": [
    "# Best Model after hyper-parameter tuning"
   ]
  },
  {
   "cell_type": "code",
   "execution_count": 84,
   "metadata": {
    "scrolled": true
   },
   "outputs": [
    {
     "name": "stdout",
     "output_type": "stream",
     "text": [
      "Train on 640 samples, validate on 160 samples\n",
      "Epoch 1/10\n",
      "640/640 - 4s - loss: 0.2452 - mean_squared_error: 0.2451 - val_loss: 0.2332 - val_mean_squared_error: 0.2330\n",
      "Epoch 2/10\n",
      "640/640 - 0s - loss: 0.2277 - mean_squared_error: 0.2273 - val_loss: 0.2181 - val_mean_squared_error: 0.2173\n",
      "Epoch 3/10\n",
      "640/640 - 0s - loss: 0.2119 - mean_squared_error: 0.2109 - val_loss: 0.2043 - val_mean_squared_error: 0.2027\n",
      "Epoch 4/10\n",
      "640/640 - 0s - loss: 0.1974 - mean_squared_error: 0.1956 - val_loss: 0.1918 - val_mean_squared_error: 0.1893\n",
      "Epoch 5/10\n",
      "640/640 - 0s - loss: 0.1842 - mean_squared_error: 0.1814 - val_loss: 0.1806 - val_mean_squared_error: 0.1771\n",
      "Epoch 6/10\n",
      "640/640 - 0s - loss: 0.1724 - mean_squared_error: 0.1685 - val_loss: 0.1707 - val_mean_squared_error: 0.1660\n",
      "Epoch 7/10\n",
      "640/640 - 0s - loss: 0.1618 - mean_squared_error: 0.1569 - val_loss: 0.1619 - val_mean_squared_error: 0.1561\n",
      "Epoch 8/10\n",
      "640/640 - 0s - loss: 0.1526 - mean_squared_error: 0.1465 - val_loss: 0.1542 - val_mean_squared_error: 0.1473\n",
      "Epoch 9/10\n",
      "640/640 - 0s - loss: 0.1444 - mean_squared_error: 0.1371 - val_loss: 0.1475 - val_mean_squared_error: 0.1395\n",
      "Epoch 10/10\n",
      "640/640 - 0s - loss: 0.1373 - mean_squared_error: 0.1290 - val_loss: 0.1417 - val_mean_squared_error: 0.1326\n"
     ]
    }
   ],
   "source": [
    "model = WDL(linear_feature_columns, dnn_feature_columns, dnn_hidden_units=(2,2), l2_reg_linear=0.1,\n",
    "        l2_reg_embedding=0.001, l2_reg_dnn=0, init_std=0.0001, seed=1024, task='binary')\n",
    "\n",
    "model.compile(\"adam\", \"mse\", metrics=['mse'])\n",
    "\n",
    "history = model.fit(train_model_input, train[target].values,\n",
    "                        batch_size=256, epochs=10, verbose=2, validation_split=0.2, )"
   ]
  },
  {
   "cell_type": "code",
   "execution_count": 85,
   "metadata": {},
   "outputs": [],
   "source": [
    "pred_ans = model.predict(test_model_input, batch_size=256)\n",
    "auc = roc_auc_score(test[target].values, pred_ans)"
   ]
  },
  {
   "cell_type": "code",
   "execution_count": 86,
   "metadata": {},
   "outputs": [],
   "source": [
    "widendeep_result = {\"RMSE\":np.round(math.sqrt(mean_squared_error(test[target].values, pred_ans)),3),\n",
    "                   \"MAE\":np.round(mean_absolute_error(test[target].values, pred_ans),3),\n",
    "                   \"MSE\":np.round(mean_squared_error(test[target].values, pred_ans),3),\n",
    "                   \"AUC\":np.round(auc,3)}"
   ]
  },
  {
   "cell_type": "code",
   "execution_count": 87,
   "metadata": {},
   "outputs": [
    {
     "data": {
      "text/plain": [
       "{'RMSE': 0.359, 'MAE': 0.347, 'MSE': 0.129, 'AUC': 0.717}"
      ]
     },
     "execution_count": 87,
     "metadata": {},
     "output_type": "execute_result"
    }
   ],
   "source": [
    "widendeep_result"
   ]
  },
  {
   "cell_type": "code",
   "execution_count": 61,
   "metadata": {},
   "outputs": [
    {
     "name": "stdout",
     "output_type": "stream",
     "text": [
      "RMSE:\t0.267000\n",
      "MAE:\t0.139000\n",
      "MSE:\t0.071000\n",
      "auc score:\t0.780000\n"
     ]
    }
   ],
   "source": [
    "print(\"Wide and Deep\",\"RMSE:\\t%f\" % np.round(math.sqrt(mean_squared_error(test[target].values, pred_ans)),3),\n",
    "      \"MAE:\\t%f\" % np.round(mean_absolute_error(test[target].values, pred_ans),3),\n",
    "      \"MSE:\\t%f\" % np.round(mean_squared_error(test[target].values, pred_ans),3),\n",
    "      \"auc score:\\t%f\" % np.round(auc,3),\n",
    "      sep='\\n')"
   ]
  },
  {
   "cell_type": "code",
   "execution_count": 62,
   "metadata": {
    "scrolled": true
   },
   "outputs": [
    {
     "name": "stderr",
     "output_type": "stream",
     "text": [
      "/Users/yas/opt/anaconda3/lib/python3.7/site-packages/sklearn/metrics/_ranking.py:808: UndefinedMetricWarning: No positive samples in y_true, true positive value should be meaningless\n",
      "  UndefinedMetricWarning)\n"
     ]
    }
   ],
   "source": [
    "fpr, tpr, thresholds = metrics.roc_curve(test[target].values, pred_ans, pos_label=2)"
   ]
  },
  {
   "cell_type": "code",
   "execution_count": 63,
   "metadata": {
    "scrolled": false
   },
   "outputs": [
    {
     "name": "stdout",
     "output_type": "stream",
     "text": [
      "No Skill: ROC AUC=0.500\n",
      "Logistic: ROC AUC=0.780\n"
     ]
    },
    {
     "data": {
      "image/png": "[encoded data removed]",
      "text/plain": [
       "<Figure size 432x288 with 1 Axes>"
      ]
     },
     "metadata": {
      "needs_background": "light"
     },
     "output_type": "display_data"
    }
   ],
   "source": [
    "# roc curve and auc\n",
    "\n",
    "# generate a no skill prediction (majority class)\n",
    "ns_probs = [0 for _ in range(len(pred_ans))]\n",
    "# predict probabilities\n",
    "lr_probs = pred_ans\n",
    "\n",
    "# calculate scores\n",
    "ns_auc = roc_auc_score(test[target].values, ns_probs)\n",
    "lr_auc = roc_auc_score(test[target].values, lr_probs)\n",
    "# summarize scores\n",
    "print('No Skill: ROC AUC=%.3f' % (ns_auc))\n",
    "print('Logistic: ROC AUC=%.3f' % (lr_auc))\n",
    "# calculate roc curves\n",
    "ns_fpr, ns_tpr, _ = roc_curve(test[target].values, ns_probs)\n",
    "lr_fpr, lr_tpr, _ = roc_curve(test[target].values, lr_probs)\n",
    "# plot the roc curve for the model\n",
    "plt.plot(ns_fpr, ns_tpr, linestyle='--', label='No Skill')\n",
    "plt.plot(lr_fpr, lr_tpr, marker='.', label='Logistic')\n",
    "# axis labels\n",
    "plt.xlabel('False Positive Rate')\n",
    "plt.ylabel('True Positive Rate')\n",
    "# show the legend\n",
    "plt.legend()\n",
    "# show the plot\n",
    "plt.show()"
   ]
  },
  {
   "cell_type": "markdown",
   "metadata": {},
   "source": [
    "## Resources:\n",
    "\n",
    "https://deepctr-doc.readthedocs.io/en/latest/Quick-Start.html"
   ]
  }
 ],
 "metadata": {
  "kernelspec": {
   "display_name": "Python 3",
   "language": "python",
   "name": "python3"
  },
  "language_info": {
   "codemirror_mode": {
    "name": "ipython",
    "version": 3
   },
   "file_extension": ".py",
   "mimetype": "text/x-python",
   "name": "python",
   "nbconvert_exporter": "python",
   "pygments_lexer": "ipython3",
   "version": "3.7.4"
  }
 },
 "nbformat": 4,
 "nbformat_minor": 1
}
