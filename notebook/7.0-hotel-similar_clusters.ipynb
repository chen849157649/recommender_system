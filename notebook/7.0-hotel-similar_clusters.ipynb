{
 "cells": [
  {
   "cell_type": "markdown",
   "metadata": {},
   "source": [
<<<<<<< HEAD
    "# Collaborative Filtering Recommender System - Expedia Hotel dataset"
=======
    "# Find Similar Clusters - Expedia Hotel dataset"
>>>>>>> 7ae41ea1cadfc12da18b98303306e620926c2d3e
   ]
  },
  {
   "cell_type": "markdown",
   "metadata": {},
   "source": [
    "## Import Libraries"
   ]
  },
  {
   "cell_type": "code",
<<<<<<< HEAD
   "execution_count": 239,
   "metadata": {},
   "outputs": [],
=======
   "execution_count": 1,
   "metadata": {},
   "outputs": [
    {
     "name": "stderr",
     "output_type": "stream",
     "text": [
      "/Users/yas/opt/anaconda3/lib/python3.7/site-packages/statsmodels/tools/_testing.py:19: FutureWarning: pandas.util.testing is deprecated. Use the functions in the public API at pandas.testing instead.\n",
      "  import pandas.util.testing as tm\n"
     ]
    }
   ],
>>>>>>> 7ae41ea1cadfc12da18b98303306e620926c2d3e
   "source": [
    "import numpy as np\n",
    "import pandas as pd\n",
    "import matplotlib.pyplot as plt\n",
    "import seaborn as sns\n",
    "%matplotlib inline\n",
    "\n",
    "from sklearn.model_selection import train_test_split\n",
    "import warnings\n",
    "import implicit\n",
    "from scipy.sparse import coo_matrix\n",
    "import scipy.sparse as sparse\n",
    "\n",
    "import sys\n",
    "\n",
    "from sklearn.metrics import mean_squared_error\n",
    "from sklearn.metrics import mean_absolute_error\n",
    "from math import sqrt\n",
    "\n",
    "from scipy.sparse import csr_matrix\n",
    "from scipy.sparse import coo_matrix\n",
<<<<<<< HEAD
    "import implicit"
   ]
  },
  {
   "cell_type": "code",
   "execution_count": 240,
   "metadata": {},
   "outputs": [
    {
     "data": {
      "text/plain": [
       "(1000000, 24)"
      ]
     },
     "execution_count": 240,
     "metadata": {},
     "output_type": "execute_result"
    }
   ],
   "source": [
    "df = pd.read_csv('../data/hotel_data/train.csv', sep=',', nrows=1000000)\n",
    "df.shape"
=======
    "import implicit\n",
    "warnings.filterwarnings(\"ignore\")"
>>>>>>> 7ae41ea1cadfc12da18b98303306e620926c2d3e
   ]
  },
  {
   "cell_type": "code",
<<<<<<< HEAD
   "execution_count": 241,
   "metadata": {},
   "outputs": [],
   "source": [
=======
   "execution_count": 2,
   "metadata": {},
   "outputs": [],
   "source": [
    "df = pd.read_csv('../data/hotel_data/train.csv', sep=',', nrows=1000000)\n",
>>>>>>> 7ae41ea1cadfc12da18b98303306e620926c2d3e
    "# rename 2 columns\n",
    "df = df.rename(columns={'hotel_cluster': 'item_id', 'is_booking': 'rating'})"
   ]
  },
  {
   "cell_type": "markdown",
   "metadata": {},
   "source": [
    "### Remove rows with the same user_id and item_id but different rating"
   ]
  },
  {
   "cell_type": "code",
<<<<<<< HEAD
   "execution_count": 243,
   "metadata": {},
   "outputs": [],
   "source": [
    "max_rating = df.groupby(['user_id', 'item_id']).rating.transform(max)\n",
    "df = df.loc[df.rating == max_rating]\n",
    "df.drop_duplicates(keep='first',inplace=True) \n",
    "df= df.reset_index().drop('index',axis=1)"
   ]
  },
  {
   "cell_type": "code",
   "execution_count": 244,
=======
   "execution_count": 3,
>>>>>>> 7ae41ea1cadfc12da18b98303306e620926c2d3e
   "metadata": {},
   "outputs": [
    {
     "data": {
      "text/plain": [
<<<<<<< HEAD
       "2047"
      ]
     },
     "execution_count": 244,
=======
       "100"
      ]
     },
     "execution_count": 3,
>>>>>>> 7ae41ea1cadfc12da18b98303306e620926c2d3e
     "metadata": {},
     "output_type": "execute_result"
    }
   ],
   "source": [
<<<<<<< HEAD
    "len(df['hotel_market'].unique())"
=======
    "max_rating = df.groupby(['user_id', 'item_id']).rating.transform(max)\n",
    "df = df.loc[df.rating == max_rating]\n",
    "df.drop_duplicates(keep='first',inplace=True) \n",
    "df= df.reset_index().drop('index',axis=1)\n",
    "len(df['item_id'].unique())"
>>>>>>> 7ae41ea1cadfc12da18b98303306e620926c2d3e
   ]
  },
  {
   "cell_type": "markdown",
   "metadata": {},
   "source": [
    "## Assumptions:\n",
<<<<<<< HEAD
    "    \n",
    "site_name = 2 -> Expedia.com\n",
    "\n",
    "posa_continent = 3 -> America\n",
    "\n",
    "hotel_continent = 2 -> America\n",
    "\n",
    "hotel_continent = 6-> Europe\n",
    "\n",
    "user_location_country = 66 -> USA\n",
    "\n",
    "user_location_country = 205 -> Canada \n",
    "\n",
    "\n",
    "\n",
    "hotel_country = 50 -> USA\n",
    "\n",
    "hotel_country = 8  ->Mexico\n",
    "\n",
    "hotel_country=198->Canada\n",
    "\n",
    "hotel_country 70 ->UK\n",
    "\n",
    "hotel_country 204 ->France\n",
    "\n",
    "hotel_market 27 Paris\n",
    "\n",
    "hotel_market= 19-> London.\n",
    "\n",
    "hotel_market = 675 -> New York \n",
    "\n",
    "hotel_market = 701 -> Miami\n",
    "\n",
    "hotel_market 628 ->Las Vegas\n",
    "\n",
    "hotel_market 365 ->Los Angeles\n",
    "\n",
    "hotel_market 1230 ->San Francisco\n",
    "\n",
    "hotel_market 637 -> Chicago\n",
    "\n",
    "\n",
    "hotel_market = 212, 214, 213 -> paradise islands"
=======
    "\n",
    "\n",
    "#### user_location_countries\n",
    "\n",
    "1 Italy   66 USA   205 Canada  215 Mexico\n",
    "\n",
    "#### hotel_countries\n",
    "\n",
    "8 Mexico  /  50 USA /  70 UK /   198 Canada /  204 France\n",
    "\n",
    "#### user_location_regions\n",
    "\n",
    "174 California  246 Hawaii  348 New York state\n",
    "\n",
    "Ontario 354 / 155, 135 Quebec, BC / 385 Alberta\n",
    "\n",
    "#### user_location_cities\n",
    "\n",
    "24103 Los Angeles  26232 San Francisco   48862 New York city\n",
    "25315 Toronto\n",
    "#### hotel_markets\n",
    "397 Toronto\n",
    "\n",
    "19 - London  / 27 - Paris / 110 - Cancún (Mexico) / 212-214 - Hawaii/  365 - Los Angeles/\n",
    "\n",
    "628 - Las Vegas/  637 - Chicago / 675 - New York city / 701 - Miami  /1230 - San Francisco"
   ]
  },
  {
   "cell_type": "markdown",
   "metadata": {},
   "source": [
    "# Findings:\n",
    "# ***** **** *** **\n",
    "#### The most common hotel_cluster for New York (hotel_market=675 ) is 56 => we assign Apartment to it.\n",
    "#### The second most common hotel_cluster for New York (hotel_market=675 ) is 70 => we assign business hotels to it.\n",
    "\n",
    "#### The most common hotel_cluster for Toronto (hotel_market=397 ) is 55 => we assign condo to it.\n",
    "#### The second most common hotel_cluster for  Toronto (hotel_market=397 ) is 21 => we assign Private Vacation Homes to it.\n",
    "#### One of the least common hotel_cluster for Toronto (hotel_market=397 ) is 39 => we assign bed and breakfast to it.\n",
    "#### One of the least common hotel_cluster for Toronto (hotel_market=397 ) is 20,60 => we assign hostels to it.\n",
    "\n",
    "#### The most common hotel_cluster for  Los Angeles (hotel_market=365 ) is 4 => we add it Private Vacation Homes.\n",
    "\n",
    "#### The most common hotel_cluster for Paris (hotel_market=27 ) is 5 => we add it to Apartment.\n",
    "\n",
    "#### The most common hotel_cluster for  Hawaii (hotel_market=212 ) is 0 => we assign beach resort to it. \n",
    "\n",
    "#### The most common hotel_cluster for  Las Vegas (hotel_market=628 ) is 1 => we assign casino hotel to it.\n",
    "\n",
    "#### The most common hotel_cluster for  Cancún  (hotel_market=110 ) is 65 => we assign hotel resort to it.\n",
    "\n",
    "#### The most common hotel_cluster for  Chicago  (hotel_market=637 ) is 95 => we assign motel to it.\n",
    "\n",
    "#### The most common hotel_cluster for Paris  (hotel_market=27 ) is 5 and 25 => we assign  to it."
>>>>>>> 7ae41ea1cadfc12da18b98303306e620926c2d3e
   ]
  },
  {
   "cell_type": "markdown",
   "metadata": {},
   "source": [
<<<<<<< HEAD
    "# Create dataframe to store clusters"
=======
    "## Find the exact user_location_city with the help of their corresponding hotel_market"
>>>>>>> 7ae41ea1cadfc12da18b98303306e620926c2d3e
   ]
  },
  {
   "cell_type": "code",
<<<<<<< HEAD
   "execution_count": 283,
=======
   "execution_count": 4,
   "metadata": {},
   "outputs": [],
   "source": [
    "distaggs = (df.groupby(['user_location_city','hotel_market'])\n",
    "            ['orig_destination_distance']\n",
    "            .agg(['min','mean','max','count']))\n",
    "dff = distaggs.sort_values(by='min')"
   ]
  },
  {
   "cell_type": "code",
   "execution_count": 5,
>>>>>>> 7ae41ea1cadfc12da18b98303306e620926c2d3e
   "metadata": {},
   "outputs": [
    {
     "data": {
      "text/html": [
       "<div>\n",
       "<style scoped>\n",
       "    .dataframe tbody tr th:only-of-type {\n",
       "        vertical-align: middle;\n",
       "    }\n",
       "\n",
       "    .dataframe tbody tr th {\n",
       "        vertical-align: top;\n",
       "    }\n",
       "\n",
       "    .dataframe thead th {\n",
       "        text-align: right;\n",
       "    }\n",
       "</style>\n",
       "<table border=\"1\" class=\"dataframe\">\n",
       "  <thead>\n",
       "    <tr style=\"text-align: right;\">\n",
       "      <th></th>\n",
<<<<<<< HEAD
       "      <th>hotel_continent</th>\n",
       "      <th>hotel_country</th>\n",
       "      <th>hotel_market</th>\n",
       "      <th>item_id</th>\n",
=======
       "      <th>user_location_city</th>\n",
       "      <th>hotel_market</th>\n",
       "      <th>min</th>\n",
       "      <th>mean</th>\n",
       "      <th>max</th>\n",
       "      <th>count</th>\n",
>>>>>>> 7ae41ea1cadfc12da18b98303306e620926c2d3e
       "    </tr>\n",
       "  </thead>\n",
       "  <tbody>\n",
       "    <tr>\n",
<<<<<<< HEAD
       "      <th>259</th>\n",
       "      <td>2</td>\n",
       "      <td>198</td>\n",
       "      <td>391</td>\n",
       "      <td>68</td>\n",
       "    </tr>\n",
       "    <tr>\n",
       "      <th>260</th>\n",
       "      <td>2</td>\n",
       "      <td>198</td>\n",
       "      <td>391</td>\n",
       "      <td>40</td>\n",
       "    </tr>\n",
       "    <tr>\n",
       "      <th>261</th>\n",
       "      <td>2</td>\n",
       "      <td>198</td>\n",
       "      <td>391</td>\n",
       "      <td>83</td>\n",
       "    </tr>\n",
       "    <tr>\n",
       "      <th>262</th>\n",
       "      <td>2</td>\n",
       "      <td>198</td>\n",
       "      <td>391</td>\n",
       "      <td>37</td>\n",
       "    </tr>\n",
       "    <tr>\n",
       "      <th>263</th>\n",
       "      <td>2</td>\n",
       "      <td>198</td>\n",
       "      <td>391</td>\n",
       "      <td>72</td>\n",
=======
       "      <th>41</th>\n",
       "      <td>23672</td>\n",
       "      <td>399</td>\n",
       "      <td>0.0458</td>\n",
       "      <td>12.089609</td>\n",
       "      <td>17.8056</td>\n",
       "      <td>11</td>\n",
       "    </tr>\n",
       "    <tr>\n",
       "      <th>106</th>\n",
       "      <td>14703</td>\n",
       "      <td>399</td>\n",
       "      <td>0.1391</td>\n",
       "      <td>3.671688</td>\n",
       "      <td>23.0365</td>\n",
       "      <td>103</td>\n",
       "    </tr>\n",
       "    <tr>\n",
       "      <th>207</th>\n",
       "      <td>8613</td>\n",
       "      <td>399</td>\n",
       "      <td>0.2957</td>\n",
       "      <td>9.218880</td>\n",
       "      <td>11.0891</td>\n",
       "      <td>15</td>\n",
       "    </tr>\n",
       "    <tr>\n",
       "      <th>226</th>\n",
       "      <td>53078</td>\n",
       "      <td>399</td>\n",
       "      <td>0.3478</td>\n",
       "      <td>183.680181</td>\n",
       "      <td>2390.4014</td>\n",
       "      <td>53</td>\n",
       "    </tr>\n",
       "    <tr>\n",
       "      <th>420</th>\n",
       "      <td>6802</td>\n",
       "      <td>399</td>\n",
       "      <td>1.2078</td>\n",
       "      <td>3.794541</td>\n",
       "      <td>11.6608</td>\n",
       "      <td>17</td>\n",
>>>>>>> 7ae41ea1cadfc12da18b98303306e620926c2d3e
       "    </tr>\n",
       "    <tr>\n",
       "      <th>...</th>\n",
       "      <td>...</td>\n",
       "      <td>...</td>\n",
       "      <td>...</td>\n",
       "      <td>...</td>\n",
<<<<<<< HEAD
       "    </tr>\n",
       "    <tr>\n",
       "      <th>762284</th>\n",
       "      <td>2</td>\n",
       "      <td>198</td>\n",
       "      <td>399</td>\n",
       "      <td>10</td>\n",
       "    </tr>\n",
       "    <tr>\n",
       "      <th>762285</th>\n",
       "      <td>2</td>\n",
       "      <td>198</td>\n",
       "      <td>399</td>\n",
       "      <td>42</td>\n",
       "    </tr>\n",
       "    <tr>\n",
       "      <th>762324</th>\n",
       "      <td>2</td>\n",
       "      <td>198</td>\n",
       "      <td>399</td>\n",
       "      <td>9</td>\n",
       "    </tr>\n",
       "    <tr>\n",
       "      <th>762325</th>\n",
       "      <td>2</td>\n",
       "      <td>198</td>\n",
       "      <td>399</td>\n",
       "      <td>49</td>\n",
       "    </tr>\n",
       "    <tr>\n",
       "      <th>762444</th>\n",
       "      <td>2</td>\n",
       "      <td>198</td>\n",
       "      <td>401</td>\n",
       "      <td>70</td>\n",
       "    </tr>\n",
       "  </tbody>\n",
       "</table>\n",
       "<p>29427 rows × 4 columns</p>\n",
       "</div>"
      ],
      "text/plain": [
       "        hotel_continent  hotel_country  hotel_market  item_id\n",
       "259                   2            198           391       68\n",
       "260                   2            198           391       40\n",
       "261                   2            198           391       83\n",
       "262                   2            198           391       37\n",
       "263                   2            198           391       72\n",
       "...                 ...            ...           ...      ...\n",
       "762284                2            198           399       10\n",
       "762285                2            198           399       42\n",
       "762324                2            198           399        9\n",
       "762325                2            198           399       49\n",
       "762444                2            198           401       70\n",
       "\n",
       "[29427 rows x 4 columns]"
      ]
     },
     "execution_count": 283,
=======
       "      <td>...</td>\n",
       "      <td>...</td>\n",
       "    </tr>\n",
       "    <tr>\n",
       "      <th>144920</th>\n",
       "      <td>55104</td>\n",
       "      <td>399</td>\n",
       "      <td>NaN</td>\n",
       "      <td>NaN</td>\n",
       "      <td>NaN</td>\n",
       "      <td>0</td>\n",
       "    </tr>\n",
       "    <tr>\n",
       "      <th>144984</th>\n",
       "      <td>55226</td>\n",
       "      <td>399</td>\n",
       "      <td>NaN</td>\n",
       "      <td>NaN</td>\n",
       "      <td>NaN</td>\n",
       "      <td>0</td>\n",
       "    </tr>\n",
       "    <tr>\n",
       "      <th>145197</th>\n",
       "      <td>55529</td>\n",
       "      <td>399</td>\n",
       "      <td>NaN</td>\n",
       "      <td>NaN</td>\n",
       "      <td>NaN</td>\n",
       "      <td>0</td>\n",
       "    </tr>\n",
       "    <tr>\n",
       "      <th>145815</th>\n",
       "      <td>56268</td>\n",
       "      <td>399</td>\n",
       "      <td>NaN</td>\n",
       "      <td>NaN</td>\n",
       "      <td>NaN</td>\n",
       "      <td>0</td>\n",
       "    </tr>\n",
       "    <tr>\n",
       "      <th>146082</th>\n",
       "      <td>56440</td>\n",
       "      <td>399</td>\n",
       "      <td>NaN</td>\n",
       "      <td>NaN</td>\n",
       "      <td>NaN</td>\n",
       "      <td>0</td>\n",
       "    </tr>\n",
       "  </tbody>\n",
       "</table>\n",
       "<p>608 rows × 6 columns</p>\n",
       "</div>"
      ],
      "text/plain": [
       "        user_location_city  hotel_market     min        mean        max  count\n",
       "41                   23672           399  0.0458   12.089609    17.8056     11\n",
       "106                  14703           399  0.1391    3.671688    23.0365    103\n",
       "207                   8613           399  0.2957    9.218880    11.0891     15\n",
       "226                  53078           399  0.3478  183.680181  2390.4014     53\n",
       "420                   6802           399  1.2078    3.794541    11.6608     17\n",
       "...                    ...           ...     ...         ...        ...    ...\n",
       "144920               55104           399     NaN         NaN        NaN      0\n",
       "144984               55226           399     NaN         NaN        NaN      0\n",
       "145197               55529           399     NaN         NaN        NaN      0\n",
       "145815               56268           399     NaN         NaN        NaN      0\n",
       "146082               56440           399     NaN         NaN        NaN      0\n",
       "\n",
       "[608 rows x 6 columns]"
      ]
     },
     "execution_count": 5,
     "metadata": {},
     "output_type": "execute_result"
    }
   ],
   "source": [
    "dff=dff.reset_index()\n",
    "dff[dff['hotel_market']==399]"
   ]
  },
  {
   "cell_type": "code",
   "execution_count": 6,
   "metadata": {},
   "outputs": [
    {
     "data": {
      "text/html": [
       "<div>\n",
       "<style scoped>\n",
       "    .dataframe tbody tr th:only-of-type {\n",
       "        vertical-align: middle;\n",
       "    }\n",
       "\n",
       "    .dataframe tbody tr th {\n",
       "        vertical-align: top;\n",
       "    }\n",
       "\n",
       "    .dataframe thead th {\n",
       "        text-align: right;\n",
       "    }\n",
       "</style>\n",
       "<table border=\"1\" class=\"dataframe\">\n",
       "  <thead>\n",
       "    <tr style=\"text-align: right;\">\n",
       "      <th></th>\n",
       "      <th>user_location_country</th>\n",
       "      <th>user_location_region</th>\n",
       "    </tr>\n",
       "  </thead>\n",
       "  <tbody>\n",
       "    <tr>\n",
       "      <th>727</th>\n",
       "      <td>205</td>\n",
       "      <td>354</td>\n",
       "    </tr>\n",
       "    <tr>\n",
       "      <th>728</th>\n",
       "      <td>205</td>\n",
       "      <td>354</td>\n",
       "    </tr>\n",
       "    <tr>\n",
       "      <th>729</th>\n",
       "      <td>205</td>\n",
       "      <td>354</td>\n",
       "    </tr>\n",
       "    <tr>\n",
       "      <th>730</th>\n",
       "      <td>205</td>\n",
       "      <td>354</td>\n",
       "    </tr>\n",
       "    <tr>\n",
       "      <th>731</th>\n",
       "      <td>205</td>\n",
       "      <td>354</td>\n",
       "    </tr>\n",
       "    <tr>\n",
       "      <th>...</th>\n",
       "      <td>...</td>\n",
       "      <td>...</td>\n",
       "    </tr>\n",
       "    <tr>\n",
       "      <th>758838</th>\n",
       "      <td>205</td>\n",
       "      <td>354</td>\n",
       "    </tr>\n",
       "    <tr>\n",
       "      <th>758839</th>\n",
       "      <td>205</td>\n",
       "      <td>354</td>\n",
       "    </tr>\n",
       "    <tr>\n",
       "      <th>758840</th>\n",
       "      <td>205</td>\n",
       "      <td>354</td>\n",
       "    </tr>\n",
       "    <tr>\n",
       "      <th>758841</th>\n",
       "      <td>205</td>\n",
       "      <td>354</td>\n",
       "    </tr>\n",
       "    <tr>\n",
       "      <th>758842</th>\n",
       "      <td>205</td>\n",
       "      <td>354</td>\n",
       "    </tr>\n",
       "  </tbody>\n",
       "</table>\n",
       "<p>5641 rows × 2 columns</p>\n",
       "</div>"
      ],
      "text/plain": [
       "        user_location_country  user_location_region\n",
       "727                       205                   354\n",
       "728                       205                   354\n",
       "729                       205                   354\n",
       "730                       205                   354\n",
       "731                       205                   354\n",
       "...                       ...                   ...\n",
       "758838                    205                   354\n",
       "758839                    205                   354\n",
       "758840                    205                   354\n",
       "758841                    205                   354\n",
       "758842                    205                   354\n",
       "\n",
       "[5641 rows x 2 columns]"
      ]
     },
     "execution_count": 6,
>>>>>>> 7ae41ea1cadfc12da18b98303306e620926c2d3e
     "metadata": {},
     "output_type": "execute_result"
    }
   ],
   "source": [
<<<<<<< HEAD
    "df[df['hotel_country']==198][['hotel_continent' ,'hotel_country' ,'hotel_market' ,'item_id' ]]"
=======
    "#Toronto user_location_city 25315\n",
    "df[df['user_location_city']==25315][['user_location_country','user_location_region']]"
   ]
  },
  {
   "cell_type": "markdown",
   "metadata": {},
   "source": [
    "### Find the name of the hotel_market from its distance with New York (hotel_market = 48862 )"
>>>>>>> 7ae41ea1cadfc12da18b98303306e620926c2d3e
   ]
  },
  {
   "cell_type": "code",
<<<<<<< HEAD
   "execution_count": 245,
   "metadata": {},
   "outputs": [],
   "source": [
    "hotel_df = pd.DataFrame(columns=['item_id','hotel_name'])\n",
    "hotel_df['item_id']=list(range(100))\n",
    "cluster=[]"
=======
   "execution_count": 7,
   "metadata": {},
   "outputs": [],
   "source": [
    "dff=df[(df['user_location_city']==48862) & (df['hotel_country']==50) ][['orig_destination_distance','hotel_market']]"
   ]
  },
  {
   "cell_type": "code",
   "execution_count": 8,
   "metadata": {},
   "outputs": [
    {
     "data": {
      "text/html": [
       "<div>\n",
       "<style scoped>\n",
       "    .dataframe tbody tr th:only-of-type {\n",
       "        vertical-align: middle;\n",
       "    }\n",
       "\n",
       "    .dataframe tbody tr th {\n",
       "        vertical-align: top;\n",
       "    }\n",
       "\n",
       "    .dataframe thead th {\n",
       "        text-align: right;\n",
       "    }\n",
       "</style>\n",
       "<table border=\"1\" class=\"dataframe\">\n",
       "  <thead>\n",
       "    <tr style=\"text-align: right;\">\n",
       "      <th></th>\n",
       "      <th>orig_destination_distance</th>\n",
       "      <th>hotel_market</th>\n",
       "    </tr>\n",
       "  </thead>\n",
       "  <tbody>\n",
       "    <tr>\n",
       "      <th>0</th>\n",
       "      <td>2234.2641</td>\n",
       "      <td>628</td>\n",
       "    </tr>\n",
       "    <tr>\n",
       "      <th>1665</th>\n",
       "      <td>2234.1470</td>\n",
       "      <td>628</td>\n",
       "    </tr>\n",
       "    <tr>\n",
       "      <th>6523</th>\n",
       "      <td>2233.3839</td>\n",
       "      <td>628</td>\n",
       "    </tr>\n",
       "    <tr>\n",
       "      <th>8316</th>\n",
       "      <td>2233.6722</td>\n",
       "      <td>628</td>\n",
       "    </tr>\n",
       "    <tr>\n",
       "      <th>28567</th>\n",
       "      <td>2233.6105</td>\n",
       "      <td>628</td>\n",
       "    </tr>\n",
       "    <tr>\n",
       "      <th>...</th>\n",
       "      <td>...</td>\n",
       "      <td>...</td>\n",
       "    </tr>\n",
       "    <tr>\n",
       "      <th>762283</th>\n",
       "      <td>2234.3283</td>\n",
       "      <td>628</td>\n",
       "    </tr>\n",
       "    <tr>\n",
       "      <th>762338</th>\n",
       "      <td>2234.5569</td>\n",
       "      <td>628</td>\n",
       "    </tr>\n",
       "    <tr>\n",
       "      <th>762339</th>\n",
       "      <td>2233.6105</td>\n",
       "      <td>628</td>\n",
       "    </tr>\n",
       "    <tr>\n",
       "      <th>762379</th>\n",
       "      <td>2234.0320</td>\n",
       "      <td>628</td>\n",
       "    </tr>\n",
       "    <tr>\n",
       "      <th>762380</th>\n",
       "      <td>2233.3495</td>\n",
       "      <td>628</td>\n",
       "    </tr>\n",
       "  </tbody>\n",
       "</table>\n",
       "<p>391 rows × 2 columns</p>\n",
       "</div>"
      ],
      "text/plain": [
       "        orig_destination_distance  hotel_market\n",
       "0                       2234.2641           628\n",
       "1665                    2234.1470           628\n",
       "6523                    2233.3839           628\n",
       "8316                    2233.6722           628\n",
       "28567                   2233.6105           628\n",
       "...                           ...           ...\n",
       "762283                  2234.3283           628\n",
       "762338                  2234.5569           628\n",
       "762339                  2233.6105           628\n",
       "762379                  2234.0320           628\n",
       "762380                  2233.3495           628\n",
       "\n",
       "[391 rows x 2 columns]"
      ]
     },
     "execution_count": 8,
     "metadata": {},
     "output_type": "execute_result"
    }
   ],
   "source": [
    "dff_f= dff[(dff['orig_destination_distance']<2400) & (dff['orig_destination_distance']>2200)]\n",
    "dff_f"
   ]
  },
  {
   "cell_type": "code",
   "execution_count": 9,
   "metadata": {},
   "outputs": [
    {
     "data": {
      "text/html": [
       "<div>\n",
       "<style scoped>\n",
       "    .dataframe tbody tr th:only-of-type {\n",
       "        vertical-align: middle;\n",
       "    }\n",
       "\n",
       "    .dataframe tbody tr th {\n",
       "        vertical-align: top;\n",
       "    }\n",
       "\n",
       "    .dataframe thead th {\n",
       "        text-align: right;\n",
       "    }\n",
       "</style>\n",
       "<table border=\"1\" class=\"dataframe\">\n",
       "  <thead>\n",
       "    <tr style=\"text-align: right;\">\n",
       "      <th></th>\n",
       "      <th>orig_destination_distance</th>\n",
       "      <th>hotel_market</th>\n",
       "    </tr>\n",
       "  </thead>\n",
       "  <tbody>\n",
       "    <tr>\n",
       "      <th>184321</th>\n",
       "      <td>2234.4758</td>\n",
       "      <td>629</td>\n",
       "    </tr>\n",
       "    <tr>\n",
       "      <th>215262</th>\n",
       "      <td>2346.1168</td>\n",
       "      <td>631</td>\n",
       "    </tr>\n",
       "    <tr>\n",
       "      <th>282370</th>\n",
       "      <td>2233.5022</td>\n",
       "      <td>517</td>\n",
       "    </tr>\n",
       "    <tr>\n",
       "      <th>585720</th>\n",
       "      <td>2366.5085</td>\n",
       "      <td>367</td>\n",
       "    </tr>\n",
       "    <tr>\n",
       "      <th>606723</th>\n",
       "      <td>2399.7186</td>\n",
       "      <td>475</td>\n",
       "    </tr>\n",
       "    <tr>\n",
       "      <th>606727</th>\n",
       "      <td>2398.0597</td>\n",
       "      <td>663</td>\n",
       "    </tr>\n",
       "    <tr>\n",
       "      <th>649773</th>\n",
       "      <td>2373.3065</td>\n",
       "      <td>970</td>\n",
       "    </tr>\n",
       "    <tr>\n",
       "      <th>709224</th>\n",
       "      <td>2395.0902</td>\n",
       "      <td>351</td>\n",
       "    </tr>\n",
       "    <tr>\n",
       "      <th>762380</th>\n",
       "      <td>2233.3495</td>\n",
       "      <td>628</td>\n",
       "    </tr>\n",
       "  </tbody>\n",
       "</table>\n",
       "</div>"
      ],
      "text/plain": [
       "        orig_destination_distance  hotel_market\n",
       "184321                  2234.4758           629\n",
       "215262                  2346.1168           631\n",
       "282370                  2233.5022           517\n",
       "585720                  2366.5085           367\n",
       "606723                  2399.7186           475\n",
       "606727                  2398.0597           663\n",
       "649773                  2373.3065           970\n",
       "709224                  2395.0902           351\n",
       "762380                  2233.3495           628"
      ]
     },
     "execution_count": 9,
     "metadata": {},
     "output_type": "execute_result"
    }
   ],
   "source": [
    "dff_f.drop_duplicates(subset='hotel_market', keep=\"last\")"
   ]
  },
  {
   "cell_type": "markdown",
   "metadata": {},
   "source": [
    "## Find Most Common item_id (Hotel cluster) on the city (hotel_market)"
   ]
  },
  {
   "cell_type": "code",
   "execution_count": 10,
   "metadata": {
    "scrolled": true
   },
   "outputs": [
    {
     "data": {
      "text/plain": [
       "55    329\n",
       "21    315\n",
       "9     291\n",
       "95    261\n",
       "33    220\n",
       "Name: item_id, dtype: int64"
      ]
     },
     "execution_count": 10,
     "metadata": {},
     "output_type": "execute_result"
    }
   ],
   "source": [
    "df[df['hotel_market']==397][\"item_id\"].value_counts().head()\n",
    "\n",
    "#[['posa_continent','hotel_continent' ,'hotel_country','user_location_country' ,'hotel_market' ,'item_id' ]]"
>>>>>>> 7ae41ea1cadfc12da18b98303306e620926c2d3e
   ]
  },
  {
   "cell_type": "markdown",
   "metadata": {},
   "source": [
    "### Check information of hotel_market \n",
    "Add until now: hotel_market = 212,213,214 , item_id = (0,26,34,73)"
   ]
  },
  {
   "cell_type": "code",
<<<<<<< HEAD
   "execution_count": 263,
   "metadata": {},
=======
   "execution_count": 11,
   "metadata": {
    "scrolled": true
   },
>>>>>>> 7ae41ea1cadfc12da18b98303306e620926c2d3e
   "outputs": [
    {
     "data": {
      "text/html": [
       "<div>\n",
       "<style scoped>\n",
       "    .dataframe tbody tr th:only-of-type {\n",
       "        vertical-align: middle;\n",
       "    }\n",
       "\n",
       "    .dataframe tbody tr th {\n",
       "        vertical-align: top;\n",
       "    }\n",
       "\n",
       "    .dataframe thead th {\n",
       "        text-align: right;\n",
       "    }\n",
       "</style>\n",
       "<table border=\"1\" class=\"dataframe\">\n",
       "  <thead>\n",
       "    <tr style=\"text-align: right;\">\n",
       "      <th></th>\n",
       "      <th>hotel_continent</th>\n",
       "      <th>hotel_country</th>\n",
       "      <th>hotel_market</th>\n",
       "      <th>item_id</th>\n",
       "    </tr>\n",
       "  </thead>\n",
       "  <tbody>\n",
       "    <tr>\n",
<<<<<<< HEAD
       "      <th>58</th>\n",
       "      <td>2</td>\n",
       "      <td>50</td>\n",
       "      <td>214</td>\n",
       "      <td>28</td>\n",
       "    </tr>\n",
       "    <tr>\n",
       "      <th>59</th>\n",
       "      <td>2</td>\n",
       "      <td>50</td>\n",
       "      <td>214</td>\n",
       "      <td>73</td>\n",
       "    </tr>\n",
       "    <tr>\n",
       "      <th>60</th>\n",
       "      <td>2</td>\n",
       "      <td>50</td>\n",
       "      <td>214</td>\n",
       "      <td>26</td>\n",
       "    </tr>\n",
       "    <tr>\n",
       "      <th>61</th>\n",
       "      <td>2</td>\n",
       "      <td>50</td>\n",
       "      <td>214</td>\n",
       "      <td>28</td>\n",
       "    </tr>\n",
       "    <tr>\n",
       "      <th>5585</th>\n",
       "      <td>2</td>\n",
       "      <td>50</td>\n",
       "      <td>214</td>\n",
       "      <td>26</td>\n",
=======
       "      <th>62</th>\n",
       "      <td>2</td>\n",
       "      <td>50</td>\n",
       "      <td>680</td>\n",
       "      <td>95</td>\n",
       "    </tr>\n",
       "    <tr>\n",
       "      <th>63</th>\n",
       "      <td>2</td>\n",
       "      <td>50</td>\n",
       "      <td>680</td>\n",
       "      <td>95</td>\n",
       "    </tr>\n",
       "    <tr>\n",
       "      <th>64</th>\n",
       "      <td>2</td>\n",
       "      <td>50</td>\n",
       "      <td>680</td>\n",
       "      <td>95</td>\n",
       "    </tr>\n",
       "    <tr>\n",
       "      <th>130</th>\n",
       "      <td>6</td>\n",
       "      <td>105</td>\n",
       "      <td>29</td>\n",
       "      <td>95</td>\n",
       "    </tr>\n",
       "    <tr>\n",
       "      <th>427</th>\n",
       "      <td>2</td>\n",
       "      <td>50</td>\n",
       "      <td>368</td>\n",
       "      <td>95</td>\n",
>>>>>>> 7ae41ea1cadfc12da18b98303306e620926c2d3e
       "    </tr>\n",
       "    <tr>\n",
       "      <th>...</th>\n",
       "      <td>...</td>\n",
       "      <td>...</td>\n",
       "      <td>...</td>\n",
       "      <td>...</td>\n",
       "    </tr>\n",
       "    <tr>\n",
<<<<<<< HEAD
       "      <th>761343</th>\n",
       "      <td>2</td>\n",
       "      <td>50</td>\n",
       "      <td>214</td>\n",
       "      <td>84</td>\n",
       "    </tr>\n",
       "    <tr>\n",
       "      <th>761344</th>\n",
       "      <td>2</td>\n",
       "      <td>50</td>\n",
       "      <td>214</td>\n",
       "      <td>0</td>\n",
       "    </tr>\n",
       "    <tr>\n",
       "      <th>761345</th>\n",
       "      <td>2</td>\n",
       "      <td>50</td>\n",
       "      <td>214</td>\n",
       "      <td>26</td>\n",
       "    </tr>\n",
       "    <tr>\n",
       "      <th>761346</th>\n",
       "      <td>2</td>\n",
       "      <td>50</td>\n",
       "      <td>214</td>\n",
       "      <td>26</td>\n",
       "    </tr>\n",
       "    <tr>\n",
       "      <th>761347</th>\n",
       "      <td>2</td>\n",
       "      <td>50</td>\n",
       "      <td>214</td>\n",
       "      <td>84</td>\n",
       "    </tr>\n",
       "  </tbody>\n",
       "</table>\n",
       "<p>1488 rows × 4 columns</p>\n",
=======
       "      <th>761862</th>\n",
       "      <td>2</td>\n",
       "      <td>50</td>\n",
       "      <td>696</td>\n",
       "      <td>95</td>\n",
       "    </tr>\n",
       "    <tr>\n",
       "      <th>762166</th>\n",
       "      <td>2</td>\n",
       "      <td>50</td>\n",
       "      <td>637</td>\n",
       "      <td>95</td>\n",
       "    </tr>\n",
       "    <tr>\n",
       "      <th>762222</th>\n",
       "      <td>2</td>\n",
       "      <td>50</td>\n",
       "      <td>637</td>\n",
       "      <td>95</td>\n",
       "    </tr>\n",
       "    <tr>\n",
       "      <th>762326</th>\n",
       "      <td>2</td>\n",
       "      <td>50</td>\n",
       "      <td>743</td>\n",
       "      <td>95</td>\n",
       "    </tr>\n",
       "    <tr>\n",
       "      <th>762468</th>\n",
       "      <td>2</td>\n",
       "      <td>50</td>\n",
       "      <td>412</td>\n",
       "      <td>95</td>\n",
       "    </tr>\n",
       "  </tbody>\n",
       "</table>\n",
       "<p>9517 rows × 4 columns</p>\n",
>>>>>>> 7ae41ea1cadfc12da18b98303306e620926c2d3e
       "</div>"
      ],
      "text/plain": [
       "        hotel_continent  hotel_country  hotel_market  item_id\n",
<<<<<<< HEAD
       "58                    2             50           214       28\n",
       "59                    2             50           214       73\n",
       "60                    2             50           214       26\n",
       "61                    2             50           214       28\n",
       "5585                  2             50           214       26\n",
       "...                 ...            ...           ...      ...\n",
       "761343                2             50           214       84\n",
       "761344                2             50           214        0\n",
       "761345                2             50           214       26\n",
       "761346                2             50           214       26\n",
       "761347                2             50           214       84\n",
       "\n",
       "[1488 rows x 4 columns]"
      ]
     },
     "execution_count": 263,
=======
       "62                    2             50           680       95\n",
       "63                    2             50           680       95\n",
       "64                    2             50           680       95\n",
       "130                   6            105            29       95\n",
       "427                   2             50           368       95\n",
       "...                 ...            ...           ...      ...\n",
       "761862                2             50           696       95\n",
       "762166                2             50           637       95\n",
       "762222                2             50           637       95\n",
       "762326                2             50           743       95\n",
       "762468                2             50           412       95\n",
       "\n",
       "[9517 rows x 4 columns]"
      ]
     },
     "execution_count": 11,
>>>>>>> 7ae41ea1cadfc12da18b98303306e620926c2d3e
     "metadata": {},
     "output_type": "execute_result"
    }
   ],
   "source": [
<<<<<<< HEAD
    "df[df['hotel_market']==214][['hotel_continent' ,'hotel_country' ,'hotel_market' ,'item_id' ]]"
   ]
  },
  {
   "cell_type": "markdown",
   "metadata": {},
   "source": [
    "## The most repeated number of item_id (hotel_cluster) with this hotel_market number"
=======
    "df[df['item_id']==95][['hotel_continent' ,'hotel_country' ,'hotel_market' ,'item_id' ]]"
>>>>>>> 7ae41ea1cadfc12da18b98303306e620926c2d3e
   ]
  },
  {
   "cell_type": "code",
<<<<<<< HEAD
   "execution_count": 264,
=======
   "execution_count": 12,
>>>>>>> 7ae41ea1cadfc12da18b98303306e620926c2d3e
   "metadata": {},
   "outputs": [
    {
     "data": {
      "text/plain": [
<<<<<<< HEAD
       "26    199\n",
       "73    190\n",
       "34    161\n",
       "0     157\n",
       "84    140\n",
       "28     67\n",
       "10     54\n",
       "59     49\n",
       "32     47\n",
       "92     46\n",
       "Name: item_id, dtype: int64"
      ]
     },
     "execution_count": 264,
=======
       "array([628, 623, 633])"
      ]
     },
     "execution_count": 12,
>>>>>>> 7ae41ea1cadfc12da18b98303306e620926c2d3e
     "metadata": {},
     "output_type": "execute_result"
    }
   ],
   "source": [
<<<<<<< HEAD
    "df[df['hotel_market']==214]['item_id'].value_counts()[:10]"
=======
    "df[df['item_id']==1]['hotel_market'].unique()"
>>>>>>> 7ae41ea1cadfc12da18b98303306e620926c2d3e
   ]
  },
  {
   "cell_type": "markdown",
   "metadata": {},
   "source": [
<<<<<<< HEAD
    "# Find Similar Hotel clusters"
=======
    "# Find Similar Hotel clusters to the chosen cluster "
>>>>>>> 7ae41ea1cadfc12da18b98303306e620926c2d3e
   ]
  },
  {
   "cell_type": "code",
<<<<<<< HEAD
   "execution_count": 265,
   "metadata": {},
   "outputs": [
    {
     "data": {
      "application/vnd.jupyter.widget-view+json": {
       "model_id": "5f257eba3f7c48e094a89f6cc9de3581",
=======
   "execution_count": 13,
   "metadata": {
    "scrolled": true
   },
   "outputs": [
    {
     "name": "stderr",
     "output_type": "stream",
     "text": [
      "WARNING:root:Intel MKL BLAS detected. Its highly recommend to set the environment variable 'export MKL_NUM_THREADS=1' to disable its internal multithreading\n"
     ]
    },
    {
     "data": {
      "application/vnd.jupyter.widget-view+json": {
       "model_id": "098e91e536f24f3eb7d1649bc5690ab7",
>>>>>>> 7ae41ea1cadfc12da18b98303306e620926c2d3e
       "version_major": 2,
       "version_minor": 0
      },
      "text/plain": [
       "HBox(children=(FloatProgress(value=0.0, max=20.0), HTML(value='')))"
      ]
     },
     "metadata": {},
     "output_type": "display_data"
    },
    {
     "name": "stdout",
     "output_type": "stream",
     "text": [
      "\n"
     ]
    },
    {
     "data": {
      "text/plain": [
<<<<<<< HEAD
       "[(34, 0.46054688),\n",
       " (96, 0.3630649),\n",
       " (26, 0.2983222),\n",
       " (84, 0.2849912),\n",
       " (80, 0.2535136),\n",
       " (73, 0.25050712)]"
      ]
     },
     "execution_count": 265,
=======
       "[(25, 0.5224644),\n",
       " (9, 0.21302693),\n",
       " (64, 0.20654067),\n",
       " (97, 0.19879587),\n",
       " (72, 0.18624814)]"
      ]
     },
     "execution_count": 13,
>>>>>>> 7ae41ea1cadfc12da18b98303306e620926c2d3e
     "metadata": {},
     "output_type": "execute_result"
    }
   ],
   "source": [
    "#csr_matrix((data, (row, col))\n",
    "sparse_item_user = sparse.csr_matrix((df['rating'].astype(float),(df['item_id'], df['user_id'])))\n",
    "sparse_user_item = sparse.csr_matrix((df['rating'].astype(float),(df['user_id'], df['item_id'])))\n",
    "\n",
    "\n",
    "model = implicit.als.AlternatingLeastSquares(factors=20,regularization=0.1,iterations=20)\n",
    "alpha_val = 15\n",
    "data_conf = (sparse_item_user * alpha_val).astype('double')\n",
    "model.fit(data_conf)\n",
    "\n",
<<<<<<< HEAD
    "item_id = 34\n",
    "n_similar = 6\n",
    "similar = model.similar_items(item_id,n_similar)\n",
    "similar\n",
    "#for item in similar:\n",
    "#    idx,score = item\n",
    "#    print(df.item_id.loc[df.item_id == idx].iloc[0])"
=======
    "item_id = 25\n",
    "\n",
    "n_similar = 5\n",
    "similar = model.similar_items(item_id,n_similar)\n",
    "similar"
   ]
  },
  {
   "cell_type": "markdown",
   "metadata": {},
   "source": [
    "## Extract Top 5"
>>>>>>> 7ae41ea1cadfc12da18b98303306e620926c2d3e
   ]
  },
  {
   "cell_type": "code",
<<<<<<< HEAD
   "execution_count": 266,
   "metadata": {},
   "outputs": [],
   "source": [
    "for i in similar:\n",
    "    cluster.append(i[0])"
=======
   "execution_count": 14,
   "metadata": {},
   "outputs": [],
   "source": [
    "top5=[]\n",
    "for i in similar:\n",
    "    top5.append(i[0])"
>>>>>>> 7ae41ea1cadfc12da18b98303306e620926c2d3e
   ]
  },
  {
   "cell_type": "code",
<<<<<<< HEAD
   "execution_count": 285,
=======
   "execution_count": 15,
>>>>>>> 7ae41ea1cadfc12da18b98303306e620926c2d3e
   "metadata": {},
   "outputs": [
    {
     "data": {
      "text/plain": [
<<<<<<< HEAD
       "{0, 17, 26, 31, 34, 66, 73, 80, 84, 87, 92, 96}"
      ]
     },
     "execution_count": 285,
=======
       "[9, 25, 64, 72, 97]"
      ]
     },
     "execution_count": 15,
>>>>>>> 7ae41ea1cadfc12da18b98303306e620926c2d3e
     "metadata": {},
     "output_type": "execute_result"
    }
   ],
   "source": [
<<<<<<< HEAD
    "set(cluster)"
=======
    "sorted(top5) "
   ]
  },
  {
   "cell_type": "markdown",
   "metadata": {},
   "source": [
    "# Create dataframe to store clusters"
   ]
  },
  {
   "cell_type": "code",
   "execution_count": 16,
   "metadata": {},
   "outputs": [],
   "source": [
    "hotel_df = pd.DataFrame(columns=['item_id','hotel_type'])\n",
    "hotel_df['item_id']=list(range(100))"
>>>>>>> 7ae41ea1cadfc12da18b98303306e620926c2d3e
   ]
  },
  {
   "cell_type": "code",
<<<<<<< HEAD
   "execution_count": 272,
   "metadata": {},
   "outputs": [],
   "source": [
    "cluster_item_id_0_26_34_73 =[0,96,34,31,84,87,26,96,80,84,92,66,73,80,92,17,84,26,34,96,26,84,80,73]"
=======
   "execution_count": 17,
   "metadata": {},
   "outputs": [],
   "source": [
    "cluster = {\"apartment\":[5, 11, 22, 28,41, 56, 73],\n",
    "          'business_hotels':[ 64,69, 70, 97],\n",
    "          \"condo\":[3,8,36, 37, 55],\n",
    "          \"private_vacation_homes\":[ 4, 9, 21, 49, 75, 77],\n",
    "          \"motel\":[2,25,27, 95, 98],\n",
    "          \"beach_resort\":[0, 17, 26, 31, 34, 80, 84, 92],\n",
    "          \"casino_hotel\":[1, 19, 45, 54, 79,89, 93],\n",
    "          \"hotel_resort\":[52, 65, 66, 87, 96],\n",
    "          \"bed_n_breakfast\":[23, 39, 50, 51, 76],\n",
    "          \"hosetel\":[12, 20, 38, 53, 57, 60, 61, 85, 86]}"
>>>>>>> 7ae41ea1cadfc12da18b98303306e620926c2d3e
   ]
  },
  {
   "cell_type": "markdown",
   "metadata": {},
   "source": [
<<<<<<< HEAD
    "## Check this hotel cluster"
=======
    "## Store on dataframe"
>>>>>>> 7ae41ea1cadfc12da18b98303306e620926c2d3e
   ]
  },
  {
   "cell_type": "code",
<<<<<<< HEAD
   "execution_count": 279,
   "metadata": {},
   "outputs": [],
   "source": [
    "for i in cluster_item_id_0_26_34_73:\n",
    "    hotel_df['hotel_name'][i]=\"beach_resorts\"\n"
=======
   "execution_count": 18,
   "metadata": {},
   "outputs": [],
   "source": [
    "warnings.filterwarnings(\"ignore\")\n",
    "for i in cluster.keys():\n",
    "    hotel_df['hotel_type'][cluster[i]]= i"
>>>>>>> 7ae41ea1cadfc12da18b98303306e620926c2d3e
   ]
  },
  {
   "cell_type": "code",
<<<<<<< HEAD
   "execution_count": 280,
=======
   "execution_count": 19,
>>>>>>> 7ae41ea1cadfc12da18b98303306e620926c2d3e
   "metadata": {},
   "outputs": [
    {
     "data": {
      "text/html": [
       "<div>\n",
       "<style scoped>\n",
       "    .dataframe tbody tr th:only-of-type {\n",
       "        vertical-align: middle;\n",
       "    }\n",
       "\n",
       "    .dataframe tbody tr th {\n",
       "        vertical-align: top;\n",
       "    }\n",
       "\n",
       "    .dataframe thead th {\n",
       "        text-align: right;\n",
       "    }\n",
       "</style>\n",
       "<table border=\"1\" class=\"dataframe\">\n",
       "  <thead>\n",
       "    <tr style=\"text-align: right;\">\n",
       "      <th></th>\n",
       "      <th>item_id</th>\n",
<<<<<<< HEAD
       "      <th>hotel_name</th>\n",
=======
       "      <th>hotel_type</th>\n",
>>>>>>> 7ae41ea1cadfc12da18b98303306e620926c2d3e
       "    </tr>\n",
       "  </thead>\n",
       "  <tbody>\n",
       "    <tr>\n",
       "      <th>0</th>\n",
       "      <td>0</td>\n",
<<<<<<< HEAD
       "      <td>beach_resorts</td>\n",
=======
       "      <td>beach_resort</td>\n",
>>>>>>> 7ae41ea1cadfc12da18b98303306e620926c2d3e
       "    </tr>\n",
       "    <tr>\n",
       "      <th>1</th>\n",
       "      <td>1</td>\n",
<<<<<<< HEAD
       "      <td>NaN</td>\n",
=======
       "      <td>casino_hotel</td>\n",
>>>>>>> 7ae41ea1cadfc12da18b98303306e620926c2d3e
       "    </tr>\n",
       "    <tr>\n",
       "      <th>2</th>\n",
       "      <td>2</td>\n",
<<<<<<< HEAD
       "      <td>NaN</td>\n",
=======
       "      <td>motel</td>\n",
>>>>>>> 7ae41ea1cadfc12da18b98303306e620926c2d3e
       "    </tr>\n",
       "    <tr>\n",
       "      <th>3</th>\n",
       "      <td>3</td>\n",
<<<<<<< HEAD
       "      <td>NaN</td>\n",
=======
       "      <td>condo</td>\n",
>>>>>>> 7ae41ea1cadfc12da18b98303306e620926c2d3e
       "    </tr>\n",
       "    <tr>\n",
       "      <th>4</th>\n",
       "      <td>4</td>\n",
<<<<<<< HEAD
       "      <td>NaN</td>\n",
=======
       "      <td>private_vacation_homes</td>\n",
>>>>>>> 7ae41ea1cadfc12da18b98303306e620926c2d3e
       "    </tr>\n",
       "    <tr>\n",
       "      <th>...</th>\n",
       "      <td>...</td>\n",
       "      <td>...</td>\n",
       "    </tr>\n",
       "    <tr>\n",
       "      <th>95</th>\n",
       "      <td>95</td>\n",
<<<<<<< HEAD
       "      <td>NaN</td>\n",
=======
       "      <td>motel</td>\n",
>>>>>>> 7ae41ea1cadfc12da18b98303306e620926c2d3e
       "    </tr>\n",
       "    <tr>\n",
       "      <th>96</th>\n",
       "      <td>96</td>\n",
<<<<<<< HEAD
       "      <td>beach_resorts</td>\n",
=======
       "      <td>hotel_resort</td>\n",
>>>>>>> 7ae41ea1cadfc12da18b98303306e620926c2d3e
       "    </tr>\n",
       "    <tr>\n",
       "      <th>97</th>\n",
       "      <td>97</td>\n",
<<<<<<< HEAD
       "      <td>NaN</td>\n",
=======
       "      <td>business_hotels</td>\n",
>>>>>>> 7ae41ea1cadfc12da18b98303306e620926c2d3e
       "    </tr>\n",
       "    <tr>\n",
       "      <th>98</th>\n",
       "      <td>98</td>\n",
<<<<<<< HEAD
       "      <td>NaN</td>\n",
=======
       "      <td>motel</td>\n",
>>>>>>> 7ae41ea1cadfc12da18b98303306e620926c2d3e
       "    </tr>\n",
       "    <tr>\n",
       "      <th>99</th>\n",
       "      <td>99</td>\n",
       "      <td>NaN</td>\n",
       "    </tr>\n",
       "  </tbody>\n",
       "</table>\n",
       "<p>100 rows × 2 columns</p>\n",
       "</div>"
      ],
      "text/plain": [
<<<<<<< HEAD
       "    item_id     hotel_name\n",
       "0         0  beach_resorts\n",
       "1         1            NaN\n",
       "2         2            NaN\n",
       "3         3            NaN\n",
       "4         4            NaN\n",
       "..      ...            ...\n",
       "95       95            NaN\n",
       "96       96  beach_resorts\n",
       "97       97            NaN\n",
       "98       98            NaN\n",
       "99       99            NaN\n",
=======
       "    item_id              hotel_type\n",
       "0         0            beach_resort\n",
       "1         1            casino_hotel\n",
       "2         2                   motel\n",
       "3         3                   condo\n",
       "4         4  private_vacation_homes\n",
       "..      ...                     ...\n",
       "95       95                   motel\n",
       "96       96            hotel_resort\n",
       "97       97         business_hotels\n",
       "98       98                   motel\n",
       "99       99                     NaN\n",
>>>>>>> 7ae41ea1cadfc12da18b98303306e620926c2d3e
       "\n",
       "[100 rows x 2 columns]"
      ]
     },
<<<<<<< HEAD
     "execution_count": 280,
=======
     "execution_count": 19,
>>>>>>> 7ae41ea1cadfc12da18b98303306e620926c2d3e
     "metadata": {},
     "output_type": "execute_result"
    }
   ],
   "source": [
    "hotel_df"
   ]
  }
 ],
 "metadata": {
  "kernelspec": {
   "display_name": "Python 3",
   "language": "python",
   "name": "python3"
  },
  "language_info": {
   "codemirror_mode": {
    "name": "ipython",
    "version": 3
   },
   "file_extension": ".py",
   "mimetype": "text/x-python",
   "name": "python",
   "nbconvert_exporter": "python",
   "pygments_lexer": "ipython3",
   "version": "3.7.4"
  }
 },
 "nbformat": 4,
 "nbformat_minor": 1
}
