{
 "cells": [
  {
   "cell_type": "markdown",
   "metadata": {},
   "source": [
    "# Wide and Deep Recommender System - Expedia Hotel dataset"
   ]
  },
  {
   "cell_type": "markdown",
   "metadata": {},
   "source": [
    "## Import Libraries"
   ]
  },
  {
   "cell_type": "code",
   "execution_count": 1,
   "metadata": {},
   "outputs": [
    {
     "name": "stderr",
     "output_type": "stream",
     "text": [
      "/Users/yas/opt/anaconda3/lib/python3.7/site-packages/statsmodels/tools/_testing.py:19: FutureWarning: pandas.util.testing is deprecated. Use the functions in the public API at pandas.testing instead.\n",
      "  import pandas.util.testing as tm\n"
     ]
    }
   ],
   "source": [
    "import numpy as np\n",
    "import pandas as pd\n",
    "import matplotlib.pyplot as plt\n",
    "import seaborn as sns\n",
    "%matplotlib inline\n",
    "\n",
    "import tensorflow as tf\n",
    "import warnings\n",
    "import math\n",
    "from math import sqrt\n",
    "\n",
    "import sys\n",
    "import holidays\n",
    "\n",
    "from sklearn.metrics import roc_curve, auc,roc_auc_score\n",
    "from sklearn import metrics\n",
    "from sklearn.metrics import mean_squared_error,mean_absolute_error\n",
    "from sklearn.preprocessing import LabelEncoder, MinMaxScaler\n",
    "\n",
    "from sklearn.model_selection import train_test_split\n",
    "from sklearn.preprocessing import LabelEncoder\n",
    "\n",
    "from deepctr.inputs import build_input_features, get_linear_logit, input_from_feature_columns, combined_dnn_input\n",
    "from deepctr.layers.core import PredictionLayer, DNN\n",
    "from deepctr.layers.utils import add_func\n",
    "from deepctr.models import WDL\n",
    "from deepctr.inputs import SparseFeat,get_feature_names\n",
    "import datetime"
   ]
  },
  {
   "cell_type": "code",
   "execution_count": 7,
   "metadata": {},
   "outputs": [
    {
     "data": {
      "text/plain": [
       "(150000, 24)"
      ]
     },
     "execution_count": 7,
     "metadata": {},
     "output_type": "execute_result"
    }
   ],
   "source": [
    "df = pd.read_csv('../data/hotel_data/train.csv', sep=',', nrows=150000)\n",
    "destinations = pd.read_csv('../data/hotel_data/destinations.csv', sep=',')\n",
    "df.shape"
   ]
  },
  {
   "cell_type": "code",
   "execution_count": 8,
   "metadata": {},
   "outputs": [],
   "source": [
    "#merge only top 10 most correlated columns with rating column\n",
    "df = pd.merge(df,destinations[['srch_destination_id','d33', 'd64', 'd52', 'd120', 'd72', 'd136', 'd7', 'd59', 'd50', 'd30']],on='srch_destination_id')"
   ]
  },
  {
   "cell_type": "code",
   "execution_count": 9,
   "metadata": {},
   "outputs": [],
   "source": [
    "# rename 2 columns\n",
    "df = df.rename(columns={'hotel_cluster': 'item_id', 'is_booking': 'rating'})"
   ]
  },
  {
   "cell_type": "code",
   "execution_count": 10,
   "metadata": {},
   "outputs": [],
   "source": [
    "df = df.dropna()"
   ]
  },
  {
   "cell_type": "code",
   "execution_count": 11,
   "metadata": {},
   "outputs": [
    {
     "data": {
      "text/plain": [
       "(96910, 34)"
      ]
     },
     "execution_count": 11,
     "metadata": {},
     "output_type": "execute_result"
    }
   ],
   "source": [
    "df.shape"
   ]
  },
  {
   "cell_type": "markdown",
   "metadata": {},
   "source": [
    "## Feature Engineering"
   ]
  },
  {
   "cell_type": "markdown",
   "metadata": {},
   "source": [
    "## date_time"
   ]
  },
  {
   "cell_type": "markdown",
   "metadata": {},
   "source": [
    "### Extract week and month"
   ]
  },
  {
   "cell_type": "code",
   "execution_count": 12,
   "metadata": {},
   "outputs": [],
   "source": [
    "# sort values\n",
    "from pandas.tseries.offsets import Week\n",
    "df = df.sort_values(\"date_time\").reset_index()\n",
    "df.drop('index',axis=1,inplace=True)"
   ]
  },
  {
   "cell_type": "code",
   "execution_count": 13,
   "metadata": {},
   "outputs": [],
   "source": [
    "df[\"date_time\"] =  pd.to_datetime(df[\"date_time\"], infer_datetime_format=True)\n",
    "df[\"date_time\"] = df.date_time.dt.strftime('%Y-%m-%d')\n",
    "#df[\"date_time_timestamp\"] =  pd.to_datetime(df[\"date_time\"], infer_datetime_format=True)"
   ]
  },
  {
   "cell_type": "code",
   "execution_count": 14,
   "metadata": {},
   "outputs": [],
   "source": [
    "d = datetime.timedelta(days=14)\n",
    "df['lagged_date_time'] = df[\"date_time\"].apply(lambda x: datetime.datetime.strptime(x,\"%Y-%m-%d\") + d)\n",
    "\n",
    "#df[\"str_lagged_date_time\"] = df.lagged_date_time.dt.strftime('%Y-%m-%d')\n",
    "#df[\"lagged_date_time\"][1].strftime(\"%B\")\n",
    "#df[\"date_time_timestamp\"].apply(lambda x: x.strftime(\"%Y-%U-%w\"))"
   ]
  },
  {
   "cell_type": "code",
   "execution_count": 15,
   "metadata": {},
   "outputs": [],
   "source": [
    "#df['num_visit']=1\n",
    "#df_test = df.groupby([pd.Grouper(key='lagged_date_time', freq='W-MON')])['num_visit'].count().reset_index().set_index('lagged_date_time').sort_values('lagged_date_time')"
   ]
  },
  {
   "cell_type": "code",
   "execution_count": 16,
   "metadata": {},
   "outputs": [],
   "source": [
    "#df['expand_sum']=df['num_visit'].expanding().sum()\n",
    "#df['roll_mean_3']=df['num_visit'].rolling(5).sum()"
   ]
  },
  {
   "cell_type": "code",
   "execution_count": 17,
   "metadata": {},
   "outputs": [],
   "source": [
    "def extract_week(feature,week,lag):\n",
    "    df[feature] =  pd.to_datetime(df[feature], infer_datetime_format=True)\n",
    "    df[feature] = df.date_time.dt.strftime('%Y-%m-%d')\n",
    "    if lag == True:\n",
    "        d = datetime.timedelta(days=14)\n",
    "        df['lag_date_time'] = df[feature].apply(lambda x: datetime.datetime.strptime(x,\"%Y-%m-%d\") + d)\n",
    "        df['week'] = pd.DatetimeIndex(df['lag_date_time']).week\n",
    "        df['year']=pd.DatetimeIndex(df['lag_date_time']).year\n",
    "        \n",
    "        # countinue week numbers for the next year\n",
    "        df[week] = df['week'].where(df['year'] ==2013 , df['week']+52)"
   ]
  },
  {
   "cell_type": "code",
   "execution_count": 18,
   "metadata": {},
   "outputs": [],
   "source": [
    "extract_week('date_time','click_week',lag=True)"
   ]
  },
  {
   "cell_type": "code",
   "execution_count": 19,
   "metadata": {},
   "outputs": [
    {
     "data": {
      "text/html": [
       "<div>\n",
       "<style scoped>\n",
       "    .dataframe tbody tr th:only-of-type {\n",
       "        vertical-align: middle;\n",
       "    }\n",
       "\n",
       "    .dataframe tbody tr th {\n",
       "        vertical-align: top;\n",
       "    }\n",
       "\n",
       "    .dataframe thead th {\n",
       "        text-align: right;\n",
       "    }\n",
       "</style>\n",
       "<table border=\"1\" class=\"dataframe\">\n",
       "  <thead>\n",
       "    <tr style=\"text-align: right;\">\n",
       "      <th></th>\n",
       "      <th>date_time</th>\n",
       "      <th>site_name</th>\n",
       "      <th>posa_continent</th>\n",
       "      <th>user_location_country</th>\n",
       "      <th>user_location_region</th>\n",
       "      <th>user_location_city</th>\n",
       "      <th>orig_destination_distance</th>\n",
       "      <th>user_id</th>\n",
       "      <th>is_mobile</th>\n",
       "      <th>is_package</th>\n",
       "      <th>...</th>\n",
       "      <th>d136</th>\n",
       "      <th>d7</th>\n",
       "      <th>d59</th>\n",
       "      <th>d50</th>\n",
       "      <th>d30</th>\n",
       "      <th>lagged_date_time</th>\n",
       "      <th>lag_date_time</th>\n",
       "      <th>week</th>\n",
       "      <th>year</th>\n",
       "      <th>click_week</th>\n",
       "    </tr>\n",
       "  </thead>\n",
       "  <tbody>\n",
       "    <tr>\n",
       "      <th>0</th>\n",
       "      <td>2013-01-07</td>\n",
       "      <td>2</td>\n",
       "      <td>3</td>\n",
       "      <td>66</td>\n",
       "      <td>331</td>\n",
       "      <td>2428</td>\n",
       "      <td>477.1799</td>\n",
       "      <td>191940</td>\n",
       "      <td>0</td>\n",
       "      <td>0</td>\n",
       "      <td>...</td>\n",
       "      <td>-2.185435</td>\n",
       "      <td>-2.185435</td>\n",
       "      <td>-2.185435</td>\n",
       "      <td>-2.185435</td>\n",
       "      <td>-2.185435</td>\n",
       "      <td>2013-01-21</td>\n",
       "      <td>2013-01-21</td>\n",
       "      <td>4</td>\n",
       "      <td>2013</td>\n",
       "      <td>4</td>\n",
       "    </tr>\n",
       "    <tr>\n",
       "      <th>1</th>\n",
       "      <td>2013-01-07</td>\n",
       "      <td>2</td>\n",
       "      <td>3</td>\n",
       "      <td>66</td>\n",
       "      <td>174</td>\n",
       "      <td>46432</td>\n",
       "      <td>2738.4972</td>\n",
       "      <td>144246</td>\n",
       "      <td>0</td>\n",
       "      <td>1</td>\n",
       "      <td>...</td>\n",
       "      <td>-2.286141</td>\n",
       "      <td>-2.293998</td>\n",
       "      <td>-2.293998</td>\n",
       "      <td>-2.293998</td>\n",
       "      <td>-2.293998</td>\n",
       "      <td>2013-01-21</td>\n",
       "      <td>2013-01-21</td>\n",
       "      <td>4</td>\n",
       "      <td>2013</td>\n",
       "      <td>4</td>\n",
       "    </tr>\n",
       "    <tr>\n",
       "      <th>2</th>\n",
       "      <td>2013-01-07</td>\n",
       "      <td>2</td>\n",
       "      <td>3</td>\n",
       "      <td>66</td>\n",
       "      <td>331</td>\n",
       "      <td>2428</td>\n",
       "      <td>477.1799</td>\n",
       "      <td>191940</td>\n",
       "      <td>0</td>\n",
       "      <td>0</td>\n",
       "      <td>...</td>\n",
       "      <td>-2.185435</td>\n",
       "      <td>-2.185435</td>\n",
       "      <td>-2.185435</td>\n",
       "      <td>-2.185435</td>\n",
       "      <td>-2.185435</td>\n",
       "      <td>2013-01-21</td>\n",
       "      <td>2013-01-21</td>\n",
       "      <td>4</td>\n",
       "      <td>2013</td>\n",
       "      <td>4</td>\n",
       "    </tr>\n",
       "    <tr>\n",
       "      <th>3</th>\n",
       "      <td>2013-01-07</td>\n",
       "      <td>2</td>\n",
       "      <td>3</td>\n",
       "      <td>66</td>\n",
       "      <td>174</td>\n",
       "      <td>46432</td>\n",
       "      <td>2387.7275</td>\n",
       "      <td>144246</td>\n",
       "      <td>0</td>\n",
       "      <td>1</td>\n",
       "      <td>...</td>\n",
       "      <td>-2.325230</td>\n",
       "      <td>-2.342028</td>\n",
       "      <td>-2.342028</td>\n",
       "      <td>-2.342028</td>\n",
       "      <td>-2.306268</td>\n",
       "      <td>2013-01-21</td>\n",
       "      <td>2013-01-21</td>\n",
       "      <td>4</td>\n",
       "      <td>2013</td>\n",
       "      <td>4</td>\n",
       "    </tr>\n",
       "    <tr>\n",
       "      <th>4</th>\n",
       "      <td>2013-01-07</td>\n",
       "      <td>2</td>\n",
       "      <td>3</td>\n",
       "      <td>66</td>\n",
       "      <td>174</td>\n",
       "      <td>46432</td>\n",
       "      <td>2384.9256</td>\n",
       "      <td>144246</td>\n",
       "      <td>0</td>\n",
       "      <td>1</td>\n",
       "      <td>...</td>\n",
       "      <td>-2.301329</td>\n",
       "      <td>-2.348166</td>\n",
       "      <td>-2.348217</td>\n",
       "      <td>-2.345951</td>\n",
       "      <td>-2.343426</td>\n",
       "      <td>2013-01-21</td>\n",
       "      <td>2013-01-21</td>\n",
       "      <td>4</td>\n",
       "      <td>2013</td>\n",
       "      <td>4</td>\n",
       "    </tr>\n",
       "  </tbody>\n",
       "</table>\n",
       "<p>5 rows × 39 columns</p>\n",
       "</div>"
      ],
      "text/plain": [
       "    date_time  site_name  posa_continent  user_location_country  \\\n",
       "0  2013-01-07          2               3                     66   \n",
       "1  2013-01-07          2               3                     66   \n",
       "2  2013-01-07          2               3                     66   \n",
       "3  2013-01-07          2               3                     66   \n",
       "4  2013-01-07          2               3                     66   \n",
       "\n",
       "   user_location_region  user_location_city  orig_destination_distance  \\\n",
       "0                   331                2428                   477.1799   \n",
       "1                   174               46432                  2738.4972   \n",
       "2                   331                2428                   477.1799   \n",
       "3                   174               46432                  2387.7275   \n",
       "4                   174               46432                  2384.9256   \n",
       "\n",
       "   user_id  is_mobile  is_package  ...      d136        d7       d59  \\\n",
       "0   191940          0           0  ... -2.185435 -2.185435 -2.185435   \n",
       "1   144246          0           1  ... -2.286141 -2.293998 -2.293998   \n",
       "2   191940          0           0  ... -2.185435 -2.185435 -2.185435   \n",
       "3   144246          0           1  ... -2.325230 -2.342028 -2.342028   \n",
       "4   144246          0           1  ... -2.301329 -2.348166 -2.348217   \n",
       "\n",
       "        d50       d30  lagged_date_time  lag_date_time  week  year  click_week  \n",
       "0 -2.185435 -2.185435        2013-01-21     2013-01-21     4  2013           4  \n",
       "1 -2.293998 -2.293998        2013-01-21     2013-01-21     4  2013           4  \n",
       "2 -2.185435 -2.185435        2013-01-21     2013-01-21     4  2013           4  \n",
       "3 -2.342028 -2.306268        2013-01-21     2013-01-21     4  2013           4  \n",
       "4 -2.345951 -2.343426        2013-01-21     2013-01-21     4  2013           4  \n",
       "\n",
       "[5 rows x 39 columns]"
      ]
     },
     "execution_count": 19,
     "metadata": {},
     "output_type": "execute_result"
    }
   ],
   "source": [
    "df.head()"
   ]
  },
  {
   "cell_type": "code",
   "execution_count": 20,
   "metadata": {},
   "outputs": [],
   "source": [
    "# extract month from date_time\n",
    "df['click_month'] = pd.DatetimeIndex(df['date_time']).month"
   ]
  },
  {
   "cell_type": "markdown",
   "metadata": {},
   "source": [
    "## checkin_month , checkout_month"
   ]
  },
  {
   "cell_type": "code",
   "execution_count": 21,
   "metadata": {},
   "outputs": [],
   "source": [
    "df['checkin_month'] = pd.DatetimeIndex(df['srch_ci']).month\n",
    "df['checkout_month'] = pd.DatetimeIndex(df['srch_co']).month\n",
    "\n",
    "df['checkin_year'] = pd.DatetimeIndex(df['srch_ci']).year\n",
    "df['checkout_year'] = pd.DatetimeIndex(df['srch_co']).year"
   ]
  },
  {
   "cell_type": "markdown",
   "metadata": {},
   "source": [
    "## add holiday"
   ]
  },
  {
   "cell_type": "code",
   "execution_count": 22,
   "metadata": {},
   "outputs": [],
   "source": [
    "# Define holidays in some countries\n",
    "ca_holidays = holidays.Canada()\n",
    "us_holidays = holidays.UnitedStates()"
   ]
  },
  {
   "cell_type": "code",
   "execution_count": 23,
   "metadata": {},
   "outputs": [],
   "source": [
    "# check if checkin or checkout date is in holiday of different countries\n",
    "\n",
    "df['north_am_ci'] = df['srch_ci'].apply(lambda x: 1 if x in (us_holidays or ca_holidays)  else 0)\n",
    "df['north_am_co'] = df['srch_co'].apply(lambda x: 1 if x in (us_holidays or ca_holidays)  else 0)"
   ]
  },
  {
   "cell_type": "code",
   "execution_count": 24,
   "metadata": {},
   "outputs": [],
   "source": [
    "df= df.drop(['date_time'],axis=1)\n",
    "df= df.drop(['week'],axis=1)\n",
    "df= df.drop(['year'],axis=1)\n",
    "df= df.drop(['srch_ci'],axis=1)\n",
    "df= df.drop(['srch_co'],axis=1)\n",
    "df= df.drop(['lag_date_time'],axis=1)\n",
    "#df= df.drop(['date_time_timestamp'],axis=1)\n",
    "df= df.drop(['lagged_date_time'],axis=1)\n",
    "#df= df.drop(['num_visit'],axis=1)"
   ]
  },
  {
   "cell_type": "code",
   "execution_count": 25,
   "metadata": {},
   "outputs": [
    {
     "data": {
      "text/plain": [
       "Index(['site_name', 'posa_continent', 'user_location_country',\n",
       "       'user_location_region', 'user_location_city',\n",
       "       'orig_destination_distance', 'user_id', 'is_mobile', 'is_package',\n",
       "       'channel', 'srch_adults_cnt', 'srch_children_cnt', 'srch_rm_cnt',\n",
       "       'srch_destination_id', 'srch_destination_type_id', 'rating', 'cnt',\n",
       "       'hotel_continent', 'hotel_country', 'hotel_market', 'item_id', 'd33',\n",
       "       'd64', 'd52', 'd120', 'd72', 'd136', 'd7', 'd59', 'd50', 'd30',\n",
       "       'click_week', 'click_month', 'checkin_month', 'checkout_month',\n",
       "       'checkin_year', 'checkout_year', 'north_am_ci', 'north_am_co'],\n",
       "      dtype='object')"
      ]
     },
     "execution_count": 25,
     "metadata": {},
     "output_type": "execute_result"
    }
   ],
   "source": [
    "df.columns"
   ]
  },
  {
   "cell_type": "code",
   "execution_count": 26,
   "metadata": {},
   "outputs": [],
   "source": [
    "#Note that we add 1 to the raw count to prevent the logarithm from\n",
    "# exploding into negative infinity in case the count is zero.\n",
    "df['log_orig_destination_distance'] = np.log10(df['orig_destination_distance'] + 1)"
   ]
  },
  {
   "cell_type": "code",
   "execution_count": 27,
   "metadata": {},
   "outputs": [],
   "source": [
    "df= df.drop(['orig_destination_distance'],axis=1)"
   ]
  },
  {
   "cell_type": "code",
   "execution_count": 28,
   "metadata": {},
   "outputs": [],
   "source": [
    "from sklearn.cluster import KMeans\n",
    "def create_cluster(feature):\n",
    "    y = df[feature]\n",
    "    X = df.drop(feature,axis=1)\n",
    "    wcss=[]\n",
    "    for i in range(1,11):\n",
    "        kmeans = KMeans(n_clusters= i, init='k-means++', random_state=0)\n",
    "        kmeans.fit(X)\n",
    "        wcss.append(kmeans.inertia_)\n",
    "    plt.plot(range(1,11), wcss)\n",
    "    plt.title('The Elbow Method')\n",
    "    plt.xlabel('number of clusters')\n",
    "    plt.ylabel('wcss')\n",
    "    plt.show()"
   ]
  },
  {
   "cell_type": "code",
   "execution_count": 29,
   "metadata": {},
   "outputs": [],
   "source": [
    "X = df.drop(\"user_location_region\",axis=1)\n",
    "kmeansmodel = KMeans(n_clusters= 3, init='k-means++', random_state=0)\n",
    "y_kmeans= kmeansmodel.fit_predict(X)\n",
    "df['kmeans_user_location_region']=y_kmeans\n",
    "df= df.drop(['user_location_region'],axis=1)"
   ]
  },
  {
   "cell_type": "code",
   "execution_count": 30,
   "metadata": {},
   "outputs": [],
   "source": [
    "X = df.drop(\"user_location_city\",axis=1)\n",
    "kmeansmodel = KMeans(n_clusters= 3, init='k-means++', random_state=0)\n",
    "y_kmeans= kmeansmodel.fit_predict(X)\n",
    "df['kmeans_user_location_city']=y_kmeans\n",
    "df= df.drop(['user_location_city'],axis=1)"
   ]
  },
  {
   "cell_type": "code",
   "execution_count": 31,
   "metadata": {},
   "outputs": [],
   "source": [
    "condlist = [(df['srch_adults_cnt']==0) & (df['srch_children_cnt']==0),\n",
    "            (df['srch_adults_cnt']==2) & (df['srch_children_cnt']==0),\n",
    "            (df['srch_adults_cnt']==2) & (df['srch_children_cnt']==1),\n",
    "            (df['srch_adults_cnt']==2) & (df['srch_children_cnt']==2),\n",
    "           (df['srch_adults_cnt']==1) & (df['srch_children_cnt']==0),\n",
    "            (df['srch_adults_cnt']>1) & (df['srch_children_cnt']>0),\n",
    "           (df['srch_adults_cnt']==1) & (df['srch_children_cnt'] > 0),\n",
    "           (df['srch_adults_cnt']>2) & (df['srch_children_cnt'] == 0),\n",
    "           (df['srch_adults_cnt']==0) & (df['srch_children_cnt'] > 0)]\n",
    "\n",
    "choicelist = ['empty_room',\n",
    "                'couple_with_no_children',\n",
    "                'couple_with_one_child',\n",
    "                'couple_with_two_children',\n",
    "                'single',\n",
    "                'big_family',\n",
    "                'single_parent',\n",
    "                'friends',\n",
    "                'unsupervised_children']\n",
    "\n",
    "df['family_status'] = np.select(condlist,choicelist)"
   ]
  },
  {
   "cell_type": "code",
   "execution_count": 32,
   "metadata": {},
   "outputs": [],
   "source": [
    "#Convert the family_status into dummy variables\n",
    "dummies = pd.get_dummies(df['family_status'],drop_first=True)\n",
    "df= pd.concat( [df.drop('family_status',axis=1),dummies],axis=1)"
   ]
  },
  {
   "cell_type": "code",
   "execution_count": 33,
   "metadata": {},
   "outputs": [],
   "source": [
    "if \"unsupervised_children\" in df.columns:\n",
    "    df= df.drop(\"unsupervised_children\",axis=1)\n",
    "if \"empty_room\" in df.columns:\n",
    "    df= df.drop(\"empty_room\",axis=1)"
   ]
  },
  {
   "cell_type": "markdown",
   "metadata": {},
   "source": [
    "## z-score normalizing"
   ]
  },
  {
   "cell_type": "code",
   "execution_count": 29,
   "metadata": {},
   "outputs": [],
   "source": [
    "df['cnt'] = (df['cnt'] - df['cnt'].mean())/df['cnt'].std()"
   ]
  },
  {
   "cell_type": "code",
   "execution_count": 30,
   "metadata": {},
   "outputs": [
    {
     "data": {
      "text/plain": [
       "(8649, 45)"
      ]
     },
     "execution_count": 30,
     "metadata": {},
     "output_type": "execute_result"
    }
   ],
   "source": [
    "df.shape"
   ]
  },
  {
   "cell_type": "code",
   "execution_count": 31,
   "metadata": {},
   "outputs": [
    {
     "data": {
      "text/plain": [
       "Index(['site_name', 'posa_continent', 'user_location_country', 'user_id',\n",
       "       'is_mobile', 'is_package', 'channel', 'srch_adults_cnt',\n",
       "       'srch_children_cnt', 'srch_rm_cnt', 'srch_destination_id',\n",
       "       'srch_destination_type_id', 'rating', 'cnt', 'hotel_continent',\n",
       "       'hotel_country', 'hotel_market', 'item_id', 'd33', 'd64', 'd52', 'd120',\n",
       "       'd72', 'd136', 'd7', 'd59', 'd50', 'd30', 'click_week', 'click_month',\n",
       "       'checkin_month', 'checkout_month', 'checkin_year', 'checkout_year',\n",
       "       'north_am_ci', 'north_am_co', 'log_orig_destination_distance',\n",
       "       'kmeans_user_location_region', 'kmeans_user_location_city',\n",
       "       'couple_with_no_children', 'couple_with_one_child',\n",
       "       'couple_with_two_children', 'friends', 'single', 'single_parent'],\n",
       "      dtype='object')"
      ]
     },
     "execution_count": 31,
     "metadata": {},
     "output_type": "execute_result"
    }
   ],
   "source": [
    "df.columns"
   ]
  },
  {
   "cell_type": "code",
   "execution_count": 34,
   "metadata": {},
   "outputs": [],
   "source": [
    "# categ_sparse / conti_dense\n",
    "sparse_features = [\"site_name\", #ID of the Expedia point of sale (i.e. Expedia.com, Expedia.co.uk, Expedia.co.jp, …)\n",
    "\"posa_continent\", #ID of continent associated with site_name\n",
    "\"user_location_country\", #The ID of the country the customer is located\n",
    "\"kmeans_user_location_region\", #The ID of the region the customer is located clustered in 2 groups\n",
    "\"kmeans_user_location_city\", #The ID of the city the customer is located clustered in 2 groups\n",
    "\"user_id\", #ID of user\n",
    "\"is_mobile\", #1 when a user connected from a mobile device, 0 otherwise\n",
    "\"is_package\", #1 if the click/booking was generated as a part of a package (i.e. combined with a flight), 0 otherwise\n",
    "\"channel\", #ID of a marketing channel\n",
    "\"cnt\", #Numer of similar events in the context of the same user session\n",
    "\"srch_destination_id\", #ID of the destination where the hotel search was performed'\n",
    "\"srch_destination_type_id\", #Type of destination\n",
    "\"hotel_continent\", #'Hotel continent',\n",
    "\"hotel_country\", #Hotel country\n",
    "\"item_id\", #(hotel_cluster)ID of a hotel cluster\n",
    "\"north_am_ci\", # 1 if check-in date it's a holiday in north America\n",
    "\"north_am_co\",# 1 if check-out date it's a holiday in north America\n",
    "'hotel_market', #Hotel market\n",
    "'couple_with_no_children','couple_with_one_child','couple_with_two_children',\"friends\",\"single\",\"single_parent\",\n",
    "#hotel search latent attributes highly correlated with rating:\n",
    "'d33', 'd64','d52','d120', 'd72', 'd136', 'd7', 'd59', 'd50', 'd30'] \n",
    "\n",
    "dense_features = [\"srch_adults_cnt\", #The number of adults specified in the hotel room\n",
    "\"srch_children_cnt\", #The number of (extra occupancy) children specified in the hotel room\n",
    "\"srch_rm_cnt\", #The number of hotel rooms specified in the search\n",
    "'log_orig_destination_distance', # Log transformed physical distance between a hotel and a customer at the time of search\n",
    "\"click_week\",\n",
    "\"click_month\",\n",
    "\"checkin_month\",\n",
    "\"checkout_month\",\n",
    "\"checkin_year\",\n",
    "\"checkout_year\"]\n",
    "target = ['rating']"
   ]
  },
  {
   "cell_type": "markdown",
   "metadata": {},
   "source": [
    "### Simple preprocessing"
   ]
  },
  {
   "cell_type": "code",
   "execution_count": 35,
   "metadata": {},
   "outputs": [],
   "source": [
    "# Label Encoding for sparse features,and normalization for dense numerical features\n",
    "for feat in sparse_features:\n",
    "    lbe = LabelEncoder()\n",
    "    df[feat] = lbe.fit_transform(df[feat])"
   ]
  },
  {
   "cell_type": "code",
   "execution_count": 36,
   "metadata": {},
   "outputs": [],
   "source": [
    "mms = MinMaxScaler(feature_range=(0,1))\n",
    "df[dense_features] = mms.fit_transform(df[dense_features])"
   ]
  },
  {
   "cell_type": "markdown",
   "metadata": {},
   "source": [
    "### Generate feature columns\n",
    "For sparse features, we transform them into dense vectors by embedding techniques. For dense numerical features, we concatenate them to the input tensors of fully connected layer."
   ]
  },
  {
   "cell_type": "code",
   "execution_count": 37,
   "metadata": {},
   "outputs": [],
   "source": [
    "# count #unique features for each sparse field\n",
    "fixlen_feature_columns = [SparseFeat(feat, df[feat].nunique(),embedding_dim=4)\n",
    "                          for feat in sparse_features]\n",
    "linear_feature_columns = fixlen_feature_columns\n",
    "dnn_feature_columns = fixlen_feature_columns\n",
    "feature_names = get_feature_names(linear_feature_columns + dnn_feature_columns)"
   ]
  },
  {
   "cell_type": "markdown",
   "metadata": {},
   "source": [
    "### Generate the training samples and train the model"
   ]
  },
  {
   "cell_type": "code",
   "execution_count": 38,
   "metadata": {},
   "outputs": [],
   "source": [
    "# generate input data for model\n",
    "train, test = train_test_split(df, test_size=0.2)\n",
    "train_model_input = {name:train[name].values for name in feature_names}\n",
    "test_model_input = {name:test[name].values for name in feature_names}"
   ]
  },
  {
   "cell_type": "markdown",
   "metadata": {},
   "source": [
    "# Model Before Hyper-Parameter Tuning"
   ]
  },
  {
   "cell_type": "code",
   "execution_count": 220,
   "metadata": {},
   "outputs": [
    {
     "name": "stdout",
     "output_type": "stream",
     "text": [
      "WARNING:tensorflow:From /Users/yas/opt/anaconda3/lib/python3.7/site-packages/tensorflow_core/python/keras/initializers.py:143: calling RandomNormal.__init__ (from tensorflow.python.ops.init_ops) with dtype is deprecated and will be removed in a future version.\n",
      "Instructions for updating:\n",
      "Call initializer instance with the dtype argument instead of passing it to the constructor\n",
      "WARNING:tensorflow:From /Users/yas/opt/anaconda3/lib/python3.7/site-packages/tensorflow_core/python/ops/resource_variable_ops.py:1630: calling BaseResourceVariable.__init__ (from tensorflow.python.ops.resource_variable_ops) with constraint is deprecated and will be removed in a future version.\n",
      "Instructions for updating:\n",
      "If using Keras pass *_constraint arguments to layers.\n",
      "WARNING:tensorflow:From /Users/yas/opt/anaconda3/lib/python3.7/site-packages/deepctr/layers/utils.py:163: calling reduce_sum_v1 (from tensorflow.python.ops.math_ops) with keep_dims is deprecated and will be removed in a future version.\n",
      "Instructions for updating:\n",
      "keep_dims is deprecated, use keepdims instead\n"
     ]
    }
   ],
   "source": [
    "# 4.Define Model,train\n",
    "\n",
    "#linear_feature_columns: An iterable containing all the features used by linear part of the model.\n",
    "\n",
    "model = WDL(linear_feature_columns, dnn_feature_columns, dnn_hidden_units=(128, 128), l2_reg_linear=1e-5,\n",
    "        l2_reg_embedding=1e-5, l2_reg_dnn=0, init_std=0.0001, seed=1024, dnn_dropout=0, dnn_activation='relu',\n",
    "        task='binary')\n",
    "\n",
    "\n",
    "model.compile(\"adam\", \"mse\", metrics=['mse'])"
   ]
  },
  {
   "cell_type": "code",
   "execution_count": 221,
   "metadata": {},
   "outputs": [
    {
     "name": "stdout",
     "output_type": "stream",
     "text": [
      "Train on 5535 samples, validate on 1384 samples\n",
      "Epoch 1/10\n",
      "5535/5535 - 2s - loss: 0.1623 - mean_squared_error: 0.1623 - val_loss: 0.0852 - val_mean_squared_error: 0.0852\n",
      "Epoch 2/10\n",
      "5535/5535 - 0s - loss: 0.0791 - mean_squared_error: 0.0791 - val_loss: 0.0838 - val_mean_squared_error: 0.0837\n",
      "Epoch 3/10\n",
      "5535/5535 - 0s - loss: 0.0754 - mean_squared_error: 0.0753 - val_loss: 0.0826 - val_mean_squared_error: 0.0826\n",
      "Epoch 4/10\n",
      "5535/5535 - 0s - loss: 0.0695 - mean_squared_error: 0.0694 - val_loss: 0.0863 - val_mean_squared_error: 0.0861\n",
      "Epoch 5/10\n",
      "5535/5535 - 0s - loss: 0.0644 - mean_squared_error: 0.0642 - val_loss: 0.0883 - val_mean_squared_error: 0.0881\n",
      "Epoch 6/10\n",
      "5535/5535 - 0s - loss: 0.0595 - mean_squared_error: 0.0593 - val_loss: 0.0905 - val_mean_squared_error: 0.0902\n",
      "Epoch 7/10\n",
      "5535/5535 - 0s - loss: 0.0550 - mean_squared_error: 0.0547 - val_loss: 0.0938 - val_mean_squared_error: 0.0935\n",
      "Epoch 8/10\n",
      "5535/5535 - 0s - loss: 0.0525 - mean_squared_error: 0.0522 - val_loss: 0.0970 - val_mean_squared_error: 0.0967\n",
      "Epoch 9/10\n",
      "5535/5535 - 0s - loss: 0.0510 - mean_squared_error: 0.0507 - val_loss: 0.0982 - val_mean_squared_error: 0.0978\n",
      "Epoch 10/10\n",
      "5535/5535 - 0s - loss: 0.0502 - mean_squared_error: 0.0498 - val_loss: 0.0981 - val_mean_squared_error: 0.0977\n"
     ]
    }
   ],
   "source": [
    "history = model.fit(train_model_input, train[target].values,\n",
    "                        batch_size=256, epochs=10, verbose=2, validation_split=0.2, )"
   ]
  },
  {
   "cell_type": "markdown",
   "metadata": {},
   "source": [
    "## Prediction"
   ]
  },
  {
   "cell_type": "code",
   "execution_count": 38,
   "metadata": {},
   "outputs": [
    {
     "ename": "NameError",
     "evalue": "name 'model' is not defined",
     "output_type": "error",
     "traceback": [
      "\u001b[0;31m---------------------------------------------------------------------------\u001b[0m",
      "\u001b[0;31mNameError\u001b[0m                                 Traceback (most recent call last)",
      "\u001b[0;32m<ipython-input-38-c0844b7894df>\u001b[0m in \u001b[0;36m<module>\u001b[0;34m\u001b[0m\n\u001b[0;32m----> 1\u001b[0;31m \u001b[0mpred_ans\u001b[0m \u001b[0;34m=\u001b[0m \u001b[0mmodel\u001b[0m\u001b[0;34m.\u001b[0m\u001b[0mpredict\u001b[0m\u001b[0;34m(\u001b[0m\u001b[0mtest_model_input\u001b[0m\u001b[0;34m,\u001b[0m \u001b[0mbatch_size\u001b[0m\u001b[0;34m=\u001b[0m\u001b[0;36m256\u001b[0m\u001b[0;34m)\u001b[0m\u001b[0;34m\u001b[0m\u001b[0;34m\u001b[0m\u001b[0m\n\u001b[0m",
      "\u001b[0;31mNameError\u001b[0m: name 'model' is not defined"
     ]
    }
   ],
   "source": [
    "pred_ans = model.predict(test_model_input, batch_size=256)"
   ]
  },
  {
   "cell_type": "markdown",
   "metadata": {},
   "source": [
    "## Evaluation"
   ]
  },
  {
   "cell_type": "code",
   "execution_count": 223,
   "metadata": {},
   "outputs": [
    {
     "name": "stdout",
     "output_type": "stream",
     "text": [
      "RMSE:\t0.295000\n",
      "MAE:\t0.131000\n",
      "MSE:\t0.087000\n",
      "AUC:\t0.707000\n"
     ]
    }
   ],
   "source": [
    "auc = roc_auc_score(test[target].values, pred_ans)\n",
    "\n",
    "print(\"RMSE:\\t%f\" % np.round(math.sqrt(mean_squared_error(test[target].values, pred_ans)),3),\n",
    "      \"MAE:\\t%f\" % np.round(mean_absolute_error(test[target].values, pred_ans),3),\n",
    "      \"MSE:\\t%f\" % np.round(mean_squared_error(test[target].values, pred_ans),3),\n",
    "      \"AUC:\\t%f\" % np.round(auc,3),\n",
    "      sep='\\n')"
   ]
  },
  {
   "cell_type": "markdown",
   "metadata": {},
   "source": [
    "# Random Search\n",
    "\n",
    "This is just a random search and the result might be more acuurate using methods like grid shearch."
   ]
  },
  {
   "cell_type": "code",
   "execution_count": 316,
   "metadata": {},
   "outputs": [
    {
     "data": {
      "text/plain": [
       "array([0. , 0.2, 0.4, 0.6, 0.8])"
      ]
     },
     "execution_count": 316,
     "metadata": {},
     "output_type": "execute_result"
    }
   ],
   "source": [
    "np.arange(0,  1,0.2)"
   ]
  },
  {
   "cell_type": "code",
   "execution_count": 39,
   "metadata": {},
   "outputs": [],
   "source": [
    "param_rand = {'dnn_hidden_units' : [(1,1),(2,2),(4,4),(32,32),(128,128),(256,256)],\n",
    "              'l2_reg_linear':[1e-5,1e-3,1e-1,1,10],\n",
    "              'l2_reg_embedding':[1e-7,1e-5,1e-3,1e-1,1],\n",
    "              'l2_reg_dnn':[0,0.2,2,4],\n",
    "              'dnn_dropout':[0, 0.2, 0.4, 0.6, 0.8]\n",
    "             }"
   ]
  },
  {
   "cell_type": "markdown",
   "metadata": {},
   "source": [
    "### 1) dnn_hidden_units: list,list of positive integer or empty list, the layer number and units in each layer of DNN"
   ]
  },
  {
   "cell_type": "code",
   "execution_count": 40,
   "metadata": {},
   "outputs": [],
   "source": [
    "cols = ['dnn_hidden_units','RMSE','MAE','MSE','AUC','score']\n",
    "df_result = pd.DataFrame(columns=cols, index=range(len(param_rand['dnn_hidden_units'])))"
   ]
  },
  {
   "cell_type": "code",
   "execution_count": 41,
   "metadata": {
    "scrolled": true
   },
   "outputs": [
    {
     "name": "stdout",
     "output_type": "stream",
     "text": [
      "WARNING:tensorflow:From /Users/yas/opt/anaconda3/lib/python3.7/site-packages/tensorflow_core/python/keras/initializers.py:143: calling RandomNormal.__init__ (from tensorflow.python.ops.init_ops) with dtype is deprecated and will be removed in a future version.\n",
      "Instructions for updating:\n",
      "Call initializer instance with the dtype argument instead of passing it to the constructor\n",
      "WARNING:tensorflow:From /Users/yas/opt/anaconda3/lib/python3.7/site-packages/tensorflow_core/python/ops/resource_variable_ops.py:1630: calling BaseResourceVariable.__init__ (from tensorflow.python.ops.resource_variable_ops) with constraint is deprecated and will be removed in a future version.\n",
      "Instructions for updating:\n",
      "If using Keras pass *_constraint arguments to layers.\n",
      "WARNING:tensorflow:From /Users/yas/opt/anaconda3/lib/python3.7/site-packages/deepctr/layers/utils.py:163: calling reduce_sum_v1 (from tensorflow.python.ops.math_ops) with keep_dims is deprecated and will be removed in a future version.\n",
      "Instructions for updating:\n",
      "keep_dims is deprecated, use keepdims instead\n",
      "Train on 5535 samples, validate on 1384 samples\n",
      "Epoch 1/3\n",
      "5535/5535 - 2s - loss: 0.1972 - mean_squared_error: 0.1972 - val_loss: 0.1507 - val_mean_squared_error: 0.1507\n",
      "Epoch 2/3\n",
      "5535/5535 - 0s - loss: 0.1219 - mean_squared_error: 0.1218 - val_loss: 0.1089 - val_mean_squared_error: 0.1089\n",
      "Epoch 3/3\n",
      "5535/5535 - 0s - loss: 0.0929 - mean_squared_error: 0.0929 - val_loss: 0.0942 - val_mean_squared_error: 0.0942\n",
      "Train on 5535 samples, validate on 1384 samples\n",
      "Epoch 1/3\n",
      "5535/5535 - 2s - loss: 0.1969 - mean_squared_error: 0.1969 - val_loss: 0.1506 - val_mean_squared_error: 0.1506\n",
      "Epoch 2/3\n",
      "5535/5535 - 0s - loss: 0.1218 - mean_squared_error: 0.1217 - val_loss: 0.1087 - val_mean_squared_error: 0.1087\n",
      "Epoch 3/3\n",
      "5535/5535 - 0s - loss: 0.0931 - mean_squared_error: 0.0930 - val_loss: 0.0941 - val_mean_squared_error: 0.0940\n",
      "Train on 5535 samples, validate on 1384 samples\n",
      "Epoch 1/3\n",
      "5535/5535 - 3s - loss: 0.1756 - mean_squared_error: 0.1756 - val_loss: 0.1162 - val_mean_squared_error: 0.1162\n",
      "Epoch 2/3\n",
      "5535/5535 - 0s - loss: 0.0890 - mean_squared_error: 0.0890 - val_loss: 0.0851 - val_mean_squared_error: 0.0850\n",
      "Epoch 3/3\n",
      "5535/5535 - 0s - loss: 0.0740 - mean_squared_error: 0.0739 - val_loss: 0.0825 - val_mean_squared_error: 0.0824\n",
      "Train on 5535 samples, validate on 1384 samples\n",
      "Epoch 1/3\n",
      "5535/5535 - 3s - loss: 0.1727 - mean_squared_error: 0.1727 - val_loss: 0.1048 - val_mean_squared_error: 0.1048\n",
      "Epoch 2/3\n",
      "5535/5535 - 0s - loss: 0.0800 - mean_squared_error: 0.0799 - val_loss: 0.0824 - val_mean_squared_error: 0.0823\n",
      "Epoch 3/3\n",
      "5535/5535 - 0s - loss: 0.0727 - mean_squared_error: 0.0726 - val_loss: 0.0825 - val_mean_squared_error: 0.0824\n",
      "Train on 5535 samples, validate on 1384 samples\n",
      "Epoch 1/3\n",
      "5535/5535 - 4s - loss: 0.1594 - mean_squared_error: 0.1594 - val_loss: 0.0844 - val_mean_squared_error: 0.0844\n",
      "Epoch 2/3\n",
      "5535/5535 - 0s - loss: 0.0754 - mean_squared_error: 0.0753 - val_loss: 0.0841 - val_mean_squared_error: 0.0840\n",
      "Epoch 3/3\n",
      "5535/5535 - 0s - loss: 0.0719 - mean_squared_error: 0.0719 - val_loss: 0.0831 - val_mean_squared_error: 0.0830\n",
      "Train on 5535 samples, validate on 1384 samples\n",
      "Epoch 1/3\n",
      "5535/5535 - 4s - loss: 0.1484 - mean_squared_error: 0.1484 - val_loss: 0.0831 - val_mean_squared_error: 0.0831\n",
      "Epoch 2/3\n",
      "5535/5535 - 0s - loss: 0.0776 - mean_squared_error: 0.0775 - val_loss: 0.0846 - val_mean_squared_error: 0.0845\n",
      "Epoch 3/3\n",
      "5535/5535 - 0s - loss: 0.0705 - mean_squared_error: 0.0705 - val_loss: 0.0864 - val_mean_squared_error: 0.0863\n"
     ]
    }
   ],
   "source": [
    "for i,x in enumerate(param_rand['dnn_hidden_units']):\n",
    "    model = WDL(linear_feature_columns, dnn_feature_columns, dnn_hidden_units=x, \n",
    "             init_std=0.0001, seed=1024,task='binary')\n",
    "\n",
    "    model.compile(\"adam\", \"mse\", metrics=['mse'])\n",
    "\n",
    "    history = model.fit(train_model_input, train[target].values,\n",
    "                            batch_size=256, epochs=3, verbose=2, validation_split=0.2, )\n",
    "    pred_ans = model.predict(test_model_input, batch_size=256)\n",
    "    \n",
    "    auc = roc_auc_score(test[target].values, pred_ans)\n",
    "    \n",
    "    df_result.loc[i].dnn_hidden_units = x\n",
    "    df_result.loc[i].RMSE = np.round(math.sqrt(mean_squared_error(test[target].values, pred_ans)),3)\n",
    "    df_result.loc[i].MAE = np.round(mean_absolute_error(test[target].values, pred_ans),3)\n",
    "    df_result.loc[i].MSE = np.round(mean_squared_error(test[target].values, pred_ans),3)\n",
    "    df_result.loc[i].AUC = np.round(auc,3)    \n",
    "    df_result.iloc[i]['score']=df_result.sort_values(['AUC','MAE','RMSE'],ascending=False)"
   ]
  },
  {
   "cell_type": "code",
   "execution_count": 42,
   "metadata": {},
   "outputs": [
    {
     "data": {
      "text/html": [
       "<div>\n",
       "<style scoped>\n",
       "    .dataframe tbody tr th:only-of-type {\n",
       "        vertical-align: middle;\n",
       "    }\n",
       "\n",
       "    .dataframe tbody tr th {\n",
       "        vertical-align: top;\n",
       "    }\n",
       "\n",
       "    .dataframe thead th {\n",
       "        text-align: right;\n",
       "    }\n",
       "</style>\n",
       "<table border=\"1\" class=\"dataframe\">\n",
       "  <thead>\n",
       "    <tr style=\"text-align: right;\">\n",
       "      <th></th>\n",
       "      <th>dnn_hidden_units</th>\n",
       "      <th>RMSE</th>\n",
       "      <th>MAE</th>\n",
       "      <th>MSE</th>\n",
       "      <th>AUC</th>\n",
       "      <th>score</th>\n",
       "    </tr>\n",
       "  </thead>\n",
       "  <tbody>\n",
       "    <tr>\n",
       "      <th>0</th>\n",
       "      <td>(1, 1)</td>\n",
       "      <td>0.308</td>\n",
       "      <td>0.255</td>\n",
       "      <td>0.095</td>\n",
       "      <td>0.643</td>\n",
       "      <td>dnn_hidden_units   RMSE    MAE    MSE    AUC...</td>\n",
       "    </tr>\n",
       "    <tr>\n",
       "      <th>1</th>\n",
       "      <td>(2, 2)</td>\n",
       "      <td>0.308</td>\n",
       "      <td>0.254</td>\n",
       "      <td>0.095</td>\n",
       "      <td>0.64</td>\n",
       "      <td>dnn_hidden_units   RMSE    MAE    MSE    AUC...</td>\n",
       "    </tr>\n",
       "    <tr>\n",
       "      <th>2</th>\n",
       "      <td>(4, 4)</td>\n",
       "      <td>0.288</td>\n",
       "      <td>0.178</td>\n",
       "      <td>0.083</td>\n",
       "      <td>0.649</td>\n",
       "      <td>dnn_hidden_units   RMSE    MAE    MSE    AUC...</td>\n",
       "    </tr>\n",
       "    <tr>\n",
       "      <th>3</th>\n",
       "      <td>(32, 32)</td>\n",
       "      <td>0.288</td>\n",
       "      <td>0.156</td>\n",
       "      <td>0.083</td>\n",
       "      <td>0.655</td>\n",
       "      <td>dnn_hidden_units   RMSE    MAE    MSE    AUC...</td>\n",
       "    </tr>\n",
       "    <tr>\n",
       "      <th>4</th>\n",
       "      <td>(128, 128)</td>\n",
       "      <td>0.288</td>\n",
       "      <td>0.172</td>\n",
       "      <td>0.083</td>\n",
       "      <td>0.65</td>\n",
       "      <td>dnn_hidden_units   RMSE    MAE    MSE    AUC...</td>\n",
       "    </tr>\n",
       "    <tr>\n",
       "      <th>5</th>\n",
       "      <td>(256, 256)</td>\n",
       "      <td>0.293</td>\n",
       "      <td>0.184</td>\n",
       "      <td>0.086</td>\n",
       "      <td>0.643</td>\n",
       "      <td>dnn_hidden_units   RMSE    MAE    MSE    AUC...</td>\n",
       "    </tr>\n",
       "  </tbody>\n",
       "</table>\n",
       "</div>"
      ],
      "text/plain": [
       "  dnn_hidden_units   RMSE    MAE    MSE    AUC  \\\n",
       "0           (1, 1)  0.308  0.255  0.095  0.643   \n",
       "1           (2, 2)  0.308  0.254  0.095   0.64   \n",
       "2           (4, 4)  0.288  0.178  0.083  0.649   \n",
       "3         (32, 32)  0.288  0.156  0.083  0.655   \n",
       "4       (128, 128)  0.288  0.172  0.083   0.65   \n",
       "5       (256, 256)  0.293  0.184  0.086  0.643   \n",
       "\n",
       "                                               score  \n",
       "0    dnn_hidden_units   RMSE    MAE    MSE    AUC...  \n",
       "1    dnn_hidden_units   RMSE    MAE    MSE    AUC...  \n",
       "2    dnn_hidden_units   RMSE    MAE    MSE    AUC...  \n",
       "3    dnn_hidden_units   RMSE    MAE    MSE    AUC...  \n",
       "4    dnn_hidden_units   RMSE    MAE    MSE    AUC...  \n",
       "5    dnn_hidden_units   RMSE    MAE    MSE    AUC...  "
      ]
     },
     "execution_count": 42,
     "metadata": {},
     "output_type": "execute_result"
    }
   ],
   "source": [
    "df_result"
   ]
  },
  {
   "cell_type": "code",
   "execution_count": 64,
   "metadata": {},
   "outputs": [],
   "source": [
    "df_test = df_result.copy()"
   ]
  },
  {
   "cell_type": "code",
   "execution_count": 65,
   "metadata": {},
   "outputs": [
    {
     "data": {
      "text/plain": [
       "dnn_hidden_units                                               (2, 2)\n",
       "RMSE                                                            0.308\n",
       "MAE                                                             0.254\n",
       "MSE                                                             0.095\n",
       "AUC                                                              0.64\n",
       "score                 dnn_hidden_units   RMSE    MAE    MSE    AUC...\n",
       "Name: 1, dtype: object"
      ]
     },
     "execution_count": 65,
     "metadata": {},
     "output_type": "execute_result"
    }
   ],
   "source": [
    "df_test.iloc[1]"
   ]
  },
  {
   "cell_type": "code",
   "execution_count": 66,
   "metadata": {},
   "outputs": [
    {
     "data": {
      "text/plain": [
       "0.308"
      ]
     },
     "execution_count": 66,
     "metadata": {},
     "output_type": "execute_result"
    }
   ],
   "source": [
    "df_test.iloc[1][\"RMSE\"]"
   ]
  },
  {
   "cell_type": "code",
   "execution_count": 67,
   "metadata": {},
   "outputs": [],
   "source": [
    "ready_to_scale = np.array([1/df_test.iloc[0][\"RMSE\"],1/df_test.iloc[0][\"MAE\"],df_test.iloc[0][\"AUC\"]])"
   ]
  },
  {
   "cell_type": "code",
   "execution_count": 68,
   "metadata": {},
   "outputs": [
    {
     "data": {
      "text/plain": [
       "array([3.24675325, 3.92156863, 0.643     ])"
      ]
     },
     "execution_count": 68,
     "metadata": {},
     "output_type": "execute_result"
    }
   ],
   "source": [
    "ready_to_scale"
   ]
  },
  {
   "cell_type": "code",
   "execution_count": 73,
   "metadata": {},
   "outputs": [],
   "source": [
    "def custom_scale(array,v):\n",
    "    min_new=0.1\n",
    "    max_new=2\n",
    "    max_old = array.max()\n",
    "    min_old = array.min()\n",
    "    result= (max_new - min_new)/(max_old-min_old) * (v - max_old) + max_new\n",
    "    return result\n"
   ]
  },
  {
   "cell_type": "code",
   "execution_count": 74,
   "metadata": {},
   "outputs": [
    {
     "data": {
      "text/plain": [
       "1.6089301878808902"
      ]
     },
     "execution_count": 74,
     "metadata": {},
     "output_type": "execute_result"
    }
   ],
   "source": [
    "custom_scale(ready_to_scale,3.24675325)"
   ]
  },
  {
   "cell_type": "code",
   "execution_count": 84,
   "metadata": {},
   "outputs": [],
   "source": [
    "cols = ['model','RMSE','MAE','MSE','AUC']\n",
    "yy = pd.DataFrame(columns=cols, index=range(3)) "
   ]
  },
  {
   "cell_type": "code",
   "execution_count": 85,
   "metadata": {},
   "outputs": [
    {
     "data": {
      "text/html": [
       "<div>\n",
       "<style scoped>\n",
       "    .dataframe tbody tr th:only-of-type {\n",
       "        vertical-align: middle;\n",
       "    }\n",
       "\n",
       "    .dataframe tbody tr th {\n",
       "        vertical-align: top;\n",
       "    }\n",
       "\n",
       "    .dataframe thead th {\n",
       "        text-align: right;\n",
       "    }\n",
       "</style>\n",
       "<table border=\"1\" class=\"dataframe\">\n",
       "  <thead>\n",
       "    <tr style=\"text-align: right;\">\n",
       "      <th></th>\n",
       "      <th>model</th>\n",
       "      <th>RMSE</th>\n",
       "      <th>MAE</th>\n",
       "      <th>MSE</th>\n",
       "      <th>AUC</th>\n",
       "    </tr>\n",
       "  </thead>\n",
       "  <tbody>\n",
       "    <tr>\n",
       "      <th>0</th>\n",
       "      <td>NaN</td>\n",
       "      <td>NaN</td>\n",
       "      <td>NaN</td>\n",
       "      <td>NaN</td>\n",
       "      <td>NaN</td>\n",
       "    </tr>\n",
       "    <tr>\n",
       "      <th>1</th>\n",
       "      <td>NaN</td>\n",
       "      <td>NaN</td>\n",
       "      <td>NaN</td>\n",
       "      <td>NaN</td>\n",
       "      <td>NaN</td>\n",
       "    </tr>\n",
       "    <tr>\n",
       "      <th>2</th>\n",
       "      <td>NaN</td>\n",
       "      <td>NaN</td>\n",
       "      <td>NaN</td>\n",
       "      <td>NaN</td>\n",
       "      <td>NaN</td>\n",
       "    </tr>\n",
       "  </tbody>\n",
       "</table>\n",
       "</div>"
      ],
      "text/plain": [
       "  model RMSE  MAE  MSE  AUC\n",
       "0   NaN  NaN  NaN  NaN  NaN\n",
       "1   NaN  NaN  NaN  NaN  NaN\n",
       "2   NaN  NaN  NaN  NaN  NaN"
      ]
     },
     "execution_count": 85,
     "metadata": {},
     "output_type": "execute_result"
    }
   ],
   "source": [
    "yy"
   ]
  },
  {
   "cell_type": "code",
   "execution_count": 86,
   "metadata": {},
   "outputs": [],
   "source": [
    "yy.iloc[0]=['Wide and Deep' , 0.296 , 0.194 , 0.088 , 0.776]\n",
    "yy.iloc[1]=['DeepFM',  0.284 , 0.147 , 0.081  , 0.82]\n",
    "yy.iloc[2]=['XDeepFM',  0.285 , 0.153 , 0.081,   0.82]"
   ]
  },
  {
   "cell_type": "code",
   "execution_count": 88,
   "metadata": {},
   "outputs": [
    {
     "data": {
      "text/plain": [
       "0    0.194\n",
       "1    0.147\n",
       "2    0.153\n",
       "Name: MAE, dtype: object"
      ]
     },
     "execution_count": 88,
     "metadata": {},
     "output_type": "execute_result"
    }
   ],
   "source": [
    "yy['MAE']"
   ]
  },
  {
   "cell_type": "code",
   "execution_count": 87,
   "metadata": {},
   "outputs": [
    {
     "data": {
      "text/html": [
       "<div>\n",
       "<style scoped>\n",
       "    .dataframe tbody tr th:only-of-type {\n",
       "        vertical-align: middle;\n",
       "    }\n",
       "\n",
       "    .dataframe tbody tr th {\n",
       "        vertical-align: top;\n",
       "    }\n",
       "\n",
       "    .dataframe thead th {\n",
       "        text-align: right;\n",
       "    }\n",
       "</style>\n",
       "<table border=\"1\" class=\"dataframe\">\n",
       "  <thead>\n",
       "    <tr style=\"text-align: right;\">\n",
       "      <th></th>\n",
       "      <th>model</th>\n",
       "      <th>RMSE</th>\n",
       "      <th>MAE</th>\n",
       "      <th>MSE</th>\n",
       "      <th>AUC</th>\n",
       "    </tr>\n",
       "  </thead>\n",
       "  <tbody>\n",
       "    <tr>\n",
       "      <th>0</th>\n",
       "      <td>Wide and Deep</td>\n",
       "      <td>0.296</td>\n",
       "      <td>0.194</td>\n",
       "      <td>0.088</td>\n",
       "      <td>0.776</td>\n",
       "    </tr>\n",
       "    <tr>\n",
       "      <th>1</th>\n",
       "      <td>DeepFM</td>\n",
       "      <td>0.284</td>\n",
       "      <td>0.147</td>\n",
       "      <td>0.081</td>\n",
       "      <td>0.82</td>\n",
       "    </tr>\n",
       "    <tr>\n",
       "      <th>2</th>\n",
       "      <td>XDeepFM</td>\n",
       "      <td>0.285</td>\n",
       "      <td>0.153</td>\n",
       "      <td>0.081</td>\n",
       "      <td>0.82</td>\n",
       "    </tr>\n",
       "  </tbody>\n",
       "</table>\n",
       "</div>"
      ],
      "text/plain": [
       "           model   RMSE    MAE    MSE    AUC\n",
       "0  Wide and Deep  0.296  0.194  0.088  0.776\n",
       "1         DeepFM  0.284  0.147  0.081   0.82\n",
       "2        XDeepFM  0.285  0.153  0.081   0.82"
      ]
     },
     "execution_count": 87,
     "metadata": {},
     "output_type": "execute_result"
    }
   ],
   "source": [
    "yy"
   ]
  },
  {
   "cell_type": "code",
   "execution_count": 93,
   "metadata": {},
   "outputs": [
    {
     "data": {
      "text/plain": [
       "0    3.37838\n",
       "1    3.52113\n",
       "2    3.50877\n",
       "Name: RMSE, dtype: object"
      ]
     },
     "execution_count": 93,
     "metadata": {},
     "output_type": "execute_result"
    }
   ],
   "source": [
    "1/yy['RMSE']"
   ]
  },
  {
   "cell_type": "code",
   "execution_count": 115,
   "metadata": {},
   "outputs": [],
   "source": [
    "def custom_scale(array):\n",
    "    result=[]\n",
    "    for v in (array):\n",
    "        min_new=0.5\n",
    "        max_new=2\n",
    "        max_old = array.max()\n",
    "        min_old = array.min()\n",
    "        result.append((max_new - min_new)/(max_old-min_old) * (v - max_old) + max_new)\n",
    "    return np.array(result)"
   ]
  },
  {
   "cell_type": "code",
   "execution_count": 116,
   "metadata": {},
   "outputs": [
    {
     "data": {
      "text/html": [
       "<div>\n",
       "<style scoped>\n",
       "    .dataframe tbody tr th:only-of-type {\n",
       "        vertical-align: middle;\n",
       "    }\n",
       "\n",
       "    .dataframe tbody tr th {\n",
       "        vertical-align: top;\n",
       "    }\n",
       "\n",
       "    .dataframe thead th {\n",
       "        text-align: right;\n",
       "    }\n",
       "</style>\n",
       "<table border=\"1\" class=\"dataframe\">\n",
       "  <thead>\n",
       "    <tr style=\"text-align: right;\">\n",
       "      <th></th>\n",
       "      <th>model</th>\n",
       "      <th>RMSE</th>\n",
       "      <th>MAE</th>\n",
       "      <th>MSE</th>\n",
       "      <th>AUC</th>\n",
       "    </tr>\n",
       "  </thead>\n",
       "  <tbody>\n",
       "    <tr>\n",
       "      <th>0</th>\n",
       "      <td>Wide and Deep</td>\n",
       "      <td>0.296</td>\n",
       "      <td>0.194</td>\n",
       "      <td>0.088</td>\n",
       "      <td>0.776</td>\n",
       "    </tr>\n",
       "    <tr>\n",
       "      <th>1</th>\n",
       "      <td>DeepFM</td>\n",
       "      <td>0.284</td>\n",
       "      <td>0.147</td>\n",
       "      <td>0.081</td>\n",
       "      <td>0.82</td>\n",
       "    </tr>\n",
       "    <tr>\n",
       "      <th>2</th>\n",
       "      <td>XDeepFM</td>\n",
       "      <td>0.285</td>\n",
       "      <td>0.153</td>\n",
       "      <td>0.081</td>\n",
       "      <td>0.82</td>\n",
       "    </tr>\n",
       "  </tbody>\n",
       "</table>\n",
       "</div>"
      ],
      "text/plain": [
       "           model   RMSE    MAE    MSE    AUC\n",
       "0  Wide and Deep  0.296  0.194  0.088  0.776\n",
       "1         DeepFM  0.284  0.147  0.081   0.82\n",
       "2        XDeepFM  0.285  0.153  0.081   0.82"
      ]
     },
     "execution_count": 116,
     "metadata": {},
     "output_type": "execute_result"
    }
   ],
   "source": [
    "yy"
   ]
  },
  {
   "cell_type": "code",
   "execution_count": 117,
   "metadata": {},
   "outputs": [
    {
     "data": {
      "text/plain": [
       "array([0.5       , 2.        , 1.87017544])"
      ]
     },
     "execution_count": 117,
     "metadata": {},
     "output_type": "execute_result"
    }
   ],
   "source": [
    "a=custom_scale(1/yy['RMSE'])\n",
    "b=custom_scale(1/yy['MAE'])\n",
    "c=custom_scale(yy['AUC'])"
   ]
  },
  {
   "cell_type": "code",
   "execution_count": 124,
   "metadata": {},
   "outputs": [],
   "source": [
    "yy['score']=np.round(a+b+(2*c),2)"
   ]
  },
  {
   "cell_type": "code",
   "execution_count": 130,
   "metadata": {},
   "outputs": [
    {
     "ename": "TypeError",
     "evalue": "'numpy.ndarray' object is not callable",
     "output_type": "error",
     "traceback": [
      "\u001b[0;31m---------------------------------------------------------------------------\u001b[0m",
      "\u001b[0;31mTypeError\u001b[0m                                 Traceback (most recent call last)",
      "\u001b[0;32m<ipython-input-130-eb0e8420eb90>\u001b[0m in \u001b[0;36m<module>\u001b[0;34m\u001b[0m\n\u001b[0;32m----> 1\u001b[0;31m \u001b[0myy\u001b[0m\u001b[0;34m[\u001b[0m\u001b[0myy\u001b[0m\u001b[0;34m[\u001b[0m\u001b[0;34m'score'\u001b[0m\u001b[0;34m]\u001b[0m\u001b[0;34m==\u001b[0m\u001b[0myy\u001b[0m\u001b[0;34m[\u001b[0m\u001b[0;34m'score'\u001b[0m\u001b[0;34m]\u001b[0m\u001b[0;34m.\u001b[0m\u001b[0mmax\u001b[0m\u001b[0;34m(\u001b[0m\u001b[0;34m)\u001b[0m\u001b[0;34m]\u001b[0m\u001b[0;34m[\u001b[0m\u001b[0;34m'model'\u001b[0m\u001b[0;34m]\u001b[0m\u001b[0;34m.\u001b[0m\u001b[0mvalues\u001b[0m\u001b[0;34m(\u001b[0m\u001b[0;34m)\u001b[0m\u001b[0;34m\u001b[0m\u001b[0;34m\u001b[0m\u001b[0m\n\u001b[0m",
      "\u001b[0;31mTypeError\u001b[0m: 'numpy.ndarray' object is not callable"
     ]
    }
   ],
   "source": []
  },
  {
   "cell_type": "code",
   "execution_count": null,
   "metadata": {},
   "outputs": [],
   "source": []
  },
  {
   "cell_type": "code",
   "execution_count": null,
   "metadata": {},
   "outputs": [],
   "source": [
    "df_result4['RMSE']=1/df_result4['RMSE']\n",
    "scaled_rmse = []\n",
    "for v in df_result4['RMSE']:\n",
    "    scaled_rmse.append(custom_scale(0.1,1.5,df_result4,'RMSE',v))\n",
    "scaled_rmse\n",
    "df_result4['RMSE'] = scaled_rmse"
   ]
  },
  {
   "cell_type": "code",
   "execution_count": null,
   "metadata": {},
   "outputs": [],
   "source": []
  },
  {
   "cell_type": "code",
   "execution_count": null,
   "metadata": {},
   "outputs": [],
   "source": []
  },
  {
   "cell_type": "code",
   "execution_count": null,
   "metadata": {},
   "outputs": [],
   "source": []
  },
  {
   "cell_type": "code",
   "execution_count": null,
   "metadata": {},
   "outputs": [],
   "source": []
  },
  {
   "cell_type": "code",
   "execution_count": null,
   "metadata": {},
   "outputs": [],
   "source": []
  },
  {
   "cell_type": "code",
   "execution_count": 222,
   "metadata": {},
   "outputs": [],
   "source": [
    "#for x in ['RMSE','MAE','MSE']:\n",
    "#    df_result[x]=pd.to_numeric(df_result[x])\n",
    "#    df_result[x]=np.log10(df_result[x] + 1)"
   ]
  },
  {
   "cell_type": "code",
   "execution_count": 235,
   "metadata": {},
   "outputs": [
    {
     "data": {
      "text/plain": [
       "(256, 256)"
      ]
     },
     "execution_count": 235,
     "metadata": {},
     "output_type": "execute_result"
    }
   ],
   "source": [
    "df_result.sort_values(['AUC','MAE','RMSE'],ascending=False).iloc[0][\"dnn_hidden_units\"]"
   ]
  },
  {
   "cell_type": "code",
   "execution_count": 239,
   "metadata": {},
   "outputs": [],
   "source": [
    "a = df_result.sort_values(['AUC','MAE','RMSE'],ascending=False).iloc[0][\"dnn_hidden_units\"]\n",
    "#best_dnn_hidden_units = int(str(a.values).split(\",\")[1][:-2])"
   ]
  },
  {
   "cell_type": "code",
   "execution_count": 268,
   "metadata": {},
   "outputs": [],
   "source": [
    "a = df_result[\"dnn_hidden_units\"][5]"
   ]
  },
  {
   "cell_type": "code",
   "execution_count": 269,
   "metadata": {},
   "outputs": [
    {
     "data": {
      "text/plain": [
       "'256'"
      ]
     },
     "execution_count": 269,
     "metadata": {},
     "output_type": "execute_result"
    }
   ],
   "source": [
    "str(a).split(\",\")[0].split(\"(\")[1]"
   ]
  },
  {
   "cell_type": "markdown",
   "metadata": {},
   "source": [
    "### 2) l2_reg_linear: float. L2 regularizer strength applied to wide part"
   ]
  },
  {
   "cell_type": "code",
   "execution_count": 272,
   "metadata": {},
   "outputs": [],
   "source": [
    "cols2 = ['l2_reg_linear','RMSE','MAE','MSE','AUC','score']\n",
    "df_result2 = pd.DataFrame(columns=cols2, index=range(len(param_rand['l2_reg_linear'])))    "
   ]
  },
  {
   "cell_type": "code",
   "execution_count": 274,
   "metadata": {
    "scrolled": true
   },
   "outputs": [
    {
     "name": "stdout",
     "output_type": "stream",
     "text": [
      "Train on 5535 samples, validate on 1384 samples\n",
      "Epoch 1/3\n",
      "5535/5535 - 11s - loss: 0.1636 - mean_squared_error: 0.1636 - val_loss: 0.0858 - val_mean_squared_error: 0.0858\n",
      "Epoch 2/3\n",
      "5535/5535 - 0s - loss: 0.0796 - mean_squared_error: 0.0795 - val_loss: 0.0836 - val_mean_squared_error: 0.0835\n",
      "Epoch 3/3\n",
      "5535/5535 - 0s - loss: 0.0754 - mean_squared_error: 0.0754 - val_loss: 0.0828 - val_mean_squared_error: 0.0827\n",
      "Train on 5535 samples, validate on 1384 samples\n",
      "Epoch 1/3\n",
      "5535/5535 - 11s - loss: 0.1796 - mean_squared_error: 0.1718 - val_loss: 0.1012 - val_mean_squared_error: 0.0903\n",
      "Epoch 2/3\n",
      "5535/5535 - 1s - loss: 0.0902 - mean_squared_error: 0.0810 - val_loss: 0.0895 - val_mean_squared_error: 0.0839\n",
      "Epoch 3/3\n",
      "5535/5535 - 1s - loss: 0.0790 - mean_squared_error: 0.0760 - val_loss: 0.0843 - val_mean_squared_error: 0.0832\n",
      "Train on 5535 samples, validate on 1384 samples\n",
      "Epoch 1/3\n",
      "5535/5535 - 6s - loss: 0.1790 - mean_squared_error: 0.1680 - val_loss: 0.1023 - val_mean_squared_error: 0.0877\n",
      "Epoch 2/3\n",
      "5535/5535 - 0s - loss: 0.0896 - mean_squared_error: 0.0802 - val_loss: 0.0869 - val_mean_squared_error: 0.0839\n",
      "Epoch 3/3\n",
      "5535/5535 - 0s - loss: 0.0762 - mean_squared_error: 0.0752 - val_loss: 0.0833 - val_mean_squared_error: 0.0830\n",
      "Train on 5535 samples, validate on 1384 samples\n",
      "Epoch 1/3\n",
      "5535/5535 - 7s - loss: 0.1840 - mean_squared_error: 0.1697 - val_loss: 0.1060 - val_mean_squared_error: 0.0892\n",
      "Epoch 2/3\n",
      "5535/5535 - 0s - loss: 0.0891 - mean_squared_error: 0.0806 - val_loss: 0.0853 - val_mean_squared_error: 0.0840\n",
      "Epoch 3/3\n",
      "5535/5535 - 0s - loss: 0.0763 - mean_squared_error: 0.0757 - val_loss: 0.0838 - val_mean_squared_error: 0.0833\n",
      "Train on 5535 samples, validate on 1384 samples\n",
      "Epoch 1/3\n",
      "5535/5535 - 7s - loss: 0.1868 - mean_squared_error: 0.1698 - val_loss: 0.1035 - val_mean_squared_error: 0.0872\n",
      "Epoch 2/3\n",
      "5535/5535 - 0s - loss: 0.0864 - mean_squared_error: 0.0799 - val_loss: 0.0843 - val_mean_squared_error: 0.0837\n",
      "Epoch 3/3\n",
      "5535/5535 - 0s - loss: 0.0750 - mean_squared_error: 0.0744 - val_loss: 0.0838 - val_mean_squared_error: 0.0834\n"
     ]
    }
   ],
   "source": [
    "for i,x in enumerate(param_rand['l2_reg_linear']):\n",
    "    model = WDL(linear_feature_columns, dnn_feature_columns, \n",
    "                dnn_hidden_units=(128,128),\n",
    "                l2_reg_linear=i,l2_reg_embedding=1e-5, l2_reg_dnn=0, init_std=0.0001, seed=1024,task='binary')\n",
    "\n",
    "    model.compile(\"adam\", \"mse\", metrics=['mse'])\n",
    "\n",
    "    history = model.fit(train_model_input, train[target].values,\n",
    "                            batch_size=256, epochs=3, verbose=2, validation_split=0.2, )\n",
    "    pred_ans = model.predict(test_model_input, batch_size=256)\n",
    "    \n",
    "    auc = roc_auc_score(test[target].values, pred_ans)\n",
    "    \n",
    "    df_result2.loc[i].l2_reg_linear = x\n",
    "    df_result2.loc[i].RMSE = np.round(math.sqrt(mean_squared_error(test[target].values, pred_ans)),3)\n",
    "    df_result2.loc[i].MAE = np.round(mean_absolute_error(test[target].values, pred_ans),3)\n",
    "    df_result2.loc[i].MSE = np.round(mean_squared_error(test[target].values, pred_ans),3)\n",
    "    df_result2.loc[i].AUC = np.round(auc,3)    \n",
    "    df_result2.iloc[i]['score']=(1/df_result.iloc[i]['RMSE'])*(1/df_result.iloc[i]['MAE'])*(2*df_result.iloc[i]['AUC'])"
   ]
  },
  {
   "cell_type": "code",
   "execution_count": 293,
   "metadata": {},
   "outputs": [
    {
     "data": {
      "text/html": [
       "<div>\n",
       "<style scoped>\n",
       "    .dataframe tbody tr th:only-of-type {\n",
       "        vertical-align: middle;\n",
       "    }\n",
       "\n",
       "    .dataframe tbody tr th {\n",
       "        vertical-align: top;\n",
       "    }\n",
       "\n",
       "    .dataframe thead th {\n",
       "        text-align: right;\n",
       "    }\n",
       "</style>\n",
       "<table border=\"1\" class=\"dataframe\">\n",
       "  <thead>\n",
       "    <tr style=\"text-align: right;\">\n",
       "      <th></th>\n",
       "      <th>l2_reg_linear</th>\n",
       "      <th>RMSE</th>\n",
       "      <th>MAE</th>\n",
       "      <th>MSE</th>\n",
       "      <th>AUC</th>\n",
       "      <th>score</th>\n",
       "    </tr>\n",
       "  </thead>\n",
       "  <tbody>\n",
       "    <tr>\n",
       "      <th>1</th>\n",
       "      <td>0.001</td>\n",
       "      <td>0.27</td>\n",
       "      <td>0.17</td>\n",
       "      <td>0.073</td>\n",
       "      <td>0.667</td>\n",
       "      <td>29.9387</td>\n",
       "    </tr>\n",
       "    <tr>\n",
       "      <th>3</th>\n",
       "      <td>1</td>\n",
       "      <td>0.271</td>\n",
       "      <td>0.174</td>\n",
       "      <td>0.074</td>\n",
       "      <td>0.662</td>\n",
       "      <td>29.0282</td>\n",
       "    </tr>\n",
       "    <tr>\n",
       "      <th>4</th>\n",
       "      <td>10</td>\n",
       "      <td>0.271</td>\n",
       "      <td>0.171</td>\n",
       "      <td>0.074</td>\n",
       "      <td>0.662</td>\n",
       "      <td>32.5026</td>\n",
       "    </tr>\n",
       "    <tr>\n",
       "      <th>0</th>\n",
       "      <td>1e-05</td>\n",
       "      <td>0.27</td>\n",
       "      <td>0.166</td>\n",
       "      <td>0.073</td>\n",
       "      <td>0.662</td>\n",
       "      <td>27.8108</td>\n",
       "    </tr>\n",
       "    <tr>\n",
       "      <th>2</th>\n",
       "      <td>0.1</td>\n",
       "      <td>0.271</td>\n",
       "      <td>0.171</td>\n",
       "      <td>0.073</td>\n",
       "      <td>0.656</td>\n",
       "      <td>28.8288</td>\n",
       "    </tr>\n",
       "  </tbody>\n",
       "</table>\n",
       "</div>"
      ],
      "text/plain": [
       "  l2_reg_linear   RMSE    MAE    MSE    AUC    score\n",
       "1         0.001   0.27   0.17  0.073  0.667  29.9387\n",
       "3             1  0.271  0.174  0.074  0.662  29.0282\n",
       "4            10  0.271  0.171  0.074  0.662  32.5026\n",
       "0         1e-05   0.27  0.166  0.073  0.662  27.8108\n",
       "2           0.1  0.271  0.171  0.073  0.656  28.8288"
      ]
     },
     "execution_count": 293,
     "metadata": {},
     "output_type": "execute_result"
    }
   ],
   "source": [
    "df_result2.sort_values(['AUC','MAE','RMSE'],ascending=False)"
   ]
  },
  {
   "cell_type": "code",
   "execution_count": 300,
   "metadata": {},
   "outputs": [
    {
     "data": {
      "text/plain": [
       "0.001"
      ]
     },
     "execution_count": 300,
     "metadata": {},
     "output_type": "execute_result"
    }
   ],
   "source": [
    "b=df_result2.sort_values(['AUC','MAE','RMSE'],ascending=False).iloc[0][\"l2_reg_linear\"]\n",
    "b"
   ]
  },
  {
   "cell_type": "markdown",
   "metadata": {},
   "source": [
    "### 3) l2_reg_embedding: float. L2 regularizer strength applied to embedding vector"
   ]
  },
  {
   "cell_type": "code",
   "execution_count": 296,
   "metadata": {},
   "outputs": [],
   "source": [
    "cols3 = ['l2_reg_embedding','RMSE','MAE','MSE','AUC','score']\n",
    "df_result3 = pd.DataFrame(columns=cols3, index=range(len(param_rand['l2_reg_embedding'])))    "
   ]
  },
  {
   "cell_type": "code",
   "execution_count": 297,
   "metadata": {
    "scrolled": true
   },
   "outputs": [
    {
     "name": "stdout",
     "output_type": "stream",
     "text": [
      "Train on 5535 samples, validate on 1384 samples\n",
      "Epoch 1/3\n",
      "5535/5535 - 11s - loss: 0.1787 - mean_squared_error: 0.1787 - val_loss: 0.1208 - val_mean_squared_error: 0.1208\n",
      "Epoch 2/3\n",
      "5535/5535 - 1s - loss: 0.0960 - mean_squared_error: 0.0959 - val_loss: 0.0873 - val_mean_squared_error: 0.0873\n",
      "Epoch 3/3\n",
      "5535/5535 - 0s - loss: 0.0789 - mean_squared_error: 0.0788 - val_loss: 0.0828 - val_mean_squared_error: 0.0828\n",
      "Train on 5535 samples, validate on 1384 samples\n",
      "Epoch 1/3\n",
      "5535/5535 - 10s - loss: 0.2043 - mean_squared_error: 0.1970 - val_loss: 0.1505 - val_mean_squared_error: 0.1494\n",
      "Epoch 2/3\n",
      "5535/5535 - 0s - loss: 0.1235 - mean_squared_error: 0.1228 - val_loss: 0.1076 - val_mean_squared_error: 0.1075\n",
      "Epoch 3/3\n",
      "5535/5535 - 0s - loss: 0.0950 - mean_squared_error: 0.0948 - val_loss: 0.0932 - val_mean_squared_error: 0.0931\n",
      "Train on 5535 samples, validate on 1384 samples\n",
      "Epoch 1/3\n",
      "5535/5535 - 14s - loss: 0.2070 - mean_squared_error: 0.1900 - val_loss: 0.1450 - val_mean_squared_error: 0.1409\n",
      "Epoch 2/3\n",
      "5535/5535 - 0s - loss: 0.1182 - mean_squared_error: 0.1161 - val_loss: 0.1032 - val_mean_squared_error: 0.1025\n",
      "Epoch 3/3\n",
      "5535/5535 - 0s - loss: 0.0915 - mean_squared_error: 0.0911 - val_loss: 0.0907 - val_mean_squared_error: 0.0905\n",
      "Train on 5535 samples, validate on 1384 samples\n",
      "Epoch 1/3\n",
      "5535/5535 - 24s - loss: 0.2206 - mean_squared_error: 0.1980 - val_loss: 0.1547 - val_mean_squared_error: 0.1505\n",
      "Epoch 2/3\n",
      "5535/5535 - 1s - loss: 0.1260 - mean_squared_error: 0.1240 - val_loss: 0.1090 - val_mean_squared_error: 0.1086\n",
      "Epoch 3/3\n",
      "5535/5535 - 1s - loss: 0.0961 - mean_squared_error: 0.0958 - val_loss: 0.0939 - val_mean_squared_error: 0.0938\n",
      "Train on 5535 samples, validate on 1384 samples\n",
      "Epoch 1/3\n",
      "5535/5535 - 22s - loss: 0.2280 - mean_squared_error: 0.1976 - val_loss: 0.1564 - val_mean_squared_error: 0.1504\n",
      "Epoch 2/3\n",
      "5535/5535 - 1s - loss: 0.1266 - mean_squared_error: 0.1239 - val_loss: 0.1088 - val_mean_squared_error: 0.1083\n",
      "Epoch 3/3\n",
      "5535/5535 - 1s - loss: 0.0961 - mean_squared_error: 0.0957 - val_loss: 0.0938 - val_mean_squared_error: 0.0936\n"
     ]
    }
   ],
   "source": [
    "for i,x in enumerate(param_rand['l2_reg_embedding']):\n",
    "    model = WDL(linear_feature_columns, dnn_feature_columns,\n",
    "                dnn_hidden_units=(2,2), \n",
    "                l2_reg_linear=b,\n",
    "                l2_reg_embedding=i, l2_reg_dnn=0, init_std=0.0001, seed=1024, task='binary')\n",
    "\n",
    "    model.compile(\"adam\", \"mse\", metrics=['mse'])\n",
    "\n",
    "    history = model.fit(train_model_input, train[target].values,\n",
    "                            batch_size=256, epochs=3, verbose=2, validation_split=0.2, )\n",
    "    pred_ans = model.predict(test_model_input, batch_size=256)\n",
    "    \n",
    "    auc = roc_auc_score(test[target].values, pred_ans)\n",
    "    \n",
    "    df_result3.loc[i].l2_reg_embedding = x\n",
    "    df_result3.loc[i].RMSE = np.round(math.sqrt(mean_squared_error(test[target].values, pred_ans)),3)\n",
    "    df_result3.loc[i].MAE = np.round(mean_absolute_error(test[target].values, pred_ans),3)\n",
    "    df_result3.loc[i].MSE = np.round(mean_squared_error(test[target].values, pred_ans),3)\n",
    "    df_result3.loc[i].AUC = np.round(auc,3)    \n",
    "    df_result3.iloc[i]['score']=(1/df_result.iloc[i]['RMSE'])*(1/df_result.iloc[i]['MAE'])*(2*df_result.iloc[i]['AUC'])"
   ]
  },
  {
   "cell_type": "code",
   "execution_count": 304,
   "metadata": {},
   "outputs": [
    {
     "data": {
      "text/html": [
       "<div>\n",
       "<style scoped>\n",
       "    .dataframe tbody tr th:only-of-type {\n",
       "        vertical-align: middle;\n",
       "    }\n",
       "\n",
       "    .dataframe tbody tr th {\n",
       "        vertical-align: top;\n",
       "    }\n",
       "\n",
       "    .dataframe thead th {\n",
       "        text-align: right;\n",
       "    }\n",
       "</style>\n",
       "<table border=\"1\" class=\"dataframe\">\n",
       "  <thead>\n",
       "    <tr style=\"text-align: right;\">\n",
       "      <th></th>\n",
       "      <th>l2_reg_embedding</th>\n",
       "      <th>RMSE</th>\n",
       "      <th>MAE</th>\n",
       "      <th>MSE</th>\n",
       "      <th>AUC</th>\n",
       "      <th>score</th>\n",
       "    </tr>\n",
       "  </thead>\n",
       "  <tbody>\n",
       "    <tr>\n",
       "      <th>0</th>\n",
       "      <td>1e-07</td>\n",
       "      <td>0.271</td>\n",
       "      <td>0.179</td>\n",
       "      <td>0.074</td>\n",
       "      <td>0.647</td>\n",
       "      <td>27.8108</td>\n",
       "    </tr>\n",
       "    <tr>\n",
       "      <th>2</th>\n",
       "      <td>0.001</td>\n",
       "      <td>0.288</td>\n",
       "      <td>0.231</td>\n",
       "      <td>0.083</td>\n",
       "      <td>0.645</td>\n",
       "      <td>28.8288</td>\n",
       "    </tr>\n",
       "    <tr>\n",
       "      <th>1</th>\n",
       "      <td>1e-05</td>\n",
       "      <td>0.293</td>\n",
       "      <td>0.243</td>\n",
       "      <td>0.086</td>\n",
       "      <td>0.643</td>\n",
       "      <td>29.9387</td>\n",
       "    </tr>\n",
       "    <tr>\n",
       "      <th>4</th>\n",
       "      <td>1</td>\n",
       "      <td>0.294</td>\n",
       "      <td>0.245</td>\n",
       "      <td>0.086</td>\n",
       "      <td>0.642</td>\n",
       "      <td>32.5026</td>\n",
       "    </tr>\n",
       "    <tr>\n",
       "      <th>3</th>\n",
       "      <td>0.1</td>\n",
       "      <td>0.294</td>\n",
       "      <td>0.245</td>\n",
       "      <td>0.086</td>\n",
       "      <td>0.64</td>\n",
       "      <td>29.0282</td>\n",
       "    </tr>\n",
       "  </tbody>\n",
       "</table>\n",
       "</div>"
      ],
      "text/plain": [
       "  l2_reg_embedding   RMSE    MAE    MSE    AUC    score\n",
       "0            1e-07  0.271  0.179  0.074  0.647  27.8108\n",
       "2            0.001  0.288  0.231  0.083  0.645  28.8288\n",
       "1            1e-05  0.293  0.243  0.086  0.643  29.9387\n",
       "4                1  0.294  0.245  0.086  0.642  32.5026\n",
       "3              0.1  0.294  0.245  0.086   0.64  29.0282"
      ]
     },
     "execution_count": 304,
     "metadata": {},
     "output_type": "execute_result"
    }
   ],
   "source": [
    "df_result3.sort_values(['AUC','MAE','RMSE'],ascending=False)"
   ]
  },
  {
   "cell_type": "code",
   "execution_count": 306,
   "metadata": {},
   "outputs": [
    {
     "data": {
      "text/plain": [
       "1e-07"
      ]
     },
     "execution_count": 306,
     "metadata": {},
     "output_type": "execute_result"
    }
   ],
   "source": [
    "c=df_result3.sort_values(['AUC','MAE','RMSE'],ascending=False).iloc[0][\"l2_reg_embedding\"]\n",
    "c"
   ]
  },
  {
   "cell_type": "code",
   "execution_count": 380,
   "metadata": {},
   "outputs": [
    {
     "data": {
      "text/plain": [
       "1"
      ]
     },
     "execution_count": 380,
     "metadata": {},
     "output_type": "execute_result"
    }
   ],
   "source": [
    "best_l2_reg_embedding"
   ]
  },
  {
   "cell_type": "markdown",
   "metadata": {},
   "source": [
    "### 4)l2_reg_dnn: float. L2 regularizer strength applied to DNN"
   ]
  },
  {
   "cell_type": "code",
   "execution_count": 37,
   "metadata": {},
   "outputs": [
    {
     "ename": "NameError",
     "evalue": "name 'param_rand' is not defined",
     "output_type": "error",
     "traceback": [
      "\u001b[0;31m---------------------------------------------------------------------------\u001b[0m",
      "\u001b[0;31mNameError\u001b[0m                                 Traceback (most recent call last)",
      "\u001b[0;32m<ipython-input-37-17215f444a46>\u001b[0m in \u001b[0;36m<module>\u001b[0;34m\u001b[0m\n\u001b[1;32m      1\u001b[0m \u001b[0mcols4\u001b[0m \u001b[0;34m=\u001b[0m \u001b[0;34m[\u001b[0m\u001b[0;34m'l2_reg_dnn'\u001b[0m\u001b[0;34m,\u001b[0m\u001b[0;34m'RMSE'\u001b[0m\u001b[0;34m,\u001b[0m\u001b[0;34m'MAE'\u001b[0m\u001b[0;34m,\u001b[0m\u001b[0;34m'MSE'\u001b[0m\u001b[0;34m,\u001b[0m\u001b[0;34m'AUC'\u001b[0m\u001b[0;34m,\u001b[0m\u001b[0;34m'score'\u001b[0m\u001b[0;34m]\u001b[0m\u001b[0;34m\u001b[0m\u001b[0;34m\u001b[0m\u001b[0m\n\u001b[0;32m----> 2\u001b[0;31m \u001b[0mdf_result4\u001b[0m \u001b[0;34m=\u001b[0m \u001b[0mpd\u001b[0m\u001b[0;34m.\u001b[0m\u001b[0mDataFrame\u001b[0m\u001b[0;34m(\u001b[0m\u001b[0mcolumns\u001b[0m\u001b[0;34m=\u001b[0m\u001b[0mcols4\u001b[0m\u001b[0;34m,\u001b[0m \u001b[0mindex\u001b[0m\u001b[0;34m=\u001b[0m\u001b[0mrange\u001b[0m\u001b[0;34m(\u001b[0m\u001b[0mlen\u001b[0m\u001b[0;34m(\u001b[0m\u001b[0mparam_rand\u001b[0m\u001b[0;34m[\u001b[0m\u001b[0;34m'l2_reg_dnn'\u001b[0m\u001b[0;34m]\u001b[0m\u001b[0;34m)\u001b[0m\u001b[0;34m)\u001b[0m\u001b[0;34m)\u001b[0m\u001b[0;34m\u001b[0m\u001b[0;34m\u001b[0m\u001b[0m\n\u001b[0m",
      "\u001b[0;31mNameError\u001b[0m: name 'param_rand' is not defined"
     ]
    }
   ],
   "source": [
    "cols4 = ['l2_reg_dnn','RMSE','MAE','MSE','AUC','score']\n",
    "df_result4 = pd.DataFrame(columns=cols4, index=range(len(param_rand['l2_reg_dnn'])))    "
   ]
  },
  {
   "cell_type": "code",
   "execution_count": null,
   "metadata": {
    "scrolled": true
   },
   "outputs": [],
   "source": [
    "for i,x in enumerate(param_rand['l2_reg_dnn']):\n",
    "    model = WDL(linear_feature_columns, dnn_feature_columns,\n",
    "                dnn_hidden_units=(2,2), \n",
    "                l2_reg_linear=0.001,\n",
    "                l2_reg_embedding=c, l2_reg_dnn=i, init_std=0.0001, seed=1024,task='binary')\n",
    "\n",
    "    model.compile(\"adam\", \"mse\", metrics=['mse'])\n",
    "\n",
    "    history = model.fit(train_model_input, train[target].values,\n",
    "                            batch_size=256, epochs=3, verbose=2, validation_split=0.2, )\n",
    "    pred_ans = model.predict(test_model_input, batch_size=256)\n",
    "    \n",
    "    auc = roc_auc_score(test[target].values, pred_ans)\n",
    "    \n",
    "    df_result4.loc[i].l2_reg_dnn = x\n",
    "    df_result4.loc[i].RMSE = np.round(math.sqrt(mean_squared_error(test[target].values, pred_ans)),3)\n",
    "    df_result4.loc[i].MAE = np.round(mean_absolute_error(test[target].values, pred_ans),3)\n",
    "    df_result4.loc[i].MSE = np.round(mean_squared_error(test[target].values, pred_ans),3)\n",
    "    df_result4.loc[i].AUC = np.round(auc,3)    \n",
    "    df_result4.iloc[i]['score']=(1/df_result.iloc[i]['RMSE'])*(1/df_result.iloc[i]['MAE'])*(2*df_result.iloc[i]['AUC'])"
   ]
  },
  {
   "cell_type": "code",
   "execution_count": 311,
   "metadata": {},
   "outputs": [
    {
     "data": {
      "text/html": [
       "<div>\n",
       "<style scoped>\n",
       "    .dataframe tbody tr th:only-of-type {\n",
       "        vertical-align: middle;\n",
       "    }\n",
       "\n",
       "    .dataframe tbody tr th {\n",
       "        vertical-align: top;\n",
       "    }\n",
       "\n",
       "    .dataframe thead th {\n",
       "        text-align: right;\n",
       "    }\n",
       "</style>\n",
       "<table border=\"1\" class=\"dataframe\">\n",
       "  <thead>\n",
       "    <tr style=\"text-align: right;\">\n",
       "      <th></th>\n",
       "      <th>l2_reg_dnn</th>\n",
       "      <th>RMSE</th>\n",
       "      <th>MAE</th>\n",
       "      <th>MSE</th>\n",
       "      <th>AUC</th>\n",
       "      <th>score</th>\n",
       "    </tr>\n",
       "  </thead>\n",
       "  <tbody>\n",
       "    <tr>\n",
       "      <th>0</th>\n",
       "      <td>0</td>\n",
       "      <td>0.274</td>\n",
       "      <td>0.193</td>\n",
       "      <td>0.075</td>\n",
       "      <td>0.647</td>\n",
       "      <td>27.8108</td>\n",
       "    </tr>\n",
       "    <tr>\n",
       "      <th>1</th>\n",
       "      <td>0.2</td>\n",
       "      <td>0.295</td>\n",
       "      <td>0.247</td>\n",
       "      <td>0.087</td>\n",
       "      <td>0.642</td>\n",
       "      <td>29.9387</td>\n",
       "    </tr>\n",
       "    <tr>\n",
       "      <th>2</th>\n",
       "      <td>2</td>\n",
       "      <td>0.285</td>\n",
       "      <td>0.227</td>\n",
       "      <td>0.081</td>\n",
       "      <td>0.645</td>\n",
       "      <td>28.8288</td>\n",
       "    </tr>\n",
       "    <tr>\n",
       "      <th>3</th>\n",
       "      <td>4</td>\n",
       "      <td>0.295</td>\n",
       "      <td>0.248</td>\n",
       "      <td>0.087</td>\n",
       "      <td>0.646</td>\n",
       "      <td>29.0282</td>\n",
       "    </tr>\n",
       "  </tbody>\n",
       "</table>\n",
       "</div>"
      ],
      "text/plain": [
       "  l2_reg_dnn   RMSE    MAE    MSE    AUC    score\n",
       "0          0  0.274  0.193  0.075  0.647  27.8108\n",
       "1        0.2  0.295  0.247  0.087  0.642  29.9387\n",
       "2          2  0.285  0.227  0.081  0.645  28.8288\n",
       "3          4  0.295  0.248  0.087  0.646  29.0282"
      ]
     },
     "execution_count": 311,
     "metadata": {},
     "output_type": "execute_result"
    }
   ],
   "source": [
    "df_result4"
   ]
  },
  {
   "cell_type": "code",
   "execution_count": null,
   "metadata": {},
   "outputs": [],
   "source": [
    "d=df_result4.sort_values(['AUC','MAE','RMSE'],ascending=False).iloc[0][\"l2_reg_dnn\"]\n",
    "d"
   ]
  },
  {
   "cell_type": "code",
   "execution_count": 393,
   "metadata": {},
   "outputs": [
    {
     "data": {
      "text/html": [
       "<div>\n",
       "<style scoped>\n",
       "    .dataframe tbody tr th:only-of-type {\n",
       "        vertical-align: middle;\n",
       "    }\n",
       "\n",
       "    .dataframe tbody tr th {\n",
       "        vertical-align: top;\n",
       "    }\n",
       "\n",
       "    .dataframe thead th {\n",
       "        text-align: right;\n",
       "    }\n",
       "</style>\n",
       "<table border=\"1\" class=\"dataframe\">\n",
       "  <thead>\n",
       "    <tr style=\"text-align: right;\">\n",
       "      <th></th>\n",
       "      <th>l2_reg_embedding</th>\n",
       "      <th>RMSE</th>\n",
       "      <th>MAE</th>\n",
       "      <th>MSE</th>\n",
       "      <th>AUC</th>\n",
       "      <th>score</th>\n",
       "    </tr>\n",
       "  </thead>\n",
       "  <tbody>\n",
       "    <tr>\n",
       "      <th>0</th>\n",
       "      <td>1e-07</td>\n",
       "      <td>0.271</td>\n",
       "      <td>0.179</td>\n",
       "      <td>0.074</td>\n",
       "      <td>0.647</td>\n",
       "      <td>27.8108</td>\n",
       "    </tr>\n",
       "    <tr>\n",
       "      <th>1</th>\n",
       "      <td>1e-05</td>\n",
       "      <td>0.293</td>\n",
       "      <td>0.243</td>\n",
       "      <td>0.086</td>\n",
       "      <td>0.643</td>\n",
       "      <td>29.9387</td>\n",
       "    </tr>\n",
       "    <tr>\n",
       "      <th>2</th>\n",
       "      <td>0.001</td>\n",
       "      <td>0.288</td>\n",
       "      <td>0.231</td>\n",
       "      <td>0.083</td>\n",
       "      <td>0.645</td>\n",
       "      <td>28.8288</td>\n",
       "    </tr>\n",
       "    <tr>\n",
       "      <th>3</th>\n",
       "      <td>0.1</td>\n",
       "      <td>0.294</td>\n",
       "      <td>0.245</td>\n",
       "      <td>0.086</td>\n",
       "      <td>0.64</td>\n",
       "      <td>29.0282</td>\n",
       "    </tr>\n",
       "    <tr>\n",
       "      <th>4</th>\n",
       "      <td>1</td>\n",
       "      <td>0.294</td>\n",
       "      <td>0.245</td>\n",
       "      <td>0.086</td>\n",
       "      <td>0.642</td>\n",
       "      <td>32.5026</td>\n",
       "    </tr>\n",
       "  </tbody>\n",
       "</table>\n",
       "</div>"
      ],
      "text/plain": [
       "  l2_reg_embedding   RMSE    MAE    MSE    AUC    score\n",
       "0            1e-07  0.271  0.179  0.074  0.647  27.8108\n",
       "1            1e-05  0.293  0.243  0.086  0.643  29.9387\n",
       "2            0.001  0.288  0.231  0.083  0.645  28.8288\n",
       "3              0.1  0.294  0.245  0.086   0.64  29.0282\n",
       "4                1  0.294  0.245  0.086  0.642  32.5026"
      ]
     },
     "execution_count": 393,
     "metadata": {},
     "output_type": "execute_result"
    }
   ],
   "source": [
    "df_result3"
   ]
  },
  {
   "cell_type": "code",
   "execution_count": 409,
   "metadata": {},
   "outputs": [],
   "source": [
    "def custom_scale(min_new,max_new,df,metric,v):\n",
    "    max_old = df[metric].max()\n",
    "    min_old = df[metric].min()\n",
    "    result= (max_new - min_new)/(max_old-min_old) * (v - max_old) + max_new\n",
    "    return result\n"
   ]
  },
  {
   "cell_type": "code",
   "execution_count": 439,
   "metadata": {},
   "outputs": [],
   "source": [
    "df_result4['RMSE']=1/df_result4['RMSE']\n",
    "scaled_rmse = []\n",
    "for v in df_result4['RMSE']:\n",
    "    scaled_rmse.append(custom_scale(0.1,1.5,df_result4,'RMSE',v))\n",
    "scaled_rmse\n",
    "df_result4['RMSE'] = scaled_rmse"
   ]
  },
  {
   "cell_type": "code",
   "execution_count": 440,
   "metadata": {},
   "outputs": [],
   "source": [
    "scaled_rmse = []\n",
    "for v in df_result4['AUC']:\n",
    "    scaled_rmse.append(custom_scale(0.1,1.5,df_result4,'AUC',v))\n",
    "scaled_rmse\n",
    "df_result4['AUC'] = scaled_rmse"
   ]
  },
  {
   "cell_type": "code",
   "execution_count": 441,
   "metadata": {},
   "outputs": [],
   "source": [
    "df_result4['MAE']=1/df_result4['MAE']\n",
    "scaled_rmse = []\n",
    "for v in df_result4['MAE']:\n",
    "    scaled_rmse.append(custom_scale(0.1,1.5,df_result4,'MAE',v))\n",
    "scaled_rmse\n",
    "df_result4['MAE'] = scaled_rmse"
   ]
  },
  {
   "cell_type": "code",
   "execution_count": 442,
   "metadata": {},
   "outputs": [
    {
     "name": "stderr",
     "output_type": "stream",
     "text": [
      "/Users/yas/opt/anaconda3/lib/python3.7/site-packages/ipykernel_launcher.py:2: SettingWithCopyWarning: \n",
      "A value is trying to be set on a copy of a slice from a DataFrame\n",
      "\n",
      "See the caveats in the documentation: https://pandas.pydata.org/pandas-docs/stable/user_guide/indexing.html#returning-a-view-versus-a-copy\n",
      "  \n",
      "/Users/yas/opt/anaconda3/lib/python3.7/site-packages/pandas/core/indexing.py:671: SettingWithCopyWarning: \n",
      "A value is trying to be set on a copy of a slice from a DataFrame\n",
      "\n",
      "See the caveats in the documentation: https://pandas.pydata.org/pandas-docs/stable/user_guide/indexing.html#returning-a-view-versus-a-copy\n",
      "  self._setitem_with_indexer(indexer, value)\n"
     ]
    }
   ],
   "source": [
    "for i in range(len(df_result4)):\n",
    "    df_result4.iloc[i]['score2']=(df_result.iloc[i]['RMSE'])*(df_result.iloc[i]['MAE'])*(2*df_result.iloc[i]['AUC'])"
   ]
  },
  {
   "cell_type": "code",
   "execution_count": 443,
   "metadata": {},
   "outputs": [
    {
     "data": {
      "text/plain": [
       "6.75"
      ]
     },
     "execution_count": 443,
     "metadata": {},
     "output_type": "execute_result"
    }
   ],
   "source": []
  },
  {
   "cell_type": "markdown",
   "metadata": {},
   "source": [
    "### 5) dnn_dropout: float in [0,1), the probability we will drop out a given DNN coordinate.\n",
    "#### dnn_activation: Activation function to use in DNN"
   ]
  },
  {
   "cell_type": "code",
   "execution_count": 339,
   "metadata": {},
   "outputs": [],
   "source": [
    "cols5 = ['dnn_dropout','RMSE','MAE','MSE','AUC','score']\n",
    "df_result5 = pd.DataFrame(columns=cols4, index=range(len(param_rand['dnn_dropout'])))    "
   ]
  },
  {
   "cell_type": "code",
   "execution_count": 341,
   "metadata": {
    "scrolled": true
   },
   "outputs": [
    {
     "name": "stdout",
     "output_type": "stream",
     "text": [
      "Train on 5535 samples, validate on 1384 samples\n",
      "Epoch 1/2\n",
      "5535/5535 - 25s - loss: 0.1968 - mean_squared_error: 0.1968 - val_loss: 0.1486 - val_mean_squared_error: 0.1485\n",
      "Epoch 2/2\n",
      "5535/5535 - 1s - loss: 0.1221 - mean_squared_error: 0.1221 - val_loss: 0.1069 - val_mean_squared_error: 0.1069\n",
      "Train on 5535 samples, validate on 1384 samples\n",
      "Epoch 1/2\n",
      "5535/5535 - 23s - loss: 0.1967 - mean_squared_error: 0.1967 - val_loss: 0.1489 - val_mean_squared_error: 0.1489\n",
      "Epoch 2/2\n",
      "5535/5535 - 1s - loss: 0.1223 - mean_squared_error: 0.1223 - val_loss: 0.1072 - val_mean_squared_error: 0.1072\n"
     ]
    },
    {
     "ename": "KeyboardInterrupt",
     "evalue": "",
     "output_type": "error",
     "traceback": [
      "\u001b[0;31m---------------------------------------------------------------------------\u001b[0m",
      "\u001b[0;31mKeyboardInterrupt\u001b[0m                         Traceback (most recent call last)",
      "\u001b[0;32m<ipython-input-341-54320c2e11d5>\u001b[0m in \u001b[0;36m<module>\u001b[0;34m\u001b[0m\n\u001b[1;32m      7\u001b[0m     history = model.fit(train_model_input, train[target].values,\n\u001b[1;32m      8\u001b[0m                             batch_size=256, epochs=2, verbose=2, validation_split=0.2, )\n\u001b[0;32m----> 9\u001b[0;31m     \u001b[0mpred_ans\u001b[0m \u001b[0;34m=\u001b[0m \u001b[0mmodel\u001b[0m\u001b[0;34m.\u001b[0m\u001b[0mpredict\u001b[0m\u001b[0;34m(\u001b[0m\u001b[0mtest_model_input\u001b[0m\u001b[0;34m,\u001b[0m \u001b[0mbatch_size\u001b[0m\u001b[0;34m=\u001b[0m\u001b[0;36m256\u001b[0m\u001b[0;34m)\u001b[0m\u001b[0;34m\u001b[0m\u001b[0;34m\u001b[0m\u001b[0m\n\u001b[0m\u001b[1;32m     10\u001b[0m \u001b[0;34m\u001b[0m\u001b[0m\n\u001b[1;32m     11\u001b[0m     \u001b[0mauc\u001b[0m \u001b[0;34m=\u001b[0m \u001b[0mroc_auc_score\u001b[0m\u001b[0;34m(\u001b[0m\u001b[0mtest\u001b[0m\u001b[0;34m[\u001b[0m\u001b[0mtarget\u001b[0m\u001b[0;34m]\u001b[0m\u001b[0;34m.\u001b[0m\u001b[0mvalues\u001b[0m\u001b[0;34m,\u001b[0m \u001b[0mpred_ans\u001b[0m\u001b[0;34m)\u001b[0m\u001b[0;34m\u001b[0m\u001b[0;34m\u001b[0m\u001b[0m\n",
      "\u001b[0;32m~/opt/anaconda3/lib/python3.7/site-packages/tensorflow_core/python/keras/engine/training.py\u001b[0m in \u001b[0;36mpredict\u001b[0;34m(self, x, batch_size, verbose, steps, callbacks, max_queue_size, workers, use_multiprocessing)\u001b[0m\n\u001b[1;32m    906\u001b[0m         \u001b[0mmax_queue_size\u001b[0m\u001b[0;34m=\u001b[0m\u001b[0mmax_queue_size\u001b[0m\u001b[0;34m,\u001b[0m\u001b[0;34m\u001b[0m\u001b[0;34m\u001b[0m\u001b[0m\n\u001b[1;32m    907\u001b[0m         \u001b[0mworkers\u001b[0m\u001b[0;34m=\u001b[0m\u001b[0mworkers\u001b[0m\u001b[0;34m,\u001b[0m\u001b[0;34m\u001b[0m\u001b[0;34m\u001b[0m\u001b[0m\n\u001b[0;32m--> 908\u001b[0;31m         use_multiprocessing=use_multiprocessing)\n\u001b[0m\u001b[1;32m    909\u001b[0m \u001b[0;34m\u001b[0m\u001b[0m\n\u001b[1;32m    910\u001b[0m   \u001b[0;32mdef\u001b[0m \u001b[0mreset_metrics\u001b[0m\u001b[0;34m(\u001b[0m\u001b[0mself\u001b[0m\u001b[0;34m)\u001b[0m\u001b[0;34m:\u001b[0m\u001b[0;34m\u001b[0m\u001b[0;34m\u001b[0m\u001b[0m\n",
      "\u001b[0;32m~/opt/anaconda3/lib/python3.7/site-packages/tensorflow_core/python/keras/engine/training_arrays.py\u001b[0m in \u001b[0;36mpredict\u001b[0;34m(self, model, x, batch_size, verbose, steps, callbacks, **kwargs)\u001b[0m\n\u001b[1;32m    721\u001b[0m         \u001b[0mverbose\u001b[0m\u001b[0;34m=\u001b[0m\u001b[0mverbose\u001b[0m\u001b[0;34m,\u001b[0m\u001b[0;34m\u001b[0m\u001b[0;34m\u001b[0m\u001b[0m\n\u001b[1;32m    722\u001b[0m         \u001b[0msteps\u001b[0m\u001b[0;34m=\u001b[0m\u001b[0msteps\u001b[0m\u001b[0;34m,\u001b[0m\u001b[0;34m\u001b[0m\u001b[0;34m\u001b[0m\u001b[0m\n\u001b[0;32m--> 723\u001b[0;31m         callbacks=callbacks)\n\u001b[0m",
      "\u001b[0;32m~/opt/anaconda3/lib/python3.7/site-packages/tensorflow_core/python/keras/engine/training_arrays.py\u001b[0m in \u001b[0;36mmodel_iteration\u001b[0;34m(model, inputs, targets, sample_weights, batch_size, epochs, verbose, callbacks, val_inputs, val_targets, val_sample_weights, shuffle, initial_epoch, steps_per_epoch, validation_steps, validation_freq, mode, validation_in_fit, prepared_feed_values_from_dataset, steps_name, **kwargs)\u001b[0m\n\u001b[1;32m    392\u001b[0m \u001b[0;34m\u001b[0m\u001b[0m\n\u001b[1;32m    393\u001b[0m         \u001b[0;31m# Get outputs.\u001b[0m\u001b[0;34m\u001b[0m\u001b[0;34m\u001b[0m\u001b[0;34m\u001b[0m\u001b[0m\n\u001b[0;32m--> 394\u001b[0;31m         \u001b[0mbatch_outs\u001b[0m \u001b[0;34m=\u001b[0m \u001b[0mf\u001b[0m\u001b[0;34m(\u001b[0m\u001b[0mins_batch\u001b[0m\u001b[0;34m)\u001b[0m\u001b[0;34m\u001b[0m\u001b[0;34m\u001b[0m\u001b[0m\n\u001b[0m\u001b[1;32m    395\u001b[0m         \u001b[0;32mif\u001b[0m \u001b[0;32mnot\u001b[0m \u001b[0misinstance\u001b[0m\u001b[0;34m(\u001b[0m\u001b[0mbatch_outs\u001b[0m\u001b[0;34m,\u001b[0m \u001b[0mlist\u001b[0m\u001b[0;34m)\u001b[0m\u001b[0;34m:\u001b[0m\u001b[0;34m\u001b[0m\u001b[0;34m\u001b[0m\u001b[0m\n\u001b[1;32m    396\u001b[0m           \u001b[0mbatch_outs\u001b[0m \u001b[0;34m=\u001b[0m \u001b[0;34m[\u001b[0m\u001b[0mbatch_outs\u001b[0m\u001b[0;34m]\u001b[0m\u001b[0;34m\u001b[0m\u001b[0;34m\u001b[0m\u001b[0m\n",
      "\u001b[0;32m~/opt/anaconda3/lib/python3.7/site-packages/tensorflow_core/python/keras/backend.py\u001b[0m in \u001b[0;36m__call__\u001b[0;34m(self, inputs)\u001b[0m\n\u001b[1;32m   3471\u001b[0m         \u001b[0mfeed_symbols\u001b[0m \u001b[0;34m!=\u001b[0m \u001b[0mself\u001b[0m\u001b[0;34m.\u001b[0m\u001b[0m_feed_symbols\u001b[0m \u001b[0;32mor\u001b[0m \u001b[0mself\u001b[0m\u001b[0;34m.\u001b[0m\u001b[0mfetches\u001b[0m \u001b[0;34m!=\u001b[0m \u001b[0mself\u001b[0m\u001b[0;34m.\u001b[0m\u001b[0m_fetches\u001b[0m \u001b[0;32mor\u001b[0m\u001b[0;34m\u001b[0m\u001b[0;34m\u001b[0m\u001b[0m\n\u001b[1;32m   3472\u001b[0m         session != self._session):\n\u001b[0;32m-> 3473\u001b[0;31m       \u001b[0mself\u001b[0m\u001b[0;34m.\u001b[0m\u001b[0m_make_callable\u001b[0m\u001b[0;34m(\u001b[0m\u001b[0mfeed_arrays\u001b[0m\u001b[0;34m,\u001b[0m \u001b[0mfeed_symbols\u001b[0m\u001b[0;34m,\u001b[0m \u001b[0msymbol_vals\u001b[0m\u001b[0;34m,\u001b[0m \u001b[0msession\u001b[0m\u001b[0;34m)\u001b[0m\u001b[0;34m\u001b[0m\u001b[0;34m\u001b[0m\u001b[0m\n\u001b[0m\u001b[1;32m   3474\u001b[0m \u001b[0;34m\u001b[0m\u001b[0m\n\u001b[1;32m   3475\u001b[0m     fetched = self._callable_fn(*array_vals,\n",
      "\u001b[0;32m~/opt/anaconda3/lib/python3.7/site-packages/tensorflow_core/python/keras/backend.py\u001b[0m in \u001b[0;36m_make_callable\u001b[0;34m(self, feed_arrays, feed_symbols, symbol_vals, session)\u001b[0m\n\u001b[1;32m   3408\u001b[0m       \u001b[0mcallable_opts\u001b[0m\u001b[0;34m.\u001b[0m\u001b[0mrun_options\u001b[0m\u001b[0;34m.\u001b[0m\u001b[0mCopyFrom\u001b[0m\u001b[0;34m(\u001b[0m\u001b[0mself\u001b[0m\u001b[0;34m.\u001b[0m\u001b[0mrun_options\u001b[0m\u001b[0;34m)\u001b[0m\u001b[0;34m\u001b[0m\u001b[0;34m\u001b[0m\u001b[0m\n\u001b[1;32m   3409\u001b[0m     \u001b[0;31m# Create callable.\u001b[0m\u001b[0;34m\u001b[0m\u001b[0;34m\u001b[0m\u001b[0;34m\u001b[0m\u001b[0m\n\u001b[0;32m-> 3410\u001b[0;31m     \u001b[0mcallable_fn\u001b[0m \u001b[0;34m=\u001b[0m \u001b[0msession\u001b[0m\u001b[0;34m.\u001b[0m\u001b[0m_make_callable_from_options\u001b[0m\u001b[0;34m(\u001b[0m\u001b[0mcallable_opts\u001b[0m\u001b[0;34m)\u001b[0m\u001b[0;34m\u001b[0m\u001b[0;34m\u001b[0m\u001b[0m\n\u001b[0m\u001b[1;32m   3411\u001b[0m     \u001b[0;31m# Cache parameters corresponding to the generated callable, so that\u001b[0m\u001b[0;34m\u001b[0m\u001b[0;34m\u001b[0m\u001b[0;34m\u001b[0m\u001b[0m\n\u001b[1;32m   3412\u001b[0m     \u001b[0;31m# we can detect future mismatches and refresh the callable.\u001b[0m\u001b[0;34m\u001b[0m\u001b[0;34m\u001b[0m\u001b[0;34m\u001b[0m\u001b[0m\n",
      "\u001b[0;32m~/opt/anaconda3/lib/python3.7/site-packages/tensorflow_core/python/client/session.py\u001b[0m in \u001b[0;36m_make_callable_from_options\u001b[0;34m(self, callable_options)\u001b[0m\n\u001b[1;32m   1503\u001b[0m     \"\"\"\n\u001b[1;32m   1504\u001b[0m     \u001b[0mself\u001b[0m\u001b[0;34m.\u001b[0m\u001b[0m_extend_graph\u001b[0m\u001b[0;34m(\u001b[0m\u001b[0;34m)\u001b[0m\u001b[0;34m\u001b[0m\u001b[0;34m\u001b[0m\u001b[0m\n\u001b[0;32m-> 1505\u001b[0;31m     \u001b[0;32mreturn\u001b[0m \u001b[0mBaseSession\u001b[0m\u001b[0;34m.\u001b[0m\u001b[0m_Callable\u001b[0m\u001b[0;34m(\u001b[0m\u001b[0mself\u001b[0m\u001b[0;34m,\u001b[0m \u001b[0mcallable_options\u001b[0m\u001b[0;34m)\u001b[0m\u001b[0;34m\u001b[0m\u001b[0;34m\u001b[0m\u001b[0m\n\u001b[0m\u001b[1;32m   1506\u001b[0m \u001b[0;34m\u001b[0m\u001b[0m\n\u001b[1;32m   1507\u001b[0m \u001b[0;34m\u001b[0m\u001b[0m\n",
      "\u001b[0;32m~/opt/anaconda3/lib/python3.7/site-packages/tensorflow_core/python/client/session.py\u001b[0m in \u001b[0;36m__init__\u001b[0;34m(self, session, callable_options)\u001b[0m\n\u001b[1;32m   1458\u001b[0m       \u001b[0;32mtry\u001b[0m\u001b[0;34m:\u001b[0m\u001b[0;34m\u001b[0m\u001b[0;34m\u001b[0m\u001b[0m\n\u001b[1;32m   1459\u001b[0m         self._handle = tf_session.TF_SessionMakeCallable(\n\u001b[0;32m-> 1460\u001b[0;31m             session._session, options_ptr)\n\u001b[0m\u001b[1;32m   1461\u001b[0m       \u001b[0;32mfinally\u001b[0m\u001b[0;34m:\u001b[0m\u001b[0;34m\u001b[0m\u001b[0;34m\u001b[0m\u001b[0m\n\u001b[1;32m   1462\u001b[0m         \u001b[0mtf_session\u001b[0m\u001b[0;34m.\u001b[0m\u001b[0mTF_DeleteBuffer\u001b[0m\u001b[0;34m(\u001b[0m\u001b[0moptions_ptr\u001b[0m\u001b[0;34m)\u001b[0m\u001b[0;34m\u001b[0m\u001b[0;34m\u001b[0m\u001b[0m\n",
      "\u001b[0;31mKeyboardInterrupt\u001b[0m: "
     ]
    }
   ],
   "source": [
    "for i,x in enumerate(param_rand['dnn_dropout']):\n",
    "    model = WDL(linear_feature_columns, dnn_feature_columns, dnn_hidden_units=(2,2)\n",
    "                , init_std=0.0001, seed=1024, dnn_dropout=x, dnn_activation='relu',task='binary')\n",
    "\n",
    "    model.compile(\"adam\", \"mse\", metrics=['mse'])\n",
    "\n",
    "    history = model.fit(train_model_input, train[target].values,\n",
    "                            batch_size=256, epochs=2, verbose=2, validation_split=0.2, )\n",
    "    pred_ans = model.predict(test_model_input, batch_size=256)\n",
    "    \n",
    "    auc = roc_auc_score(test[target].values, pred_ans)\n",
    "\n",
    "    \n",
    "    df_result5.loc[i].dnn_dropout = x\n",
    "    df_result5.loc[i].RMSE = np.round(math.sqrt(mean_squared_error(test[target].values, pred_ans)),3)\n",
    "    df_result5.loc[i].MAE = np.round(mean_absolute_error(test[target].values, pred_ans),3)\n",
    "    df_result5.loc[i].MSE = np.round(mean_squared_error(test[target].values, pred_ans),3)\n",
    "    df_result5.loc[i].AUC = np.round(auc,3) "
   ]
  },
  {
   "cell_type": "code",
   "execution_count": 320,
   "metadata": {},
   "outputs": [
    {
     "data": {
      "text/plain": [
       "{0: {'RMSE': 0.274, 'MAE': 0.165, 'MSE': 0.075, 'AUC': 0.671},\n",
       " 0.2: {'RMSE': 0.272, 'MAE': 0.165, 'MSE': 0.074, 'AUC': 0.669},\n",
       " 0.4: {'RMSE': 0.271, 'MAE': 0.177, 'MSE': 0.074, 'AUC': 0.669},\n",
       " 0.6: {'RMSE': 0.271, 'MAE': 0.177, 'MSE': 0.074, 'AUC': 0.67},\n",
       " 0.8: {'RMSE': 0.271, 'MAE': 0.176, 'MSE': 0.073, 'AUC': 0.671}}"
      ]
     },
     "execution_count": 320,
     "metadata": {},
     "output_type": "execute_result"
    }
   ],
   "source": [
    "dnn_dropout_dict"
   ]
  },
  {
   "cell_type": "code",
   "execution_count": 332,
   "metadata": {},
   "outputs": [],
   "source": [
    "ttt = pd.DataFrame.from_dict(dnn_dropout_dict)"
   ]
  },
  {
   "cell_type": "code",
   "execution_count": 333,
   "metadata": {},
   "outputs": [
    {
     "data": {
      "text/html": [
       "<div>\n",
       "<style scoped>\n",
       "    .dataframe tbody tr th:only-of-type {\n",
       "        vertical-align: middle;\n",
       "    }\n",
       "\n",
       "    .dataframe tbody tr th {\n",
       "        vertical-align: top;\n",
       "    }\n",
       "\n",
       "    .dataframe thead th {\n",
       "        text-align: right;\n",
       "    }\n",
       "</style>\n",
       "<table border=\"1\" class=\"dataframe\">\n",
       "  <thead>\n",
       "    <tr style=\"text-align: right;\">\n",
       "      <th></th>\n",
       "      <th>0.0</th>\n",
       "      <th>0.2</th>\n",
       "      <th>0.4</th>\n",
       "      <th>0.6</th>\n",
       "      <th>0.8</th>\n",
       "    </tr>\n",
       "  </thead>\n",
       "  <tbody>\n",
       "    <tr>\n",
       "      <th>RMSE</th>\n",
       "      <td>0.274</td>\n",
       "      <td>0.272</td>\n",
       "      <td>0.271</td>\n",
       "      <td>0.271</td>\n",
       "      <td>0.271</td>\n",
       "    </tr>\n",
       "    <tr>\n",
       "      <th>MAE</th>\n",
       "      <td>0.165</td>\n",
       "      <td>0.165</td>\n",
       "      <td>0.177</td>\n",
       "      <td>0.177</td>\n",
       "      <td>0.176</td>\n",
       "    </tr>\n",
       "    <tr>\n",
       "      <th>MSE</th>\n",
       "      <td>0.075</td>\n",
       "      <td>0.074</td>\n",
       "      <td>0.074</td>\n",
       "      <td>0.074</td>\n",
       "      <td>0.073</td>\n",
       "    </tr>\n",
       "    <tr>\n",
       "      <th>AUC</th>\n",
       "      <td>0.671</td>\n",
       "      <td>0.669</td>\n",
       "      <td>0.669</td>\n",
       "      <td>0.670</td>\n",
       "      <td>0.671</td>\n",
       "    </tr>\n",
       "  </tbody>\n",
       "</table>\n",
       "</div>"
      ],
      "text/plain": [
       "        0.0    0.2    0.4    0.6    0.8\n",
       "RMSE  0.274  0.272  0.271  0.271  0.271\n",
       "MAE   0.165  0.165  0.177  0.177  0.176\n",
       "MSE   0.075  0.074  0.074  0.074  0.073\n",
       "AUC   0.671  0.669  0.669  0.670  0.671"
      ]
     },
     "execution_count": 333,
     "metadata": {},
     "output_type": "execute_result"
    }
   ],
   "source": [
    "ttt"
   ]
  },
  {
   "cell_type": "code",
   "execution_count": 338,
   "metadata": {},
   "outputs": [
    {
     "data": {
      "text/plain": [
       "0.671"
      ]
     },
     "execution_count": 338,
     "metadata": {},
     "output_type": "execute_result"
    }
   ],
   "source": [
    "ttt.loc['AUC'].max()"
   ]
  },
  {
   "cell_type": "code",
   "execution_count": 318,
   "metadata": {},
   "outputs": [
    {
     "name": "stdout",
     "output_type": "stream",
     "text": [
      "Train on 5535 samples, validate on 1384 samples\n",
      "Epoch 1/3\n",
      "5535/5535 - 14s - loss: 0.1986 - mean_squared_error: 0.1986 - val_loss: 0.1508 - val_mean_squared_error: 0.1508\n",
      "Epoch 2/3\n",
      "5535/5535 - 1s - loss: 0.1246 - mean_squared_error: 0.1245 - val_loss: 0.1087 - val_mean_squared_error: 0.1087\n",
      "Epoch 3/3\n",
      "5535/5535 - 1s - loss: 0.0960 - mean_squared_error: 0.0959 - val_loss: 0.0939 - val_mean_squared_error: 0.0939\n"
     ]
    },
    {
     "ename": "ValueError",
     "evalue": "in converted code:\n    relative to /Users/yas/opt/anaconda3/lib/python3.7/site-packages:\n\n    deepctr/layers/core.py:190 call  *\n        fc = self.dropout_layers[i](fc, training=training)\n    tensorflow_core/python/keras/engine/base_layer.py:854 __call__\n        outputs = call_fn(cast_inputs, *args, **kwargs)\n    tensorflow_core/python/keras/layers/core.py:166 call\n        lambda: array_ops.identity(inputs))\n    tensorflow_core/python/keras/utils/tf_utils.py:59 smart_cond\n        pred, true_fn=true_fn, false_fn=false_fn, name=name)\n    tensorflow_core/python/framework/smart_cond.py:59 smart_cond\n        name=name)\n    tensorflow_core/python/util/deprecation.py:507 new_func\n        return func(*args, **kwargs)\n    tensorflow_core/python/ops/control_flow_ops.py:1224 cond\n        orig_res_t, res_t = context_t.BuildCondBranch(true_fn)\n    tensorflow_core/python/ops/control_flow_ops.py:1061 BuildCondBranch\n        original_result = fn()\n    tensorflow_core/python/keras/layers/core.py:162 dropped_inputs\n        rate=self.rate)\n    tensorflow_core/python/util/deprecation.py:507 new_func\n        return func(*args, **kwargs)\n    tensorflow_core/python/ops/nn_ops.py:4229 dropout\n        return dropout_v2(x, rate, noise_shape=noise_shape, seed=seed, name=name)\n    tensorflow_core/python/ops/nn_ops.py:4278 dropout_v2\n        \"range [0, 1), got %g\" % rate)\n\n    ValueError: rate must be a scalar tensor or a float in the range [0, 1), got 1\n",
     "output_type": "error",
     "traceback": [
      "\u001b[0;31m---------------------------------------------------------------------------\u001b[0m",
      "\u001b[0;31mValueError\u001b[0m                                Traceback (most recent call last)",
      "\u001b[0;32m<ipython-input-318-fa7432b76075>\u001b[0m in \u001b[0;36m<module>\u001b[0;34m\u001b[0m\n\u001b[1;32m      1\u001b[0m \u001b[0;32mfor\u001b[0m \u001b[0mi\u001b[0m\u001b[0;34m,\u001b[0m\u001b[0mx\u001b[0m \u001b[0;32min\u001b[0m \u001b[0menumerate\u001b[0m\u001b[0;34m(\u001b[0m\u001b[0mparam_rand\u001b[0m\u001b[0;34m[\u001b[0m\u001b[0;34m'dnn_dropout'\u001b[0m\u001b[0;34m]\u001b[0m\u001b[0;34m)\u001b[0m\u001b[0;34m:\u001b[0m\u001b[0;34m\u001b[0m\u001b[0;34m\u001b[0m\u001b[0m\n\u001b[1;32m      2\u001b[0m     model = WDL(linear_feature_columns, dnn_feature_columns, dnn_hidden_units=(2,2)\n\u001b[0;32m----> 3\u001b[0;31m                 , init_std=0.0001, seed=1024, dnn_dropout=i, dnn_activation='relu',task='binary')\n\u001b[0m\u001b[1;32m      4\u001b[0m \u001b[0;34m\u001b[0m\u001b[0m\n\u001b[1;32m      5\u001b[0m     \u001b[0mmodel\u001b[0m\u001b[0;34m.\u001b[0m\u001b[0mcompile\u001b[0m\u001b[0;34m(\u001b[0m\u001b[0;34m\"adam\"\u001b[0m\u001b[0;34m,\u001b[0m \u001b[0;34m\"mse\"\u001b[0m\u001b[0;34m,\u001b[0m \u001b[0mmetrics\u001b[0m\u001b[0;34m=\u001b[0m\u001b[0;34m[\u001b[0m\u001b[0;34m'mse'\u001b[0m\u001b[0;34m]\u001b[0m\u001b[0;34m)\u001b[0m\u001b[0;34m\u001b[0m\u001b[0;34m\u001b[0m\u001b[0m\n",
      "\u001b[0;32m~/opt/anaconda3/lib/python3.7/site-packages/deepctr/models/wdl.py\u001b[0m in \u001b[0;36mWDL\u001b[0;34m(linear_feature_columns, dnn_feature_columns, dnn_hidden_units, l2_reg_linear, l2_reg_embedding, l2_reg_dnn, init_std, seed, dnn_dropout, dnn_activation, task)\u001b[0m\n\u001b[1;32m     48\u001b[0m     \u001b[0mdnn_input\u001b[0m \u001b[0;34m=\u001b[0m \u001b[0mcombined_dnn_input\u001b[0m\u001b[0;34m(\u001b[0m\u001b[0msparse_embedding_list\u001b[0m\u001b[0;34m,\u001b[0m \u001b[0mdense_value_list\u001b[0m\u001b[0;34m)\u001b[0m\u001b[0;34m\u001b[0m\u001b[0;34m\u001b[0m\u001b[0m\n\u001b[1;32m     49\u001b[0m     dnn_out = DNN(dnn_hidden_units, dnn_activation, l2_reg_dnn, dnn_dropout,\n\u001b[0;32m---> 50\u001b[0;31m                   False, seed)(dnn_input)\n\u001b[0m\u001b[1;32m     51\u001b[0m     dnn_logit = Dense(\n\u001b[1;32m     52\u001b[0m         1, use_bias=False, activation=None)(dnn_out)\n",
      "\u001b[0;32m~/opt/anaconda3/lib/python3.7/site-packages/tensorflow_core/python/keras/engine/base_layer.py\u001b[0m in \u001b[0;36m__call__\u001b[0;34m(self, inputs, *args, **kwargs)\u001b[0m\n\u001b[1;32m    852\u001b[0m                     \u001b[0moutputs\u001b[0m \u001b[0;34m=\u001b[0m \u001b[0mbase_layer_utils\u001b[0m\u001b[0;34m.\u001b[0m\u001b[0mmark_as_return\u001b[0m\u001b[0;34m(\u001b[0m\u001b[0moutputs\u001b[0m\u001b[0;34m,\u001b[0m \u001b[0macd\u001b[0m\u001b[0;34m)\u001b[0m\u001b[0;34m\u001b[0m\u001b[0;34m\u001b[0m\u001b[0m\n\u001b[1;32m    853\u001b[0m                 \u001b[0;32melse\u001b[0m\u001b[0;34m:\u001b[0m\u001b[0;34m\u001b[0m\u001b[0;34m\u001b[0m\u001b[0m\n\u001b[0;32m--> 854\u001b[0;31m                   \u001b[0moutputs\u001b[0m \u001b[0;34m=\u001b[0m \u001b[0mcall_fn\u001b[0m\u001b[0;34m(\u001b[0m\u001b[0mcast_inputs\u001b[0m\u001b[0;34m,\u001b[0m \u001b[0;34m*\u001b[0m\u001b[0margs\u001b[0m\u001b[0;34m,\u001b[0m \u001b[0;34m**\u001b[0m\u001b[0mkwargs\u001b[0m\u001b[0;34m)\u001b[0m\u001b[0;34m\u001b[0m\u001b[0;34m\u001b[0m\u001b[0m\n\u001b[0m\u001b[1;32m    855\u001b[0m \u001b[0;34m\u001b[0m\u001b[0m\n\u001b[1;32m    856\u001b[0m             \u001b[0;32mexcept\u001b[0m \u001b[0merrors\u001b[0m\u001b[0;34m.\u001b[0m\u001b[0mOperatorNotAllowedInGraphError\u001b[0m \u001b[0;32mas\u001b[0m \u001b[0me\u001b[0m\u001b[0;34m:\u001b[0m\u001b[0;34m\u001b[0m\u001b[0;34m\u001b[0m\u001b[0m\n",
      "\u001b[0;32m~/opt/anaconda3/lib/python3.7/site-packages/tensorflow_core/python/autograph/impl/api.py\u001b[0m in \u001b[0;36mwrapper\u001b[0;34m(*args, **kwargs)\u001b[0m\n\u001b[1;32m    235\u001b[0m       \u001b[0;32mexcept\u001b[0m \u001b[0mException\u001b[0m \u001b[0;32mas\u001b[0m \u001b[0me\u001b[0m\u001b[0;34m:\u001b[0m  \u001b[0;31m# pylint:disable=broad-except\u001b[0m\u001b[0;34m\u001b[0m\u001b[0;34m\u001b[0m\u001b[0m\n\u001b[1;32m    236\u001b[0m         \u001b[0;32mif\u001b[0m \u001b[0mhasattr\u001b[0m\u001b[0;34m(\u001b[0m\u001b[0me\u001b[0m\u001b[0;34m,\u001b[0m \u001b[0;34m'ag_error_metadata'\u001b[0m\u001b[0;34m)\u001b[0m\u001b[0;34m:\u001b[0m\u001b[0;34m\u001b[0m\u001b[0;34m\u001b[0m\u001b[0m\n\u001b[0;32m--> 237\u001b[0;31m           \u001b[0;32mraise\u001b[0m \u001b[0me\u001b[0m\u001b[0;34m.\u001b[0m\u001b[0mag_error_metadata\u001b[0m\u001b[0;34m.\u001b[0m\u001b[0mto_exception\u001b[0m\u001b[0;34m(\u001b[0m\u001b[0me\u001b[0m\u001b[0;34m)\u001b[0m\u001b[0;34m\u001b[0m\u001b[0;34m\u001b[0m\u001b[0m\n\u001b[0m\u001b[1;32m    238\u001b[0m         \u001b[0;32melse\u001b[0m\u001b[0;34m:\u001b[0m\u001b[0;34m\u001b[0m\u001b[0;34m\u001b[0m\u001b[0m\n\u001b[1;32m    239\u001b[0m           \u001b[0;32mraise\u001b[0m\u001b[0;34m\u001b[0m\u001b[0;34m\u001b[0m\u001b[0m\n",
      "\u001b[0;31mValueError\u001b[0m: in converted code:\n    relative to /Users/yas/opt/anaconda3/lib/python3.7/site-packages:\n\n    deepctr/layers/core.py:190 call  *\n        fc = self.dropout_layers[i](fc, training=training)\n    tensorflow_core/python/keras/engine/base_layer.py:854 __call__\n        outputs = call_fn(cast_inputs, *args, **kwargs)\n    tensorflow_core/python/keras/layers/core.py:166 call\n        lambda: array_ops.identity(inputs))\n    tensorflow_core/python/keras/utils/tf_utils.py:59 smart_cond\n        pred, true_fn=true_fn, false_fn=false_fn, name=name)\n    tensorflow_core/python/framework/smart_cond.py:59 smart_cond\n        name=name)\n    tensorflow_core/python/util/deprecation.py:507 new_func\n        return func(*args, **kwargs)\n    tensorflow_core/python/ops/control_flow_ops.py:1224 cond\n        orig_res_t, res_t = context_t.BuildCondBranch(true_fn)\n    tensorflow_core/python/ops/control_flow_ops.py:1061 BuildCondBranch\n        original_result = fn()\n    tensorflow_core/python/keras/layers/core.py:162 dropped_inputs\n        rate=self.rate)\n    tensorflow_core/python/util/deprecation.py:507 new_func\n        return func(*args, **kwargs)\n    tensorflow_core/python/ops/nn_ops.py:4229 dropout\n        return dropout_v2(x, rate, noise_shape=noise_shape, seed=seed, name=name)\n    tensorflow_core/python/ops/nn_ops.py:4278 dropout_v2\n        \"range [0, 1), got %g\" % rate)\n\n    ValueError: rate must be a scalar tensor or a float in the range [0, 1), got 1\n"
     ]
    }
   ],
   "source": [
    "for i,x in enumerate(param_rand['dnn_dropout']):\n",
    "    model = WDL(linear_feature_columns, dnn_feature_columns, dnn_hidden_units=(2,2)\n",
    "                , init_std=0.0001, seed=1024, dnn_dropout=i, dnn_activation='relu',task='binary')\n",
    "\n",
    "    model.compile(\"adam\", \"mse\", metrics=['mse'])\n",
    "\n",
    "    history = model.fit(train_model_input, train[target].values,\n",
    "                            batch_size=256, epochs=3, verbose=2, validation_split=0.2, )\n",
    "    pred_ans = model.predict(test_model_input, batch_size=256)\n",
    "    \n",
    "    auc = roc_auc_score(test[target].values, pred_ans)\n",
    "    \n",
    "    df_result5.loc[i].dnn_dropout = x\n",
    "    df_result5.loc[i].RMSE = np.round(math.sqrt(mean_squared_error(test[target].values, pred_ans)),3)\n",
    "    df_result5.loc[i].MAE = np.round(mean_absolute_error(test[target].values, pred_ans),3)\n",
    "    df_result5.loc[i].MSE = np.round(mean_squared_error(test[target].values, pred_ans),3)\n",
    "    df_result5.loc[i].AUC = np.round(auc,3)    "
   ]
  },
  {
   "cell_type": "code",
   "execution_count": null,
   "metadata": {},
   "outputs": [],
   "source": [
    "df_result5"
   ]
  },
  {
   "cell_type": "code",
   "execution_count": null,
   "metadata": {},
   "outputs": [],
   "source": [
    "e = df_result5[df_result5['score']==df_result5['score'].max()]['dnn_dropout']\n",
    "e"
   ]
  },
  {
   "cell_type": "markdown",
   "metadata": {},
   "source": [
    "# Best Model after hyper-parameter tuning"
   ]
  },
  {
   "cell_type": "code",
   "execution_count": 39,
   "metadata": {
    "scrolled": true
   },
   "outputs": [
    {
     "name": "stdout",
     "output_type": "stream",
     "text": [
      "WARNING:tensorflow:From /Users/yas/opt/anaconda3/lib/python3.7/site-packages/tensorflow_core/python/keras/initializers.py:143: calling RandomNormal.__init__ (from tensorflow.python.ops.init_ops) with dtype is deprecated and will be removed in a future version.\n",
      "Instructions for updating:\n",
      "Call initializer instance with the dtype argument instead of passing it to the constructor\n",
      "WARNING:tensorflow:From /Users/yas/opt/anaconda3/lib/python3.7/site-packages/tensorflow_core/python/ops/resource_variable_ops.py:1630: calling BaseResourceVariable.__init__ (from tensorflow.python.ops.resource_variable_ops) with constraint is deprecated and will be removed in a future version.\n",
      "Instructions for updating:\n",
      "If using Keras pass *_constraint arguments to layers.\n",
      "WARNING:tensorflow:From /Users/yas/opt/anaconda3/lib/python3.7/site-packages/deepctr/layers/utils.py:163: calling reduce_sum_v1 (from tensorflow.python.ops.math_ops) with keep_dims is deprecated and will be removed in a future version.\n",
      "Instructions for updating:\n",
      "keep_dims is deprecated, use keepdims instead\n",
      "Train on 62022 samples, validate on 15506 samples\n",
      "Epoch 1/10\n",
      "62022/62022 - 4s - loss: 0.1074 - mean_squared_error: 0.0983 - val_loss: 0.0836 - val_mean_squared_error: 0.0777\n",
      "Epoch 2/10\n",
      "62022/62022 - 2s - loss: 0.0814 - mean_squared_error: 0.0777 - val_loss: 0.0785 - val_mean_squared_error: 0.0758\n",
      "Epoch 3/10\n",
      "62022/62022 - 2s - loss: 0.0786 - mean_squared_error: 0.0760 - val_loss: 0.0771 - val_mean_squared_error: 0.0742\n",
      "Epoch 4/10\n",
      "62022/62022 - 2s - loss: 0.0780 - mean_squared_error: 0.0748 - val_loss: 0.0764 - val_mean_squared_error: 0.0733\n",
      "Epoch 5/10\n",
      "62022/62022 - 2s - loss: 0.0776 - mean_squared_error: 0.0739 - val_loss: 0.0766 - val_mean_squared_error: 0.0724\n",
      "Epoch 6/10\n",
      "62022/62022 - 2s - loss: 0.0772 - mean_squared_error: 0.0730 - val_loss: 0.0763 - val_mean_squared_error: 0.0719\n",
      "Epoch 7/10\n",
      "62022/62022 - 2s - loss: 0.0768 - mean_squared_error: 0.0723 - val_loss: 0.0760 - val_mean_squared_error: 0.0715\n",
      "Epoch 8/10\n",
      "62022/62022 - 2s - loss: 0.0760 - mean_squared_error: 0.0717 - val_loss: 0.0753 - val_mean_squared_error: 0.0710\n",
      "Epoch 9/10\n",
      "62022/62022 - 2s - loss: 0.0755 - mean_squared_error: 0.0713 - val_loss: 0.0747 - val_mean_squared_error: 0.0706\n",
      "Epoch 10/10\n",
      "62022/62022 - 2s - loss: 0.0748 - mean_squared_error: 0.0706 - val_loss: 0.0745 - val_mean_squared_error: 0.0705\n"
     ]
    }
   ],
   "source": [
    "model = WDL(linear_feature_columns, dnn_feature_columns, dnn_hidden_units=(2,2), l2_reg_linear=0.1,\n",
    "        l2_reg_embedding=0.001, l2_reg_dnn=0, init_std=0.0001, seed=1024, task='binary')\n",
    "\n",
    "model.compile(\"adam\", \"mse\", metrics=['mse'])\n",
    "\n",
    "history = model.fit(train_model_input, train[target].values,\n",
    "                        batch_size=256, epochs=10, verbose=2, validation_split=0.2, )"
   ]
  },
  {
   "cell_type": "code",
   "execution_count": 40,
   "metadata": {},
   "outputs": [],
   "source": [
    "pred_ans = model.predict(test_model_input, batch_size=256)\n",
    "auc = roc_auc_score(test[target].values, pred_ans)"
   ]
  },
  {
   "cell_type": "code",
   "execution_count": 41,
   "metadata": {},
   "outputs": [
    {
     "data": {
      "text/plain": [
       "array([[0.04808062],\n",
       "       [0.0508458 ],\n",
       "       [0.03933915],\n",
       "       ...,\n",
       "       [0.2593213 ],\n",
       "       [0.21681063],\n",
       "       [0.3944845 ]], dtype=float32)"
      ]
     },
     "execution_count": 41,
     "metadata": {},
     "output_type": "execute_result"
    }
   ],
   "source": [
    "pred_ans"
   ]
  },
  {
   "cell_type": "code",
   "execution_count": 54,
   "metadata": {},
   "outputs": [],
   "source": [
    "feature_columns = [SparseFeat('user_id',120,),SparseFeat('item_id',60,)]\n",
    "\n",
    "def get_embedding_weights(dnn_feature_columns,model):\n",
    "    embedding_dict = {}\n",
    "    for fc in dnn_feature_columns:\n",
    "        if hasattr(fc,'embedding_name'):\n",
    "            if fc.embedding_name is not None:\n",
    "                name = fc.embedding_name\n",
    "            else:\n",
    "                name = fc.name\n",
    "            embedding_dict[name] = model.get_layer(\"sparse_emb_\"+name).get_weights()[0]\n",
    "    return embedding_dict\n",
    "    \n",
    "embedding_dict = get_embedding_weights(feature_columns,model)\n",
    "\n",
    "user_id_emb = embedding_dict['user_id']\n",
    "item_id_emb = embedding_dict['item_id']"
   ]
  },
  {
   "cell_type": "code",
   "execution_count": 86,
   "metadata": {},
   "outputs": [],
   "source": [
    "widendeep_result = {\"RMSE\":np.round(math.sqrt(mean_squared_error(test[target].values, pred_ans)),3),\n",
    "                   \"MAE\":np.round(mean_absolute_error(test[target].values, pred_ans),3),\n",
    "                   \"MSE\":np.round(mean_squared_error(test[target].values, pred_ans),3),\n",
    "                   \"AUC\":np.round(auc,3)}"
   ]
  },
  {
   "cell_type": "code",
   "execution_count": 87,
   "metadata": {},
   "outputs": [
    {
     "data": {
      "text/plain": [
       "{'RMSE': 0.359, 'MAE': 0.347, 'MSE': 0.129, 'AUC': 0.717}"
      ]
     },
     "execution_count": 87,
     "metadata": {},
     "output_type": "execute_result"
    }
   ],
   "source": [
    "widendeep_result"
   ]
  },
  {
   "cell_type": "code",
   "execution_count": 61,
   "metadata": {},
   "outputs": [
    {
     "name": "stdout",
     "output_type": "stream",
     "text": [
      "RMSE:\t0.267000\n",
      "MAE:\t0.139000\n",
      "MSE:\t0.071000\n",
      "auc score:\t0.780000\n"
     ]
    }
   ],
   "source": [
    "print(\"Wide and Deep\",\"RMSE:\\t%f\" % np.round(math.sqrt(mean_squared_error(test[target].values, pred_ans)),3),\n",
    "      \"MAE:\\t%f\" % np.round(mean_absolute_error(test[target].values, pred_ans),3),\n",
    "      \"MSE:\\t%f\" % np.round(mean_squared_error(test[target].values, pred_ans),3),\n",
    "      \"auc score:\\t%f\" % np.round(auc,3),\n",
    "      sep='\\n')"
   ]
  },
  {
   "cell_type": "code",
   "execution_count": 62,
   "metadata": {
    "scrolled": true
   },
   "outputs": [
    {
     "name": "stderr",
     "output_type": "stream",
     "text": [
      "/Users/yas/opt/anaconda3/lib/python3.7/site-packages/sklearn/metrics/_ranking.py:808: UndefinedMetricWarning: No positive samples in y_true, true positive value should be meaningless\n",
      "  UndefinedMetricWarning)\n"
     ]
    }
   ],
   "source": [
    "fpr, tpr, thresholds = metrics.roc_curve(test[target].values, pred_ans, pos_label=2)"
   ]
  },
  {
   "cell_type": "code",
   "execution_count": 63,
   "metadata": {
    "scrolled": false
   },
   "outputs": [
    {
     "name": "stdout",
     "output_type": "stream",
     "text": [
      "No Skill: ROC AUC=0.500\n",
      "Logistic: ROC AUC=0.780\n"
     ]
    },
    {
     "data": {
      "image/png": "[encoded data removed]",
      "text/plain": [
       "<Figure size 432x288 with 1 Axes>"
      ]
     },
     "metadata": {
      "needs_background": "light"
     },
     "output_type": "display_data"
    }
   ],
   "source": [
    "# roc curve and auc\n",
    "\n",
    "# generate a no skill prediction (majority class)\n",
    "ns_probs = [0 for _ in range(len(pred_ans))]\n",
    "# predict probabilities\n",
    "lr_probs = pred_ans\n",
    "\n",
    "# calculate scores\n",
    "ns_auc = roc_auc_score(test[target].values, ns_probs)\n",
    "lr_auc = roc_auc_score(test[target].values, lr_probs)\n",
    "# summarize scores\n",
    "print('No Skill: ROC AUC=%.3f' % (ns_auc))\n",
    "print('Logistic: ROC AUC=%.3f' % (lr_auc))\n",
    "# calculate roc curves\n",
    "ns_fpr, ns_tpr, _ = roc_curve(test[target].values, ns_probs)\n",
    "lr_fpr, lr_tpr, _ = roc_curve(test[target].values, lr_probs)\n",
    "# plot the roc curve for the model\n",
    "plt.plot(ns_fpr, ns_tpr, linestyle='--', label='No Skill')\n",
    "plt.plot(lr_fpr, lr_tpr, marker='.', label='Logistic')\n",
    "# axis labels\n",
    "plt.xlabel('False Positive Rate')\n",
    "plt.ylabel('True Positive Rate')\n",
    "# show the legend\n",
    "plt.legend()\n",
    "# show the plot\n",
    "plt.show()"
   ]
  },
  {
   "cell_type": "markdown",
   "metadata": {},
   "source": [
    "## Resources:\n",
    "\n",
    "https://deepctr-doc.readthedocs.io/en/latest/Quick-Start.html"
   ]
  }
 ],
 "metadata": {
  "kernelspec": {
   "display_name": "Python 3",
   "language": "python",
   "name": "python3"
  },
  "language_info": {
   "codemirror_mode": {
    "name": "ipython",
    "version": 3
   },
   "file_extension": ".py",
   "mimetype": "text/x-python",
   "name": "python",
   "nbconvert_exporter": "python",
   "pygments_lexer": "ipython3",
   "version": "3.7.4"
  }
 },
 "nbformat": 4,
 "nbformat_minor": 1
}
