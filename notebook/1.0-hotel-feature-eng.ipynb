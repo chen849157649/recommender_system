{
 "cells": [
  {
   "cell_type": "markdown",
   "metadata": {},
   "source": [
    "# Feature Engineering - Expedia Hotel dataset"
   ]
  },
  {
   "cell_type": "markdown",
   "metadata": {},
   "source": [
    "## Import Libraries"
   ]
  },
  {
   "cell_type": "code",
   "execution_count": null,
   "metadata": {},
   "outputs": [],
   "source": [
    "import numpy as np\n",
    "import pandas as pd\n",
    "import matplotlib.pyplot as plt\n",
    "import seaborn as sns\n",
    "%matplotlib inline\n",
    "\n",
    "\n",
    "import tensorflow as tf\n",
    "import warnings\n",
    "import math\n",
    "from math import sqrt\n",
    "\n",
    "import sys\n",
    "import holidays\n",
    "\n",
    "import datetime"
   ]
  },
  {
   "cell_type": "code",
   "execution_count": null,
   "metadata": {},
   "outputs": [],
   "source": [
    "df = pd.read_csv('../data/hotel_data/train.csv', sep=',', nrows=150000)\n",
    "destinations = pd.read_csv('../data/hotel_data/destinations.csv', sep=',')\n",
    "df.shape"
   ]
  },
  {
   "cell_type": "code",
   "execution_count": null,
   "metadata": {},
   "outputs": [],
   "source": [
    "#merge only top 10 most correlated columns with rating column\n",
    "df = pd.merge(df,destinations[['srch_destination_id','d33', 'd64', 'd52', 'd120', 'd72', 'd136', 'd7', 'd59', 'd50', 'd30']],on='srch_destination_id')"
   ]
  },
  {
   "cell_type": "code",
   "execution_count": null,
   "metadata": {},
   "outputs": [],
   "source": [
    "# rename 2 columns\n",
    "df = df.rename(columns={'hotel_cluster': 'item_id', 'is_booking': 'rating'})"
   ]
  },
  {
   "cell_type": "code",
   "execution_count": null,
   "metadata": {},
   "outputs": [],
   "source": [
    "df = df.dropna()"
   ]
  },
  {
   "cell_type": "code",
   "execution_count": null,
   "metadata": {},
   "outputs": [],
   "source": [
    "df.shape"
   ]
  },
  {
   "cell_type": "markdown",
   "metadata": {},
   "source": [
    "## Feature Engineering"
   ]
  },
  {
   "cell_type": "markdown",
   "metadata": {},
   "source": [
    "## date_time"
   ]
  },
  {
   "cell_type": "markdown",
   "metadata": {},
   "source": [
    "### Extract week and month"
   ]
  },
  {
   "cell_type": "code",
   "execution_count": null,
   "metadata": {},
   "outputs": [],
   "source": [
    "# sort values\n",
    "df = df.sort_values(\"date_time\").reset_index()\n",
    "df.drop('index',axis=1,inplace=True)"
   ]
  },
  {
   "cell_type": "code",
   "execution_count": null,
   "metadata": {},
   "outputs": [],
   "source": [
    "df[\"date_time\"] =  pd.to_datetime(df[\"date_time\"], infer_datetime_format=True)\n",
    "df[\"date_time\"] = df.date_time.dt.strftime('%Y-%m-%d')\n",
    "df[\"date_time_timestamp\"] =  pd.to_datetime(df[\"date_time\"], infer_datetime_format=True)"
   ]
  },
  {
   "cell_type": "code",
   "execution_count": null,
   "metadata": {
    "scrolled": true
   },
   "outputs": [],
   "source": [
    "ax= df[['date_time','rating']].groupby('date_time')['rating'].count().plot(color='blue',figsize=(20,4))\n",
    "ax.set_xlabel(\"Date\")\n",
    "ax.set_ylabel('Number')\n",
    "ax.set_title(\"Number of Customers Visit\")\n",
    "plt.show()"
   ]
  },
  {
   "cell_type": "code",
   "execution_count": null,
   "metadata": {},
   "outputs": [],
   "source": [
    "d = datetime.timedelta(days=14)\n",
    "df['lagged_date_time'] = df[\"date_time\"].apply(lambda x: datetime.datetime.strptime(x,\"%Y-%m-%d\") + d)\n",
    "\n",
    "#df[\"str_lagged_date_time\"] = df.lagged_date_time.dt.strftime('%Y-%m-%d')\n",
    "#df[\"lagged_date_time\"][1].strftime(\"%B\")\n",
    "#df[\"date_time_timestamp\"].apply(lambda x: x.strftime(\"%Y-%U-%w\"))"
   ]
  },
  {
   "cell_type": "code",
   "execution_count": null,
   "metadata": {},
   "outputs": [],
   "source": [
    "df['num_visit']=1"
   ]
  },
  {
   "cell_type": "code",
   "execution_count": null,
   "metadata": {},
   "outputs": [],
   "source": [
    "df_test = df.groupby([pd.Grouper(key='lagged_date_time', freq='W-MON')])['num_visit'].count().reset_index().set_index('lagged_date_time').sort_values('lagged_date_time')"
   ]
  },
  {
   "cell_type": "code",
   "execution_count": null,
   "metadata": {},
   "outputs": [],
   "source": [
    "df_test=df_test.reset_index()"
   ]
  },
  {
   "cell_type": "code",
   "execution_count": null,
   "metadata": {},
   "outputs": [],
   "source": [
    "df_test"
   ]
  },
  {
   "cell_type": "code",
   "execution_count": null,
   "metadata": {},
   "outputs": [],
   "source": [
    "def extract_week(feature,week,lag):\n",
    "    df[feature] =  pd.to_datetime(df[feature], infer_datetime_format=True)\n",
    "    df[feature] = df.date_time.dt.strftime('%Y-%m-%d')\n",
    "    if lag == True:\n",
    "        d = datetime.timedelta(days=14)\n",
    "        df['lag_date_time'] = df[feature].apply(lambda x: datetime.datetime.strptime(x,\"%Y-%m-%d\") + d)\n",
    "        df['week'] = pd.DatetimeIndex(df['lag_date_time']).week\n",
    "        df['year']=pd.DatetimeIndex(df['lag_date_time']).year\n",
    "        \n",
    "        # countinue week numbers for the next year\n",
    "        df[week] = df['week'].where(df['year'] ==2013 , df['week']+52)"
   ]
  },
  {
   "cell_type": "code",
   "execution_count": null,
   "metadata": {},
   "outputs": [],
   "source": [
    "extract_week('date_time','click_week',lag=True)"
   ]
  },
  {
   "cell_type": "code",
   "execution_count": null,
   "metadata": {},
   "outputs": [],
   "source": [
    "df.head()"
   ]
  },
  {
   "cell_type": "code",
   "execution_count": null,
   "metadata": {},
   "outputs": [],
   "source": [
    "# extract month from date_time\n",
    "df['click_month'] = pd.DatetimeIndex(df['date_time']).month"
   ]
  },
  {
   "cell_type": "markdown",
   "metadata": {},
   "source": [
    "## checkin_month , checkout_month"
   ]
  },
  {
   "cell_type": "code",
   "execution_count": null,
   "metadata": {},
   "outputs": [],
   "source": [
    "df['checkin_month'] = pd.DatetimeIndex(df['srch_ci']).month\n",
    "df['checkout_month'] = pd.DatetimeIndex(df['srch_co']).month\n",
    "\n",
    "df['checkin_year'] = pd.DatetimeIndex(df['srch_ci']).year\n",
    "df['checkout_year'] = pd.DatetimeIndex(df['srch_co']).year"
   ]
  },
  {
   "cell_type": "markdown",
   "metadata": {},
   "source": [
    "## add holiday"
   ]
  },
  {
   "cell_type": "code",
   "execution_count": null,
   "metadata": {},
   "outputs": [],
   "source": [
    "# Define holidays in some countries\n",
    "ca_holidays = holidays.Canada()\n",
    "us_holidays = holidays.UnitedStates()"
   ]
  },
  {
   "cell_type": "code",
   "execution_count": null,
   "metadata": {},
   "outputs": [],
   "source": [
    "# check if checkin or checkout date is in holiday of different countries\n",
    "\n",
    "df['north_am_ci'] = df['srch_ci'].apply(lambda x: 1 if x in (us_holidays or ca_holidays)  else 0)\n",
    "df['north_am_co'] = df['srch_co'].apply(lambda x: 1 if x in (us_holidays or ca_holidays)  else 0)"
   ]
  },
  {
   "cell_type": "code",
   "execution_count": null,
   "metadata": {},
   "outputs": [],
   "source": [
    "df= df.drop(['date_time'],axis=1)\n",
    "df= df.drop(['week'],axis=1)\n",
    "df= df.drop(['year'],axis=1)\n",
    "df= df.drop(['srch_ci'],axis=1)\n",
    "df= df.drop(['srch_co'],axis=1)\n",
    "df= df.drop(['lag_date_time'],axis=1)\n",
    "df= df.drop(['date_time_timestamp'],axis=1)\n",
    "df= df.drop(['lagged_date_time'],axis=1)\n",
    "df= df.drop(['num_visit'],axis=1)"
   ]
  },
  {
   "cell_type": "code",
   "execution_count": null,
   "metadata": {},
   "outputs": [],
   "source": [
    "df.columns"
   ]
  },
  {
   "cell_type": "markdown",
   "metadata": {},
   "source": [
    "## site_name\n",
    "ID of the Expedia point of sale (i.e. Expedia.com, Expedia.co.uk, Expedia.co.jp, …)"
   ]
  },
  {
   "cell_type": "code",
   "execution_count": null,
   "metadata": {},
   "outputs": [],
   "source": [
    "sns.countplot(x=df['site_name'],palette='hls',order=sorted(df['site_name'].unique()))\n",
    "plt.show()"
   ]
  },
  {
   "cell_type": "code",
   "execution_count": null,
   "metadata": {},
   "outputs": [],
   "source": [
    "sns.countplot(x=df['site_name'],palette='hls',order=df['site_name'].value_counts().index)\n",
    "plt.show()"
   ]
  },
  {
   "cell_type": "markdown",
   "metadata": {},
   "source": [
    "## Check for poisson distribution"
   ]
  },
  {
   "cell_type": "code",
   "execution_count": null,
   "metadata": {},
   "outputs": [],
   "source": [
    "from statistics import variance, mean\n",
    "\n",
    "mean(df['site_name']) ,variance(df['site_name'])\n"
   ]
  },
  {
   "cell_type": "markdown",
   "metadata": {},
   "source": [
    "### orig_destination_distance\n",
    "Physical distance between a hotel and a customer at the time of search. A null means the distance could not be calculated"
   ]
  },
  {
   "cell_type": "code",
   "execution_count": null,
   "metadata": {},
   "outputs": [],
   "source": [
    "plt.figure(figsize=(8, 4))\n",
    "sns.distplot(df['orig_destination_distance'],kde=False,bins=40,color='b')"
   ]
  },
  {
   "cell_type": "code",
   "execution_count": null,
   "metadata": {},
   "outputs": [],
   "source": [
    "#Note that we add 1 to the raw count to prevent the logarithm from\n",
    "# exploding into negative infinity in case the count is zero.\n",
    "df['log_orig_destination_distance'] = np.log10(df['orig_destination_distance'] + 1)"
   ]
  },
  {
   "cell_type": "code",
   "execution_count": null,
   "metadata": {},
   "outputs": [],
   "source": [
    "plt.figure(figsize=(8, 4))\n",
    "sns.distplot(df['log_orig_destination_distance'],kde=False,bins=40,color='b')"
   ]
  },
  {
   "cell_type": "code",
   "execution_count": null,
   "metadata": {},
   "outputs": [],
   "source": [
    "df= df.drop(['orig_destination_distance'],axis=1)"
   ]
  },
  {
   "cell_type": "markdown",
   "metadata": {},
   "source": [
    "## posa_continent\n",
    "ID of continent associated with site_name"
   ]
  },
  {
   "cell_type": "code",
   "execution_count": null,
   "metadata": {},
   "outputs": [],
   "source": [
    "sns.countplot(x=df['posa_continent'],color='#2E86C1')\n",
    "plt.show()"
   ]
  },
  {
   "cell_type": "markdown",
   "metadata": {},
   "source": [
    "## user_location_country\n",
    "The ID of the country the customer is located"
   ]
  },
  {
   "cell_type": "code",
   "execution_count": null,
   "metadata": {},
   "outputs": [],
   "source": [
    "sns.countplot(x=df['user_location_country'],color='#2E86C1')\n",
    "plt.show()"
   ]
  },
  {
   "cell_type": "markdown",
   "metadata": {},
   "source": [
    "## user_location_region\n",
    "The ID of the region the customer is located"
   ]
  },
  {
   "cell_type": "code",
   "execution_count": null,
   "metadata": {
    "scrolled": true
   },
   "outputs": [],
   "source": [
    "sns.countplot(x=df['user_location_region'],color='#2E86C1')\n",
    "plt.show()"
   ]
  },
  {
   "cell_type": "markdown",
   "metadata": {},
   "source": [
    "## Create clusters"
   ]
  },
  {
   "cell_type": "code",
   "execution_count": null,
   "metadata": {},
   "outputs": [],
   "source": [
    "df.columns"
   ]
  },
  {
   "cell_type": "code",
   "execution_count": null,
   "metadata": {},
   "outputs": [],
   "source": [
    "df.head()"
   ]
  },
  {
   "cell_type": "code",
   "execution_count": null,
   "metadata": {},
   "outputs": [],
   "source": [
    "from sklearn.cluster import KMeans\n",
    "def create_cluster(feature):\n",
    "    y = df[feature]\n",
    "    X = df.drop(feature,axis=1)\n",
    "    wcss=[]\n",
    "    for i in range(1,11):\n",
    "        kmeans = KMeans(n_clusters= i, init='k-means++', random_state=0)\n",
    "        kmeans.fit(X)\n",
    "        wcss.append(kmeans.inertia_)\n",
    "    plt.plot(range(1,11), wcss)\n",
    "    plt.title('The Elbow Method')\n",
    "    plt.xlabel('number of clusters')\n",
    "    plt.ylabel('wcss')\n",
    "    plt.show()"
   ]
  },
  {
   "cell_type": "code",
   "execution_count": null,
   "metadata": {},
   "outputs": [],
   "source": [
    "create_cluster('user_location_region')"
   ]
  },
  {
   "cell_type": "code",
   "execution_count": null,
   "metadata": {},
   "outputs": [],
   "source": [
    "X = df.drop(\"user_location_region\",axis=1)\n",
    "kmeansmodel = KMeans(n_clusters= 2, init='k-means++', random_state=0)\n",
    "y_kmeans= kmeansmodel.fit_predict(X)\n",
    "df['kmeans_user_location_region']=y_kmeans\n",
    "df= df.drop(['user_location_region'],axis=1)"
   ]
  },
  {
   "cell_type": "markdown",
   "metadata": {},
   "source": [
    "## user_location_city\n",
    "The ID of the country the customer is located"
   ]
  },
  {
   "cell_type": "code",
   "execution_count": null,
   "metadata": {},
   "outputs": [],
   "source": [
    "sns.countplot(x=df['user_location_city'],color='#2E86C1')\n",
    "plt.show()"
   ]
  },
  {
   "cell_type": "code",
   "execution_count": null,
   "metadata": {},
   "outputs": [],
   "source": [
    "create_cluster('user_location_city')"
   ]
  },
  {
   "cell_type": "code",
   "execution_count": null,
   "metadata": {},
   "outputs": [],
   "source": [
    "X = df.drop(\"user_location_city\",axis=1)\n",
    "kmeansmodel = KMeans(n_clusters= 2, init='k-means++', random_state=0)\n",
    "y_kmeans= kmeansmodel.fit_predict(X)\n",
    "df['kmeans_user_location_city']=y_kmeans\n",
    "df= df.drop(['user_location_city'],axis=1)"
   ]
  },
  {
   "cell_type": "code",
   "execution_count": null,
   "metadata": {},
   "outputs": [],
   "source": [
    "df.head()"
   ]
  },
  {
   "cell_type": "markdown",
   "metadata": {},
   "source": [
    "## channel:\n",
    "ID of a marketing channel"
   ]
  },
  {
   "cell_type": "code",
   "execution_count": null,
   "metadata": {},
   "outputs": [],
   "source": [
    "sns.countplot(x=df['channel'],color='#2E86C1')\n",
    "plt.show()"
   ]
  },
  {
   "cell_type": "markdown",
   "metadata": {},
   "source": [
    "## srch_adults_cnt , srch_children_cnt\n",
    "The number of adults specified in the hotel room\n",
    "\n",
    "The number of (extra occupancy) children specified in the hotel room',\n"
   ]
  },
  {
   "cell_type": "code",
   "execution_count": null,
   "metadata": {},
   "outputs": [],
   "source": [
    "sns.countplot(x=df['srch_adults_cnt'],color='#2E86C1')\n",
    "plt.show()"
   ]
  },
  {
   "cell_type": "code",
   "execution_count": null,
   "metadata": {},
   "outputs": [],
   "source": [
    "sns.countplot(x=df['srch_children_cnt'],color='#2E86C1')\n",
    "plt.show()"
   ]
  },
  {
   "cell_type": "code",
   "execution_count": null,
   "metadata": {},
   "outputs": [],
   "source": [
    "condlist = [(df['srch_adults_cnt']==0) & (df['srch_children_cnt']==0),\n",
    "            (df['srch_adults_cnt']==2) & (df['srch_children_cnt']==0),\n",
    "            (df['srch_adults_cnt']==2) & (df['srch_children_cnt']==1),\n",
    "            (df['srch_adults_cnt']==2) & (df['srch_children_cnt']==2),\n",
    "           (df['srch_adults_cnt']==1) & (df['srch_children_cnt']==0),\n",
    "            (df['srch_adults_cnt']>1) & (df['srch_children_cnt']>0),\n",
    "           (df['srch_adults_cnt']==1) & (df['srch_children_cnt'] > 0),\n",
    "           (df['srch_adults_cnt']>2) & (df['srch_children_cnt'] == 0),\n",
    "           (df['srch_adults_cnt']==0) & (df['srch_children_cnt'] > 0)]\n",
    "\n",
    "choicelist = ['empty_room',\n",
    "                'couple_with_no_children',\n",
    "                'couple_with_one_child',\n",
    "                'couple_with_two_children',\n",
    "                'single',\n",
    "                'big_family',\n",
    "                'single_parent',\n",
    "                'friends',\n",
    "                'unsupervised_children']\n",
    "\n",
    "df['family_status'] = np.select(condlist,choicelist)"
   ]
  },
  {
   "cell_type": "code",
   "execution_count": null,
   "metadata": {},
   "outputs": [],
   "source": [
    "#Convert the family_status into dummy variables\n",
    "dummies = pd.get_dummies(df['family_status'],drop_first=True)\n",
    "df= pd.concat( [df.drop('family_status',axis=1),dummies],axis=1)"
   ]
  },
  {
   "cell_type": "code",
   "execution_count": null,
   "metadata": {},
   "outputs": [],
   "source": [
    "df=df.drop(\"unsupervised_children\",axis=1)"
   ]
  },
  {
   "cell_type": "markdown",
   "metadata": {},
   "source": [
    "## srch_rm_cnt\n",
    "The number of hotel rooms specified in the search"
   ]
  },
  {
   "cell_type": "code",
   "execution_count": null,
   "metadata": {},
   "outputs": [],
   "source": [
    "sns.countplot(x=df['srch_rm_cnt'],color='#2E86C1')\n",
    "plt.show()"
   ]
  },
  {
   "cell_type": "markdown",
   "metadata": {},
   "source": [
    "## srch_destination_id\n",
    "ID of the destination where the hotel search was performed"
   ]
  },
  {
   "cell_type": "code",
   "execution_count": null,
   "metadata": {},
   "outputs": [],
   "source": [
    "len(df[\"cnt\"].unique())"
   ]
  },
  {
   "cell_type": "markdown",
   "metadata": {},
   "source": [
    "## srch_destination_type_id\n",
    "Type of destination"
   ]
  },
  {
   "cell_type": "markdown",
   "metadata": {},
   "source": [
    "## cnt\n",
    "Numer of similar events in the context of the same user session"
   ]
  },
  {
   "cell_type": "code",
   "execution_count": null,
   "metadata": {},
   "outputs": [],
   "source": [
    "from statistics import variance, mean\n",
    "\n",
    "mean(df['cnt']) ,variance(df['cnt'])"
   ]
  },
  {
   "cell_type": "code",
   "execution_count": null,
   "metadata": {},
   "outputs": [],
   "source": [
    "sns.countplot(x=df['cnt'],color='#2E86C1')\n",
    "plt.show()"
   ]
  },
  {
   "cell_type": "markdown",
   "metadata": {},
   "source": [
    "## z-score normalizing"
   ]
  },
  {
   "cell_type": "code",
   "execution_count": null,
   "metadata": {},
   "outputs": [],
   "source": [
    "df['cnt'] = (df['cnt'] - df['cnt'].mean())/df['cnt'].std()"
   ]
  },
  {
   "cell_type": "code",
   "execution_count": null,
   "metadata": {},
   "outputs": [],
   "source": [
    "scaler.transform(df['cnt'])"
   ]
  },
  {
   "cell_type": "code",
   "execution_count": null,
   "metadata": {},
   "outputs": [],
   "source": [
    "sns.countplot(x=df['cnt'],color='#2E86C1')\n",
    "plt.show()"
   ]
  },
  {
   "cell_type": "markdown",
   "metadata": {},
   "source": [
    "## check for poisson distribution"
   ]
  },
  {
   "cell_type": "code",
   "execution_count": null,
   "metadata": {
    "scrolled": true
   },
   "outputs": [],
   "source": [
    "mean(df['cnt']) ,variance(df['cnt'])"
   ]
  },
  {
   "cell_type": "markdown",
   "metadata": {},
   "source": [
    "'hotel_continent':'Hotel continent',\n",
    "'hotel_country':'Hotel country',\n",
    "'hotel_market':'Hotel market',"
   ]
  },
  {
   "cell_type": "code",
   "execution_count": null,
   "metadata": {
    "scrolled": true
   },
   "outputs": [],
   "source": [
    "df.head()"
   ]
  }
 ],
 "metadata": {
  "kernelspec": {
   "display_name": "Python 3",
   "language": "python",
   "name": "python3"
  },
  "language_info": {
   "codemirror_mode": {
    "name": "ipython",
    "version": 3
   },
   "file_extension": ".py",
   "mimetype": "text/x-python",
   "name": "python",
   "nbconvert_exporter": "python",
   "pygments_lexer": "ipython3",
   "version": "3.7.4"
  }
 },
 "nbformat": 4,
 "nbformat_minor": 1
}
