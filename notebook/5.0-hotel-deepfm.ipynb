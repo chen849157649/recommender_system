{
 "cells": [
  {
   "cell_type": "markdown",
   "metadata": {},
   "source": [
    "# DeepFM Recommender System - Expedia Hotel dataset"
   ]
  },
  {
   "cell_type": "markdown",
   "metadata": {},
   "source": [
    "## Import Libraries"
   ]
  },
  {
   "cell_type": "code",
   "execution_count": 76,
   "metadata": {},
   "outputs": [],
   "source": [
    "import numpy as np\n",
    "import pandas as pd\n",
    "import matplotlib.pyplot as plt\n",
    "import seaborn as sns\n",
    "%matplotlib inline\n",
    "\n",
    "import tensorflow as tf\n",
    "import warnings\n",
    "import math\n",
    "import sys\n",
    "import holidays\n",
    "from sklearn.metrics import roc_curve, auc\n",
    "from sklearn.metrics import roc_auc_score\n",
    "\n",
    "from sklearn.metrics import mean_squared_error\n",
    "from sklearn.metrics import mean_absolute_error\n",
    "from sklearn.preprocessing import LabelEncoder, MinMaxScaler\n",
    "from math import sqrt\n",
    "\n",
    "\n",
    "from tensorflow.python.keras.models import Model\n",
    "from tensorflow.python.keras.layers import Dense\n",
    "\n",
    "from deepctr.inputs import build_input_features, get_linear_logit, input_from_feature_columns, combined_dnn_input\n",
    "from deepctr.layers.core import PredictionLayer, DNN\n",
    "from deepctr.layers.utils import add_func\n",
    "from deepctr.models import DeepFM\n",
    "\n",
    "\n",
    "from sklearn.metrics import mean_squared_error\n",
    "from sklearn.model_selection import train_test_split\n",
    "from sklearn.preprocessing import LabelEncoder\n",
    "\n",
    "from deepctr.inputs import SparseFeat,get_feature_names\n",
    "\n"
   ]
  },
  {
   "cell_type": "code",
   "execution_count": 2,
   "metadata": {},
   "outputs": [
    {
     "data": {
      "text/plain": [
       "(100000, 24)"
      ]
     },
     "execution_count": 2,
     "metadata": {},
     "output_type": "execute_result"
    }
   ],
   "source": [
    "df = pd.read_csv('../data/hotel_data/train.csv', sep=',', nrows=100000)\n",
    "df.shape"
   ]
  },
  {
   "cell_type": "markdown",
   "metadata": {},
   "source": [
    "## Data Preprocessing"
   ]
  },
  {
   "cell_type": "code",
   "execution_count": 3,
   "metadata": {},
   "outputs": [
    {
     "data": {
      "text/html": [
       "<div>\n",
       "<style scoped>\n",
       "    .dataframe tbody tr th:only-of-type {\n",
       "        vertical-align: middle;\n",
       "    }\n",
       "\n",
       "    .dataframe tbody tr th {\n",
       "        vertical-align: top;\n",
       "    }\n",
       "\n",
       "    .dataframe thead th {\n",
       "        text-align: right;\n",
       "    }\n",
       "</style>\n",
       "<table border=\"1\" class=\"dataframe\">\n",
       "  <thead>\n",
       "    <tr style=\"text-align: right;\">\n",
       "      <th></th>\n",
       "      <th>date_time</th>\n",
       "      <th>site_name</th>\n",
       "      <th>posa_continent</th>\n",
       "      <th>user_location_country</th>\n",
       "      <th>user_location_region</th>\n",
       "      <th>user_location_city</th>\n",
       "      <th>orig_destination_distance</th>\n",
       "      <th>user_id</th>\n",
       "      <th>is_mobile</th>\n",
       "      <th>is_package</th>\n",
       "      <th>...</th>\n",
       "      <th>srch_children_cnt</th>\n",
       "      <th>srch_rm_cnt</th>\n",
       "      <th>srch_destination_id</th>\n",
       "      <th>srch_destination_type_id</th>\n",
       "      <th>is_booking</th>\n",
       "      <th>cnt</th>\n",
       "      <th>hotel_continent</th>\n",
       "      <th>hotel_country</th>\n",
       "      <th>hotel_market</th>\n",
       "      <th>hotel_cluster</th>\n",
       "    </tr>\n",
       "  </thead>\n",
       "  <tbody>\n",
       "    <tr>\n",
       "      <td>0</td>\n",
       "      <td>2014-08-11 07:46:59</td>\n",
       "      <td>2</td>\n",
       "      <td>3</td>\n",
       "      <td>66</td>\n",
       "      <td>348</td>\n",
       "      <td>48862</td>\n",
       "      <td>2234.2641</td>\n",
       "      <td>12</td>\n",
       "      <td>0</td>\n",
       "      <td>1</td>\n",
       "      <td>...</td>\n",
       "      <td>0</td>\n",
       "      <td>1</td>\n",
       "      <td>8250</td>\n",
       "      <td>1</td>\n",
       "      <td>0</td>\n",
       "      <td>3</td>\n",
       "      <td>2</td>\n",
       "      <td>50</td>\n",
       "      <td>628</td>\n",
       "      <td>1</td>\n",
       "    </tr>\n",
       "    <tr>\n",
       "      <td>1</td>\n",
       "      <td>2014-08-11 08:22:12</td>\n",
       "      <td>2</td>\n",
       "      <td>3</td>\n",
       "      <td>66</td>\n",
       "      <td>348</td>\n",
       "      <td>48862</td>\n",
       "      <td>2234.2641</td>\n",
       "      <td>12</td>\n",
       "      <td>0</td>\n",
       "      <td>1</td>\n",
       "      <td>...</td>\n",
       "      <td>0</td>\n",
       "      <td>1</td>\n",
       "      <td>8250</td>\n",
       "      <td>1</td>\n",
       "      <td>1</td>\n",
       "      <td>1</td>\n",
       "      <td>2</td>\n",
       "      <td>50</td>\n",
       "      <td>628</td>\n",
       "      <td>1</td>\n",
       "    </tr>\n",
       "  </tbody>\n",
       "</table>\n",
       "<p>2 rows × 24 columns</p>\n",
       "</div>"
      ],
      "text/plain": [
       "             date_time  site_name  posa_continent  user_location_country  \\\n",
       "0  2014-08-11 07:46:59          2               3                     66   \n",
       "1  2014-08-11 08:22:12          2               3                     66   \n",
       "\n",
       "   user_location_region  user_location_city  orig_destination_distance  \\\n",
       "0                   348               48862                  2234.2641   \n",
       "1                   348               48862                  2234.2641   \n",
       "\n",
       "   user_id  is_mobile  is_package  ...  srch_children_cnt srch_rm_cnt  \\\n",
       "0       12          0           1  ...                  0           1   \n",
       "1       12          0           1  ...                  0           1   \n",
       "\n",
       "  srch_destination_id  srch_destination_type_id  is_booking  cnt  \\\n",
       "0                8250                         1           0    3   \n",
       "1                8250                         1           1    1   \n",
       "\n",
       "   hotel_continent  hotel_country  hotel_market  hotel_cluster  \n",
       "0                2             50           628              1  \n",
       "1                2             50           628              1  \n",
       "\n",
       "[2 rows x 24 columns]"
      ]
     },
     "execution_count": 3,
     "metadata": {},
     "output_type": "execute_result"
    }
   ],
   "source": [
    "df.head(n=2)"
   ]
  },
  {
   "cell_type": "code",
   "execution_count": 4,
   "metadata": {},
   "outputs": [],
   "source": [
    "# rename 2 columns\n",
    "df = df.rename(columns={'hotel_cluster': 'item_id', 'is_booking': 'rating'})"
   ]
  },
  {
   "cell_type": "code",
   "execution_count": 5,
   "metadata": {},
   "outputs": [],
   "source": [
    "#Define an information dectionary for features\n",
    "info_dic = {'date_time':'Timestamp',\n",
    "'site_name':'ID of the Expedia point of sale (i.e. Expedia.com, Expedia.co.uk, Expedia.co.jp, …)',\n",
    "'posa_continent':'ID of continent associated with site_name',\n",
    "'user_location_country':'The ID of the country the customer is located',\n",
    "'user_location_region':'The ID of the region the customer is located',\n",
    "'user_location_city':'The ID of the city the customer is located',\n",
    "'orig_destination_distance':'Physical distance between a hotel and a customer at the time of search. A null means the distance could not be calculated',\n",
    "'user_id':'ID of user','is_mobile':'1 when a user connected from a mobile device, 0 otherwise',\n",
    "'is_package':'1 if the click/booking was generated as a part of a package (i.e. combined with a flight), 0 otherwise',\n",
    "'channel':'ID of a marketing channel',\n",
    "'srch_ci':'Checkin date','srch_co':'Checkout date',\n",
    "'srch_adults_cnt':'The number of adults specified in the hotel room',\n",
    "'srch_children_cnt':'The number of (extra occupancy) children specified in the hotel room',\n",
    "'srch_rm_cnt':'The number of hotel rooms specified in the search',\n",
    "'srch_destination_id':'ID of the destination where the hotel search was performed',\n",
    "'srch_destination_type_id':'Type of destination',\n",
    "'hotel_continent':'Hotel continent',\n",
    "'hotel_country':'Hotel country',\n",
    "'hotel_market':'Hotel market','rating':'(is_booking)1 if a booking, 0 if a click',\n",
    "'cnt':'Numer of similar events in the context of the same user session','item_id':'(hotel_cluster)ID of a hotel cluster'}"
   ]
  },
  {
   "cell_type": "code",
   "execution_count": 6,
   "metadata": {},
   "outputs": [
    {
     "data": {
      "text/plain": [
       "123"
      ]
     },
     "execution_count": 6,
     "metadata": {},
     "output_type": "execute_result"
    }
   ],
   "source": [
    "len(df['user_location_country'].unique())"
   ]
  },
  {
   "cell_type": "code",
   "execution_count": 7,
   "metadata": {},
   "outputs": [
    {
     "data": {
      "text/plain": [
       "('Checkin date', 'Checkout date')"
      ]
     },
     "execution_count": 7,
     "metadata": {},
     "output_type": "execute_result"
    }
   ],
   "source": [
    "info_dic['srch_ci'],info_dic['srch_co']"
   ]
  },
  {
   "cell_type": "code",
   "execution_count": 8,
   "metadata": {},
   "outputs": [
    {
     "name": "stdout",
     "output_type": "stream",
     "text": [
      "<class 'pandas.core.frame.DataFrame'>\n",
      "RangeIndex: 100000 entries, 0 to 99999\n",
      "Data columns (total 24 columns):\n",
      "date_time                    100000 non-null object\n",
      "site_name                    100000 non-null int64\n",
      "posa_continent               100000 non-null int64\n",
      "user_location_country        100000 non-null int64\n",
      "user_location_region         100000 non-null int64\n",
      "user_location_city           100000 non-null int64\n",
      "orig_destination_distance    63078 non-null float64\n",
      "user_id                      100000 non-null int64\n",
      "is_mobile                    100000 non-null int64\n",
      "is_package                   100000 non-null int64\n",
      "channel                      100000 non-null int64\n",
      "srch_ci                      99929 non-null object\n",
      "srch_co                      99929 non-null object\n",
      "srch_adults_cnt              100000 non-null int64\n",
      "srch_children_cnt            100000 non-null int64\n",
      "srch_rm_cnt                  100000 non-null int64\n",
      "srch_destination_id          100000 non-null int64\n",
      "srch_destination_type_id     100000 non-null int64\n",
      "rating                       100000 non-null int64\n",
      "cnt                          100000 non-null int64\n",
      "hotel_continent              100000 non-null int64\n",
      "hotel_country                100000 non-null int64\n",
      "hotel_market                 100000 non-null int64\n",
      "item_id                      100000 non-null int64\n",
      "dtypes: float64(1), int64(20), object(3)\n",
      "memory usage: 18.3+ MB\n"
     ]
    }
   ],
   "source": [
    "df.info()"
   ]
  },
  {
   "cell_type": "markdown",
   "metadata": {},
   "source": [
    "## Feature Engineering"
   ]
  },
  {
   "cell_type": "code",
   "execution_count": 9,
   "metadata": {},
   "outputs": [],
   "source": [
    "df= df.drop(['orig_destination_distance'],axis=1)\n",
    "df = df.dropna()"
   ]
  },
  {
   "cell_type": "code",
   "execution_count": 10,
   "metadata": {},
   "outputs": [
    {
     "name": "stdout",
     "output_type": "stream",
     "text": [
      "<class 'pandas.core.frame.DataFrame'>\n",
      "Int64Index: 99929 entries, 0 to 99999\n",
      "Data columns (total 23 columns):\n",
      "date_time                   99929 non-null object\n",
      "site_name                   99929 non-null int64\n",
      "posa_continent              99929 non-null int64\n",
      "user_location_country       99929 non-null int64\n",
      "user_location_region        99929 non-null int64\n",
      "user_location_city          99929 non-null int64\n",
      "user_id                     99929 non-null int64\n",
      "is_mobile                   99929 non-null int64\n",
      "is_package                  99929 non-null int64\n",
      "channel                     99929 non-null int64\n",
      "srch_ci                     99929 non-null object\n",
      "srch_co                     99929 non-null object\n",
      "srch_adults_cnt             99929 non-null int64\n",
      "srch_children_cnt           99929 non-null int64\n",
      "srch_rm_cnt                 99929 non-null int64\n",
      "srch_destination_id         99929 non-null int64\n",
      "srch_destination_type_id    99929 non-null int64\n",
      "rating                      99929 non-null int64\n",
      "cnt                         99929 non-null int64\n",
      "hotel_continent             99929 non-null int64\n",
      "hotel_country               99929 non-null int64\n",
      "hotel_market                99929 non-null int64\n",
      "item_id                     99929 non-null int64\n",
      "dtypes: int64(20), object(3)\n",
      "memory usage: 18.3+ MB\n"
     ]
    }
   ],
   "source": [
    "df.info()"
   ]
  },
  {
   "cell_type": "code",
   "execution_count": 13,
   "metadata": {},
   "outputs": [],
   "source": [
    "# Define holidays in some countries\n",
    "ca_holidays = holidays.Canada()\n",
    "us_holidays = holidays.UnitedStates()\n",
    "\n",
    "uk_holidays = holidays.UnitedKingdom()\n",
    "gr_holidays = holidays.Germany()"
   ]
  },
  {
   "cell_type": "code",
   "execution_count": 14,
   "metadata": {},
   "outputs": [],
   "source": [
    "# check if checkin or checkout date is in holiday of different countries\n",
    "df['north_am_ci'] = df['srch_ci'].apply(lambda x: 1 if x in (us_holidays or ca_holidays)  else 0)\n",
    "df['north_am_co'] = df['srch_co'].apply(lambda x: 1 if x in (us_holidays or ca_holidays)  else 0)\n",
    "\n",
    "df['europe_ci'] = df['srch_ci'].apply(lambda x: 1 if x in (uk_holidays or gr_holidays)  else 0)\n",
    "df['europe_co'] = df['srch_co'].apply(lambda x: 1 if x in (uk_holidays or gr_holidays)  else 0)"
   ]
  },
  {
   "cell_type": "code",
   "execution_count": 15,
   "metadata": {},
   "outputs": [
    {
     "data": {
      "text/html": [
       "<div>\n",
       "<style scoped>\n",
       "    .dataframe tbody tr th:only-of-type {\n",
       "        vertical-align: middle;\n",
       "    }\n",
       "\n",
       "    .dataframe tbody tr th {\n",
       "        vertical-align: top;\n",
       "    }\n",
       "\n",
       "    .dataframe thead th {\n",
       "        text-align: right;\n",
       "    }\n",
       "</style>\n",
       "<table border=\"1\" class=\"dataframe\">\n",
       "  <thead>\n",
       "    <tr style=\"text-align: right;\">\n",
       "      <th></th>\n",
       "      <th>date_time</th>\n",
       "      <th>site_name</th>\n",
       "      <th>posa_continent</th>\n",
       "      <th>user_location_country</th>\n",
       "      <th>user_location_region</th>\n",
       "      <th>user_location_city</th>\n",
       "      <th>user_id</th>\n",
       "      <th>is_mobile</th>\n",
       "      <th>is_package</th>\n",
       "      <th>channel</th>\n",
       "      <th>...</th>\n",
       "      <th>hotel_country</th>\n",
       "      <th>hotel_market</th>\n",
       "      <th>item_id</th>\n",
       "      <th>click_month</th>\n",
       "      <th>checkin_month</th>\n",
       "      <th>checkout_month</th>\n",
       "      <th>north_am_ci</th>\n",
       "      <th>north_am_co</th>\n",
       "      <th>europe_ci</th>\n",
       "      <th>europe_co</th>\n",
       "    </tr>\n",
       "  </thead>\n",
       "  <tbody>\n",
       "    <tr>\n",
       "      <td>0</td>\n",
       "      <td>2014-08-11 07:46:59</td>\n",
       "      <td>2</td>\n",
       "      <td>3</td>\n",
       "      <td>66</td>\n",
       "      <td>348</td>\n",
       "      <td>48862</td>\n",
       "      <td>12</td>\n",
       "      <td>0</td>\n",
       "      <td>1</td>\n",
       "      <td>9</td>\n",
       "      <td>...</td>\n",
       "      <td>50</td>\n",
       "      <td>628</td>\n",
       "      <td>1</td>\n",
       "      <td>8</td>\n",
       "      <td>8</td>\n",
       "      <td>8</td>\n",
       "      <td>0</td>\n",
       "      <td>0</td>\n",
       "      <td>0</td>\n",
       "      <td>0</td>\n",
       "    </tr>\n",
       "    <tr>\n",
       "      <td>1</td>\n",
       "      <td>2014-08-11 08:22:12</td>\n",
       "      <td>2</td>\n",
       "      <td>3</td>\n",
       "      <td>66</td>\n",
       "      <td>348</td>\n",
       "      <td>48862</td>\n",
       "      <td>12</td>\n",
       "      <td>0</td>\n",
       "      <td>1</td>\n",
       "      <td>9</td>\n",
       "      <td>...</td>\n",
       "      <td>50</td>\n",
       "      <td>628</td>\n",
       "      <td>1</td>\n",
       "      <td>8</td>\n",
       "      <td>8</td>\n",
       "      <td>9</td>\n",
       "      <td>0</td>\n",
       "      <td>0</td>\n",
       "      <td>0</td>\n",
       "      <td>0</td>\n",
       "    </tr>\n",
       "  </tbody>\n",
       "</table>\n",
       "<p>2 rows × 30 columns</p>\n",
       "</div>"
      ],
      "text/plain": [
       "             date_time  site_name  posa_continent  user_location_country  \\\n",
       "0  2014-08-11 07:46:59          2               3                     66   \n",
       "1  2014-08-11 08:22:12          2               3                     66   \n",
       "\n",
       "   user_location_region  user_location_city  user_id  is_mobile  is_package  \\\n",
       "0                   348               48862       12          0           1   \n",
       "1                   348               48862       12          0           1   \n",
       "\n",
       "   channel  ... hotel_country hotel_market  item_id  click_month  \\\n",
       "0        9  ...            50          628        1            8   \n",
       "1        9  ...            50          628        1            8   \n",
       "\n",
       "   checkin_month  checkout_month  north_am_ci  north_am_co  europe_ci  \\\n",
       "0              8               8            0            0          0   \n",
       "1              8               9            0            0          0   \n",
       "\n",
       "   europe_co  \n",
       "0          0  \n",
       "1          0  \n",
       "\n",
       "[2 rows x 30 columns]"
      ]
     },
     "execution_count": 15,
     "metadata": {},
     "output_type": "execute_result"
    }
   ],
   "source": [
    "df.head(n=2)"
   ]
  },
  {
   "cell_type": "code",
   "execution_count": 16,
   "metadata": {},
   "outputs": [],
   "source": [
    "# extract month from date_time\n",
    "df['click_month'] = pd.DatetimeIndex(df['date_time']).month\n",
    "df['checkin_month'] = pd.DatetimeIndex(df['srch_ci']).month\n",
    "df['checkout_month'] = pd.DatetimeIndex(df['srch_co']).month"
   ]
  },
  {
   "cell_type": "code",
   "execution_count": 17,
   "metadata": {},
   "outputs": [],
   "source": [
    "df= df.drop(['date_time'],axis=1)\n",
    "df= df.drop(['srch_ci'],axis=1)\n",
    "df= df.drop(['srch_co'],axis=1)"
   ]
  },
  {
   "cell_type": "code",
   "execution_count": 18,
   "metadata": {},
   "outputs": [
    {
     "data": {
      "text/plain": [
       "(99929, 27)"
      ]
     },
     "execution_count": 18,
     "metadata": {},
     "output_type": "execute_result"
    }
   ],
   "source": [
    "df.shape"
   ]
  },
  {
   "cell_type": "code",
   "execution_count": 19,
   "metadata": {},
   "outputs": [
    {
     "data": {
      "text/plain": [
       "Index(['site_name', 'posa_continent', 'user_location_country',\n",
       "       'user_location_region', 'user_location_city', 'user_id', 'is_mobile',\n",
       "       'is_package', 'channel', 'srch_adults_cnt', 'srch_children_cnt',\n",
       "       'srch_rm_cnt', 'srch_destination_id', 'srch_destination_type_id',\n",
       "       'rating', 'cnt', 'hotel_continent', 'hotel_country', 'hotel_market',\n",
       "       'item_id', 'click_month', 'checkin_month', 'checkout_month',\n",
       "       'north_am_ci', 'north_am_co', 'europe_ci', 'europe_co'],\n",
       "      dtype='object')"
      ]
     },
     "execution_count": 19,
     "metadata": {},
     "output_type": "execute_result"
    }
   ],
   "source": [
    "df.columns"
   ]
  },
  {
   "cell_type": "code",
   "execution_count": 20,
   "metadata": {},
   "outputs": [],
   "source": [
    "#Remove rows with the same user_id and item_id and different rating\n",
    "\n",
    "#max_rating = df.groupby(['user_id', 'item_id']).rating.transform(max)\n",
    "#df = df.loc[df.rating == max_rating]\n",
    "#df.drop_duplicates(keep='first',inplace=True)"
   ]
  },
  {
   "cell_type": "code",
   "execution_count": 22,
   "metadata": {},
   "outputs": [],
   "source": [
    "# categ_sparse / conti_dense\n",
    "sparse_features = ['site_name','posa_continent','user_location_country','user_location_region','user_location_city',\n",
    "             'user_id','is_mobile','is_package','channel','click_month','checkin_month','checkout_month',\n",
    "            'srch_adults_cnt','srch_children_cnt','srch_rm_cnt','srch_destination_id','hotel_continent',\n",
    "               'hotel_country','cnt','north_am_ci', 'north_am_co', 'europe_ci', 'europe_co','click_month',\n",
    "                   'checkin_month','checkout_month']\n",
    "\n",
    "dense_features = ['hotel_market']\n",
    "target = ['rating']"
   ]
  },
  {
   "cell_type": "markdown",
   "metadata": {},
   "source": [
    "### Simple preprocessing"
   ]
  },
  {
   "cell_type": "code",
   "execution_count": 23,
   "metadata": {},
   "outputs": [],
   "source": [
    "# Label Encoding for sparse features,and normalization for dense numerical features\n",
    "for feat in sparse_features:\n",
    "    lbe = LabelEncoder()\n",
    "    df[feat] = lbe.fit_transform(df[feat])"
   ]
  },
  {
   "cell_type": "code",
   "execution_count": 24,
   "metadata": {},
   "outputs": [],
   "source": [
    "mms = MinMaxScaler(feature_range=(0,1))\n",
    "df[dense_features] = mms.fit_transform(df[dense_features])"
   ]
  },
  {
   "cell_type": "markdown",
   "metadata": {},
   "source": [
    "### Generate feature columns\n",
    "For sparse features, we transform them into dense vectors by embedding techniques. For dense numerical features, we concatenate them to the input tensors of fully connected layer."
   ]
  },
  {
   "cell_type": "code",
   "execution_count": 25,
   "metadata": {},
   "outputs": [],
   "source": [
    "# count #unique features for each sparse field\n",
    "fixlen_feature_columns = [SparseFeat(feat, df[feat].nunique(),embedding_dim=4)\n",
    "                          for feat in sparse_features]\n",
    "linear_feature_columns = fixlen_feature_columns\n",
    "dnn_feature_columns = fixlen_feature_columns\n",
    "feature_names = get_feature_names(linear_feature_columns + dnn_feature_columns)"
   ]
  },
  {
   "cell_type": "markdown",
   "metadata": {},
   "source": [
    "### Generate the training samples and train the model"
   ]
  },
  {
   "cell_type": "code",
   "execution_count": 26,
   "metadata": {},
   "outputs": [],
   "source": [
    "# generate input data for model\n",
    "train, test = train_test_split(df, test_size=0.2)\n",
    "train_model_input = {name:train[name].values for name in feature_names}\n",
    "test_model_input = {name:test[name].values for name in feature_names}"
   ]
  },
  {
   "cell_type": "markdown",
   "metadata": {},
   "source": [
    "# Model Before Hyper-Parameter Tuning"
   ]
  },
  {
   "cell_type": "code",
   "execution_count": 32,
   "metadata": {},
   "outputs": [
    {
     "name": "stdout",
     "output_type": "stream",
     "text": [
      "WARNING:tensorflow:From /Users/yas/opt/anaconda3/lib/python3.7/site-packages/tensorflow_core/python/ops/math_grad.py:1424: where (from tensorflow.python.ops.array_ops) is deprecated and will be removed in a future version.\n",
      "Instructions for updating:\n",
      "Use tf.where in 2.0, which has the same broadcast rule as np.where\n",
      "Train on 63954 samples, validate on 15989 samples\n",
      "Epoch 1/10\n",
      "63954/63954 - 4s - loss: 0.2826 - binary_crossentropy: 0.2824 - val_loss: 0.2456 - val_binary_crossentropy: 0.2451\n",
      "Epoch 2/10\n",
      "63954/63954 - 2s - loss: 0.2241 - binary_crossentropy: 0.2232 - val_loss: 0.2527 - val_binary_crossentropy: 0.2515\n",
      "Epoch 3/10\n",
      "63954/63954 - 2s - loss: 0.2091 - binary_crossentropy: 0.2077 - val_loss: 0.2685 - val_binary_crossentropy: 0.2667\n",
      "Epoch 4/10\n",
      "63954/63954 - 3s - loss: 0.2001 - binary_crossentropy: 0.1981 - val_loss: 0.2883 - val_binary_crossentropy: 0.2861\n",
      "Epoch 5/10\n",
      "63954/63954 - 3s - loss: 0.1945 - binary_crossentropy: 0.1921 - val_loss: 0.2957 - val_binary_crossentropy: 0.2930\n",
      "Epoch 6/10\n",
      "63954/63954 - 2s - loss: 0.1901 - binary_crossentropy: 0.1873 - val_loss: 0.3061 - val_binary_crossentropy: 0.3032\n",
      "Epoch 7/10\n",
      "63954/63954 - 2s - loss: 0.1864 - binary_crossentropy: 0.1834 - val_loss: 0.3201 - val_binary_crossentropy: 0.3169\n",
      "Epoch 8/10\n",
      "63954/63954 - 2s - loss: 0.1834 - binary_crossentropy: 0.1801 - val_loss: 0.3344 - val_binary_crossentropy: 0.3310\n",
      "Epoch 9/10\n",
      "63954/63954 - 2s - loss: 0.1799 - binary_crossentropy: 0.1764 - val_loss: 0.3536 - val_binary_crossentropy: 0.3501\n",
      "Epoch 10/10\n",
      "63954/63954 - 2s - loss: 0.1766 - binary_crossentropy: 0.1730 - val_loss: 0.3740 - val_binary_crossentropy: 0.3703\n"
     ]
    }
   ],
   "source": [
    "model = DeepFM(linear_feature_columns,dnn_feature_columns,task='binary')\n",
    "model.compile(\"adam\", \"binary_crossentropy\",metrics=['binary_crossentropy'])\n",
    "\n",
    "history = model.fit(train_model_input, train[target].values,\n",
    "                    batch_size=256, epochs=10, verbose=2, validation_split=0.2, )\n",
    "pred_ans = model.predict(test_model_input, batch_size=256)"
   ]
  },
  {
   "cell_type": "code",
   "execution_count": 33,
   "metadata": {},
   "outputs": [
    {
     "name": "stdout",
     "output_type": "stream",
     "text": [
      "RMSE:\t0.285000\n",
      "MAE:\t0.131000\n",
      "MSE:\t0.081000\n",
      "AUC:\t0.707000\n"
     ]
    }
   ],
   "source": [
    "auc = roc_auc_score(test[target].values, pred_ans)\n",
    "\n",
    "print(\"RMSE:\\t%f\" % np.round(math.sqrt(mean_squared_error(test[target].values, pred_ans)),3),\n",
    "      \"MAE:\\t%f\" % np.round(mean_absolute_error(test[target].values, pred_ans),3),\n",
    "      \"MSE:\\t%f\" % np.round(mean_squared_error(test[target].values, pred_ans),3),\n",
    "      \"AUC:\\t%f\" % np.round(auc,3),\n",
    "      sep='\\n')"
   ]
  },
  {
   "cell_type": "markdown",
   "metadata": {},
   "source": [
    "# Random Search\n",
    "This is just a random search and the result might be more acuurate using methods like grid shearch."
   ]
  },
  {
   "cell_type": "code",
   "execution_count": 65,
   "metadata": {},
   "outputs": [],
   "source": [
    "param_rand = {'dnn_hidden_units' : [(1,1),(2,2),(4,4),(8,8),(29,29),(128,128),(256,256)],\n",
    "              'dnn_use_bn':[True,False],\n",
    "              'l2_reg_linear':[1e-5,1e-3,1e-1,1,10],\n",
    "              'l2_reg_embedding':[1e-7,1e-5,1e-3,1e-1,1],\n",
    "              'l2_reg_dnn':[0,0.2,2,4],\n",
    "              'dnn_dropout':[0, 0.3, 0.5, 0.7, 0.9]\n",
    "             }\n",
    "result = {}"
   ]
  },
  {
   "cell_type": "markdown",
   "metadata": {},
   "source": [
    "### dnn_hidden_units: list,list of positive integer or empty list, the layer number and units in each layer of DNN"
   ]
  },
  {
   "cell_type": "code",
   "execution_count": 43,
   "metadata": {
    "scrolled": true
   },
   "outputs": [
    {
     "name": "stdout",
     "output_type": "stream",
     "text": [
      "Train on 63954 samples, validate on 15989 samples\n",
      "Epoch 1/10\n",
      "63954/63954 - 10s - loss: 0.0971 - mean_squared_error: 0.0970 - val_loss: 0.0751 - val_mean_squared_error: 0.0749\n",
      "Epoch 2/10\n",
      "63954/63954 - 4s - loss: 0.0717 - mean_squared_error: 0.0712 - val_loss: 0.0723 - val_mean_squared_error: 0.0716\n",
      "Epoch 3/10\n",
      "63954/63954 - 3s - loss: 0.0683 - mean_squared_error: 0.0673 - val_loss: 0.0723 - val_mean_squared_error: 0.0712\n",
      "Epoch 4/10\n",
      "63954/63954 - 3s - loss: 0.0664 - mean_squared_error: 0.0650 - val_loss: 0.0730 - val_mean_squared_error: 0.0715\n",
      "Epoch 5/10\n",
      "63954/63954 - 3s - loss: 0.0651 - mean_squared_error: 0.0634 - val_loss: 0.0735 - val_mean_squared_error: 0.0716\n",
      "Epoch 6/10\n",
      "63954/63954 - 3s - loss: 0.0641 - mean_squared_error: 0.0621 - val_loss: 0.0745 - val_mean_squared_error: 0.0724\n",
      "Epoch 7/10\n",
      "63954/63954 - 3s - loss: 0.0632 - mean_squared_error: 0.0609 - val_loss: 0.0756 - val_mean_squared_error: 0.0733\n",
      "Epoch 8/10\n",
      "63954/63954 - 3s - loss: 0.0625 - mean_squared_error: 0.0600 - val_loss: 0.0772 - val_mean_squared_error: 0.0747\n",
      "Epoch 9/10\n",
      "63954/63954 - 3s - loss: 0.0619 - mean_squared_error: 0.0593 - val_loss: 0.0772 - val_mean_squared_error: 0.0745\n",
      "Epoch 10/10\n",
      "63954/63954 - 3s - loss: 0.0613 - mean_squared_error: 0.0585 - val_loss: 0.0785 - val_mean_squared_error: 0.0756\n",
      "Train on 63954 samples, validate on 15989 samples\n",
      "Epoch 1/10\n",
      "63954/63954 - 11s - loss: 0.0871 - mean_squared_error: 0.0870 - val_loss: 0.0742 - val_mean_squared_error: 0.0740\n",
      "Epoch 2/10\n",
      "63954/63954 - 3s - loss: 0.0704 - mean_squared_error: 0.0699 - val_loss: 0.0716 - val_mean_squared_error: 0.0709\n",
      "Epoch 3/10\n",
      "63954/63954 - 3s - loss: 0.0664 - mean_squared_error: 0.0655 - val_loss: 0.0726 - val_mean_squared_error: 0.0716\n",
      "Epoch 4/10\n",
      "63954/63954 - 3s - loss: 0.0640 - mean_squared_error: 0.0628 - val_loss: 0.0741 - val_mean_squared_error: 0.0727\n",
      "Epoch 5/10\n",
      "63954/63954 - 3s - loss: 0.0624 - mean_squared_error: 0.0609 - val_loss: 0.0776 - val_mean_squared_error: 0.0760\n",
      "Epoch 6/10\n",
      "63954/63954 - 3s - loss: 0.0610 - mean_squared_error: 0.0593 - val_loss: 0.0785 - val_mean_squared_error: 0.0767\n",
      "Epoch 7/10\n",
      "63954/63954 - 3s - loss: 0.0600 - mean_squared_error: 0.0582 - val_loss: 0.0795 - val_mean_squared_error: 0.0777\n",
      "Epoch 8/10\n",
      "63954/63954 - 3s - loss: 0.0591 - mean_squared_error: 0.0572 - val_loss: 0.0808 - val_mean_squared_error: 0.0788\n",
      "Epoch 9/10\n",
      "63954/63954 - 3s - loss: 0.0584 - mean_squared_error: 0.0564 - val_loss: 0.0813 - val_mean_squared_error: 0.0793\n",
      "Epoch 10/10\n",
      "63954/63954 - 3s - loss: 0.0579 - mean_squared_error: 0.0559 - val_loss: 0.0818 - val_mean_squared_error: 0.0798\n",
      "Train on 63954 samples, validate on 15989 samples\n",
      "Epoch 1/10\n",
      "63954/63954 - 11s - loss: 0.0864 - mean_squared_error: 0.0863 - val_loss: 0.0738 - val_mean_squared_error: 0.0737\n",
      "Epoch 2/10\n",
      "63954/63954 - 3s - loss: 0.0701 - mean_squared_error: 0.0697 - val_loss: 0.0710 - val_mean_squared_error: 0.0704\n",
      "Epoch 3/10\n",
      "63954/63954 - 4s - loss: 0.0660 - mean_squared_error: 0.0652 - val_loss: 0.0722 - val_mean_squared_error: 0.0712\n",
      "Epoch 4/10\n",
      "63954/63954 - 3s - loss: 0.0635 - mean_squared_error: 0.0623 - val_loss: 0.0747 - val_mean_squared_error: 0.0735\n",
      "Epoch 5/10\n",
      "63954/63954 - 3s - loss: 0.0615 - mean_squared_error: 0.0602 - val_loss: 0.0764 - val_mean_squared_error: 0.0750\n",
      "Epoch 6/10\n",
      "63954/63954 - 3s - loss: 0.0599 - mean_squared_error: 0.0584 - val_loss: 0.0784 - val_mean_squared_error: 0.0769\n",
      "Epoch 7/10\n",
      "63954/63954 - 4s - loss: 0.0588 - mean_squared_error: 0.0572 - val_loss: 0.0801 - val_mean_squared_error: 0.0785\n",
      "Epoch 8/10\n",
      "63954/63954 - 4s - loss: 0.0578 - mean_squared_error: 0.0561 - val_loss: 0.0806 - val_mean_squared_error: 0.0789\n",
      "Epoch 9/10\n",
      "63954/63954 - 4s - loss: 0.0571 - mean_squared_error: 0.0554 - val_loss: 0.0824 - val_mean_squared_error: 0.0807\n",
      "Epoch 10/10\n",
      "63954/63954 - 3s - loss: 0.0564 - mean_squared_error: 0.0546 - val_loss: 0.0830 - val_mean_squared_error: 0.0812\n",
      "Train on 63954 samples, validate on 15989 samples\n",
      "Epoch 1/10\n",
      "63954/63954 - 9s - loss: 0.0884 - mean_squared_error: 0.0883 - val_loss: 0.0735 - val_mean_squared_error: 0.0733\n",
      "Epoch 2/10\n",
      "63954/63954 - 3s - loss: 0.0693 - mean_squared_error: 0.0687 - val_loss: 0.0712 - val_mean_squared_error: 0.0705\n",
      "Epoch 3/10\n",
      "63954/63954 - 3s - loss: 0.0650 - mean_squared_error: 0.0641 - val_loss: 0.0730 - val_mean_squared_error: 0.0719\n",
      "Epoch 4/10\n",
      "63954/63954 - 3s - loss: 0.0626 - mean_squared_error: 0.0613 - val_loss: 0.0753 - val_mean_squared_error: 0.0740\n",
      "Epoch 5/10\n",
      "63954/63954 - 5s - loss: 0.0606 - mean_squared_error: 0.0592 - val_loss: 0.0778 - val_mean_squared_error: 0.0763\n",
      "Epoch 6/10\n",
      "63954/63954 - 4s - loss: 0.0593 - mean_squared_error: 0.0578 - val_loss: 0.0792 - val_mean_squared_error: 0.0776\n",
      "Epoch 7/10\n",
      "63954/63954 - 3s - loss: 0.0584 - mean_squared_error: 0.0568 - val_loss: 0.0802 - val_mean_squared_error: 0.0786\n",
      "Epoch 8/10\n",
      "63954/63954 - 3s - loss: 0.0577 - mean_squared_error: 0.0560 - val_loss: 0.0803 - val_mean_squared_error: 0.0786\n",
      "Epoch 9/10\n",
      "63954/63954 - 4s - loss: 0.0571 - mean_squared_error: 0.0553 - val_loss: 0.0825 - val_mean_squared_error: 0.0808\n",
      "Epoch 10/10\n",
      "63954/63954 - 4s - loss: 0.0564 - mean_squared_error: 0.0547 - val_loss: 0.0828 - val_mean_squared_error: 0.0811\n",
      "Train on 63954 samples, validate on 15989 samples\n",
      "Epoch 1/10\n",
      "63954/63954 - 9s - loss: 0.0856 - mean_squared_error: 0.0855 - val_loss: 0.0717 - val_mean_squared_error: 0.0714\n",
      "Epoch 2/10\n",
      "63954/63954 - 3s - loss: 0.0679 - mean_squared_error: 0.0673 - val_loss: 0.0710 - val_mean_squared_error: 0.0703\n",
      "Epoch 3/10\n",
      "63954/63954 - 3s - loss: 0.0639 - mean_squared_error: 0.0630 - val_loss: 0.0734 - val_mean_squared_error: 0.0723\n",
      "Epoch 4/10\n",
      "63954/63954 - 3s - loss: 0.0615 - mean_squared_error: 0.0604 - val_loss: 0.0754 - val_mean_squared_error: 0.0742\n",
      "Epoch 5/10\n",
      "63954/63954 - 3s - loss: 0.0598 - mean_squared_error: 0.0585 - val_loss: 0.0779 - val_mean_squared_error: 0.0765\n",
      "Epoch 6/10\n",
      "63954/63954 - 4s - loss: 0.0587 - mean_squared_error: 0.0573 - val_loss: 0.0791 - val_mean_squared_error: 0.0777\n",
      "Epoch 7/10\n",
      "63954/63954 - 4s - loss: 0.0577 - mean_squared_error: 0.0563 - val_loss: 0.0819 - val_mean_squared_error: 0.0804\n",
      "Epoch 8/10\n",
      "63954/63954 - 5s - loss: 0.0570 - mean_squared_error: 0.0555 - val_loss: 0.0820 - val_mean_squared_error: 0.0804\n",
      "Epoch 9/10\n",
      "63954/63954 - 3s - loss: 0.0565 - mean_squared_error: 0.0549 - val_loss: 0.0828 - val_mean_squared_error: 0.0812\n",
      "Epoch 10/10\n",
      "63954/63954 - 4s - loss: 0.0559 - mean_squared_error: 0.0543 - val_loss: 0.0832 - val_mean_squared_error: 0.0815\n",
      "Train on 63954 samples, validate on 15989 samples\n",
      "Epoch 1/10\n",
      "63954/63954 - 12s - loss: 0.0808 - mean_squared_error: 0.0806 - val_loss: 0.0702 - val_mean_squared_error: 0.0699\n",
      "Epoch 2/10\n",
      "63954/63954 - 3s - loss: 0.0664 - mean_squared_error: 0.0659 - val_loss: 0.0716 - val_mean_squared_error: 0.0709\n",
      "Epoch 3/10\n",
      "63954/63954 - 4s - loss: 0.0631 - mean_squared_error: 0.0624 - val_loss: 0.0739 - val_mean_squared_error: 0.0730\n",
      "Epoch 4/10\n",
      "63954/63954 - 4s - loss: 0.0609 - mean_squared_error: 0.0599 - val_loss: 0.0763 - val_mean_squared_error: 0.0752\n",
      "Epoch 5/10\n",
      "63954/63954 - 4s - loss: 0.0593 - mean_squared_error: 0.0582 - val_loss: 0.0770 - val_mean_squared_error: 0.0758\n",
      "Epoch 6/10\n",
      "63954/63954 - 3s - loss: 0.0583 - mean_squared_error: 0.0571 - val_loss: 0.0781 - val_mean_squared_error: 0.0769\n",
      "Epoch 7/10\n",
      "63954/63954 - 4s - loss: 0.0573 - mean_squared_error: 0.0560 - val_loss: 0.0812 - val_mean_squared_error: 0.0799\n",
      "Epoch 8/10\n",
      "63954/63954 - 3s - loss: 0.0565 - mean_squared_error: 0.0552 - val_loss: 0.0816 - val_mean_squared_error: 0.0802\n",
      "Epoch 9/10\n",
      "63954/63954 - 3s - loss: 0.0559 - mean_squared_error: 0.0544 - val_loss: 0.0838 - val_mean_squared_error: 0.0823\n",
      "Epoch 10/10\n",
      "63954/63954 - 3s - loss: 0.0552 - mean_squared_error: 0.0537 - val_loss: 0.0853 - val_mean_squared_error: 0.0838\n",
      "Train on 63954 samples, validate on 15989 samples\n",
      "Epoch 1/10\n",
      "63954/63954 - 12s - loss: 0.0799 - mean_squared_error: 0.0798 - val_loss: 0.0701 - val_mean_squared_error: 0.0698\n",
      "Epoch 2/10\n",
      "63954/63954 - 5s - loss: 0.0663 - mean_squared_error: 0.0658 - val_loss: 0.0715 - val_mean_squared_error: 0.0709\n",
      "Epoch 3/10\n",
      "63954/63954 - 5s - loss: 0.0630 - mean_squared_error: 0.0623 - val_loss: 0.0741 - val_mean_squared_error: 0.0733\n",
      "Epoch 4/10\n",
      "63954/63954 - 4s - loss: 0.0608 - mean_squared_error: 0.0599 - val_loss: 0.0758 - val_mean_squared_error: 0.0749\n"
     ]
    },
    {
     "name": "stdout",
     "output_type": "stream",
     "text": [
      "Epoch 5/10\n",
      "63954/63954 - 4s - loss: 0.0592 - mean_squared_error: 0.0581 - val_loss: 0.0780 - val_mean_squared_error: 0.0769\n",
      "Epoch 6/10\n",
      "63954/63954 - 4s - loss: 0.0580 - mean_squared_error: 0.0569 - val_loss: 0.0784 - val_mean_squared_error: 0.0772\n",
      "Epoch 7/10\n",
      "63954/63954 - 6s - loss: 0.0570 - mean_squared_error: 0.0557 - val_loss: 0.0804 - val_mean_squared_error: 0.0791\n",
      "Epoch 8/10\n",
      "63954/63954 - 5s - loss: 0.0560 - mean_squared_error: 0.0547 - val_loss: 0.0829 - val_mean_squared_error: 0.0815\n",
      "Epoch 9/10\n",
      "63954/63954 - 4s - loss: 0.0551 - mean_squared_error: 0.0537 - val_loss: 0.0840 - val_mean_squared_error: 0.0825\n",
      "Epoch 10/10\n",
      "63954/63954 - 4s - loss: 0.0544 - mean_squared_error: 0.0530 - val_loss: 0.0850 - val_mean_squared_error: 0.0835\n"
     ]
    }
   ],
   "source": [
    "dnn_hidden_units_dict = {}\n",
    "for i in param_rand['dnn_hidden_units']:\n",
    "    model = DeepFM(linear_feature_columns,dnn_feature_columns,fm_group=['default_group'], dnn_hidden_units=i, \n",
    "             init_std=0.0001, seed=1024,task='binary')\n",
    "\n",
    "    model.compile(\"adam\", \"mse\", metrics=['mse'])\n",
    "\n",
    "    history = model.fit(train_model_input, train[target].values,\n",
    "                            batch_size=256, epochs=10, verbose=2, validation_split=0.2, )\n",
    "    pred_ans = model.predict(test_model_input, batch_size=256)\n",
    "    \n",
    "    auc = roc_auc_score(test[target].values, pred_ans)\n",
    "    dnn_hidden_units_dict[i]={\"RMSE\": np.round(math.sqrt(mean_squared_error(test[target].values, pred_ans)),3),\n",
    "      \"MAE\" : np.round(mean_absolute_error(test[target].values, pred_ans),3),\n",
    "      \"MSE\" : np.round(mean_squared_error(test[target].values, pred_ans),3),\n",
    "      \"AUC\" : np.round(auc,3)}\n",
    "result['dnn_hidden_units']=dnn_hidden_units_dict"
   ]
  },
  {
   "cell_type": "code",
   "execution_count": 44,
   "metadata": {},
   "outputs": [
    {
     "data": {
      "text/plain": [
       "{(1, 1): {'RMSE': 0.272, 'MAE': 0.149, 'MSE': 0.074, 'AUC': 0.765},\n",
       " (2, 2): {'RMSE': 0.279, 'MAE': 0.132, 'MSE': 0.078, 'AUC': 0.754},\n",
       " (4, 4): {'RMSE': 0.281, 'MAE': 0.133, 'MSE': 0.079, 'AUC': 0.751},\n",
       " (8, 8): {'RMSE': 0.281, 'MAE': 0.129, 'MSE': 0.079, 'AUC': 0.749},\n",
       " (29, 29): {'RMSE': 0.282, 'MAE': 0.131, 'MSE': 0.079, 'AUC': 0.751},\n",
       " (128, 128): {'RMSE': 0.286, 'MAE': 0.126, 'MSE': 0.082, 'AUC': 0.752},\n",
       " (256, 256): {'RMSE': 0.285, 'MAE': 0.123, 'MSE': 0.081, 'AUC': 0.749}}"
      ]
     },
     "execution_count": 44,
     "metadata": {},
     "output_type": "execute_result"
    }
   ],
   "source": [
    "dnn_hidden_units_dict"
   ]
  },
  {
   "cell_type": "code",
   "execution_count": 47,
   "metadata": {},
   "outputs": [
    {
     "data": {
      "text/plain": [
       "{'RMSE': 0.286, 'MAE': 0.126, 'MSE': 0.082, 'AUC': 0.752}"
      ]
     },
     "execution_count": 47,
     "metadata": {},
     "output_type": "execute_result"
    }
   ],
   "source": [
    "dnn_hidden_units_dict[(128, 128)]"
   ]
  },
  {
   "cell_type": "markdown",
   "metadata": {},
   "source": [
    "### dnn_use_bn – bool. Whether use BatchNormalization before activation or not in DNN"
   ]
  },
  {
   "cell_type": "code",
   "execution_count": 51,
   "metadata": {
    "scrolled": true
   },
   "outputs": [
    {
     "name": "stdout",
     "output_type": "stream",
     "text": [
      "Train on 63954 samples, validate on 15989 samples\n",
      "Epoch 1/10\n",
      "63954/63954 - 12s - loss: 0.0753 - mean_squared_error: 0.0753 - val_loss: 0.0787 - val_mean_squared_error: 0.0786\n",
      "Epoch 2/10\n",
      "63954/63954 - 4s - loss: 0.0675 - mean_squared_error: 0.0673 - val_loss: 0.0726 - val_mean_squared_error: 0.0724\n",
      "Epoch 3/10\n",
      "63954/63954 - 4s - loss: 0.0632 - mean_squared_error: 0.0629 - val_loss: 0.0750 - val_mean_squared_error: 0.0747\n",
      "Epoch 4/10\n",
      "63954/63954 - 4s - loss: 0.0600 - mean_squared_error: 0.0597 - val_loss: 0.0792 - val_mean_squared_error: 0.0787\n",
      "Epoch 5/10\n",
      "63954/63954 - 4s - loss: 0.0571 - mean_squared_error: 0.0566 - val_loss: 0.0826 - val_mean_squared_error: 0.0821\n",
      "Epoch 6/10\n",
      "63954/63954 - 4s - loss: 0.0551 - mean_squared_error: 0.0545 - val_loss: 0.0864 - val_mean_squared_error: 0.0857\n",
      "Epoch 7/10\n",
      "63954/63954 - 4s - loss: 0.0533 - mean_squared_error: 0.0526 - val_loss: 0.0889 - val_mean_squared_error: 0.0882\n",
      "Epoch 8/10\n",
      "63954/63954 - 4s - loss: 0.0517 - mean_squared_error: 0.0509 - val_loss: 0.0874 - val_mean_squared_error: 0.0867\n",
      "Epoch 9/10\n",
      "63954/63954 - 4s - loss: 0.0504 - mean_squared_error: 0.0496 - val_loss: 0.0928 - val_mean_squared_error: 0.0920\n",
      "Epoch 10/10\n",
      "63954/63954 - 4s - loss: 0.0493 - mean_squared_error: 0.0484 - val_loss: 0.0939 - val_mean_squared_error: 0.0930\n",
      "Train on 63954 samples, validate on 15989 samples\n",
      "Epoch 1/10\n",
      "63954/63954 - 12s - loss: 0.0813 - mean_squared_error: 0.0812 - val_loss: 0.0703 - val_mean_squared_error: 0.0700\n",
      "Epoch 2/10\n",
      "63954/63954 - 4s - loss: 0.0664 - mean_squared_error: 0.0658 - val_loss: 0.0713 - val_mean_squared_error: 0.0706\n",
      "Epoch 3/10\n",
      "63954/63954 - 4s - loss: 0.0631 - mean_squared_error: 0.0623 - val_loss: 0.0742 - val_mean_squared_error: 0.0733\n",
      "Epoch 4/10\n",
      "63954/63954 - 4s - loss: 0.0609 - mean_squared_error: 0.0599 - val_loss: 0.0762 - val_mean_squared_error: 0.0751\n",
      "Epoch 5/10\n",
      "63954/63954 - 4s - loss: 0.0593 - mean_squared_error: 0.0582 - val_loss: 0.0782 - val_mean_squared_error: 0.0770\n",
      "Epoch 6/10\n",
      "63954/63954 - 4s - loss: 0.0582 - mean_squared_error: 0.0569 - val_loss: 0.0795 - val_mean_squared_error: 0.0782\n",
      "Epoch 7/10\n",
      "63954/63954 - 4s - loss: 0.0573 - mean_squared_error: 0.0560 - val_loss: 0.0806 - val_mean_squared_error: 0.0792\n",
      "Epoch 8/10\n",
      "63954/63954 - 4s - loss: 0.0565 - mean_squared_error: 0.0551 - val_loss: 0.0814 - val_mean_squared_error: 0.0800\n",
      "Epoch 9/10\n",
      "63954/63954 - 4s - loss: 0.0557 - mean_squared_error: 0.0542 - val_loss: 0.0841 - val_mean_squared_error: 0.0826\n",
      "Epoch 10/10\n",
      "63954/63954 - 4s - loss: 0.0551 - mean_squared_error: 0.0536 - val_loss: 0.0848 - val_mean_squared_error: 0.0832\n"
     ]
    }
   ],
   "source": [
    "dnn_use_bn_dict = {}\n",
    "for i in param_rand['dnn_use_bn']:\n",
    "    model= DeepFM(linear_feature_columns,dnn_feature_columns,fm_group=['default_group'],dnn_hidden_units=(128,128), \n",
    "             init_std=0.0001, seed=1024,task='binary',dnn_use_bn=i)\n",
    "\n",
    "    model.compile(\"adam\", \"mse\", metrics=['mse'])\n",
    "\n",
    "    history = model.fit(train_model_input, train[target].values,\n",
    "                            batch_size=256, epochs=10, verbose=2, validation_split=0.2, )\n",
    "    pred_ans = model.predict(test_model_input, batch_size=256)\n",
    "    \n",
    "    auc = roc_auc_score(test[target].values, pred_ans)\n",
    "    dnn_use_bn_dict[i]={\"RMSE\": np.round(math.sqrt(mean_squared_error(test[target].values, pred_ans)),3),\n",
    "      \"MAE\" : np.round(mean_absolute_error(test[target].values, pred_ans),3),\n",
    "      \"MSE\" : np.round(mean_squared_error(test[target].values, pred_ans),3),\n",
    "      \"AUC\" : np.round(auc,3)}\n",
    "result['dnn_use_bn_dict']=dnn_use_bn_dict"
   ]
  },
  {
   "cell_type": "code",
   "execution_count": 52,
   "metadata": {},
   "outputs": [
    {
     "data": {
      "text/plain": [
       "{True: {'RMSE': 0.303, 'MAE': 0.149, 'MSE': 0.092, 'AUC': 0.722},\n",
       " False: {'RMSE': 0.285, 'MAE': 0.135, 'MSE': 0.081, 'AUC': 0.748}}"
      ]
     },
     "execution_count": 52,
     "metadata": {},
     "output_type": "execute_result"
    }
   ],
   "source": [
    "dnn_use_bn_dict"
   ]
  },
  {
   "cell_type": "code",
   "execution_count": 64,
   "metadata": {},
   "outputs": [
    {
     "data": {
      "text/plain": [
       "{'RMSE': 0.285, 'MAE': 0.135, 'MSE': 0.081, 'AUC': 0.748}"
      ]
     },
     "execution_count": 64,
     "metadata": {},
     "output_type": "execute_result"
    }
   ],
   "source": [
    "dnn_use_bn_dict[False]"
   ]
  },
  {
   "cell_type": "markdown",
   "metadata": {},
   "source": [
    "### l2_reg_linear: float. L2 regularizer strength applied to wide part"
   ]
  },
  {
   "cell_type": "code",
   "execution_count": 53,
   "metadata": {
    "scrolled": true
   },
   "outputs": [
    {
     "name": "stdout",
     "output_type": "stream",
     "text": [
      "Train on 63954 samples, validate on 15989 samples\n",
      "Epoch 1/10\n",
      "63954/63954 - 13s - loss: 0.0816 - mean_squared_error: 0.0815 - val_loss: 0.0705 - val_mean_squared_error: 0.0702\n",
      "Epoch 2/10\n",
      "63954/63954 - 6s - loss: 0.0665 - mean_squared_error: 0.0660 - val_loss: 0.0720 - val_mean_squared_error: 0.0713\n",
      "Epoch 3/10\n",
      "63954/63954 - 5s - loss: 0.0630 - mean_squared_error: 0.0622 - val_loss: 0.0744 - val_mean_squared_error: 0.0735\n",
      "Epoch 4/10\n",
      "63954/63954 - 5s - loss: 0.0609 - mean_squared_error: 0.0599 - val_loss: 0.0760 - val_mean_squared_error: 0.0749\n",
      "Epoch 5/10\n",
      "63954/63954 - 5s - loss: 0.0594 - mean_squared_error: 0.0583 - val_loss: 0.0785 - val_mean_squared_error: 0.0774\n",
      "Epoch 6/10\n",
      "63954/63954 - 5s - loss: 0.0582 - mean_squared_error: 0.0569 - val_loss: 0.0790 - val_mean_squared_error: 0.0777\n",
      "Epoch 7/10\n",
      "63954/63954 - 6s - loss: 0.0574 - mean_squared_error: 0.0561 - val_loss: 0.0810 - val_mean_squared_error: 0.0796\n",
      "Epoch 8/10\n",
      "63954/63954 - 6s - loss: 0.0567 - mean_squared_error: 0.0553 - val_loss: 0.0828 - val_mean_squared_error: 0.0814\n",
      "Epoch 9/10\n",
      "63954/63954 - 5s - loss: 0.0560 - mean_squared_error: 0.0545 - val_loss: 0.0829 - val_mean_squared_error: 0.0814\n",
      "Epoch 10/10\n",
      "63954/63954 - 7s - loss: 0.0552 - mean_squared_error: 0.0537 - val_loss: 0.0842 - val_mean_squared_error: 0.0826\n",
      "Train on 63954 samples, validate on 15989 samples\n",
      "Epoch 1/10\n",
      "63954/63954 - 15s - loss: 0.0815 - mean_squared_error: 0.0812 - val_loss: 0.0703 - val_mean_squared_error: 0.0698\n",
      "Epoch 2/10\n",
      "63954/63954 - 5s - loss: 0.0667 - mean_squared_error: 0.0660 - val_loss: 0.0715 - val_mean_squared_error: 0.0707\n",
      "Epoch 3/10\n",
      "63954/63954 - 4s - loss: 0.0632 - mean_squared_error: 0.0623 - val_loss: 0.0737 - val_mean_squared_error: 0.0727\n",
      "Epoch 4/10\n",
      "63954/63954 - 4s - loss: 0.0611 - mean_squared_error: 0.0600 - val_loss: 0.0760 - val_mean_squared_error: 0.0748\n",
      "Epoch 5/10\n",
      "63954/63954 - 4s - loss: 0.0595 - mean_squared_error: 0.0583 - val_loss: 0.0775 - val_mean_squared_error: 0.0762\n",
      "Epoch 6/10\n",
      "63954/63954 - 5s - loss: 0.0585 - mean_squared_error: 0.0572 - val_loss: 0.0790 - val_mean_squared_error: 0.0776\n",
      "Epoch 7/10\n",
      "63954/63954 - 5s - loss: 0.0575 - mean_squared_error: 0.0562 - val_loss: 0.0811 - val_mean_squared_error: 0.0797\n",
      "Epoch 8/10\n",
      "63954/63954 - 4s - loss: 0.0569 - mean_squared_error: 0.0555 - val_loss: 0.0816 - val_mean_squared_error: 0.0801\n",
      "Epoch 9/10\n",
      "63954/63954 - 5s - loss: 0.0562 - mean_squared_error: 0.0547 - val_loss: 0.0831 - val_mean_squared_error: 0.0815\n",
      "Epoch 10/10\n",
      "63954/63954 - 4s - loss: 0.0554 - mean_squared_error: 0.0538 - val_loss: 0.0834 - val_mean_squared_error: 0.0818\n",
      "Train on 63954 samples, validate on 15989 samples\n",
      "Epoch 1/10\n",
      "63954/63954 - 13s - loss: 0.0835 - mean_squared_error: 0.0819 - val_loss: 0.0705 - val_mean_squared_error: 0.0699\n",
      "Epoch 2/10\n",
      "63954/63954 - 4s - loss: 0.0667 - mean_squared_error: 0.0660 - val_loss: 0.0719 - val_mean_squared_error: 0.0711\n",
      "Epoch 3/10\n",
      "63954/63954 - 4s - loss: 0.0631 - mean_squared_error: 0.0622 - val_loss: 0.0738 - val_mean_squared_error: 0.0728\n",
      "Epoch 4/10\n",
      "63954/63954 - 6s - loss: 0.0610 - mean_squared_error: 0.0599 - val_loss: 0.0759 - val_mean_squared_error: 0.0747\n",
      "Epoch 5/10\n",
      "63954/63954 - 4s - loss: 0.0596 - mean_squared_error: 0.0584 - val_loss: 0.0779 - val_mean_squared_error: 0.0766\n",
      "Epoch 6/10\n",
      "63954/63954 - 6s - loss: 0.0584 - mean_squared_error: 0.0571 - val_loss: 0.0787 - val_mean_squared_error: 0.0773\n",
      "Epoch 7/10\n",
      "63954/63954 - 4s - loss: 0.0576 - mean_squared_error: 0.0562 - val_loss: 0.0806 - val_mean_squared_error: 0.0791\n",
      "Epoch 8/10\n",
      "63954/63954 - 4s - loss: 0.0569 - mean_squared_error: 0.0554 - val_loss: 0.0825 - val_mean_squared_error: 0.0810\n",
      "Epoch 9/10\n",
      "63954/63954 - 6s - loss: 0.0562 - mean_squared_error: 0.0546 - val_loss: 0.0827 - val_mean_squared_error: 0.0811\n",
      "Epoch 10/10\n",
      "63954/63954 - 6s - loss: 0.0554 - mean_squared_error: 0.0538 - val_loss: 0.0844 - val_mean_squared_error: 0.0828\n",
      "Train on 63954 samples, validate on 15989 samples\n",
      "Epoch 1/10\n",
      "63954/63954 - 14s - loss: 0.0834 - mean_squared_error: 0.0813 - val_loss: 0.0706 - val_mean_squared_error: 0.0702\n",
      "Epoch 2/10\n",
      "63954/63954 - 4s - loss: 0.0665 - mean_squared_error: 0.0659 - val_loss: 0.0717 - val_mean_squared_error: 0.0710\n",
      "Epoch 3/10\n",
      "63954/63954 - 4s - loss: 0.0631 - mean_squared_error: 0.0622 - val_loss: 0.0742 - val_mean_squared_error: 0.0732\n",
      "Epoch 4/10\n",
      "63954/63954 - 4s - loss: 0.0610 - mean_squared_error: 0.0599 - val_loss: 0.0768 - val_mean_squared_error: 0.0757\n",
      "Epoch 5/10\n",
      "63954/63954 - 4s - loss: 0.0596 - mean_squared_error: 0.0584 - val_loss: 0.0782 - val_mean_squared_error: 0.0769\n",
      "Epoch 6/10\n",
      "63954/63954 - 4s - loss: 0.0584 - mean_squared_error: 0.0571 - val_loss: 0.0787 - val_mean_squared_error: 0.0774\n",
      "Epoch 7/10\n",
      "63954/63954 - 4s - loss: 0.0575 - mean_squared_error: 0.0561 - val_loss: 0.0821 - val_mean_squared_error: 0.0806\n",
      "Epoch 8/10\n",
      "63954/63954 - 4s - loss: 0.0567 - mean_squared_error: 0.0553 - val_loss: 0.0825 - val_mean_squared_error: 0.0809\n",
      "Epoch 9/10\n",
      "63954/63954 - 4s - loss: 0.0559 - mean_squared_error: 0.0544 - val_loss: 0.0829 - val_mean_squared_error: 0.0813\n",
      "Epoch 10/10\n",
      "63954/63954 - 4s - loss: 0.0554 - mean_squared_error: 0.0538 - val_loss: 0.0834 - val_mean_squared_error: 0.0818\n",
      "Train on 63954 samples, validate on 15989 samples\n",
      "Epoch 1/10\n",
      "63954/63954 - 14s - loss: 0.0857 - mean_squared_error: 0.0828 - val_loss: 0.0704 - val_mean_squared_error: 0.0701\n",
      "Epoch 2/10\n",
      "63954/63954 - 4s - loss: 0.0666 - mean_squared_error: 0.0660 - val_loss: 0.0720 - val_mean_squared_error: 0.0712\n",
      "Epoch 3/10\n",
      "63954/63954 - 4s - loss: 0.0630 - mean_squared_error: 0.0622 - val_loss: 0.0742 - val_mean_squared_error: 0.0733\n",
      "Epoch 4/10\n",
      "63954/63954 - 4s - loss: 0.0609 - mean_squared_error: 0.0599 - val_loss: 0.0763 - val_mean_squared_error: 0.0752\n",
      "Epoch 5/10\n",
      "63954/63954 - 4s - loss: 0.0594 - mean_squared_error: 0.0583 - val_loss: 0.0773 - val_mean_squared_error: 0.0760\n",
      "Epoch 6/10\n",
      "63954/63954 - 4s - loss: 0.0584 - mean_squared_error: 0.0571 - val_loss: 0.0802 - val_mean_squared_error: 0.0788\n",
      "Epoch 7/10\n",
      "63954/63954 - 4s - loss: 0.0576 - mean_squared_error: 0.0562 - val_loss: 0.0806 - val_mean_squared_error: 0.0791\n",
      "Epoch 8/10\n",
      "63954/63954 - 4s - loss: 0.0566 - mean_squared_error: 0.0551 - val_loss: 0.0827 - val_mean_squared_error: 0.0811\n",
      "Epoch 9/10\n",
      "63954/63954 - 4s - loss: 0.0559 - mean_squared_error: 0.0543 - val_loss: 0.0834 - val_mean_squared_error: 0.0818\n",
      "Epoch 10/10\n",
      "63954/63954 - 4s - loss: 0.0552 - mean_squared_error: 0.0536 - val_loss: 0.0854 - val_mean_squared_error: 0.0838\n"
     ]
    }
   ],
   "source": [
    "l2_reg_linear_dict={}\n",
    "for i in param_rand['l2_reg_linear']:\n",
    "    model = DeepFM(linear_feature_columns, dnn_feature_columns, dnn_hidden_units=(128,128), l2_reg_linear=i,\n",
    "            fm_group=['default_group'],l2_reg_embedding=1e-5, l2_reg_dnn=0, init_std=0.0001,dnn_use_bn=False,\n",
    "                   seed=1024,task='binary')\n",
    "\n",
    "    model.compile(\"adam\", \"mse\", metrics=['mse'])\n",
    "\n",
    "    history = model.fit(train_model_input, train[target].values,\n",
    "                            batch_size=256, epochs=10, verbose=2, validation_split=0.2, )\n",
    "    pred_ans = model.predict(test_model_input, batch_size=256)\n",
    "    \n",
    "    auc = roc_auc_score(test[target].values, pred_ans)\n",
    "    \n",
    "    l2_reg_linear_dict[i]={\"RMSE\": np.round(math.sqrt(mean_squared_error(test[target].values, pred_ans)),3),\n",
    "      \"MAE\" : np.round(mean_absolute_error(test[target].values, pred_ans),3),\n",
    "      \"MSE\" : np.round(mean_squared_error(test[target].values, pred_ans),3),\n",
    "      \"AUC\" : np.round(auc,3)}\n",
    "    \n",
    "result['l2_reg_linear']=l2_reg_linear_dict"
   ]
  },
  {
   "cell_type": "code",
   "execution_count": 54,
   "metadata": {},
   "outputs": [
    {
     "data": {
      "text/plain": [
       "{1e-05: {'RMSE': 0.283, 'MAE': 0.127, 'MSE': 0.08, 'AUC': 0.752},\n",
       " 0.001: {'RMSE': 0.282, 'MAE': 0.138, 'MSE': 0.08, 'AUC': 0.751},\n",
       " 0.1: {'RMSE': 0.284, 'MAE': 0.126, 'MSE': 0.08, 'AUC': 0.752},\n",
       " 1: {'RMSE': 0.282, 'MAE': 0.132, 'MSE': 0.08, 'AUC': 0.75},\n",
       " 10: {'RMSE': 0.285, 'MAE': 0.127, 'MSE': 0.081, 'AUC': 0.753}}"
      ]
     },
     "execution_count": 54,
     "metadata": {},
     "output_type": "execute_result"
    }
   ],
   "source": [
    "l2_reg_linear_dict"
   ]
  },
  {
   "cell_type": "code",
   "execution_count": 56,
   "metadata": {},
   "outputs": [
    {
     "data": {
      "text/plain": [
       "{'RMSE': 0.283, 'MAE': 0.127, 'MSE': 0.08, 'AUC': 0.752}"
      ]
     },
     "execution_count": 56,
     "metadata": {},
     "output_type": "execute_result"
    }
   ],
   "source": [
    "l2_reg_linear_dict[1e-05]"
   ]
  },
  {
   "cell_type": "markdown",
   "metadata": {},
   "source": [
    "### l2_reg_embedding: float. L2 regularizer strength applied to embedding vector"
   ]
  },
  {
   "cell_type": "code",
   "execution_count": 58,
   "metadata": {
    "scrolled": true
   },
   "outputs": [
    {
     "name": "stdout",
     "output_type": "stream",
     "text": [
      "Train on 63954 samples, validate on 15989 samples\n",
      "Epoch 1/10\n",
      "63954/63954 - 17s - loss: 0.0816 - mean_squared_error: 0.0816 - val_loss: 0.0699 - val_mean_squared_error: 0.0699\n",
      "Epoch 2/10\n",
      "63954/63954 - 5s - loss: 0.0656 - mean_squared_error: 0.0655 - val_loss: 0.0713 - val_mean_squared_error: 0.0713\n",
      "Epoch 3/10\n",
      "63954/63954 - 5s - loss: 0.0617 - mean_squared_error: 0.0616 - val_loss: 0.0737 - val_mean_squared_error: 0.0736\n",
      "Epoch 4/10\n",
      "63954/63954 - 5s - loss: 0.0593 - mean_squared_error: 0.0592 - val_loss: 0.0764 - val_mean_squared_error: 0.0763\n",
      "Epoch 5/10\n",
      "63954/63954 - 4s - loss: 0.0576 - mean_squared_error: 0.0575 - val_loss: 0.0783 - val_mean_squared_error: 0.0782\n",
      "Epoch 6/10\n",
      "63954/63954 - 5s - loss: 0.0563 - mean_squared_error: 0.0562 - val_loss: 0.0794 - val_mean_squared_error: 0.0793\n",
      "Epoch 7/10\n",
      "63954/63954 - 4s - loss: 0.0550 - mean_squared_error: 0.0549 - val_loss: 0.0797 - val_mean_squared_error: 0.0795\n",
      "Epoch 8/10\n",
      "63954/63954 - 5s - loss: 0.0541 - mean_squared_error: 0.0540 - val_loss: 0.0821 - val_mean_squared_error: 0.0820\n",
      "Epoch 9/10\n",
      "63954/63954 - 4s - loss: 0.0531 - mean_squared_error: 0.0530 - val_loss: 0.0822 - val_mean_squared_error: 0.0821\n",
      "Epoch 10/10\n",
      "63954/63954 - 4s - loss: 0.0525 - mean_squared_error: 0.0524 - val_loss: 0.0846 - val_mean_squared_error: 0.0845\n",
      "Train on 63954 samples, validate on 15989 samples\n",
      "Epoch 1/10\n",
      "63954/63954 - 15s - loss: 0.0806 - mean_squared_error: 0.0804 - val_loss: 0.0702 - val_mean_squared_error: 0.0699\n",
      "Epoch 2/10\n",
      "63954/63954 - 4s - loss: 0.0664 - mean_squared_error: 0.0659 - val_loss: 0.0716 - val_mean_squared_error: 0.0709\n",
      "Epoch 3/10\n",
      "63954/63954 - 4s - loss: 0.0631 - mean_squared_error: 0.0623 - val_loss: 0.0737 - val_mean_squared_error: 0.0728\n",
      "Epoch 4/10\n",
      "63954/63954 - 4s - loss: 0.0608 - mean_squared_error: 0.0598 - val_loss: 0.0760 - val_mean_squared_error: 0.0749\n",
      "Epoch 5/10\n",
      "63954/63954 - 4s - loss: 0.0593 - mean_squared_error: 0.0582 - val_loss: 0.0783 - val_mean_squared_error: 0.0771\n",
      "Epoch 6/10\n",
      "63954/63954 - 4s - loss: 0.0581 - mean_squared_error: 0.0569 - val_loss: 0.0793 - val_mean_squared_error: 0.0780\n",
      "Epoch 7/10\n",
      "63954/63954 - 4s - loss: 0.0572 - mean_squared_error: 0.0559 - val_loss: 0.0814 - val_mean_squared_error: 0.0800\n",
      "Epoch 8/10\n",
      "63954/63954 - 4s - loss: 0.0563 - mean_squared_error: 0.0549 - val_loss: 0.0822 - val_mean_squared_error: 0.0807\n",
      "Epoch 9/10\n",
      "63954/63954 - 4s - loss: 0.0554 - mean_squared_error: 0.0539 - val_loss: 0.0846 - val_mean_squared_error: 0.0831\n",
      "Epoch 10/10\n",
      "63954/63954 - 4s - loss: 0.0546 - mean_squared_error: 0.0531 - val_loss: 0.0876 - val_mean_squared_error: 0.0860\n",
      "Train on 63954 samples, validate on 15989 samples\n",
      "Epoch 1/10\n",
      "63954/63954 - 15s - loss: 0.0833 - mean_squared_error: 0.0822 - val_loss: 0.0735 - val_mean_squared_error: 0.0709\n",
      "Epoch 2/10\n",
      "63954/63954 - 4s - loss: 0.0722 - mean_squared_error: 0.0693 - val_loss: 0.0728 - val_mean_squared_error: 0.0702\n",
      "Epoch 3/10\n",
      "63954/63954 - 4s - loss: 0.0709 - mean_squared_error: 0.0680 - val_loss: 0.0728 - val_mean_squared_error: 0.0701\n",
      "Epoch 4/10\n",
      "63954/63954 - 4s - loss: 0.0702 - mean_squared_error: 0.0672 - val_loss: 0.0732 - val_mean_squared_error: 0.0705\n",
      "Epoch 5/10\n",
      "63954/63954 - 4s - loss: 0.0699 - mean_squared_error: 0.0667 - val_loss: 0.0729 - val_mean_squared_error: 0.0702\n",
      "Epoch 6/10\n",
      "63954/63954 - 4s - loss: 0.0693 - mean_squared_error: 0.0661 - val_loss: 0.0735 - val_mean_squared_error: 0.0705\n",
      "Epoch 7/10\n",
      "63954/63954 - 5s - loss: 0.0689 - mean_squared_error: 0.0657 - val_loss: 0.0739 - val_mean_squared_error: 0.0707\n",
      "Epoch 8/10\n",
      "63954/63954 - 6s - loss: 0.0684 - mean_squared_error: 0.0650 - val_loss: 0.0743 - val_mean_squared_error: 0.0710\n",
      "Epoch 9/10\n",
      "63954/63954 - 6s - loss: 0.0681 - mean_squared_error: 0.0646 - val_loss: 0.0751 - val_mean_squared_error: 0.0716\n",
      "Epoch 10/10\n",
      "63954/63954 - 5s - loss: 0.0676 - mean_squared_error: 0.0639 - val_loss: 0.0752 - val_mean_squared_error: 0.0715\n",
      "Train on 63954 samples, validate on 15989 samples\n",
      "Epoch 1/10\n",
      "63954/63954 - 16s - loss: 0.0853 - mean_squared_error: 0.0831 - val_loss: 0.0757 - val_mean_squared_error: 0.0736\n",
      "Epoch 2/10\n",
      "63954/63954 - 4s - loss: 0.0769 - mean_squared_error: 0.0722 - val_loss: 0.0789 - val_mean_squared_error: 0.0731\n",
      "Epoch 3/10\n",
      "63954/63954 - 4s - loss: 0.0766 - mean_squared_error: 0.0710 - val_loss: 0.0778 - val_mean_squared_error: 0.0720\n",
      "Epoch 4/10\n",
      "63954/63954 - 4s - loss: 0.0751 - mean_squared_error: 0.0704 - val_loss: 0.0753 - val_mean_squared_error: 0.0714\n",
      "Epoch 5/10\n",
      "63954/63954 - 4s - loss: 0.0739 - mean_squared_error: 0.0697 - val_loss: 0.0767 - val_mean_squared_error: 0.0716\n",
      "Epoch 6/10\n",
      "63954/63954 - 4s - loss: 0.0733 - mean_squared_error: 0.0692 - val_loss: 0.0756 - val_mean_squared_error: 0.0718\n",
      "Epoch 7/10\n",
      "63954/63954 - 4s - loss: 0.0722 - mean_squared_error: 0.0686 - val_loss: 0.0742 - val_mean_squared_error: 0.0710\n",
      "Epoch 8/10\n",
      "63954/63954 - 4s - loss: 0.0716 - mean_squared_error: 0.0682 - val_loss: 0.0742 - val_mean_squared_error: 0.0710\n",
      "Epoch 9/10\n",
      "63954/63954 - 6s - loss: 0.0708 - mean_squared_error: 0.0678 - val_loss: 0.0736 - val_mean_squared_error: 0.0709\n",
      "Epoch 10/10\n",
      "63954/63954 - 5s - loss: 0.0704 - mean_squared_error: 0.0673 - val_loss: 0.0737 - val_mean_squared_error: 0.0708\n",
      "Train on 63954 samples, validate on 15989 samples\n",
      "Epoch 1/10\n",
      "63954/63954 - 16s - loss: 0.0873 - mean_squared_error: 0.0857 - val_loss: 0.0764 - val_mean_squared_error: 0.0759\n",
      "Epoch 2/10\n",
      "63954/63954 - 4s - loss: 0.0751 - mean_squared_error: 0.0744 - val_loss: 0.0753 - val_mean_squared_error: 0.0742\n",
      "Epoch 3/10\n",
      "63954/63954 - 4s - loss: 0.0740 - mean_squared_error: 0.0723 - val_loss: 0.0749 - val_mean_squared_error: 0.0729\n",
      "Epoch 4/10\n",
      "63954/63954 - 4s - loss: 0.0739 - mean_squared_error: 0.0710 - val_loss: 0.0758 - val_mean_squared_error: 0.0722\n",
      "Epoch 5/10\n",
      "63954/63954 - 4s - loss: 0.0744 - mean_squared_error: 0.0701 - val_loss: 0.0776 - val_mean_squared_error: 0.0720\n",
      "Epoch 6/10\n",
      "63954/63954 - 4s - loss: 0.0741 - mean_squared_error: 0.0693 - val_loss: 0.0776 - val_mean_squared_error: 0.0722\n",
      "Epoch 7/10\n",
      "63954/63954 - 5s - loss: 0.0736 - mean_squared_error: 0.0687 - val_loss: 0.0774 - val_mean_squared_error: 0.0721\n",
      "Epoch 8/10\n",
      "63954/63954 - 5s - loss: 0.0733 - mean_squared_error: 0.0683 - val_loss: 0.0757 - val_mean_squared_error: 0.0710\n",
      "Epoch 9/10\n",
      "63954/63954 - 4s - loss: 0.0721 - mean_squared_error: 0.0677 - val_loss: 0.0753 - val_mean_squared_error: 0.0709\n",
      "Epoch 10/10\n",
      "63954/63954 - 4s - loss: 0.0717 - mean_squared_error: 0.0675 - val_loss: 0.0750 - val_mean_squared_error: 0.0708\n"
     ]
    }
   ],
   "source": [
    "l2_reg_embedding_dict={}\n",
    "for i in param_rand['l2_reg_embedding']:\n",
    "    model = DeepFM(linear_feature_columns, dnn_feature_columns, dnn_hidden_units=(128,128), l2_reg_linear=1e-05,\n",
    "            l2_reg_embedding=i, l2_reg_dnn=0, init_std=0.0001, seed=1024, task='binary',\n",
    "               dnn_use_bn=False,fm_group=['default_group'])\n",
    "\n",
    "    model.compile(\"adam\", \"mse\", metrics=['mse'])\n",
    "\n",
    "    history = model.fit(train_model_input, train[target].values,\n",
    "                            batch_size=256, epochs=10, verbose=2, validation_split=0.2, )\n",
    "    pred_ans = model.predict(test_model_input, batch_size=256)\n",
    "    \n",
    "    auc = roc_auc_score(test[target].values, pred_ans)\n",
    "    l2_reg_embedding_dict[i]={\"RMSE\": np.round(math.sqrt(mean_squared_error(test[target].values, pred_ans)),3),\n",
    "      \"MAE\" : np.round(mean_absolute_error(test[target].values, pred_ans),3),\n",
    "      \"MSE\" : np.round(mean_squared_error(test[target].values, pred_ans),3),\n",
    "      \"AUC\" : np.round(auc,3)}\n",
    "result['l2_reg_embedding']=l2_reg_embedding_dict"
   ]
  },
  {
   "cell_type": "code",
   "execution_count": 59,
   "metadata": {},
   "outputs": [
    {
     "data": {
      "text/plain": [
       "{1e-07: {'RMSE': 0.287, 'MAE': 0.132, 'MSE': 0.082, 'AUC': 0.737},\n",
       " 1e-05: {'RMSE': 0.289, 'MAE': 0.134, 'MSE': 0.084, 'AUC': 0.748},\n",
       " 0.001: {'RMSE': 0.263, 'MAE': 0.129, 'MSE': 0.069, 'AUC': 0.773},\n",
       " 0.1: {'RMSE': 0.262, 'MAE': 0.148, 'MSE': 0.069, 'AUC': 0.774},\n",
       " 1: {'RMSE': 0.262, 'MAE': 0.147, 'MSE': 0.069, 'AUC': 0.775}}"
      ]
     },
     "execution_count": 59,
     "metadata": {},
     "output_type": "execute_result"
    }
   ],
   "source": [
    "l2_reg_embedding_dict"
   ]
  },
  {
   "cell_type": "code",
   "execution_count": 61,
   "metadata": {},
   "outputs": [
    {
     "data": {
      "text/plain": [
       "{'RMSE': 0.263, 'MAE': 0.129, 'MSE': 0.069, 'AUC': 0.773}"
      ]
     },
     "execution_count": 61,
     "metadata": {},
     "output_type": "execute_result"
    }
   ],
   "source": [
    "l2_reg_embedding_dict[0.001]"
   ]
  },
  {
   "cell_type": "markdown",
   "metadata": {},
   "source": [
    "## l2_reg_dnn: float. L2 regularizer strength applied to DNN"
   ]
  },
  {
   "cell_type": "code",
   "execution_count": 62,
   "metadata": {
    "scrolled": true
   },
   "outputs": [
    {
     "name": "stdout",
     "output_type": "stream",
     "text": [
      "Train on 63954 samples, validate on 15989 samples\n",
      "Epoch 1/10\n",
      "63954/63954 - 18s - loss: 0.0824 - mean_squared_error: 0.0812 - val_loss: 0.0732 - val_mean_squared_error: 0.0706\n",
      "Epoch 2/10\n",
      "63954/63954 - 5s - loss: 0.0721 - mean_squared_error: 0.0692 - val_loss: 0.0727 - val_mean_squared_error: 0.0703\n",
      "Epoch 3/10\n",
      "63954/63954 - 5s - loss: 0.0710 - mean_squared_error: 0.0680 - val_loss: 0.0733 - val_mean_squared_error: 0.0705\n",
      "Epoch 4/10\n",
      "63954/63954 - 5s - loss: 0.0701 - mean_squared_error: 0.0670 - val_loss: 0.0732 - val_mean_squared_error: 0.0702\n",
      "Epoch 5/10\n",
      "63954/63954 - 5s - loss: 0.0696 - mean_squared_error: 0.0663 - val_loss: 0.0737 - val_mean_squared_error: 0.0706\n",
      "Epoch 6/10\n",
      "63954/63954 - 5s - loss: 0.0692 - mean_squared_error: 0.0658 - val_loss: 0.0736 - val_mean_squared_error: 0.0704\n",
      "Epoch 7/10\n",
      "63954/63954 - 5s - loss: 0.0688 - mean_squared_error: 0.0652 - val_loss: 0.0745 - val_mean_squared_error: 0.0710\n",
      "Epoch 8/10\n",
      "63954/63954 - 5s - loss: 0.0682 - mean_squared_error: 0.0646 - val_loss: 0.0746 - val_mean_squared_error: 0.0711\n",
      "Epoch 9/10\n",
      "63954/63954 - 5s - loss: 0.0677 - mean_squared_error: 0.0640 - val_loss: 0.0753 - val_mean_squared_error: 0.0717\n",
      "Epoch 10/10\n",
      "63954/63954 - 5s - loss: 0.0672 - mean_squared_error: 0.0635 - val_loss: 0.0758 - val_mean_squared_error: 0.0721\n",
      "Train on 63954 samples, validate on 15989 samples\n",
      "Epoch 1/10\n",
      "63954/63954 - 20s - loss: 10.2126 - mean_squared_error: 0.0888 - val_loss: 0.3222 - val_mean_squared_error: 0.0761\n",
      "Epoch 2/10\n",
      "63954/63954 - 5s - loss: 0.1130 - mean_squared_error: 0.0736 - val_loss: 0.0745 - val_mean_squared_error: 0.0731\n",
      "Epoch 3/10\n",
      "63954/63954 - 5s - loss: 0.0729 - mean_squared_error: 0.0715 - val_loss: 0.0737 - val_mean_squared_error: 0.0723\n",
      "Epoch 4/10\n",
      "63954/63954 - 5s - loss: 0.0721 - mean_squared_error: 0.0705 - val_loss: 0.0736 - val_mean_squared_error: 0.0721\n",
      "Epoch 5/10\n",
      "63954/63954 - 5s - loss: 0.0714 - mean_squared_error: 0.0699 - val_loss: 0.0734 - val_mean_squared_error: 0.0717\n",
      "Epoch 6/10\n",
      "63954/63954 - 5s - loss: 0.0710 - mean_squared_error: 0.0693 - val_loss: 0.0735 - val_mean_squared_error: 0.0718\n",
      "Epoch 7/10\n",
      "63954/63954 - 7s - loss: 0.0705 - mean_squared_error: 0.0688 - val_loss: 0.0730 - val_mean_squared_error: 0.0712\n",
      "Epoch 8/10\n",
      "63954/63954 - 5s - loss: 0.0702 - mean_squared_error: 0.0683 - val_loss: 0.0730 - val_mean_squared_error: 0.0712\n",
      "Epoch 9/10\n",
      "63954/63954 - 5s - loss: 0.0699 - mean_squared_error: 0.0680 - val_loss: 0.0732 - val_mean_squared_error: 0.0713\n",
      "Epoch 10/10\n",
      "63954/63954 - 5s - loss: 0.0696 - mean_squared_error: 0.0676 - val_loss: 0.0729 - val_mean_squared_error: 0.0710\n",
      "Train on 63954 samples, validate on 15989 samples\n",
      "Epoch 1/10\n",
      "63954/63954 - 23s - loss: 101.3194 - mean_squared_error: 0.0890 - val_loss: 2.5347 - val_mean_squared_error: 0.0755\n",
      "Epoch 2/10\n",
      "63954/63954 - 5s - loss: 0.4595 - mean_squared_error: 0.0730 - val_loss: 0.0762 - val_mean_squared_error: 0.0730\n",
      "Epoch 3/10\n",
      "63954/63954 - 9s - loss: 0.0732 - mean_squared_error: 0.0714 - val_loss: 0.0738 - val_mean_squared_error: 0.0722\n",
      "Epoch 4/10\n",
      "63954/63954 - 5s - loss: 0.0722 - mean_squared_error: 0.0706 - val_loss: 0.0739 - val_mean_squared_error: 0.0722\n",
      "Epoch 5/10\n",
      "63954/63954 - 5s - loss: 0.0716 - mean_squared_error: 0.0699 - val_loss: 0.0734 - val_mean_squared_error: 0.0717\n",
      "Epoch 6/10\n",
      "63954/63954 - 6s - loss: 0.0711 - mean_squared_error: 0.0693 - val_loss: 0.0734 - val_mean_squared_error: 0.0716\n",
      "Epoch 7/10\n",
      "63954/63954 - 6s - loss: 0.0707 - mean_squared_error: 0.0688 - val_loss: 0.0734 - val_mean_squared_error: 0.0716\n",
      "Epoch 8/10\n",
      "63954/63954 - 6s - loss: 0.0704 - mean_squared_error: 0.0685 - val_loss: 0.0732 - val_mean_squared_error: 0.0713\n",
      "Epoch 9/10\n",
      "63954/63954 - 7s - loss: 0.0701 - mean_squared_error: 0.0681 - val_loss: 0.0731 - val_mean_squared_error: 0.0712\n",
      "Epoch 10/10\n",
      "63954/63954 - 7s - loss: 0.0698 - mean_squared_error: 0.0678 - val_loss: 0.0734 - val_mean_squared_error: 0.0714\n",
      "Train on 63954 samples, validate on 15989 samples\n",
      "Epoch 1/10\n",
      "63954/63954 - 23s - loss: 202.5496 - mean_squared_error: 0.0895 - val_loss: 4.9935 - val_mean_squared_error: 0.0759\n",
      "Epoch 2/10\n",
      "63954/63954 - 8s - loss: 0.8448 - mean_squared_error: 0.0731 - val_loss: 0.0778 - val_mean_squared_error: 0.0729\n",
      "Epoch 3/10\n",
      "63954/63954 - 6s - loss: 0.0733 - mean_squared_error: 0.0714 - val_loss: 0.0738 - val_mean_squared_error: 0.0722\n",
      "Epoch 4/10\n",
      "63954/63954 - 6s - loss: 0.0721 - mean_squared_error: 0.0705 - val_loss: 0.0735 - val_mean_squared_error: 0.0720\n",
      "Epoch 5/10\n",
      "63954/63954 - 5s - loss: 0.0716 - mean_squared_error: 0.0699 - val_loss: 0.0734 - val_mean_squared_error: 0.0717\n",
      "Epoch 6/10\n",
      "63954/63954 - 5s - loss: 0.0711 - mean_squared_error: 0.0693 - val_loss: 0.0732 - val_mean_squared_error: 0.0715\n",
      "Epoch 7/10\n",
      "63954/63954 - 5s - loss: 0.0706 - mean_squared_error: 0.0688 - val_loss: 0.0730 - val_mean_squared_error: 0.0713\n",
      "Epoch 8/10\n",
      "63954/63954 - 5s - loss: 0.0703 - mean_squared_error: 0.0684 - val_loss: 0.0731 - val_mean_squared_error: 0.0712\n",
      "Epoch 9/10\n",
      "63954/63954 - 5s - loss: 0.0699 - mean_squared_error: 0.0680 - val_loss: 0.0730 - val_mean_squared_error: 0.0711\n",
      "Epoch 10/10\n",
      "63954/63954 - 7s - loss: 0.0697 - mean_squared_error: 0.0677 - val_loss: 0.0729 - val_mean_squared_error: 0.0710\n"
     ]
    }
   ],
   "source": [
    "l2_reg_dnn_dict={}\n",
    "for i in param_rand['l2_reg_dnn']:\n",
    "    model = DeepFM(linear_feature_columns, dnn_feature_columns, dnn_hidden_units=(128, 128), l2_reg_linear=1e-05,\n",
    "            l2_reg_embedding=0.001, l2_reg_dnn=i, init_std=0.0001, seed=1024,task='binary',\n",
    "                  dnn_use_bn=False,fm_group=['default_group'])\n",
    "\n",
    "    model.compile(\"adam\", \"mse\", metrics=['mse'])\n",
    "\n",
    "    history = model.fit(train_model_input, train[target].values,\n",
    "                            batch_size=256, epochs=10, verbose=2, validation_split=0.2, )\n",
    "    pred_ans = model.predict(test_model_input, batch_size=256)\n",
    "    \n",
    "    auc = roc_auc_score(test[target].values, pred_ans)\n",
    "    \n",
    "    l2_reg_dnn_dict[i]={\"RMSE\": np.round(math.sqrt(mean_squared_error(test[target].values, pred_ans)),3),\n",
    "      \"MAE\" : np.round(mean_absolute_error(test[target].values, pred_ans),3),\n",
    "      \"MSE\" : np.round(mean_squared_error(test[target].values, pred_ans),3),\n",
    "      \"AUC\" : np.round(auc,3)}\n",
    "result['l2_reg_dnn']=l2_reg_dnn_dict"
   ]
  },
  {
   "cell_type": "code",
   "execution_count": 63,
   "metadata": {},
   "outputs": [
    {
     "data": {
      "text/plain": [
       "{0: {'RMSE': 0.265, 'MAE': 0.145, 'MSE': 0.07, 'AUC': 0.775},\n",
       " 0.2: {'RMSE': 0.262, 'MAE': 0.147, 'MSE': 0.069, 'AUC': 0.77},\n",
       " 2: {'RMSE': 0.263, 'MAE': 0.159, 'MSE': 0.069, 'AUC': 0.769},\n",
       " 4: {'RMSE': 0.262, 'MAE': 0.151, 'MSE': 0.069, 'AUC': 0.77}}"
      ]
     },
     "execution_count": 63,
     "metadata": {},
     "output_type": "execute_result"
    }
   ],
   "source": [
    "l2_reg_dnn_dict"
   ]
  },
  {
   "cell_type": "code",
   "execution_count": 53,
   "metadata": {},
   "outputs": [
    {
     "data": {
      "text/plain": [
       "{'RMSE': 0.267, 'MAE': 0.14, 'MSE': 0.071, 'AUC': 0.778}"
      ]
     },
     "execution_count": 53,
     "metadata": {},
     "output_type": "execute_result"
    }
   ],
   "source": [
    "l2_reg_dnn_dict[0]"
   ]
  },
  {
   "cell_type": "markdown",
   "metadata": {},
   "source": [
    "### dnn_dropout: float in [0,1), the probability we will drop out a given DNN coordinate.\n",
    "#### dnn_activation: Activation function to use in DNN"
   ]
  },
  {
   "cell_type": "code",
   "execution_count": 66,
   "metadata": {
    "scrolled": true
   },
   "outputs": [
    {
     "name": "stdout",
     "output_type": "stream",
     "text": [
      "Train on 63954 samples, validate on 15989 samples\n",
      "Epoch 1/10\n",
      "63954/63954 - 21s - loss: 0.0811 - mean_squared_error: 0.0810 - val_loss: 0.0701 - val_mean_squared_error: 0.0698\n",
      "Epoch 2/10\n",
      "63954/63954 - 5s - loss: 0.0665 - mean_squared_error: 0.0660 - val_loss: 0.0714 - val_mean_squared_error: 0.0707\n",
      "Epoch 3/10\n",
      "63954/63954 - 5s - loss: 0.0631 - mean_squared_error: 0.0623 - val_loss: 0.0750 - val_mean_squared_error: 0.0741\n",
      "Epoch 4/10\n",
      "63954/63954 - 5s - loss: 0.0609 - mean_squared_error: 0.0600 - val_loss: 0.0760 - val_mean_squared_error: 0.0750\n",
      "Epoch 5/10\n",
      "63954/63954 - 5s - loss: 0.0595 - mean_squared_error: 0.0584 - val_loss: 0.0784 - val_mean_squared_error: 0.0772\n",
      "Epoch 6/10\n",
      "63954/63954 - 5s - loss: 0.0582 - mean_squared_error: 0.0570 - val_loss: 0.0796 - val_mean_squared_error: 0.0783\n",
      "Epoch 7/10\n",
      "63954/63954 - 5s - loss: 0.0574 - mean_squared_error: 0.0561 - val_loss: 0.0808 - val_mean_squared_error: 0.0794\n",
      "Epoch 8/10\n",
      "63954/63954 - 6s - loss: 0.0566 - mean_squared_error: 0.0552 - val_loss: 0.0820 - val_mean_squared_error: 0.0805\n",
      "Epoch 9/10\n",
      "63954/63954 - 6s - loss: 0.0559 - mean_squared_error: 0.0544 - val_loss: 0.0842 - val_mean_squared_error: 0.0827\n",
      "Epoch 10/10\n",
      "63954/63954 - 5s - loss: 0.0552 - mean_squared_error: 0.0537 - val_loss: 0.0850 - val_mean_squared_error: 0.0835\n",
      "Train on 63954 samples, validate on 15989 samples\n",
      "Epoch 1/10\n",
      "63954/63954 - 19s - loss: 0.0815 - mean_squared_error: 0.0814 - val_loss: 0.0703 - val_mean_squared_error: 0.0700\n",
      "Epoch 2/10\n",
      "63954/63954 - 5s - loss: 0.0667 - mean_squared_error: 0.0662 - val_loss: 0.0715 - val_mean_squared_error: 0.0708\n",
      "Epoch 3/10\n",
      "63954/63954 - 5s - loss: 0.0632 - mean_squared_error: 0.0625 - val_loss: 0.0738 - val_mean_squared_error: 0.0729\n",
      "Epoch 4/10\n",
      "63954/63954 - 5s - loss: 0.0611 - mean_squared_error: 0.0601 - val_loss: 0.0759 - val_mean_squared_error: 0.0749\n",
      "Epoch 5/10\n",
      "63954/63954 - 5s - loss: 0.0595 - mean_squared_error: 0.0584 - val_loss: 0.0772 - val_mean_squared_error: 0.0760\n",
      "Epoch 6/10\n",
      "63954/63954 - 5s - loss: 0.0583 - mean_squared_error: 0.0571 - val_loss: 0.0791 - val_mean_squared_error: 0.0778\n",
      "Epoch 7/10\n",
      "63954/63954 - 5s - loss: 0.0573 - mean_squared_error: 0.0560 - val_loss: 0.0806 - val_mean_squared_error: 0.0793\n",
      "Epoch 8/10\n",
      "63954/63954 - 5s - loss: 0.0566 - mean_squared_error: 0.0552 - val_loss: 0.0839 - val_mean_squared_error: 0.0824\n",
      "Epoch 9/10\n",
      "63954/63954 - 5s - loss: 0.0560 - mean_squared_error: 0.0545 - val_loss: 0.0847 - val_mean_squared_error: 0.0832\n",
      "Epoch 10/10\n",
      "63954/63954 - 5s - loss: 0.0551 - mean_squared_error: 0.0536 - val_loss: 0.0871 - val_mean_squared_error: 0.0855\n",
      "Train on 63954 samples, validate on 15989 samples\n",
      "Epoch 1/10\n",
      "63954/63954 - 20s - loss: 0.0822 - mean_squared_error: 0.0821 - val_loss: 0.0704 - val_mean_squared_error: 0.0701\n",
      "Epoch 2/10\n",
      "63954/63954 - 5s - loss: 0.0668 - mean_squared_error: 0.0664 - val_loss: 0.0716 - val_mean_squared_error: 0.0710\n",
      "Epoch 3/10\n",
      "63954/63954 - 5s - loss: 0.0634 - mean_squared_error: 0.0627 - val_loss: 0.0738 - val_mean_squared_error: 0.0730\n",
      "Epoch 4/10\n",
      "63954/63954 - 5s - loss: 0.0613 - mean_squared_error: 0.0604 - val_loss: 0.0758 - val_mean_squared_error: 0.0748\n",
      "Epoch 5/10\n",
      "63954/63954 - 5s - loss: 0.0597 - mean_squared_error: 0.0586 - val_loss: 0.0779 - val_mean_squared_error: 0.0767\n",
      "Epoch 6/10\n",
      "63954/63954 - 5s - loss: 0.0586 - mean_squared_error: 0.0574 - val_loss: 0.0795 - val_mean_squared_error: 0.0782\n",
      "Epoch 7/10\n",
      "63954/63954 - 5s - loss: 0.0575 - mean_squared_error: 0.0562 - val_loss: 0.0820 - val_mean_squared_error: 0.0807\n",
      "Epoch 8/10\n",
      "63954/63954 - 5s - loss: 0.0569 - mean_squared_error: 0.0555 - val_loss: 0.0833 - val_mean_squared_error: 0.0818\n",
      "Epoch 9/10\n",
      "63954/63954 - 5s - loss: 0.0559 - mean_squared_error: 0.0544 - val_loss: 0.0862 - val_mean_squared_error: 0.0847\n",
      "Epoch 10/10\n",
      "63954/63954 - 5s - loss: 0.0555 - mean_squared_error: 0.0539 - val_loss: 0.0829 - val_mean_squared_error: 0.0813\n",
      "WARNING:tensorflow:Large dropout rate: 0.7 (>0.5). In TensorFlow 2.x, dropout() uses dropout rate instead of keep_prob. Please ensure that this is intended.\n",
      "WARNING:tensorflow:Large dropout rate: 0.7 (>0.5). In TensorFlow 2.x, dropout() uses dropout rate instead of keep_prob. Please ensure that this is intended.\n",
      "Train on 63954 samples, validate on 15989 samples\n",
      "Epoch 1/10\n",
      "63954/63954 - 20s - loss: 0.0824 - mean_squared_error: 0.0823 - val_loss: 0.0705 - val_mean_squared_error: 0.0702\n",
      "Epoch 2/10\n",
      "63954/63954 - 5s - loss: 0.0677 - mean_squared_error: 0.0672 - val_loss: 0.0716 - val_mean_squared_error: 0.0710\n",
      "Epoch 3/10\n",
      "63954/63954 - 5s - loss: 0.0640 - mean_squared_error: 0.0633 - val_loss: 0.0737 - val_mean_squared_error: 0.0729\n",
      "Epoch 4/10\n",
      "63954/63954 - 5s - loss: 0.0619 - mean_squared_error: 0.0610 - val_loss: 0.0759 - val_mean_squared_error: 0.0749\n",
      "Epoch 5/10\n",
      "63954/63954 - 5s - loss: 0.0603 - mean_squared_error: 0.0592 - val_loss: 0.0780 - val_mean_squared_error: 0.0768\n",
      "Epoch 6/10\n",
      "63954/63954 - 5s - loss: 0.0593 - mean_squared_error: 0.0581 - val_loss: 0.0793 - val_mean_squared_error: 0.0780\n",
      "Epoch 7/10\n",
      "63954/63954 - 5s - loss: 0.0584 - mean_squared_error: 0.0571 - val_loss: 0.0805 - val_mean_squared_error: 0.0791\n",
      "Epoch 8/10\n",
      "63954/63954 - 5s - loss: 0.0579 - mean_squared_error: 0.0565 - val_loss: 0.0812 - val_mean_squared_error: 0.0798\n",
      "Epoch 9/10\n",
      "63954/63954 - 5s - loss: 0.0568 - mean_squared_error: 0.0554 - val_loss: 0.0830 - val_mean_squared_error: 0.0815\n",
      "Epoch 10/10\n",
      "63954/63954 - 5s - loss: 0.0567 - mean_squared_error: 0.0551 - val_loss: 0.0841 - val_mean_squared_error: 0.0825\n",
      "WARNING:tensorflow:Large dropout rate: 0.9 (>0.5). In TensorFlow 2.x, dropout() uses dropout rate instead of keep_prob. Please ensure that this is intended.\n",
      "WARNING:tensorflow:Large dropout rate: 0.9 (>0.5). In TensorFlow 2.x, dropout() uses dropout rate instead of keep_prob. Please ensure that this is intended.\n",
      "Train on 63954 samples, validate on 15989 samples\n",
      "Epoch 1/10\n",
      "63954/63954 - 20s - loss: 0.0890 - mean_squared_error: 0.0890 - val_loss: 0.0729 - val_mean_squared_error: 0.0728\n",
      "Epoch 2/10\n",
      "63954/63954 - 5s - loss: 0.0722 - mean_squared_error: 0.0720 - val_loss: 0.0709 - val_mean_squared_error: 0.0705\n",
      "Epoch 3/10\n",
      "63954/63954 - 5s - loss: 0.0682 - mean_squared_error: 0.0677 - val_loss: 0.0716 - val_mean_squared_error: 0.0709\n",
      "Epoch 4/10\n",
      "63954/63954 - 6s - loss: 0.0655 - mean_squared_error: 0.0647 - val_loss: 0.0731 - val_mean_squared_error: 0.0722\n",
      "Epoch 5/10\n",
      "63954/63954 - 5s - loss: 0.0637 - mean_squared_error: 0.0626 - val_loss: 0.0751 - val_mean_squared_error: 0.0739\n",
      "Epoch 6/10\n",
      "63954/63954 - 5s - loss: 0.0624 - mean_squared_error: 0.0611 - val_loss: 0.0765 - val_mean_squared_error: 0.0752\n",
      "Epoch 7/10\n",
      "63954/63954 - 5s - loss: 0.0613 - mean_squared_error: 0.0599 - val_loss: 0.0777 - val_mean_squared_error: 0.0762\n",
      "Epoch 8/10\n",
      "63954/63954 - 5s - loss: 0.0604 - mean_squared_error: 0.0589 - val_loss: 0.0789 - val_mean_squared_error: 0.0773\n",
      "Epoch 9/10\n",
      "63954/63954 - 5s - loss: 0.0596 - mean_squared_error: 0.0580 - val_loss: 0.0791 - val_mean_squared_error: 0.0774\n",
      "Epoch 10/10\n",
      "63954/63954 - 5s - loss: 0.0591 - mean_squared_error: 0.0574 - val_loss: 0.0807 - val_mean_squared_error: 0.0790\n"
     ]
    }
   ],
   "source": [
    "dnn_dropout_dict={}\n",
    "for i in param_rand['dnn_dropout']:\n",
    "    model = DeepFM(linear_feature_columns, dnn_feature_columns, dnn_hidden_units=(128,128)\n",
    "                , init_std=0.0001, seed=1024, dnn_dropout=i, dnn_activation='relu',task='binary',\n",
    "                   fm_group=['default_group'],dnn_use_bn=False)\n",
    "\n",
    "    model.compile(\"adam\", \"mse\", metrics=['mse'])\n",
    "\n",
    "    history = model.fit(train_model_input, train[target].values,\n",
    "                            batch_size=256, epochs=10, verbose=2, validation_split=0.2, )\n",
    "    pred_ans = model.predict(test_model_input, batch_size=256)\n",
    "    \n",
    "    auc = roc_auc_score(test[target].values, pred_ans)\n",
    "    \n",
    "    dnn_dropout_dict[i]={\"RMSE\": np.round(math.sqrt(mean_squared_error(test[target].values, pred_ans)),3),\n",
    "      \"MAE\" : np.round(mean_absolute_error(test[target].values, pred_ans),3),\n",
    "      \"MSE\" : np.round(mean_squared_error(test[target].values, pred_ans),3),\n",
    "      \"AUC\" : np.round(auc,3)}\n",
    "result['dnn_dropout']=dnn_dropout_dict"
   ]
  },
  {
   "cell_type": "code",
   "execution_count": 67,
   "metadata": {},
   "outputs": [
    {
     "data": {
      "text/plain": [
       "{0: {'RMSE': 0.286, 'MAE': 0.124, 'MSE': 0.082, 'AUC': 0.752},\n",
       " 0.3: {'RMSE': 0.289, 'MAE': 0.122, 'MSE': 0.083, 'AUC': 0.748},\n",
       " 0.5: {'RMSE': 0.281, 'MAE': 0.117, 'MSE': 0.079, 'AUC': 0.747},\n",
       " 0.7: {'RMSE': 0.284, 'MAE': 0.125, 'MSE': 0.08, 'AUC': 0.741},\n",
       " 0.9: {'RMSE': 0.278, 'MAE': 0.119, 'MSE': 0.077, 'AUC': 0.745}}"
      ]
     },
     "execution_count": 67,
     "metadata": {},
     "output_type": "execute_result"
    }
   ],
   "source": [
    "dnn_dropout_dict"
   ]
  },
  {
   "cell_type": "code",
   "execution_count": 68,
   "metadata": {},
   "outputs": [
    {
     "data": {
      "text/plain": [
       "{'RMSE': 0.278, 'MAE': 0.119, 'MSE': 0.077, 'AUC': 0.745}"
      ]
     },
     "execution_count": 68,
     "metadata": {},
     "output_type": "execute_result"
    }
   ],
   "source": [
    "#***\n",
    "dnn_dropout_dict[ 0.9]"
   ]
  },
  {
   "cell_type": "markdown",
   "metadata": {},
   "source": [
    "# Best Model after hyper-parameter tuning"
   ]
  },
  {
   "cell_type": "code",
   "execution_count": 70,
   "metadata": {
    "scrolled": true
   },
   "outputs": [],
   "source": [
    "model = DeepFM(linear_feature_columns, dnn_feature_columns, dnn_hidden_units=(128,128)\n",
    "            , init_std=0.0001, seed=1024, dnn_dropout=0.9, dnn_activation='relu',task='binary',\n",
    "               fm_group=['default_group'],dnn_use_bn=False)\n",
    "\n",
    "model.compile(\"adam\", \"mse\", metrics=['mse'])"
   ]
  },
  {
   "cell_type": "code",
   "execution_count": 71,
   "metadata": {},
   "outputs": [
    {
     "name": "stdout",
     "output_type": "stream",
     "text": [
      "Train on 63954 samples, validate on 15989 samples\n",
      "Epoch 1/10\n",
      "63954/63954 - 27s - loss: 0.0886 - mean_squared_error: 0.0886 - val_loss: 0.0736 - val_mean_squared_error: 0.0735\n",
      "Epoch 2/10\n",
      "63954/63954 - 6s - loss: 0.0723 - mean_squared_error: 0.0721 - val_loss: 0.0712 - val_mean_squared_error: 0.0709\n",
      "Epoch 3/10\n",
      "63954/63954 - 7s - loss: 0.0681 - mean_squared_error: 0.0676 - val_loss: 0.0721 - val_mean_squared_error: 0.0714\n",
      "Epoch 4/10\n",
      "63954/63954 - 7s - loss: 0.0653 - mean_squared_error: 0.0645 - val_loss: 0.0739 - val_mean_squared_error: 0.0729\n",
      "Epoch 5/10\n",
      "63954/63954 - 7s - loss: 0.0634 - mean_squared_error: 0.0624 - val_loss: 0.0759 - val_mean_squared_error: 0.0747\n",
      "Epoch 6/10\n",
      "63954/63954 - 6s - loss: 0.0623 - mean_squared_error: 0.0611 - val_loss: 0.0776 - val_mean_squared_error: 0.0763\n",
      "Epoch 7/10\n",
      "63954/63954 - 5s - loss: 0.0609 - mean_squared_error: 0.0596 - val_loss: 0.0786 - val_mean_squared_error: 0.0772\n",
      "Epoch 8/10\n",
      "63954/63954 - 6s - loss: 0.0602 - mean_squared_error: 0.0588 - val_loss: 0.0798 - val_mean_squared_error: 0.0783\n",
      "Epoch 9/10\n",
      "63954/63954 - 6s - loss: 0.0592 - mean_squared_error: 0.0577 - val_loss: 0.0803 - val_mean_squared_error: 0.0787\n",
      "Epoch 10/10\n",
      "63954/63954 - 6s - loss: 0.0589 - mean_squared_error: 0.0573 - val_loss: 0.0814 - val_mean_squared_error: 0.0798\n"
     ]
    }
   ],
   "source": [
    "history = model.fit(train_model_input, train[target].values,\n",
    "                        batch_size=256, epochs=10, verbose=2, validation_split=0.2, )"
   ]
  },
  {
   "cell_type": "code",
   "execution_count": 72,
   "metadata": {},
   "outputs": [],
   "source": [
    "pred_ans = model.predict(test_model_input, batch_size=256)\n",
    "\n",
    "auc = roc_auc_score(test[target].values, pred_ans)"
   ]
  },
  {
   "cell_type": "code",
   "execution_count": 73,
   "metadata": {},
   "outputs": [
    {
     "name": "stdout",
     "output_type": "stream",
     "text": [
      "RMSE:\t0.279000\n",
      "MAE:\t0.117000\n",
      "MSE:\t0.078000\n",
      "AUC:\t0.748000\n"
     ]
    }
   ],
   "source": [
    "print(\"RMSE:\\t%f\" % np.round(math.sqrt(mean_squared_error(test[target].values, pred_ans)),3),\n",
    "      \"MAE:\\t%f\" % np.round(mean_absolute_error(test[target].values, pred_ans),3),\n",
    "      \"MSE:\\t%f\" % np.round(mean_squared_error(test[target].values, pred_ans),3),\n",
    "      \"AUC:\\t%f\" % np.round(auc,3),\n",
    "      sep='\\n')"
   ]
  },
  {
   "cell_type": "code",
   "execution_count": null,
   "metadata": {},
   "outputs": [],
   "source": [
    "fpr, tpr, thresholds = metrics.roc_curve(test[target].values, pred_ans, pos_label=2)"
   ]
  },
  {
   "cell_type": "code",
   "execution_count": 81,
   "metadata": {
    "scrolled": false
   },
   "outputs": [
    {
     "name": "stdout",
     "output_type": "stream",
     "text": [
      "No Skill: ROC AUC=0.500\n",
      "Logistic: ROC AUC=0.748\n"
     ]
    },
    {
     "data": {
      "image/png": "[encoded data removed]",
      "text/plain": [
       "<Figure size 432x288 with 1 Axes>"
      ]
     },
     "metadata": {
      "needs_background": "light"
     },
     "output_type": "display_data"
    }
   ],
   "source": [
    "# roc curve and auc\n",
    "\n",
    "# generate a no skill prediction (majority class)\n",
    "ns_probs = [0 for _ in range(len(pred_ans))]\n",
    "# predict probabilities\n",
    "lr_probs = pred_ans\n",
    "\n",
    "# calculate scores\n",
    "ns_auc = roc_auc_score(test[target].values, ns_probs)\n",
    "lr_auc = roc_auc_score(test[target].values, lr_probs)\n",
    "# summarize scores\n",
    "print('No Skill: ROC AUC=%.3f' % (ns_auc))\n",
    "print('Logistic: ROC AUC=%.3f' % (lr_auc))\n",
    "# calculate roc curves\n",
    "ns_fpr, ns_tpr, _ = roc_curve(test[target].values, ns_probs)\n",
    "lr_fpr, lr_tpr, _ = roc_curve(test[target].values, lr_probs)\n",
    "# plot the roc curve for the model\n",
    "plt.plot(ns_fpr, ns_tpr, linestyle='--', label='No Skill')\n",
    "plt.plot(lr_fpr, lr_tpr, marker='.', label='Logistic')\n",
    "# axis labels\n",
    "plt.xlabel('False Positive Rate')\n",
    "plt.ylabel('True Positive Rate')\n",
    "# show the legend\n",
    "plt.legend()\n",
    "# show the plot\n",
    "plt.show()"
   ]
  },
  {
   "cell_type": "markdown",
   "metadata": {},
   "source": [
    "## Resources:\n",
    "\n",
    "https://deepctr-doc.readthedocs.io/en/latest/Quick-Start.html\n",
    "\n",
    "https://deepctr-doc.readthedocs.io/en/latest/Examples.html\n",
    "\n",
    "https://github.com/shenweichen/DeepCTR/blob/ce140ffcc1057e8fb57622ae1732c39df32bc11e/docs/source/FAQ.md\n",
    "\n",
    "https://github.com/shenweichen/DeepCTR/blob/db229dc31f0d4c79c0de2ece0bb919b35258d6b2/tests/models/DeepFM_test.py\n",
    "\n",
    "https://github.com/shenweichen/DeepCTR/blob/db229dc31f0d4c79c0de2ece0bb919b35258d6b2/examples/run_regression_movielens.py\n"
   ]
  }
 ],
 "metadata": {
  "kernelspec": {
   "display_name": "Python 3",
   "language": "python",
   "name": "python3"
  },
  "language_info": {
   "codemirror_mode": {
    "name": "ipython",
    "version": 3
   },
   "file_extension": ".py",
   "mimetype": "text/x-python",
   "name": "python",
   "nbconvert_exporter": "python",
   "pygments_lexer": "ipython3",
   "version": "3.7.4"
  }
 },
 "nbformat": 4,
 "nbformat_minor": 1
}
